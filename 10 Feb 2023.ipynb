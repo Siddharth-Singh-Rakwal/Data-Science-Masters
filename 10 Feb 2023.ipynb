{
 "cells": [
  {
   "cell_type": "markdown",
   "id": "8cddca0c-a57f-47d2-a441-f82813c426ab",
   "metadata": {},
   "source": [
    "## Assignment | 10th Feb 2023"
   ]
  },
  {
   "cell_type": "code",
   "execution_count": null,
   "id": "602fc0fa-733d-403c-9f4b-f8804e42cbce",
   "metadata": {},
   "outputs": [],
   "source": []
  },
  {
   "cell_type": "markdown",
   "id": "ed838267-14bd-47a7-ac77-e7675f972677",
   "metadata": {},
   "source": [
    "Q1. Which function is used to open a file? What are the different modes of opening a file? Explain each mode\n",
    "of file opening.\n",
    "\n",
    "Ans. We use the open() method to open files. \n",
    "\n",
    "Different modes of opening a file:-\n",
    "\n",
    "'r'       open for reading (default)\n",
    "\n",
    "'w'       open for writing, truncating the file first\n",
    "\n",
    "'x'       create a new file and open it for writing\n",
    "\n",
    "'a'       open for writing, appending to the end of the file if it exists\n",
    "\n",
    "'b'       binary mode\n",
    "\n",
    "'t'       text mode (default)\n",
    "\n",
    "'+'       open a disk file for updating (reading and writing)\n",
    "\n",
    "'U'       universal newline mode (deprecated)"
   ]
  },
  {
   "cell_type": "code",
   "execution_count": 2,
   "id": "119e47ca-bd81-49be-b4d9-3ddefa496180",
   "metadata": {},
   "outputs": [
    {
     "data": {
      "text/plain": [
       "719"
      ]
     },
     "execution_count": 2,
     "metadata": {},
     "output_type": "execute_result"
    }
   ],
   "source": [
    "# using 'a' mode :\n",
    "\n",
    "f = open(\"test.txt\" ,'a' )\n",
    "f.write(\"Data Science Masters course is highly curated and uniquely designed according to the latest industry standards. This program instills students the skills essential to knowledge discovery efforts to identify standard, novel, and truly differentiated solutions and decision-making, including skills in managing, querying, analyzing, visualizing, and extracting meaning from extremely large data sets. This trending program provides students with the statistical, mathematical and computational skills needed to meet the large-scale data science challenges of today's professional world. You will learn all the stack required to work in data science industry including cloud infrastructure and real-time industry projects.\")\n"
   ]
  },
  {
   "cell_type": "code",
   "execution_count": 3,
   "id": "11f9ea74-638d-4523-b1f8-919f454f5a76",
   "metadata": {},
   "outputs": [],
   "source": [
    "f.close()"
   ]
  },
  {
   "cell_type": "code",
   "execution_count": 4,
   "id": "c2c33125-fa4c-4f16-9449-d9c2bd4d5818",
   "metadata": {},
   "outputs": [
    {
     "data": {
      "text/plain": [
       "\"Data Science Masters course is highly curated and uniquely designed according to the latest industry standards. This program instills students the skills essential to knowledge discovery efforts to identify standard, novel, and truly differentiated solutions and decision-making, including skills in managing, querying, analyzing, visualizing, and extracting meaning from extremely large data sets. This trending program provides students with the statistical, mathematical and computational skills needed to meet the large-scale data science challenges of today's professional world. You will learn all the stack required to work in data science industry including cloud infrastructure and real-time industry projects.\""
      ]
     },
     "execution_count": 4,
     "metadata": {},
     "output_type": "execute_result"
    }
   ],
   "source": [
    "# using 'r' mode:\n",
    "\n",
    "data = open(\"test.txt\" ,'r')\n",
    "data.read()"
   ]
  },
  {
   "cell_type": "code",
   "execution_count": 12,
   "id": "e86f7378-77d7-4b2d-88b4-147355b2e1ea",
   "metadata": {},
   "outputs": [
    {
     "name": "stdout",
     "output_type": "stream",
     "text": [
      "b'PWSkills, Data Science Masters'\n"
     ]
    }
   ],
   "source": [
    "# using 'b' mode:\n",
    "\n",
    "with open(\"test1.bin\", 'wb') as f :\n",
    "    f.write(b\"PWSkills, Data Science Masters\")\n",
    "\n",
    "with open(\"test1.bin\" , \"rb\") as f :\n",
    "    print(f.read())\n",
    "    \n",
    "\n",
    "# similarly we can use other mode as per our requirement."
   ]
  },
  {
   "cell_type": "code",
   "execution_count": null,
   "id": "a66fd3e6-8f08-495c-9de0-2580a512076c",
   "metadata": {},
   "outputs": [],
   "source": []
  },
  {
   "cell_type": "code",
   "execution_count": null,
   "id": "07fed67f-3f10-4a42-98d9-43ede15599cd",
   "metadata": {},
   "outputs": [],
   "source": []
  },
  {
   "cell_type": "markdown",
   "id": "ecff8150-2945-4173-a777-c7a02523aa57",
   "metadata": {},
   "source": [
    "Q2. Why close() function is used? Why is it important to close a file?\n",
    "\n",
    "Ans. We use the close() file python as we have limited resources that are being managed by the operating system. Hence, closing the files properly helps to protect against hard-to-debug errors like file handles running out or experiencing corrupted data."
   ]
  },
  {
   "cell_type": "code",
   "execution_count": null,
   "id": "50a15b92-edab-400e-9fc2-c2c1224e50a0",
   "metadata": {},
   "outputs": [],
   "source": []
  },
  {
   "cell_type": "code",
   "execution_count": null,
   "id": "cb063aba-093d-41e9-9a7d-3b44f06c94f3",
   "metadata": {},
   "outputs": [],
   "source": []
  },
  {
   "cell_type": "markdown",
   "id": "d4582de0-46c6-49a3-8d85-45928ce5e482",
   "metadata": {},
   "source": [
    "Q3. Write a python program to create a text file. Write ‘I want to become a Data Scientist’ in that file. Then\n",
    "close the file. Open this file and read the content of the file.\n",
    "\n",
    "Ans."
   ]
  },
  {
   "cell_type": "code",
   "execution_count": 13,
   "id": "0fdd5581-6cc2-440e-9b69-395cc29ef968",
   "metadata": {},
   "outputs": [
    {
     "data": {
      "text/plain": [
       "33"
      ]
     },
     "execution_count": 13,
     "metadata": {},
     "output_type": "execute_result"
    }
   ],
   "source": [
    "f = open(\"file.txt\" ,'a')\n",
    "f.write(\"I want to become a Data Scientist\")"
   ]
  },
  {
   "cell_type": "code",
   "execution_count": 14,
   "id": "1402a0b6-b0b6-4398-8bb2-761582982830",
   "metadata": {},
   "outputs": [],
   "source": [
    "f.close()"
   ]
  },
  {
   "cell_type": "code",
   "execution_count": 15,
   "id": "de60918f-fc46-4137-80a0-fa93c0f6051f",
   "metadata": {},
   "outputs": [
    {
     "name": "stdout",
     "output_type": "stream",
     "text": [
      "I want to become a Data Scientist\n"
     ]
    }
   ],
   "source": [
    "f = open(\"file.txt\" ,'r')\n",
    "for i in f:\n",
    "    print(i)"
   ]
  },
  {
   "cell_type": "code",
   "execution_count": null,
   "id": "51cf33b0-a3b0-4d03-a2bf-938945bb7588",
   "metadata": {},
   "outputs": [],
   "source": []
  },
  {
   "cell_type": "code",
   "execution_count": null,
   "id": "97af5f0d-7ec2-4cc2-ab99-890a71c306ab",
   "metadata": {},
   "outputs": [],
   "source": []
  },
  {
   "cell_type": "markdown",
   "id": "b804d895-388f-43fc-8595-0fccb15c1470",
   "metadata": {},
   "source": [
    "Q4. Explain the following with python code: read(), readline() and readlines().\n",
    "\n",
    "Ans."
   ]
  },
  {
   "cell_type": "code",
   "execution_count": 18,
   "id": "7f535dd1-6e2e-4da0-b062-e7e8990e6f69",
   "metadata": {},
   "outputs": [
    {
     "name": "stdout",
     "output_type": "stream",
     "text": [
      "I want to become a Data Scientist\n"
     ]
    }
   ],
   "source": [
    "# read()\n",
    "# The read() method returns the specified number of bytes from the file. Default is -1 which means the whole file.\n",
    "\n",
    "f = open(\"file.txt\", \"r\")\n",
    "print(f.read(33))"
   ]
  },
  {
   "cell_type": "code",
   "execution_count": 21,
   "id": "8a63ebef-4894-4e5b-ad52-8902c6ea626f",
   "metadata": {},
   "outputs": [
    {
     "data": {
      "text/plain": [
       "'I want to become a Data Scientist'"
      ]
     },
     "execution_count": 21,
     "metadata": {},
     "output_type": "execute_result"
    }
   ],
   "source": [
    "# readline()\n",
    "# The readline() method will return a line from the file when called.\n",
    "\n",
    "file = open(\"file.txt\", \"r\")\n",
    "file.readline()"
   ]
  },
  {
   "cell_type": "code",
   "execution_count": 22,
   "id": "8f0b2f89-4fb7-43ab-9557-0fe893ead0f1",
   "metadata": {},
   "outputs": [
    {
     "data": {
      "text/plain": [
       "['I want to become a Data Scientist']"
      ]
     },
     "execution_count": 22,
     "metadata": {},
     "output_type": "execute_result"
    }
   ],
   "source": [
    "# readlines()\n",
    "# The readlines() method will return all the lines in a file in the format of a list where each element is a line in the file.\n",
    "\n",
    "file = open(\"file.txt\",\"r\")\n",
    "file.readlines()"
   ]
  },
  {
   "cell_type": "code",
   "execution_count": null,
   "id": "17f24ab7-6c45-47b5-9939-dee91a16edf6",
   "metadata": {},
   "outputs": [],
   "source": []
  },
  {
   "cell_type": "code",
   "execution_count": null,
   "id": "51144134-2397-4035-b211-66583430e732",
   "metadata": {},
   "outputs": [],
   "source": []
  },
  {
   "cell_type": "markdown",
   "id": "82153b88-cb08-4f51-b974-4d4a3a017591",
   "metadata": {},
   "source": [
    "Q5. Explain why with statement is used with open(). What is the advantage of using with statement and\n",
    "open() together?\n",
    "\n",
    "Ans. with statement is used in exception handling to make the code cleaner and much more readable."
   ]
  },
  {
   "cell_type": "code",
   "execution_count": 35,
   "id": "8d4ce743-0b71-4a79-8139-69072544ca4e",
   "metadata": {},
   "outputs": [],
   "source": [
    "with open('file.txt', 'w') as file:\n",
    "    file.write(\"PWSkills\")"
   ]
  },
  {
   "cell_type": "markdown",
   "id": "abcb4507-39f4-488e-ad9f-3e46101d4c72",
   "metadata": {},
   "source": [
    "The advantage of using with statement and open() together:\n",
    "\n",
    "The with statement works with the open() function to open a file.\n",
    "Unlike open() where you have to close the file with the close() method, the with statement closes the file for you without you telling it to."
   ]
  },
  {
   "cell_type": "code",
   "execution_count": null,
   "id": "bb16a583-4ff6-4021-9b8d-8604681df1a1",
   "metadata": {},
   "outputs": [],
   "source": []
  },
  {
   "cell_type": "code",
   "execution_count": null,
   "id": "5fac79ea-1f3b-4b3a-89f6-9719ee7d982f",
   "metadata": {},
   "outputs": [],
   "source": []
  },
  {
   "cell_type": "markdown",
   "id": "1dd6de29-5e73-4c5a-9c51-3ce20288f448",
   "metadata": {},
   "source": [
    "Q6. Explain the write() and writelines() functions. Give a suitable example.\n",
    "\n",
    "Ans."
   ]
  },
  {
   "cell_type": "code",
   "execution_count": 37,
   "id": "a3cc7ed7-cc83-4ba9-bae8-336ea4059595",
   "metadata": {},
   "outputs": [],
   "source": [
    "# write() function\n",
    "# The write() function will write the content in the file without adding any extra characters.\n",
    "\n",
    "# syntax\n",
    "\n",
    "# Writes string content referenced by file object.\n",
    "file_name.write(content) "
   ]
  },
  {
   "cell_type": "code",
   "execution_count": 39,
   "id": "53dc0b71-3968-42fe-b81e-a538cfe3adde",
   "metadata": {},
   "outputs": [
    {
     "name": "stdin",
     "output_type": "stream",
     "text": [
      "Enter the name of the Student:  Siddharth\n",
      "Enter the name of the Student:  Harsh\n",
      "Enter the name of the Student:  SM\n"
     ]
    },
    {
     "name": "stdout",
     "output_type": "stream",
     "text": [
      "Data is written into the file.\n"
     ]
    }
   ],
   "source": [
    "file = open(\"Student.txt\", \"w\")\n",
    "  \n",
    "for i in range(3):\n",
    "   name = input(\"Enter the name of the Student: \")\n",
    "   file.write(name)\n",
    "   file.write(\"\\n\")\n",
    "     \n",
    "file.close()\n",
    "  \n",
    "print(\"Data is written into the file.\")"
   ]
  },
  {
   "cell_type": "code",
   "execution_count": null,
   "id": "17260745-7333-4c8e-9a05-7a82bb59f2ee",
   "metadata": {},
   "outputs": [],
   "source": [
    "# writelines() function\n",
    "# This function writes the content of a list to a file.\n",
    "\n"
   ]
  }
 ],
 "metadata": {
  "kernelspec": {
   "display_name": "Python 3 (ipykernel)",
   "language": "python",
   "name": "python3"
  },
  "language_info": {
   "codemirror_mode": {
    "name": "ipython",
    "version": 3
   },
   "file_extension": ".py",
   "mimetype": "text/x-python",
   "name": "python",
   "nbconvert_exporter": "python",
   "pygments_lexer": "ipython3",
   "version": "3.10.8"
  }
 },
 "nbformat": 4,
 "nbformat_minor": 5
}
