{
 "cells": [
  {
   "cell_type": "markdown",
   "id": "77c46958-424c-4fc3-8845-247408122f87",
   "metadata": {},
   "source": [
    "## Assignment | 16th Feb 2023"
   ]
  },
  {
   "cell_type": "code",
   "execution_count": null,
   "id": "7d757dfc-759e-47da-b2b0-524dc2cdd752",
   "metadata": {},
   "outputs": [],
   "source": []
  },
  {
   "cell_type": "markdown",
   "id": "50a659e6-6c83-400b-8ff0-93342ebaf95b",
   "metadata": {},
   "source": [
    "Q1. What is a database? Differentiate between SQL and NoSQL databases.\n",
    "\n",
    "Ans. A database is an organized collection of structured information, or data, typically stored electronically in a computer system.\n",
    "\n",
    "### SQL Database:\n",
    "1. RELATIONAL DATABASE MANAGEMENT SYSTEM (RDBMS)\n",
    "2. These databases have fixed or static or predefined schema\n",
    "3. These databases are not suited for hierarchical data storage.\n",
    "4. These databases are best suited for complex queries\n",
    "5. Vertically Scalable\n",
    "\n",
    "### NoSQL Database:\n",
    "1. Non-relational or distributed database system.\n",
    "2. They have dynamic schema\n",
    "3. These databases are best suited for hierarchical data storage.\n",
    "4. These databases are not so good for complex queries\n",
    "5. Horizontally scalable"
   ]
  },
  {
   "cell_type": "code",
   "execution_count": null,
   "id": "93dcfc77-4464-4e7f-a25a-9a9e49ef7e3e",
   "metadata": {},
   "outputs": [],
   "source": []
  },
  {
   "cell_type": "code",
   "execution_count": null,
   "id": "299f2a35-e6f9-4b4b-a961-9ea7457c41eb",
   "metadata": {},
   "outputs": [],
   "source": []
  },
  {
   "cell_type": "markdown",
   "id": "e9fb0d70-7cf8-4b02-93fb-ab2715912047",
   "metadata": {},
   "source": [
    "Q2. What is DDL? Explain why CREATE, DROP, ALTER, and TRUNCATE are used with an example.\n",
    "\n",
    "Ans. Data Definition Language(DDL) is a subset of SQL and a part of DBMS(Database Management System). DDL consist of Commands to commands like CREATE, ALTER, TRUNCATE and DROP. These commands are used to create or modify the tables in SQL.\n",
    "\n"
   ]
  },
  {
   "cell_type": "markdown",
   "id": "638cea85-8676-4f0a-98ac-e320dcf5e317",
   "metadata": {},
   "source": [
    "### CREATE\n",
    "This command is used to create a new table in SQL. The user has to give information like table name, column names, and their datatypes."
   ]
  },
  {
   "cell_type": "code",
   "execution_count": null,
   "id": "b1ee893d-95d6-43a2-8877-293c0451f584",
   "metadata": {},
   "outputs": [],
   "source": [
    "# Example:\n",
    "\n",
    "CREATE TABLE Student_info\n",
    "(\n",
    "College_Id number(2),\n",
    "College_name varchar(30),\n",
    "Branch varchar(10)\n",
    ");"
   ]
  },
  {
   "cell_type": "markdown",
   "id": "8f1f9b57-862c-4379-bbc0-12661013eaa4",
   "metadata": {},
   "source": [
    "### ALTER\n",
    "\n",
    "This command is used to add, delete or change columns in the existing table. The user needs to know the existing table name and can do add, delete or modify tasks easily."
   ]
  },
  {
   "cell_type": "code",
   "execution_count": null,
   "id": "6a17c3de-ea20-418e-bca2-5350a2a10756",
   "metadata": {},
   "outputs": [],
   "source": [
    "# Example:\n",
    "\n",
    "ALTER TABLE Student_info\n",
    "ADD CGPA number;"
   ]
  },
  {
   "cell_type": "markdown",
   "id": "5db8ffda-7f51-4f2e-9963-b7e424c348fc",
   "metadata": {},
   "source": [
    "### TRUNCATE \n",
    "\n",
    "This command is used to remove all rows from the table, but the structure of the table still exists."
   ]
  },
  {
   "cell_type": "code",
   "execution_count": null,
   "id": "9ffe72bc-4d1b-4cc6-938c-ad4abb1f257d",
   "metadata": {},
   "outputs": [],
   "source": [
    "# Example:\n",
    "\n",
    "TRUNCATE TABLE Student_info;"
   ]
  },
  {
   "cell_type": "markdown",
   "id": "6cad13b9-e10e-40d5-899d-ccf5c1c0ca07",
   "metadata": {},
   "source": [
    "### DROP\n",
    "\n",
    "This command is used to remove an existing table along with its structure from the Database."
   ]
  },
  {
   "cell_type": "code",
   "execution_count": null,
   "id": "3118ec4e-1d29-4bd1-8fd3-f505e1f7c69b",
   "metadata": {},
   "outputs": [],
   "source": [
    "# Example:\n",
    "\n",
    "DROP TABLE Student_info;"
   ]
  },
  {
   "cell_type": "code",
   "execution_count": null,
   "id": "eef8ef77-e88c-4105-8919-afe241d33c6b",
   "metadata": {},
   "outputs": [],
   "source": []
  },
  {
   "cell_type": "code",
   "execution_count": null,
   "id": "ac5bad8f-145f-4e2d-951f-974169280d9d",
   "metadata": {},
   "outputs": [],
   "source": []
  },
  {
   "cell_type": "markdown",
   "id": "2981eda1-4c82-4285-9570-efe96470f36d",
   "metadata": {},
   "source": [
    "Q3. What is DML? Explain INSERT, UPDATE, and DELETE with an example.\n",
    "\n",
    "Ans. The structured query language (SQL) commands deal with the manipulation of data present in the database that belongs to the DML or Data Manipulation Language. This includes most of the SQL statements."
   ]
  },
  {
   "cell_type": "code",
   "execution_count": null,
   "id": "e1db2002-eb42-451c-bb6f-2c8c17219018",
   "metadata": {},
   "outputs": [],
   "source": [
    "# Syntax for DML Commands:\n",
    "Insert into <table_name> (column list) values (column values);\n",
    "\n",
    "# For example, if we want to insert multiple rows to the Employee table, we can use the following command −\n",
    "\n",
    "\n",
    "\n",
    "# INSERT\n",
    "# Insert command is used to insert data into a table.\n",
    "\n",
    "# Example:\n",
    "Insert into Employee(Emp_id, Emp_name) values (001, “ bhanu”);\n",
    "Insert into Employee(Emp_id, Emp_name) values (002, “ hari”);\n",
    "Insert into Employee(Emp_id, Emp_name) values (003, “ bob”);\n",
    "\n",
    "# UPDATE\n",
    "# Update command is used to update existing data within a table.\n",
    "\n",
    "# Example:\n",
    "UPDATE Employee SET Emp_name= Ram WHERE Emp_id= 001;\n",
    "\n",
    "# DELETE:\n",
    "# Delete command is used to delete records from a database table.\n",
    "\n",
    "# Example:\n",
    "DELETE from Employee WHERE Emp_id=002;"
   ]
  },
  {
   "cell_type": "code",
   "execution_count": null,
   "id": "55626414-bb84-409a-8e8f-be263becfda9",
   "metadata": {},
   "outputs": [],
   "source": []
  },
  {
   "cell_type": "code",
   "execution_count": null,
   "id": "923617dd-9b38-4e86-a7f0-1f23d3014e42",
   "metadata": {},
   "outputs": [],
   "source": []
  },
  {
   "cell_type": "markdown",
   "id": "ab3534ab-7a37-4de4-8bc8-9622676c81af",
   "metadata": {},
   "source": [
    "Q4. What is DQL? Explain SELECT with an example.\n",
    "\n",
    "Ans. The DQL statements can be used in order to query the data and information contained in schema objects. The goal of the DQL Commands is to return a schema relation on the basis of the query supplied to them.\n",
    "\n",
    "DQL is a portion of a SQL statement that allows you to get and organise data from a database. You can use the SELECT command to extract data from a database in order to perform actions on it. It is the same as the projection operation in relational algebra."
   ]
  },
  {
   "cell_type": "code",
   "execution_count": null,
   "id": "c417ade0-a01e-4486-9e65-ea26e43c666e",
   "metadata": {},
   "outputs": [],
   "source": [
    "# Syntax:\n",
    "SELECT expression FROM table_x WHERE code_conditions;\n",
    "\n",
    "# Example:\n",
    "SELECT Stu_Name FROM Student WHERE Phone = 9039462908;\n"
   ]
  },
  {
   "cell_type": "markdown",
   "id": "f332ec9e-f0c6-43aa-8a72-f64a7884800f",
   "metadata": {},
   "source": [
    "The command given above would select the record from the table ‘Student’ where the phone number is ‘9039462908’."
   ]
  },
  {
   "cell_type": "code",
   "execution_count": null,
   "id": "736c6b1c-d913-43d4-80be-f21464a0ba3c",
   "metadata": {},
   "outputs": [],
   "source": []
  },
  {
   "cell_type": "code",
   "execution_count": null,
   "id": "6c361359-1f10-4a8c-8985-ac5bf03352aa",
   "metadata": {},
   "outputs": [],
   "source": []
  },
  {
   "cell_type": "markdown",
   "id": "123c5f5f-c12b-41d6-99ac-7cbc9b21757d",
   "metadata": {},
   "source": [
    "Q5. Explain Primary Key and Foreign Key.\n",
    "\n",
    "Ans. \n",
    "\n",
    "### Primary Key:\n",
    "1. A primary key is used to ensure data in the specific column is unique.\n",
    "2. It uniquely identifies a record in the relational database table.\n",
    "3. Only one primary key is allowed in a table.\n",
    "4. \tIt does not allow NULL values.\n",
    "5. It is a combination of UNIQUE and Not Null constraints.\n",
    "\n",
    "### Foreign Key:\n",
    "1. A foreign key is a column or group of columns in a relational database table that provides a link between data in two tables.\n",
    "2. It refers to the field in a table which is the primary key of another table.\n",
    "3. Whereas more than one foreign key are allowed in a table.\n",
    "4. It can also contain NULL values.\n",
    "5. It can contain duplicate values and a table in a relational database."
   ]
  },
  {
   "cell_type": "code",
   "execution_count": null,
   "id": "dd7889da-30bd-4351-bcef-8db1804bb83b",
   "metadata": {},
   "outputs": [],
   "source": []
  },
  {
   "cell_type": "code",
   "execution_count": null,
   "id": "0d8de456-534e-4218-9f09-2c38292e92ce",
   "metadata": {},
   "outputs": [],
   "source": []
  },
  {
   "cell_type": "markdown",
   "id": "c8d1efb3-dc74-495d-9e55-95d1cfaa06fd",
   "metadata": {},
   "source": [
    "Q6. Write a python code to connect MySQL to python. Explain the cursor() and execute() method.\n",
    "\n",
    "Ans. "
   ]
  },
  {
   "cell_type": "code",
   "execution_count": null,
   "id": "39f9516b-4d4e-4b26-baac-c118f2fa6feb",
   "metadata": {},
   "outputs": [],
   "source": [
    "import mysql.connector\n",
    "mydb = mysql.connector.connect(\n",
    "  host=\"localhost\",\n",
    "  user=\"abc\",\n",
    "  password=\"password\"\n",
    ")\n",
    "print(mydb)\n",
    "mycursor = mydb.cursor()\n",
    "mycursor.execute(\"SHOW DATABASES\")\n",
    "for x in mycursor:\n",
    "  print(x)"
   ]
  },
  {
   "cell_type": "markdown",
   "id": "1d1a7afa-0f69-4906-836b-86aa9825d356",
   "metadata": {},
   "source": [
    "### Cursor():\n",
    "A cursor keeps track of the position in the result set, and allows you to perform multiple operations row by row against a result set, with or without returning to the original table. In other words, cursors conceptually return a result set based on tables within the databases.\n",
    "\n",
    "### Execute():\n",
    "Python's built-in exec() function allows you to execute arbitrary Python code from a string or compiled code input. The exec() function can be handy when you need to run dynamically generated Python code, but it can be pretty dangerous if you use it carelessly."
   ]
  },
  {
   "cell_type": "code",
   "execution_count": null,
   "id": "06cdd8dc-16ee-492d-aafc-53c8f4a5c836",
   "metadata": {},
   "outputs": [],
   "source": []
  },
  {
   "cell_type": "code",
   "execution_count": null,
   "id": "33ec3b71-e790-4372-a196-362f8d56a245",
   "metadata": {},
   "outputs": [],
   "source": []
  },
  {
   "cell_type": "markdown",
   "id": "25d7623c-e4c2-410a-b4b8-cc7abb6f3a5d",
   "metadata": {},
   "source": [
    "Q7. Give the order of execution of SQL clauses in an SQL query.\n",
    "\n",
    "Ans. \n",
    "\n",
    "The order in which the clauses in queries are executed is as follows:\n",
    "\n",
    "1. FROM/JOIN: The FROM and/or JOIN clauses are executed first to determine the data of interest.\n",
    "\n",
    "2. WHERE: The WHERE clause is executed to filter out records that do not meet the constraints.\n",
    "\n",
    "3. GROUP BY: The GROUP BY clause is executed to group the data based on the values in one or more columns.\n",
    "\n",
    "4. HAVING: The HAVING clause is executed to remove the created grouped records that don’t meet the constraints.\n",
    "\n",
    "5. SELECT: The SELECT clause is executed to derive all desired columns and expressions.\n",
    "\n",
    "6. ORDER BY: The ORDER BY clause is executed to sort the derived values in ascending or descending order.\n",
    "\n",
    "7. LIMIT/OFFSET: Finally, the LIMIT and/or OFFSET clauses are executed to keep or skip a specified number of rows."
   ]
  },
  {
   "cell_type": "code",
   "execution_count": null,
   "id": "d826e422-a612-476b-a76f-f0cf2a70adf2",
   "metadata": {},
   "outputs": [],
   "source": []
  }
 ],
 "metadata": {
  "kernelspec": {
   "display_name": "Python 3 (ipykernel)",
   "language": "python",
   "name": "python3"
  },
  "language_info": {
   "codemirror_mode": {
    "name": "ipython",
    "version": 3
   },
   "file_extension": ".py",
   "mimetype": "text/x-python",
   "name": "python",
   "nbconvert_exporter": "python",
   "pygments_lexer": "ipython3",
   "version": "3.10.8"
  }
 },
 "nbformat": 4,
 "nbformat_minor": 5
}
