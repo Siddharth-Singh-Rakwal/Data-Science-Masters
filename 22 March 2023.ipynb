{
 "cells": [
  {
   "cell_type": "markdown",
   "id": "1839bdce-3ac7-45f2-af74-196e0e009c70",
   "metadata": {},
   "source": [
    "# Assignment | 22nd March 2023"
   ]
  },
  {
   "cell_type": "code",
   "execution_count": null,
   "id": "2b86ff2c-34dc-4e73-9dbd-fff2b33decce",
   "metadata": {},
   "outputs": [],
   "source": []
  },
  {
   "cell_type": "markdown",
   "id": "7c9358da-380a-4280-a897-71a4e97a3b91",
   "metadata": {},
   "source": [
    "Q1. Pearson correlation coefficient is a measure of the linear relationship between two variables. Suppose\n",
    "you have collected data on the amount of time students spend studying for an exam and their final exam\n",
    "scores. Calculate the Pearson correlation coefficient between these two variables and interpret the result.\n",
    "\n",
    "Ans.\n",
    "\n",
    "To calculate the Pearson correlation coefficient between the time students spend studying for an exam and their final exam scores, you first need to compute the covariance and standard deviations of the two variables.\n",
    "\n",
    "Let X be the variable representing the time spent studying, and Y be the variable representing the exam scores. Let n be the number of observations in the dataset. Then, the Pearson correlation coefficient (r) can be calculated as:\n",
    "\n",
    "r = ( Σ((X - X_mean) * (Y - Y_mean)) ) / ( (n - 1) * s_X * s_Y )\n",
    "\n",
    "Where X_mean and Y_mean are the mean values of X and Y, respectively, and s_X and s_Y are the corresponding standard deviations.\n",
    "\n",
    "Once you have calculated r, you can interpret the result as follows:\n",
    "\n",
    "- If r is close to 1, it indicates a strong positive linear relationship between the two variables, which means that as one variable increases, the other variable tends to increase as well.\n",
    "- If r is close to -1, it indicates a strong negative linear relationship between the two variables, which means that as one variable increases, the other variable tends to decrease.\n",
    "- If r is close to 0, it indicates a weak or no linear relationship between the two variables, which means that there is no significant association between them.\n",
    "\n",
    "For example, if the Pearson correlation coefficient between the time spent studying and the exam scores is found to be 0.8, it suggests a strong positive linear relationship between the two variables. This means that students who spend more time studying tend to score higher on the exam. Conversely, if the correlation coefficient is found to be -0.6, it suggests a strong negative linear relationship between the two variables. This means that students who spend less time studying tend to score higher on the exam."
   ]
  },
  {
   "cell_type": "code",
   "execution_count": 2,
   "id": "2da764df-9785-4fbf-a91e-382daca3ff2e",
   "metadata": {},
   "outputs": [
    {
     "name": "stdout",
     "output_type": "stream",
     "text": [
      "Pearson correlation coefficient: 0.9841108417256759\n"
     ]
    }
   ],
   "source": [
    "# Example:\n",
    "\n",
    "import pandas as pd\n",
    "import numpy as np\n",
    "\n",
    "# Create a sample dataset\n",
    "time_spent = [5, 7, 6, 8, 4, 6, 7, 9, 8, 6]\n",
    "exam_scores = [65, 82, 78, 92, 55, 74, 81, 95, 88, 73]\n",
    "\n",
    "# Calculate the Pearson correlation coefficient\n",
    "correlation_coefficient = np.corrcoef(time_spent, exam_scores)[0, 1]\n",
    "\n",
    "print(\"Pearson correlation coefficient:\", correlation_coefficient)"
   ]
  },
  {
   "cell_type": "code",
   "execution_count": null,
   "id": "40ee029b-69ae-455e-b653-dc3a844d5a49",
   "metadata": {},
   "outputs": [],
   "source": []
  },
  {
   "cell_type": "markdown",
   "id": "8f64687c-f25f-47e2-9e53-d3621ec96fd5",
   "metadata": {},
   "source": [
    "Q2. Spearman's rank correlation is a measure of the monotonic relationship between two variables.\n",
    "Suppose you have collected data on the amount of sleep individuals get each night and their overall job\n",
    "satisfaction level on a scale of 1 to 10. Calculate the Spearman's rank correlation between these two\n",
    "variables and interpret the result.\n",
    "\n",
    "Ans.\n",
    "\n"
   ]
  },
  {
   "cell_type": "code",
   "execution_count": 6,
   "id": "f305d880-6ee9-4d36-a9d0-a20e77d41ee4",
   "metadata": {},
   "outputs": [],
   "source": [
    "import pandas as pd\n",
    "\n",
    "# Create a sample dataset\n",
    "sleep = [8, 7, 6, 5, 7, 6, 9, 7, 8, 5]\n",
    "job_satisfaction = [9, 8, 7, 5, 8, 6, 10, 7, 9, 5]\n",
    "\n",
    "# Rank the values of each variable\n",
    "sleep_rank = pd.Series(sleep).rank()\n",
    "job_satisfaction_rank = pd.Series(job_satisfaction).rank()\n",
    "\n",
    "# Calculate the Spearman's rank correlation\n",
    "spearman_corr = sleep_rank.corr(job_satisfaction_rank, method='spearman')"
   ]
  },
  {
   "cell_type": "code",
   "execution_count": 7,
   "id": "7d0d52cc-6129-4e6e-aeb2-95736149eadd",
   "metadata": {},
   "outputs": [
    {
     "data": {
      "text/plain": [
       "0     8.5\n",
       "1     6.0\n",
       "2     3.5\n",
       "3     1.5\n",
       "4     6.0\n",
       "5     3.5\n",
       "6    10.0\n",
       "7     6.0\n",
       "8     8.5\n",
       "9     1.5\n",
       "dtype: float64"
      ]
     },
     "execution_count": 7,
     "metadata": {},
     "output_type": "execute_result"
    }
   ],
   "source": [
    "sleep_rank"
   ]
  },
  {
   "cell_type": "code",
   "execution_count": 8,
   "id": "fb01879d-b6cc-48cf-9ac1-7344f89f63ad",
   "metadata": {},
   "outputs": [
    {
     "data": {
      "text/plain": [
       "0     8.5\n",
       "1     6.5\n",
       "2     4.5\n",
       "3     1.5\n",
       "4     6.5\n",
       "5     3.0\n",
       "6    10.0\n",
       "7     4.5\n",
       "8     8.5\n",
       "9     1.5\n",
       "dtype: float64"
      ]
     },
     "execution_count": 8,
     "metadata": {},
     "output_type": "execute_result"
    }
   ],
   "source": [
    "job_satisfaction_rank"
   ]
  },
  {
   "cell_type": "code",
   "execution_count": 9,
   "id": "a2922456-c739-43ab-8769-f2f377c8d242",
   "metadata": {},
   "outputs": [
    {
     "name": "stdout",
     "output_type": "stream",
     "text": [
      "Spearman's Rank Correlation Coefficient: 0.974964745220317\n"
     ]
    }
   ],
   "source": [
    "print(\"Spearman's Rank Correlation Coefficient:\", spearman_corr)"
   ]
  },
  {
   "cell_type": "code",
   "execution_count": null,
   "id": "9999ea48-7034-4654-bed2-56423a2f0ff7",
   "metadata": {},
   "outputs": [],
   "source": []
  },
  {
   "cell_type": "markdown",
   "id": "2775b02d-aff0-4f32-a8bd-97657038433f",
   "metadata": {},
   "source": [
    "Q3. Suppose you are conducting a study to examine the relationship between the number of hours of\n",
    "exercise per week and body mass index (BMI) in a sample of adults. You collected data on both variables\n",
    "for 50 participants. Calculate the Pearson correlation coefficient and the Spearman's rank correlation\n",
    "between these two variables and compare the results.\n",
    "\n",
    "Ans."
   ]
  },
  {
   "cell_type": "code",
   "execution_count": 17,
   "id": "dcfb6b4d-4fdd-4e82-ad9f-d2c6bb1be013",
   "metadata": {},
   "outputs": [],
   "source": [
    "import pandas as pd\n",
    "import numpy as np\n",
    "\n",
    "# Create a sample dataset\n",
    "exercise_hours = [4, 6, 5, 2, 3, 1, 7, 8, 6, 5, 3, 4, 6, 2, 1, 3, 5, 4, 7, 8, 6, 3, 4, 5, 6, 7, 3, 2, 1, 4, 6, 7, 8, 9, 7, 5, 4, 3, 2, 1, 6, 7, 8, 5, 4, 3, 2, 1, 8, 7, 6, 5, 9]\n",
    "bmi = [22, 26, 24, 28, 25, 29, 21, 20, 23, 27, 26, 24, 23, 29, 30, 27, 25, 26, 21, 20, 23, 27, 25, 24, 23, 22, 28, 29, 30, 26, 25, 24, 23, 22, 21, 27, 26, 25, 24, 23, 22, 28, 29, 30, 26, 25, 24, 23, 22, 20, 21, 24, 27]"
   ]
  },
  {
   "cell_type": "code",
   "execution_count": 18,
   "id": "7353ffea-02a0-4089-a4a1-8734ae1dcb12",
   "metadata": {},
   "outputs": [
    {
     "name": "stdout",
     "output_type": "stream",
     "text": [
      "Pearson correlation coefficient: -0.5179327616524771\n"
     ]
    }
   ],
   "source": [
    "# Calculate Pearson correlation coefficient\n",
    "pearson_corr = np.corrcoef(exercise_hours, bmi)[0, 1]\n",
    "\n",
    "print(\"Pearson correlation coefficient:\", pearson_corr)"
   ]
  },
  {
   "cell_type": "code",
   "execution_count": 19,
   "id": "36f00092-035a-47fd-8134-80b0aa01356b",
   "metadata": {},
   "outputs": [
    {
     "name": "stdout",
     "output_type": "stream",
     "text": [
      "Rank of Exercise Hours 0     21.0\n",
      "1     35.5\n",
      "2     28.0\n",
      "3      8.0\n",
      "4     14.0\n",
      "5      3.0\n",
      "6     43.0\n",
      "7     49.0\n",
      "8     35.5\n",
      "9     28.0\n",
      "10    14.0\n",
      "11    21.0\n",
      "12    35.5\n",
      "13     8.0\n",
      "14     3.0\n",
      "15    14.0\n",
      "16    28.0\n",
      "17    21.0\n",
      "18    43.0\n",
      "19    49.0\n",
      "20    35.5\n",
      "21    14.0\n",
      "22    21.0\n",
      "23    28.0\n",
      "24    35.5\n",
      "25    43.0\n",
      "26    14.0\n",
      "27     8.0\n",
      "28     3.0\n",
      "29    21.0\n",
      "30    35.5\n",
      "31    43.0\n",
      "32    49.0\n",
      "33    52.5\n",
      "34    43.0\n",
      "35    28.0\n",
      "36    21.0\n",
      "37    14.0\n",
      "38     8.0\n",
      "39     3.0\n",
      "40    35.5\n",
      "41    43.0\n",
      "42    49.0\n",
      "43    28.0\n",
      "44    21.0\n",
      "45    14.0\n",
      "46     8.0\n",
      "47     3.0\n",
      "48    49.0\n",
      "49    43.0\n",
      "50    35.5\n",
      "51    28.0\n",
      "52    52.5\n",
      "dtype: float64\n",
      "Rank of BMI 0     10.0\n",
      "1     35.5\n",
      "2     23.0\n",
      "3     45.0\n",
      "4     29.5\n",
      "5     48.5\n",
      "6      5.5\n",
      "7      2.0\n",
      "8     16.0\n",
      "9     41.0\n",
      "10    35.5\n",
      "11    23.0\n",
      "12    16.0\n",
      "13    48.5\n",
      "14    52.0\n",
      "15    41.0\n",
      "16    29.5\n",
      "17    35.5\n",
      "18     5.5\n",
      "19     2.0\n",
      "20    16.0\n",
      "21    41.0\n",
      "22    29.5\n",
      "23    23.0\n",
      "24    16.0\n",
      "25    10.0\n",
      "26    45.0\n",
      "27    48.5\n",
      "28    52.0\n",
      "29    35.5\n",
      "30    29.5\n",
      "31    23.0\n",
      "32    16.0\n",
      "33    10.0\n",
      "34     5.5\n",
      "35    41.0\n",
      "36    35.5\n",
      "37    29.5\n",
      "38    23.0\n",
      "39    16.0\n",
      "40    10.0\n",
      "41    45.0\n",
      "42    48.5\n",
      "43    52.0\n",
      "44    35.5\n",
      "45    29.5\n",
      "46    23.0\n",
      "47    16.0\n",
      "48    10.0\n",
      "49     2.0\n",
      "50     5.5\n",
      "51    23.0\n",
      "52    41.0\n",
      "dtype: float64\n",
      "Spearman's rank correlation coefficient: -0.527326144411844\n"
     ]
    }
   ],
   "source": [
    "# Calculate Spearman's rank correlation coefficient\n",
    "exercise_hours_rank = pd.Series(exercise_hours).rank()\n",
    "bmi_rank = pd.Series(bmi).rank()\n",
    "spearman_corr = exercise_hours_rank.corr(bmi_rank, method='spearman')\n",
    "\n",
    "\n",
    "print(\"Rank of Exercise Hours\", exercise_hours_rank)\n",
    "print(\"Rank of BMI\", bmi_rank)\n",
    "print(\"Spearman's rank correlation coefficient:\", spearman_corr)"
   ]
  },
  {
   "cell_type": "code",
   "execution_count": null,
   "id": "7e7e5580-7dbd-42a9-9d6a-94bdd1be87d1",
   "metadata": {},
   "outputs": [],
   "source": []
  },
  {
   "cell_type": "markdown",
   "id": "4d4f5435-e209-4601-9c69-6c0b6d526f2d",
   "metadata": {},
   "source": [
    "Q4. A researcher is interested in examining the relationship between the number of hours individuals\n",
    "spend watching television per day and their level of physical activity. The researcher collected data on\n",
    "both variables from a sample of 50 participants. Calculate the Pearson correlation coefficient between\n",
    "these two variables.\n",
    "\n",
    "Ans. \n",
    "\n"
   ]
  },
  {
   "cell_type": "code",
   "execution_count": 20,
   "id": "daa4576c-3f23-4737-8278-60aea142b9dd",
   "metadata": {},
   "outputs": [
    {
     "name": "stdout",
     "output_type": "stream",
     "text": [
      "Pearson correlation coefficient: 0.883445792125462\n"
     ]
    }
   ],
   "source": [
    "import numpy as np\n",
    "\n",
    "# Create a sample dataset\n",
    "tv_hours = [2, 3, 4, 1, 5, 6, 3, 2, 4, 5, 1, 2, 3, 6, 5, 4, 2, 1, 5, 6, 3, 2, 1, 4, 5, 6, 3, 2, 1, 2, 3, 4, 5, 6, 3, 2, 4, 1, 5, 6, 3, 2, 4, 5, 1, 2, 3, 6, 5, 4]\n",
    "physical_activity = [3, 5, 6, 2, 4, 5, 2, 3, 4, 5, 1, 2, 3, 5, 5, 4, 3, 1, 4, 5, 2, 2, 1, 4, 5, 5, 3, 3, 1, 2, 3, 4, 4, 5, 3, 3, 4, 2, 4, 5, 2, 3, 4, 5, 1, 2, 3, 5, 5, 4]\n",
    "\n",
    "# Calculate Pearson correlation coefficient\n",
    "corr_coeff = np.corrcoef(tv_hours, physical_activity)[0, 1]\n",
    "\n",
    "print(\"Pearson correlation coefficient:\", corr_coeff)"
   ]
  },
  {
   "cell_type": "code",
   "execution_count": null,
   "id": "a9682279-dc4f-40c0-a824-231fa8369237",
   "metadata": {},
   "outputs": [],
   "source": []
  },
  {
   "attachments": {
    "f88a9efb-1357-414c-af46-507b98f7f8b7.png": {
     "image/png": "[encoded data removed]"
    }
   },
   "cell_type": "markdown",
   "id": "e193ccdb-5dae-4f73-8019-a965db487aec",
   "metadata": {},
   "source": [
    "Q5. A survey was conducted to examine the relationship between age and preference for a particular\n",
    "brand of soft drink. The survey results are shown below:\n",
    "\n",
    "![Screenshot (13).png](attachment:f88a9efb-1357-414c-af46-507b98f7f8b7.png)\n",
    "\n",
    "Ans."
   ]
  },
  {
   "cell_type": "code",
   "execution_count": 23,
   "id": "3a0e580f-8fdd-4064-8596-6c05fcae18d9",
   "metadata": {},
   "outputs": [
    {
     "name": "stdout",
     "output_type": "stream",
     "text": [
      "   Age(Years) Soft Drink Preferences\n",
      "0          25                   Coke\n",
      "1          42                  Pepsi\n",
      "2          37           Mountain Dew\n",
      "3          19                   Coke\n",
      "4          31                  Pepsi\n",
      "5          28                   Coke\n"
     ]
    }
   ],
   "source": [
    "import pandas as pd\n",
    "\n",
    "survey = pd.DataFrame({'Age(Years)' : [25, 42, 37, 19, 31, 28],\n",
    "          'Soft Drink Preferences' : ['Coke', 'Pepsi', 'Mountain Dew', 'Coke', 'Pepsi', 'Coke']\n",
    "})\n",
    "\n",
    "print(survey)"
   ]
  },
  {
   "cell_type": "code",
   "execution_count": 28,
   "id": "5e290a83-f8b0-4b6c-ab29-83a74a99ca83",
   "metadata": {},
   "outputs": [
    {
     "name": "stdout",
     "output_type": "stream",
     "text": [
      "Pearson correlation coefficient: 0.7691751415594736\n"
     ]
    }
   ],
   "source": [
    "# Correlation Analysis:\n",
    "\n",
    "# Convert soft drink preferences to numeric codes\n",
    "survey['Soft Drink Code'] = survey['Soft Drink Preferences'].astype('category').cat.codes\n",
    "\n",
    "# Calculate the Pearson correlation coefficient between age and soft drink preference\n",
    "corr = survey['Age(Years)'].corr(survey['Soft Drink Code'], method='pearson')\n",
    "\n",
    "print('Pearson correlation coefficient:', corr)"
   ]
  },
  {
   "cell_type": "code",
   "execution_count": null,
   "id": "3c6d3200-7ccb-42ff-a04c-a67b90ec6931",
   "metadata": {},
   "outputs": [],
   "source": []
  },
  {
   "cell_type": "markdown",
   "id": "18b19be7-8c16-4e9d-aa49-a00396b811d0",
   "metadata": {},
   "source": [
    "Q6. A company is interested in examining the relationship between the number of sales calls made per day\n",
    "and the number of sales made per week. The company collected data on both variables from a sample of\n",
    "30 sales representatives. Calculate the Pearson correlation coefficient between these two variables.\n",
    "\n",
    "Ans."
   ]
  },
  {
   "cell_type": "code",
   "execution_count": 30,
   "id": "1ef415dd-05d2-4fd3-86f4-08acdbfc5ab9",
   "metadata": {},
   "outputs": [
    {
     "name": "stdout",
     "output_type": "stream",
     "text": [
      "    sales_calls_per_day  sales_made_per_week\n",
      "0                    15                    2\n",
      "1                    20                    4\n",
      "2                    10                    1\n",
      "3                    12                    1\n",
      "4                    18                    3\n",
      "5                    22                    5\n",
      "6                    25                    6\n",
      "7                    30                    8\n",
      "8                    14                    2\n",
      "9                    19                    4\n",
      "10                   20                    4\n",
      "11                   24                    7\n",
      "12                   16                    3\n",
      "13                    8                    0\n",
      "14                   13                    1\n",
      "15                   17                    2\n",
      "16                   23                    6\n",
      "17                   21                    5\n",
      "18                   27                    8\n",
      "19                   29                    7\n",
      "20                   26                    6\n",
      "21                   28                    7\n",
      "22                   19                    4\n",
      "23                   18                    3\n",
      "24                   16                    3\n",
      "25                   12                    1\n",
      "26                   14                    2\n",
      "27                   10                    0\n",
      "28                    9                    0\n",
      "29                   11                    1\n",
      "Pearson correlation coefficient: 0.9797539496923989\n"
     ]
    }
   ],
   "source": [
    "import pandas as pd\n",
    "\n",
    "# create a sample dataset with two variables\n",
    "sales_data = pd.DataFrame({'sales_calls_per_day': [15, 20, 10, 12, 18, 22, 25, 30, 14, 19, 20, 24, 16, 8, 13, 17, 23, 21, 27, 29, 26, 28, 19, 18, 16, 12, 14, 10, 9, 11],\n",
    "                          'sales_made_per_week': [2, 4, 1, 1, 3, 5, 6, 8, 2, 4, 4, 7, 3, 0, 1, 2, 6, 5, 8, 7, 6, 7, 4, 3, 3, 1, 2, 0, 0, 1]})\n",
    "\n",
    "print(sales_data)\n",
    "\n",
    "\n",
    "# calculate the Pearson correlation coefficient\n",
    "corr_coef = sales_data['sales_calls_per_day'].corr(sales_data['sales_made_per_week'], method='pearson')\n",
    "\n",
    "print('Pearson correlation coefficient:', corr_coef)"
   ]
  },
  {
   "cell_type": "code",
   "execution_count": null,
   "id": "2cd3994b-f8bc-4c8f-9f59-7f7a972eaca6",
   "metadata": {},
   "outputs": [],
   "source": []
  }
 ],
 "metadata": {
  "kernelspec": {
   "display_name": "Python 3 (ipykernel)",
   "language": "python",
   "name": "python3"
  },
  "language_info": {
   "codemirror_mode": {
    "name": "ipython",
    "version": 3
   },
   "file_extension": ".py",
   "mimetype": "text/x-python",
   "name": "python",
   "nbconvert_exporter": "python",
   "pygments_lexer": "ipython3",
   "version": "3.10.8"
  }
 },
 "nbformat": 4,
 "nbformat_minor": 5
}
