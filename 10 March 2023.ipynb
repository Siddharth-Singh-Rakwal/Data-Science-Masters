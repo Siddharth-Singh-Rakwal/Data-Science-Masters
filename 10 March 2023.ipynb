{
 "cells": [
  {
   "cell_type": "markdown",
   "id": "baaed931-c2bc-4eca-b5c7-45e136fd1efd",
   "metadata": {},
   "source": [
    "# Assignment | 10th March 2023"
   ]
  },
  {
   "cell_type": "code",
   "execution_count": null,
   "id": "be3592a7-a64e-43a4-b3e0-cacb6b087358",
   "metadata": {},
   "outputs": [],
   "source": []
  },
  {
   "cell_type": "markdown",
   "id": "f426feb2-b9ae-41e5-824b-f3a63d8fbe9c",
   "metadata": {},
   "source": [
    "Q1: What is Estimation Statistics? Explain point estimate and interval estimate.\n",
    "\n",
    "Ans. \n",
    "\n",
    "Estimation statistics is a branch of statistics that deals with the process of estimating unknown population parameters using sample data. The purpose of estimation is to use the information gathered from a sample to make inferences about the population from which the sample was drawn.\n",
    "\n",
    "Point estimate refers to the use of a single value to estimate an unknown parameter of a population. For example, if we want to estimate the mean height of a population, we can take a sample of individuals and calculate the mean height of the sample. This calculated mean is then used as a point estimate of the population mean height. Point estimates are often denoted using a hat symbol over the parameter, such as $\\hat{\\mu}$ for the point estimate of the population mean.\n",
    "\n",
    "Interval estimate, on the other hand, refers to the use of an interval of values to estimate an unknown parameter of a population. For example, if we want to estimate the population mean height, we can use the sample mean height and calculate a confidence interval around it. This confidence interval is then used as an interval estimate of the population mean height. The confidence interval represents a range of values within which we can be confident the true population parameter lies. The level of confidence in the interval estimate is typically specified as a percentage, such as 95% or 99%."
   ]
  },
  {
   "cell_type": "code",
   "execution_count": null,
   "id": "189f88e8-a878-473d-8f0c-ea5c05c45d96",
   "metadata": {},
   "outputs": [],
   "source": []
  },
  {
   "cell_type": "markdown",
   "id": "71cb3fe6-f183-4282-8b8c-01704d4068af",
   "metadata": {},
   "source": [
    "Q2. Write a Python function to estimate the population mean using a sample mean and standard\n",
    "deviation.\n",
    "\n",
    "Ans. "
   ]
  },
  {
   "cell_type": "code",
   "execution_count": 2,
   "id": "179ec2c0-2424-4275-9747-5db06db02b26",
   "metadata": {},
   "outputs": [
    {
     "name": "stdout",
     "output_type": "stream",
     "text": [
      "(10.01, 10.99)\n"
     ]
    }
   ],
   "source": [
    "def estimate_pop_mean(sample_mean, sample_std, sample_size):\n",
    "    import math\n",
    "    # calculate the standard error of the mean\n",
    "    std_error = sample_std / math.sqrt(sample_size)\n",
    "    # calculate the margin of error using a 95% confidence level\n",
    "    margin_error = 1.96 * std_error\n",
    "    # calculate the lower and upper bounds of the confidence interval\n",
    "    lower_bound = sample_mean - margin_error\n",
    "    upper_bound = sample_mean + margin_error\n",
    "    # return the confidence interval as a tuple\n",
    "    return (lower_bound, upper_bound)\n",
    "\n",
    "# example\n",
    "sample_mean = 10.5\n",
    "sample_std = 2.5\n",
    "sample_size = 100\n",
    "conf_interval = estimate_pop_mean(sample_mean, sample_std, sample_size)\n",
    "print(conf_interval)\n"
   ]
  },
  {
   "cell_type": "code",
   "execution_count": null,
   "id": "fc3434d4-c708-4dc0-bc2a-03d766f9b2ec",
   "metadata": {},
   "outputs": [],
   "source": []
  },
  {
   "cell_type": "markdown",
   "id": "575b40da-1347-43a8-a4b2-3802e28b5748",
   "metadata": {},
   "source": [
    "Q3: What is Hypothesis testing? Why is it used? State the importance of Hypothesis testing.\n",
    "\n",
    "Ans. Hypothesis testing is a statistical method used to make decisions about a population parameter based on sample data. It involves the formulation of a null hypothesis and an alternative hypothesis, and the use of sample statistics to test the validity of the null hypothesis.\n",
    "\n",
    "The null hypothesis is a statement that assumes there is no significant difference or relationship between the population parameter and the sample statistic. The alternative hypothesis is a statement that contradicts the null hypothesis and assumes that there is a significant difference or relationship between the population parameter and the sample statistic.\n",
    "\n",
    "Hypothesis testing is used to determine whether there is enough evidence to reject the null hypothesis in favor of the alternative hypothesis. The process involves selecting an appropriate statistical test, calculating a test statistic and its associated probability (p-value), and comparing the p-value to a pre-determined level of significance (alpha) to determine whether to reject or fail to reject the null hypothesis.\n",
    "\n",
    "The importance of hypothesis testing lies in its ability to provide a systematic and objective method for making decisions based on sample data. Hypothesis testing allows researchers to test theories and hypotheses, make inferences about populations based on sample data, and draw conclusions that are supported by statistical evidence.\n",
    "\n",
    "In addition, hypothesis testing plays a critical role in scientific research and decision-making in various fields such as medicine, economics, psychology, and engineering. It allows researchers and practitioners to make informed decisions based on evidence and helps to avoid errors such as false positives and false negatives that can lead to incorrect conclusions and decisions."
   ]
  },
  {
   "cell_type": "code",
   "execution_count": null,
   "id": "6e205d6e-29d3-4e37-991c-87b36cac6ca7",
   "metadata": {},
   "outputs": [],
   "source": []
  },
  {
   "cell_type": "markdown",
   "id": "ac0b5db4-c015-4366-9913-c7f7834c91a2",
   "metadata": {},
   "source": [
    "Q4. Create a hypothesis that states whether the average weight of male college students is greater than\n",
    "the average weight of female college students.\n",
    "\n",
    "Ans. An example of a hypothesis that states whether the average weight of male college students is greater than the average weight of female college students:\n",
    "\n",
    "Null hypothesis: The average weight of male college students is equal to or less than the average weight of female college students.\n",
    "\n",
    "Alternative hypothesis: The average weight of male college students is greater than the average weight of female college students.\n",
    "\n",
    "This hypothesis can be tested by collecting a sample of male and female college students, measuring their weights, and comparing the sample means using a statistical test such as a two-sample t-test. The null hypothesis would be rejected if the p-value is less than the pre-determined level of significance, indicating that there is enough evidence to support the alternative hypothesis that the average weight of male college students is greater than the average weight of female college students."
   ]
  },
  {
   "cell_type": "code",
   "execution_count": null,
   "id": "8da78d3b-0581-4dfe-b352-c7411d3da11d",
   "metadata": {},
   "outputs": [],
   "source": []
  },
  {
   "cell_type": "markdown",
   "id": "67e8cc8c-3556-4547-b93d-c550824698c9",
   "metadata": {},
   "source": [
    "Q5. Write a Python script to conduct a hypothesis test on the difference between two population means,\n",
    "given a sample from each population.\n",
    "\n",
    "Ans. "
   ]
  },
  {
   "cell_type": "code",
   "execution_count": 3,
   "id": "fb33fb1c-e8a8-40ae-a576-4f0ad42a7e0a",
   "metadata": {},
   "outputs": [
    {
     "name": "stdout",
     "output_type": "stream",
     "text": [
      "t-statistic:  -7.373299269022301\n",
      "p-value:  4.517219392010185e-12\n",
      "Reject null hypothesis\n"
     ]
    }
   ],
   "source": [
    "import numpy as np\n",
    "from scipy.stats import ttest_ind\n",
    "\n",
    "# generate two random samples\n",
    "sample1 = np.random.normal(10, 2, size=100)\n",
    "sample2 = np.random.normal(12, 2, size=100)\n",
    "\n",
    "# conduct a two-sample t-test\n",
    "t_stat, p_val = ttest_ind(sample1, sample2, equal_var=False)\n",
    "\n",
    "# print the results\n",
    "print(\"t-statistic: \", t_stat)\n",
    "print(\"p-value: \", p_val)\n",
    "\n",
    "# check if the null hypothesis is rejected\n",
    "if p_val < 0.05:\n",
    "    print(\"Reject null hypothesis\")\n",
    "else:\n",
    "    print(\"Fail to reject null hypothesis\")\n"
   ]
  },
  {
   "cell_type": "code",
   "execution_count": null,
   "id": "726248b2-89ca-468b-a7e8-f983b2fec4d4",
   "metadata": {},
   "outputs": [],
   "source": []
  },
  {
   "cell_type": "markdown",
   "id": "25496a81-7f51-4558-8b37-b9285053f30b",
   "metadata": {},
   "source": [
    "Q6: What is a null and alternative hypothesis? Give some examples.\n",
    "\n",
    "Ans. In statistical hypothesis testing, a null hypothesis is a statement that assumes there is no significant difference or relationship between the population parameter and the sample statistic. The alternative hypothesis is a statement that contradicts the null hypothesis and assumes that there is a significant difference or relationship between the population parameter and the sample statistic.\n",
    "\n",
    "Here are some examples of null and alternative hypotheses:\n",
    "\n",
    "1. The average height of male students in a university is equal to or less than 6 feet. Alternative hypothesis: The average height of male students in a university is greater than 6 feet.\n",
    "2. The proportion of defective products in a factory is equal to or greater than 10%. Alternative hypothesis: The proportion of defective products in a factory is less than 10%.\n",
    "3. There is no significant difference in mean test scores between students who study in the morning and those who study in the evening. Alternative hypothesis: Students who study in the morning have a higher mean test score than those who study in the evening.\n",
    "4. The effectiveness of two drugs in treating a disease is equal. Alternative hypothesis: One drug is more effective than the other in treating the disease.\n",
    "5. The average commute time of employees in a company is equal to or less than 30 minutes. Alternative hypothesis: The average commute time of employees in a company is greater than 30 minutes."
   ]
  },
  {
   "cell_type": "code",
   "execution_count": null,
   "id": "c90fada8-5572-4a05-95b6-f765277a1322",
   "metadata": {},
   "outputs": [],
   "source": []
  },
  {
   "cell_type": "markdown",
   "id": "93fbd9dc-77e4-4940-a371-b3577a88db8d",
   "metadata": {},
   "source": [
    "Q7: Write down the steps involved in hypothesis testing.\n",
    "\n",
    "Ans. The following are the general steps involved in hypothesis testing:\n",
    "\n",
    "1. State the null and alternative hypotheses: This involves defining the research question and formulating the null hypothesis, which assumes that there is no significant difference or relationship between the population parameter and the sample statistic, and the alternative hypothesis, which contradicts the null hypothesis and assumes that there is a significant difference or relationship.\n",
    "2. Set the level of significance: This involves determining the level of risk that you are willing to take in rejecting the null hypothesis when it is actually true. The level of significance is usually set at 0.05 or 0.01.\n",
    "3. Collect the data: This involves collecting a sample from the population of interest.\n",
    "4. Calculate the test statistic: This involves using a statistical formula to calculate the test statistic, which is a measure of how different the sample statistic is from the population parameter under the null hypothesis.\n",
    "5. Determine the p-value: This involves calculating the p-value, which is the probability of obtaining a sample statistic as extreme as the observed one, assuming that the null hypothesis is true.\n",
    "6. Make a decision: This involves comparing the p-value with the level of significance and deciding whether to reject or fail to reject the null hypothesis.\n",
    "7. Draw a conclusion: This involves interpreting the results and drawing conclusions based on the decision made in step 6. If the null hypothesis is rejected, it means that there is enough evidence to support the alternative hypothesis. If the null hypothesis is not rejected, it means that there is not enough evidence to support the alternative hypothesis."
   ]
  },
  {
   "cell_type": "code",
   "execution_count": null,
   "id": "b32da028-2a92-4db7-8133-dfd3bbc0833c",
   "metadata": {},
   "outputs": [],
   "source": []
  },
  {
   "cell_type": "markdown",
   "id": "4fc16f7a-4466-4a1e-8113-f6703dda85b6",
   "metadata": {},
   "source": [
    "Q8. Define p-value and explain its significance in hypothesis testing.\n",
    "\n",
    "Ans. In hypothesis testing, the p-value is the probability of obtaining a sample statistic as extreme as the observed one, assuming that the null hypothesis is true.\n",
    "\n",
    "The p-value is a crucial component of hypothesis testing as it is used to determine whether to reject or fail to reject the null hypothesis. If the p-value is less than or equal to the level of significance (typically set at 0.05 or 0.01), it indicates that the observed result is unlikely to occur by chance alone and provides evidence against the null hypothesis. In other words, a small p-value suggests that there is enough evidence to support the alternative hypothesis.\n",
    "\n",
    "On the other hand, if the p-value is greater than the level of significance, it suggests that the observed result is likely to occur by chance alone and does not provide enough evidence to reject the null hypothesis. In this case, we fail to reject the null hypothesis.\n",
    "\n",
    "Therefore, the p-value serves as a measure of the strength of evidence against the null hypothesis and guides our decision-making process in hypothesis testing. A smaller p-value suggests stronger evidence against the null hypothesis, whereas a larger p-value suggests weaker evidence against the null hypothesis."
   ]
  },
  {
   "cell_type": "code",
   "execution_count": null,
   "id": "ecc09cc4-2b8e-44f2-a06a-97fc824c11ce",
   "metadata": {},
   "outputs": [],
   "source": []
  },
  {
   "cell_type": "markdown",
   "id": "d2be28a3-ef20-457b-b211-1c603fe74ff9",
   "metadata": {},
   "source": [
    "Q9. Generate a Student's t-distribution plot using Python's matplotlib library, with the degrees of freedom\n",
    "parameter set to 10.\n",
    "\n",
    "Ans. "
   ]
  },
  {
   "cell_type": "code",
   "execution_count": 7,
   "id": "29f578a9-1b2a-4141-8d64-24d5d14b036c",
   "metadata": {},
   "outputs": [
    {
     "data": {
      "image/png": "[encoded data removed]",
      "text/plain": [
       "<Figure size 640x480 with 1 Axes>"
      ]
     },
     "metadata": {},
     "output_type": "display_data"
    }
   ],
   "source": [
    "import matplotlib.pyplot as plt\n",
    "import numpy as np\n",
    "from scipy.stats import t\n",
    "\n",
    "# Set the degrees of freedom parameter\n",
    "df = 10\n",
    "\n",
    "# Generate some data to plot the t-distribution\n",
    "x = np.linspace(-4, 4, 1000)\n",
    "y = t.pdf(x, df)\n",
    "\n",
    "# Create a figure and axis object\n",
    "fig, ax = plt.subplots()\n",
    "\n",
    "# Plot the t-distribution\n",
    "ax.plot(x, y)\n",
    "\n",
    "# Add a title and labels to the plot\n",
    "ax.set_title(\"Student's t-Distribution (df = 10)\")\n",
    "ax.set_xlabel(\"x\")\n",
    "ax.set_ylabel(\"Probability density\")\n",
    "\n",
    "# Show the plot\n",
    "plt.show()"
   ]
  },
  {
   "cell_type": "code",
   "execution_count": null,
   "id": "b50fe7d0-8661-4ff4-8800-0ea6bfabfb67",
   "metadata": {},
   "outputs": [],
   "source": []
  },
  {
   "cell_type": "markdown",
   "id": "e29b19c9-ec48-4499-b806-fc2cdebd41d8",
   "metadata": {},
   "source": [
    "Q10. Write a Python program to calculate the two-sample t-test for independent samples, given two\n",
    "random samples of equal size and a null hypothesis that the population means are equal.\n",
    "\n",
    "Ans."
   ]
  },
  {
   "cell_type": "code",
   "execution_count": 8,
   "id": "4fbb253c-e77d-4a54-9b51-29c9b28abab2",
   "metadata": {},
   "outputs": [
    {
     "name": "stdout",
     "output_type": "stream",
     "text": [
      "Sample 1 mean: 21.3\n",
      "Sample 2 mean: 21.4\n",
      "t-statistic: -0.1099114958170944\n",
      "p-value: 0.9136957116295589\n"
     ]
    }
   ],
   "source": [
    "import numpy as np\n",
    "from scipy.stats import ttest_ind\n",
    "\n",
    "# Define the two random samples\n",
    "sample1 = np.array([23, 24, 21, 20, 19, 22, 18, 20, 24, 22])\n",
    "sample2 = np.array([20, 22, 24, 18, 21, 23, 19, 22, 21, 24])\n",
    "\n",
    "# Calculate the two-sample t-test for independent samples\n",
    "t_statistic, p_value = ttest_ind(sample1, sample2)\n",
    "\n",
    "# Print the results\n",
    "print(\"Sample 1 mean:\", np.mean(sample1))\n",
    "print(\"Sample 2 mean:\", np.mean(sample2))\n",
    "print(\"t-statistic:\", t_statistic)\n",
    "print(\"p-value:\", p_value)\n"
   ]
  },
  {
   "cell_type": "code",
   "execution_count": null,
   "id": "1677f207-db24-400b-a271-4ace8391fd6e",
   "metadata": {},
   "outputs": [],
   "source": []
  },
  {
   "cell_type": "markdown",
   "id": "e2892976-518a-4dd9-a63c-5cb0a4a2ac1e",
   "metadata": {},
   "source": [
    "Q11: What is Student’s t distribution? When to use the t-Distribution.\n",
    "\n",
    "Ans. Student’s t-distribution is a probability distribution that is used to estimate population parameters when the sample size is small (typically less than 30) or when the population standard deviation is unknown. The distribution is named after William Sealy Gosset, who used the pen name \"Student\" when he published his work on the distribution in 1908.\n",
    "\n",
    "The t-distribution is similar in shape to the standard normal distribution (i.e., bell-shaped and symmetrical), but it has heavier tails, which means that it has more probability in the tails of the distribution than the standard normal distribution. The shape of the t-distribution depends on the sample size and the degrees of freedom, which is equal to the sample size minus one.\n",
    "\n",
    "The t-distribution is used in statistical inference, particularly in hypothesis testing, to compare sample means from two populations or to determine whether a sample mean is significantly different from a hypothesized population mean. It is also used in the construction of confidence intervals for the population mean.\n",
    "\n",
    "When the sample size is large (typically greater than 30), the t-distribution is approximately the same as the standard normal distribution. Therefore, the t-distribution is typically used when the sample size is small, the population standard deviation is unknown, or when the population distribution is not normal but the sample size is large enough for the central limit theorem to apply."
   ]
  },
  {
   "cell_type": "code",
   "execution_count": null,
   "id": "7ce65811-e791-41d3-be22-da4fe4cdbddf",
   "metadata": {},
   "outputs": [],
   "source": []
  },
  {
   "cell_type": "markdown",
   "id": "90ffb165-9308-4b57-abec-2a4a50e309e3",
   "metadata": {},
   "source": [
    "Q12: What is t-statistic? State the formula for t-statistic.\n",
    "\n",
    "Ans. The t-statistic is a measure of how different a sample mean is from a hypothesized population mean, relative to the variation within the sample. It is calculated by dividing the difference between the sample mean and the hypothesized population mean by the standard error of the mean.\n",
    "\n",
    "The formula for the t-statistic is:\n",
    "\n",
    "t = (x̄ - μ) / (s / sqrt(n))\n",
    "\n",
    "where:\n",
    "- x̄ is the sample mean\n",
    "- μ is the hypothesized population mean\n",
    "- s is the sample standard deviation\n",
    "- n is the sample size"
   ]
  },
  {
   "cell_type": "code",
   "execution_count": null,
   "id": "81262998-cc61-4c88-b1b9-caefa7a01188",
   "metadata": {},
   "outputs": [],
   "source": []
  },
  {
   "cell_type": "markdown",
   "id": "ef9d9f26-e96c-4bde-893b-2dbfb4f08369",
   "metadata": {},
   "source": [
    "Q13. A coffee shop owner wants to estimate the average daily revenue for their shop. They take a random\n",
    "sample of 50 days and find the sample mean revenue to be $500 with a standard deviation of $50.\n",
    "Estimate the population mean revenue with a 95% confidence interval.\n",
    "\n",
    "Ans. \n",
    "\n",
    "To estimate the population mean revenue with a 95% confidence interval, we can use the following formula:\n",
    "\n",
    "CI = x̄ ± t*(s/√n)\n",
    "\n",
    "where:\n",
    "- CI is the confidence interval\n",
    "- x̄ is the sample mean revenue\n",
    "- t is the critical value from the t-distribution for a given level of significance and degrees of freedom (df = n-1)\n",
    "- s is the sample standard deviation\n",
    "- n is the sample size\n",
    "\n",
    "Since we want a 95% confidence interval, we can use a significance level of α = 0.05, which gives us a two-tailed test with a critical value of t = 2.009 (from a t-distribution with df = 49).\n",
    "\n",
    "Plugging in the values from the problem, we get:\n",
    "\n",
    "CI = 500 ± 2.009*(50/√50)\n",
    "\n",
    "Simplifying this expression, we get:\n",
    "\n",
    "CI = 500 ± 14.16\n",
    "\n",
    "Therefore, the 95% confidence interval for the population mean revenue is $485.84 to $514.16. This means that we are 95% confident that the true population mean revenue falls between these two values based on the sample data."
   ]
  },
  {
   "cell_type": "code",
   "execution_count": null,
   "id": "9a288869-0aa8-463d-87c8-f19213685002",
   "metadata": {},
   "outputs": [],
   "source": []
  },
  {
   "cell_type": "markdown",
   "id": "a61fd339-5883-41da-bc14-874469ba6be7",
   "metadata": {},
   "source": [
    "Q14. A researcher hypothesizes that a new drug will decrease blood pressure by 10 mmHg. They conduct a\n",
    "clinical trial with 100 patients and find that the sample mean decrease in blood pressure is 8 mmHg with a\n",
    "standard deviation of 3 mmHg. Test the hypothesis with a significance level of 0.05.\n",
    "\n",
    "Ans.\n",
    "\n",
    "To test the hypothesis that the new drug will decrease blood pressure by 10 mmHg, we need to perform a one-sample t-test. The null hypothesis is that the mean decrease in blood pressure is equal to 10 mmHg, while the alternative hypothesis is that the mean decrease in blood pressure is less than 10 mmHg.\n",
    "\n",
    "The test statistic for the one-sample t-test is given by:\n",
    "\n",
    "t = (x̄ - μ) / (s / sqrt(n))\n",
    "\n",
    "where:\n",
    "- x̄ is the sample mean\n",
    "- μ is the hypothesized population mean (10 mmHg in this case)\n",
    "- s is the sample standard deviation\n",
    "- n is the sample size\n",
    "\n",
    "Plugging in the values from the problem, we get:\n",
    "\n",
    "t = (8 - 10) / (3 / sqrt(100))\n",
    "t = -4.47\n",
    "\n",
    "The critical value for a one-tailed t-test with 99 degrees of freedom (df = n-1) and a significance level of 0.05 is -1.66 (from a t-distribution table or calculator).\n",
    "\n",
    "Since the calculated t-value is less than the critical value, we can reject the null hypothesis and conclude that the mean decrease in blood pressure with the new drug is significantly less than 10 mmHg at a significance level of 0.05. In other words, there is strong evidence to suggest that the new drug is effective in decreasing blood pressure."
   ]
  },
  {
   "cell_type": "code",
   "execution_count": null,
   "id": "766e5fa2-8027-4f0c-8838-39e12c396ad6",
   "metadata": {},
   "outputs": [],
   "source": []
  },
  {
   "cell_type": "markdown",
   "id": "13010303-a555-48b7-a3dc-7d45d7ac522a",
   "metadata": {},
   "source": [
    "Q15. An electronics company produces a certain type of product with a mean weight of 5 pounds and a\n",
    "standard deviation of 0.5 pounds. A random sample of 25 products is taken, and the sample mean weight\n",
    "is found to be 4.8 pounds. Test the hypothesis that the true mean weight of the products is less than 5\n",
    "pounds with a significance level of 0.01.\n",
    "\n",
    "Ans. \n",
    "\n",
    "To test the hypothesis that the true mean weight of the products is less than 5 pounds, we need to perform a one-sample t-test. The null hypothesis is that the mean weight of the products is equal to 5 pounds, while the alternative hypothesis is that the mean weight of the products is less than 5 pounds.\n",
    "\n",
    "The test statistic for the one-sample t-test is given by:\n",
    "\n",
    "t = (x̄ - μ) / (s / sqrt(n))\n",
    "\n",
    "where:\n",
    "- x̄ is the sample mean weight\n",
    "- μ is the hypothesized population mean (5 pounds in this case)\n",
    "- s is the sample standard deviation\n",
    "- n is the sample size\n",
    "\n",
    "Plugging in the values from the problem, we get:\n",
    "\n",
    "t = (4.8 - 5) / (0.5 / sqrt(25))\n",
    "t = -2\n",
    "\n",
    "The critical value for a one-tailed t-test with 24 degrees of freedom (df = n-1) and a significance level of 0.01 is -2.492 (from a t-distribution table or calculator).\n",
    "\n",
    "Since the calculated t-value is less than the critical value, we can reject the null hypothesis and conclude that the true mean weight of the products is significantly less than 5 pounds at a significance level of 0.01. In other words, there is strong evidence to suggest that the mean weight of the products is less than 5 pounds."
   ]
  },
  {
   "cell_type": "code",
   "execution_count": null,
   "id": "9892f7b9-8d1d-473d-8dd6-2d77db609f65",
   "metadata": {},
   "outputs": [],
   "source": []
  },
  {
   "cell_type": "markdown",
   "id": "3bb22825-ba98-427e-bd12-35385894bd36",
   "metadata": {},
   "source": [
    "Q16. Two groups of students are given different study materials to prepare for a test. The first group (n1 =\n",
    "30) has a mean score of 80 with a standard deviation of 10, and the second group (n2 = 40) has a mean\n",
    "score of 75 with a standard deviation of 8. Test the hypothesis that the population means for the two\n",
    "groups are equal with a significance level of 0.01.\n",
    "\n",
    "Ans. \n",
    "\n",
    "To test the hypothesis that the population means for the two groups are equal, we need to perform a two-sample t-test for independent samples. The null hypothesis is that the population means for the two groups are equal, while the alternative hypothesis is that the population means for the two groups are not equal.\n",
    "\n",
    "The test statistic for the two-sample t-test is given by:\n",
    "\n",
    "t = (x̄1 - x̄2) / sqrt((s1^2 / n1) + (s2^2 / n2))\n",
    "\n",
    "where:\n",
    "- x̄1 and x̄2 are the sample means for the first and second groups, respectively\n",
    "- s1 and s2 are the sample standard deviations for the first and second groups, respectively\n",
    "- n1 and n2 are the sample sizes for the first and second groups, respectively\n",
    "\n",
    "Plugging in the values from the problem, we get:\n",
    "\n",
    "t = (80 - 75) / sqrt((10^2 / 30) + (8^2 / 40))\n",
    "t = 2.09\n",
    "\n",
    "The critical value for a two-tailed t-test with 68 degrees of freedom (df = (n1-1) + (n2-1)) and a significance level of 0.01 is ±2.645 (from a t-distribution table or calculator).\n",
    "\n",
    "Since the calculated t-value of 2.09 is less than the critical value of 2.645, we fail to reject the null hypothesis and conclude that there is not enough evidence to suggest that the population means for the two groups are significantly different at a significance level of 0.01. In other words, we cannot conclude that there is a significant difference between the study materials given to the two groups."
   ]
  },
  {
   "cell_type": "code",
   "execution_count": null,
   "id": "dde4fbcc-2388-483e-89b5-785077c23648",
   "metadata": {},
   "outputs": [],
   "source": []
  },
  {
   "cell_type": "markdown",
   "id": "a7f6a482-be65-497c-87ce-d1dacbe409b9",
   "metadata": {},
   "source": [
    "Q17. A marketing company wants to estimate the average number of ads watched by viewers during a TV\n",
    "program. They take a random sample of 50 viewers and find that the sample mean is 4 with a standard\n",
    "deviation of 1.5. Estimate the population mean with a 99% confidence interval.\n",
    "\n",
    "Ans. \n",
    "\n",
    "To estimate the population mean number of ads watched by viewers during a TV program with a 99% confidence interval, we can use the following formula:\n",
    "\n",
    "CI = x̄ ± tα/2 * (s / sqrt(n))\n",
    "\n",
    "where:\n",
    "- x̄ is the sample mean number of ads watched\n",
    "- s is the sample standard deviation\n",
    "- n is the sample size\n",
    "\n",
    "tα/2 is the critical t-value based on the desired level of confidence and degrees of freedom (df = n-1)\n",
    "For a 99% confidence interval and 49 degrees of freedom, the critical t-value is 2.68 (from a t-distribution table or calculator).\n",
    "\n",
    "Plugging in the values from the problem, we get:\n",
    "\n",
    "CI = 4 ± 2.68 * (1.5 / sqrt(50))\n",
    "CI = 4 ± 0.659\n",
    "CI = (3.341, 4.659)\n",
    "\n",
    "Therefore, we can say with 99% confidence that the population mean number of ads watched by viewers during a TV program is between 3.341 and 4.659."
   ]
  },
  {
   "cell_type": "code",
   "execution_count": null,
   "id": "12b6f3db-4488-47a2-8f46-87d7122f16d6",
   "metadata": {},
   "outputs": [],
   "source": []
  }
 ],
 "metadata": {
  "kernelspec": {
   "display_name": "Python 3 (ipykernel)",
   "language": "python",
   "name": "python3"
  },
  "language_info": {
   "codemirror_mode": {
    "name": "ipython",
    "version": 3
   },
   "file_extension": ".py",
   "mimetype": "text/x-python",
   "name": "python",
   "nbconvert_exporter": "python",
   "pygments_lexer": "ipython3",
   "version": "3.10.8"
  }
 },
 "nbformat": 4,
 "nbformat_minor": 5
}
