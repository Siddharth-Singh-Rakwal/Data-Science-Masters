{
 "cells": [
  {
   "cell_type": "markdown",
   "id": "b9e71302-4dab-4c12-ba3a-808cf35734a6",
   "metadata": {},
   "source": [
    "## Assignment | 12th Feb 2023"
   ]
  },
  {
   "cell_type": "code",
   "execution_count": null,
   "id": "7efd9f68-41d9-4d1e-bdd1-287d694d7c59",
   "metadata": {},
   "outputs": [],
   "source": []
  },
  {
   "cell_type": "markdown",
   "id": "ccca5a54-ea69-4f8b-a1c9-47abbe1ae6c9",
   "metadata": {},
   "source": [
    "Q1. What is an Exception in Python? Write the difference between Exceptions and Syntax Error.\n",
    "\n",
    "Ans. An exception is an event, which occurs during the execution of a program that disrupts the normal flow of the program's instructions. In general, when a Python script encounters a situation that it cannot cope with, it raises an exception. An exception is a Python object that represents an error.\n",
    "\n",
    "The Python SyntaxError occurs when the interpreter encounters invalid syntax in code. When Python code is executed, the interpreter parses it to convert it into bytecode. If the interpreter finds any invalid syntax during the parsing stage, a SyntaxError is thrown."
   ]
  },
  {
   "cell_type": "code",
   "execution_count": 9,
   "id": "50ef3a19-bfaa-44b4-9386-446ac9e792ed",
   "metadata": {},
   "outputs": [
    {
     "ename": "NameError",
     "evalue": "name 'prin' is not defined",
     "output_type": "error",
     "traceback": [
      "\u001b[0;31m---------------------------------------------------------------------------\u001b[0m",
      "\u001b[0;31mNameError\u001b[0m                                 Traceback (most recent call last)",
      "Cell \u001b[0;32mIn[9], line 6\u001b[0m\n\u001b[1;32m      4\u001b[0m b \u001b[38;5;241m=\u001b[39m \u001b[38;5;241m5\u001b[39m\n\u001b[1;32m      5\u001b[0m c \u001b[38;5;241m=\u001b[39m b\u001b[38;5;241m/\u001b[39ma\n\u001b[0;32m----> 6\u001b[0m \u001b[43mprin\u001b[49m(\u001b[38;5;124m\"\u001b[39m\u001b[38;5;124mResult:\u001b[39m\u001b[38;5;124m\"\u001b[39m,c)\n",
      "\u001b[0;31mNameError\u001b[0m: name 'prin' is not defined"
     ]
    }
   ],
   "source": [
    "# Example of Exceptions:\n",
    "\n",
    "a = 100\n",
    "b = 5\n",
    "c = b/a\n",
    "prin(\"Result:\",c)"
   ]
  },
  {
   "cell_type": "code",
   "execution_count": 7,
   "id": "b0b4abf7-5b78-4d38-a747-742cae44c62a",
   "metadata": {},
   "outputs": [
    {
     "ename": "SyntaxError",
     "evalue": "expected ':' (3590108160.py, line 4)",
     "output_type": "error",
     "traceback": [
      "\u001b[0;36m  Cell \u001b[0;32mIn[7], line 4\u001b[0;36m\u001b[0m\n\u001b[0;31m    if price > 1000\u001b[0m\n\u001b[0m                   ^\u001b[0m\n\u001b[0;31mSyntaxError\u001b[0m\u001b[0;31m:\u001b[0m expected ':'\n"
     ]
    }
   ],
   "source": [
    "# Example of Syntax Error:\n",
    "\n",
    "price = 1000\n",
    "if price > 1000\n",
    "    print(\"Eligile to buy a Product.\")"
   ]
  },
  {
   "cell_type": "code",
   "execution_count": null,
   "id": "d94536af-7704-44fa-bc5b-be54be04cde5",
   "metadata": {},
   "outputs": [],
   "source": []
  },
  {
   "cell_type": "code",
   "execution_count": null,
   "id": "121213f5-39a9-4fd0-b144-806add60304c",
   "metadata": {},
   "outputs": [],
   "source": []
  },
  {
   "cell_type": "markdown",
   "id": "2fcc85b2-76cc-4bd2-bb3f-2de50e32577c",
   "metadata": {},
   "source": [
    "Q2. What happens when an exceptions in not handled? Explain with an example.\n",
    "\n",
    "Ans. If an exception occurs during execution of the try clause, the exception may be handled by an except clause. If the exception is not handled by an except clause, the exception is re-raised after the finally clause has been executed."
   ]
  },
  {
   "cell_type": "code",
   "execution_count": 12,
   "id": "dbb60af2-e6d9-4b0a-a1c6-7c11b593cbf0",
   "metadata": {},
   "outputs": [
    {
     "name": "stdout",
     "output_type": "stream",
     "text": [
      "Error: Denominator cannot be 0.\n"
     ]
    }
   ],
   "source": [
    "# Example:\n",
    "\n",
    "try:\n",
    "    numerator = 10\n",
    "    denominator = 0\n",
    "\n",
    "    result = numerator/denominator\n",
    "\n",
    "    print(result)\n",
    "except:\n",
    "    print(\"Error: Denominator cannot be 0.\")"
   ]
  },
  {
   "cell_type": "code",
   "execution_count": null,
   "id": "9cea5715-aa0b-4dee-9572-ab609fe38340",
   "metadata": {},
   "outputs": [],
   "source": []
  },
  {
   "cell_type": "code",
   "execution_count": null,
   "id": "1956d335-834b-47fd-9282-7c4df6a805a3",
   "metadata": {},
   "outputs": [],
   "source": []
  },
  {
   "cell_type": "markdown",
   "id": "9ab98eab-c47f-415b-84b9-793bdef41da7",
   "metadata": {},
   "source": [
    "Q3. Which python statement are used to catch and handle exceptions? Explain with an example.\n",
    "\n",
    "Ans. The try and except block in Python is used to catch and handle exceptions."
   ]
  },
  {
   "cell_type": "code",
   "execution_count": 19,
   "id": "bde31371-c99b-46e0-b6b4-81a79cece9f6",
   "metadata": {},
   "outputs": [
    {
     "name": "stdout",
     "output_type": "stream",
     "text": [
      "Second element = 2 \n",
      "An error occurred\n"
     ]
    }
   ],
   "source": [
    "# Example:\n",
    "\n",
    "a = [1, 2, 3]\n",
    "try: \n",
    "    print (\"Second element = %d \" %(a[1]))\n",
    "    print (\"Fourth element = %d \" %(a[3]))\n",
    "except:\n",
    "    print (\"An error occurred\")"
   ]
  },
  {
   "cell_type": "code",
   "execution_count": null,
   "id": "568ddc83-51a1-4820-b89c-ed8240f330a6",
   "metadata": {},
   "outputs": [],
   "source": []
  },
  {
   "cell_type": "code",
   "execution_count": null,
   "id": "c652935a-eec4-4d10-bac9-bc5788e0a1a4",
   "metadata": {},
   "outputs": [],
   "source": []
  },
  {
   "cell_type": "markdown",
   "id": "492d8457-f04a-4768-bd1f-5dda9e68ebb2",
   "metadata": {},
   "source": [
    "Q4. Explain with an example:\n",
    "a. try and else\n",
    "b. finally\n",
    "c. raise\n",
    "\n",
    "Ans."
   ]
  },
  {
   "cell_type": "code",
   "execution_count": 32,
   "id": "9f1076a5-7d81-43e0-bb37-079cecb08368",
   "metadata": {},
   "outputs": [],
   "source": [
    "# Try and :\n",
    "\n",
    "def divide(a,b):\n",
    "    try:\n",
    "        result = b//a\n",
    "    except ZeroDivisorError:\n",
    "            print(\"Sorry ! You are dividing by zero \")\n",
    "    else:\n",
    "        print(\"Yeah ! Your answer is :\", result)"
   ]
  },
  {
   "cell_type": "code",
   "execution_count": 33,
   "id": "def6f9d0-96a1-47bf-b4c5-70d2fc32b589",
   "metadata": {},
   "outputs": [
    {
     "name": "stdout",
     "output_type": "stream",
     "text": [
      "Yeah ! Your answer is : 0\n"
     ]
    }
   ],
   "source": [
    "divide(250,10)"
   ]
  },
  {
   "cell_type": "code",
   "execution_count": 31,
   "id": "7de92d7a-c82d-4978-93f0-1b88a7e9027d",
   "metadata": {},
   "outputs": [],
   "source": [
    "# Finally:\n",
    "\n",
    "def divide(x, y):\n",
    "    try:\n",
    "        result = x // y\n",
    "    except ZeroDivisionError:\n",
    "        print(\"Sorry ! You are dividing by zero \")\n",
    "    else:\n",
    "        print(\"Yeah ! Your answer is :\", result)\n",
    "    finally: \n",
    "        print('This is always executed')  "
   ]
  },
  {
   "cell_type": "code",
   "execution_count": 34,
   "id": "cfc784b3-6b5b-472a-bd70-5e7a1c8de2b5",
   "metadata": {},
   "outputs": [
    {
     "name": "stdout",
     "output_type": "stream",
     "text": [
      "Yeah ! Your answer is : 0\n"
     ]
    }
   ],
   "source": [
    "divide(500,27)"
   ]
  },
  {
   "cell_type": "code",
   "execution_count": 38,
   "id": "0e7e08ba-5de0-45f0-ae42-3f28d321a2e1",
   "metadata": {},
   "outputs": [
    {
     "ename": "Exception",
     "evalue": "The number shouldn't be an odd integer",
     "output_type": "error",
     "traceback": [
      "\u001b[0;31m---------------------------------------------------------------------------\u001b[0m",
      "\u001b[0;31mException\u001b[0m                                 Traceback (most recent call last)",
      "Cell \u001b[0;32mIn[38], line 6\u001b[0m\n\u001b[1;32m      3\u001b[0m a \u001b[38;5;241m=\u001b[39m \u001b[38;5;241m5\u001b[39m\n\u001b[1;32m      5\u001b[0m \u001b[38;5;28;01mif\u001b[39;00m a \u001b[38;5;241m%\u001b[39m \u001b[38;5;241m2\u001b[39m \u001b[38;5;241m!=\u001b[39m \u001b[38;5;241m0\u001b[39m:\n\u001b[0;32m----> 6\u001b[0m     \u001b[38;5;28;01mraise\u001b[39;00m \u001b[38;5;167;01mException\u001b[39;00m(\u001b[38;5;124m\"\u001b[39m\u001b[38;5;124mThe number shouldn\u001b[39m\u001b[38;5;124m'\u001b[39m\u001b[38;5;124mt be an odd integer\u001b[39m\u001b[38;5;124m\"\u001b[39m)\n",
      "\u001b[0;31mException\u001b[0m: The number shouldn't be an odd integer"
     ]
    }
   ],
   "source": [
    "# Raise:\n",
    "\n",
    "a = 5\n",
    "  \n",
    "if a % 2 != 0:\n",
    "    raise Exception(\"The number shouldn't be an odd integer\")"
   ]
  },
  {
   "cell_type": "code",
   "execution_count": null,
   "id": "dec7d62a-3c24-4d63-b50f-bc2ffc2e6aeb",
   "metadata": {},
   "outputs": [],
   "source": []
  },
  {
   "cell_type": "code",
   "execution_count": null,
   "id": "40369a59-b8d1-4bd4-8861-e26a2dc43183",
   "metadata": {},
   "outputs": [],
   "source": []
  },
  {
   "cell_type": "markdown",
   "id": "356804b9-452d-48ca-b280-22f242543965",
   "metadata": {},
   "source": [
    "Q5. Create a custom exceptions class. Use this class to handle an exceptions.\n",
    "\n",
    "Ans."
   ]
  },
  {
   "cell_type": "code",
   "execution_count": 43,
   "id": "ee59918a-2267-43dc-856d-aac0b8641980",
   "metadata": {},
   "outputs": [
    {
     "name": "stdin",
     "output_type": "stream",
     "text": [
      "Enter a number:  20\n"
     ]
    },
    {
     "name": "stdout",
     "output_type": "stream",
     "text": [
      "Eligible to Vote\n"
     ]
    }
   ],
   "source": [
    "class InvalidAgeException(Exception):\n",
    "    \"Raised when the input value is less than 18\"\n",
    "    pass\n",
    "\n",
    "# you need to guess this number\n",
    "number = 18\n",
    "\n",
    "try:\n",
    "    input_num = int(input(\"Enter a number: \"))\n",
    "    if input_num < number:\n",
    "        raise InvalidAgeException\n",
    "    else:\n",
    "        print(\"Eligible to Vote\")\n",
    "        \n",
    "except InvalidAgeException:\n",
    "    print(\"Exception occurred: Not Eligible to Vote\")"
   ]
  },
  {
   "cell_type": "code",
   "execution_count": null,
   "id": "ba987f4f-f5e6-4f4b-b139-b9c1af3bcaef",
   "metadata": {},
   "outputs": [],
   "source": []
  }
 ],
 "metadata": {
  "kernelspec": {
   "display_name": "Python 3 (ipykernel)",
   "language": "python",
   "name": "python3"
  },
  "language_info": {
   "codemirror_mode": {
    "name": "ipython",
    "version": 3
   },
   "file_extension": ".py",
   "mimetype": "text/x-python",
   "name": "python",
   "nbconvert_exporter": "python",
   "pygments_lexer": "ipython3",
   "version": "3.10.8"
  }
 },
 "nbformat": 4,
 "nbformat_minor": 5
}
