{
 "cells": [
  {
   "cell_type": "markdown",
   "id": "14a65e0c-4be9-40c7-8778-6f1ec1ee07d8",
   "metadata": {},
   "source": [
    "# Assignment | 21st March 2023"
   ]
  },
  {
   "cell_type": "code",
   "execution_count": null,
   "id": "215e295e-c496-44f3-9dd5-1fcdb1b61ee1",
   "metadata": {},
   "outputs": [],
   "source": []
  },
  {
   "cell_type": "markdown",
   "id": "fbf6461f-03fd-4c63-ac71-8915d7ce1210",
   "metadata": {},
   "source": [
    "Q1. What is the difference between Ordinal Encoding and Label Encoding? Provide an example of when you\n",
    "might choose one over the other.\n",
    "\n",
    "Ans.\n",
    "\n",
    "Ordinal Encoding and Label Encoding are two methods of encoding categorical data into numerical values. The main difference between them is that Ordinal Encoding assigns a unique numerical value to each category based on their rank or order, while Label Encoding assigns a unique numerical value to each category arbitrarily.\n",
    "\n",
    "For example, suppose you have a categorical feature called \"size\" with three categories: small, medium, and large. Ordinal Encoding would assign a value of 1 to small, 2 to medium, and 3 to large based on their order. Label Encoding, on the other hand, could assign a value of 1 to large, 2 to small, and 3 to medium.\n",
    "\n",
    "One situation where you might choose Ordinal Encoding over Label Encoding is when there is an inherent order or hierarchy to the categories. For example, in a feature like education level with categories of \"high school,\" \"college,\" and \"graduate,\" there is a clear order from lowest to highest level of education, and Ordinal Encoding would preserve this order in the numerical values.\n",
    "\n",
    "In contrast, Label Encoding might be more appropriate when there is no natural ordering to the categories, such as in a feature like \"color\" with categories of \"red,\" \"blue,\" and \"green.\" Here, arbitrary numerical values can be assigned to each category without affecting the meaning of the data."
   ]
  },
  {
   "cell_type": "code",
   "execution_count": null,
   "id": "f45e2949-b37d-4b63-96ad-1bd2d88a1aa3",
   "metadata": {},
   "outputs": [],
   "source": []
  },
  {
   "cell_type": "markdown",
   "id": "c44dd178-19a0-423e-8370-e2104cf67e69",
   "metadata": {},
   "source": [
    "Q2. Explain how Target Guided Ordinal Encoding works and provide an example of when you might use it in\n",
    "a machine learning project.\n",
    "\n",
    "Ans. \n",
    "\n",
    "Target Guided Ordinal Encoding is a type of ordinal encoding technique that is used when encoding categorical variables with a large number of categories or levels. This technique takes into account the relationship between the categorical variable and the target variable, which is the variable we want to predict in our machine learning model.\n",
    "\n",
    "The process involves calculating the mean of the target variable for each category or level of the categorical variable and then encoding the categories in ascending order of their mean target value. This ensures that the encoded values of the categorical variable are monotonically increasing with the mean target value.\n",
    "\n",
    "For example, let's consider a dataset where we have a categorical variable called \"city\" with several categories, and we want to predict the salary of an employee based on this categorical variable. We can use Target Guided Ordinal Encoding to encode this variable by calculating the mean salary for each category of the city variable, and then encoding the categories in ascending order of their mean salary.\n",
    "\n",
    "One of the benefits of using Target Guided Ordinal Encoding is that it can capture the relationship between the categorical variable and the target variable, which can improve the performance of our machine learning model. Another benefit is that it can reduce the dimensionality of the data by replacing the original categorical variable with a single numerical variable.\n",
    "\n",
    "We might use Target Guided Ordinal Encoding in a machine learning project when dealing with high cardinality categorical variables, where One-Hot Encoding or Label Encoding can lead to the curse of dimensionality, and when the relationship between the categorical variable and the target variable is important for the task at hand. However, it's important to note that this technique should be used with caution, as it can introduce bias into the model if the relationship between the categorical variable and the target variable is spurious."
   ]
  },
  {
   "cell_type": "code",
   "execution_count": null,
   "id": "4736649d-5fa1-4d27-895f-c60657ed6781",
   "metadata": {},
   "outputs": [],
   "source": []
  },
  {
   "cell_type": "markdown",
   "id": "93359d92-78e1-45d9-a363-db9a0053b4da",
   "metadata": {},
   "source": [
    "Q3. Define covariance and explain why it is important in statistical analysis. How is covariance calculated?\n",
    "\n",
    "Ans. \n",
    "\n",
    "Covariance is a statistical measure that describes the relationship between two variables. It indicates how much two variables change together, and in what direction. Specifically, covariance measures the extent to which two variables are linearly related.\n",
    "\n",
    "Covariance is important in statistical analysis because it provides information about the degree of dependence between two variables. If the covariance between two variables is positive, it means that they tend to increase or decrease together. If the covariance is negative, it means that when one variable increases, the other tends to decrease. A covariance of zero indicates that there is no linear relationship between the two variables.\n",
    "\n",
    "Covariance is calculated using the following formula:\n",
    "\n",
    "cov(X, Y) = (1/n) * sum[(xi - mean(X)) * (yi - mean(Y))]\n",
    "\n",
    "where X and Y are the two variables being compared, xi and yi are individual data points, mean(X) and mean(Y) are the means of the two variables, and n is the total number of data points.\n",
    "\n",
    "In essence, the formula computes the average of the product of the deviations of the two variables from their respective means. A positive covariance indicates a positive relationship between the variables, a negative covariance indicates a negative relationship, and a covariance of zero indicates no relationship.\n",
    "\n",
    "Covariance is important in statistical analysis because it is a key component in calculating other measures, such as correlation coefficients and regression models. By examining the covariance between two variables, we can determine the direction and strength of their relationship, which can help us better understand the data and make informed decisions based on that understanding."
   ]
  },
  {
   "cell_type": "code",
   "execution_count": null,
   "id": "cb51d850-b52f-4940-8ca5-34f08ff80b27",
   "metadata": {},
   "outputs": [],
   "source": []
  },
  {
   "cell_type": "markdown",
   "id": "27530fe8-0097-4c97-bcbb-1a79be040071",
   "metadata": {},
   "source": [
    "Q4. For a dataset with the following categorical variables: Color (red, green, blue), Size (small, medium,\n",
    "large), and Material (wood, metal, plastic), perform label encoding using Python's scikit-learn library.\n",
    "Show your code and explain the output.\n",
    "\n",
    "Ans. "
   ]
  },
  {
   "cell_type": "code",
   "execution_count": 2,
   "id": "a4b73257-5b24-417e-b9ce-93787f6983f3",
   "metadata": {},
   "outputs": [
    {
     "name": "stdout",
     "output_type": "stream",
     "text": [
      "   Color  Size  Material\n",
      "0      2     2         2\n",
      "1      1     1         0\n",
      "2      0     0         1\n"
     ]
    }
   ],
   "source": [
    "from sklearn.preprocessing import LabelEncoder\n",
    "import pandas as pd\n",
    "\n",
    "# Create sample dataset\n",
    "data = {\n",
    "    'Color': ['red', 'green', 'blue'],\n",
    "    'Size': ['small', 'medium', 'large'],\n",
    "    'Material': ['wood', 'metal', 'plastic']\n",
    "}\n",
    "df = pd.DataFrame(data)\n",
    "\n",
    "# Perform label encoding\n",
    "label_encoder = LabelEncoder()\n",
    "df_encoded = df.apply(label_encoder.fit_transform)\n",
    "\n",
    "# Show encoded dataset\n",
    "print(df_encoded)"
   ]
  },
  {
   "cell_type": "code",
   "execution_count": null,
   "id": "075d9a41-852f-4767-8222-8fe9fbc2f3b2",
   "metadata": {},
   "outputs": [],
   "source": []
  },
  {
   "cell_type": "markdown",
   "id": "2ff63894-a52d-4fad-b10a-cc69f22894ec",
   "metadata": {},
   "source": [
    "Q5. Calculate the covariance matrix for the following variables in a dataset: Age, Income, and Education\n",
    "level. Interpret the results.\n",
    "\n",
    "Ans."
   ]
  },
  {
   "cell_type": "code",
   "execution_count": 3,
   "id": "584bf299-8559-4b08-a466-5e227418c382",
   "metadata": {},
   "outputs": [
    {
     "name": "stdout",
     "output_type": "stream",
     "text": [
      "[[6.25e+01 1.50e+05 2.25e+01]\n",
      " [1.50e+05 3.70e+08 5.55e+04]\n",
      " [2.25e+01 5.55e+04 9.20e+00]]\n"
     ]
    }
   ],
   "source": [
    "import numpy as np\n",
    "\n",
    "# Create a sample dataset with Age, Income, and Education level\n",
    "data = np.array([[35, 50000, 16],\n",
    "                 [45, 70000, 18],\n",
    "                 [30, 30000, 12],\n",
    "                 [40, 60000, 15],\n",
    "                 [50, 80000, 20]])\n",
    "\n",
    "# Calculate the covariance matrix\n",
    "covariance_matrix = np.cov(data.T)\n",
    "\n",
    "# Print the covariance matrix\n",
    "print(covariance_matrix)"
   ]
  },
  {
   "cell_type": "code",
   "execution_count": null,
   "id": "7ef03a58-73ca-4a18-b913-8bd88c1c6981",
   "metadata": {},
   "outputs": [],
   "source": []
  },
  {
   "cell_type": "markdown",
   "id": "f28a925e-84a5-47e0-b746-bd3e814dc786",
   "metadata": {},
   "source": [
    "Q6. You are working on a machine learning project with a dataset containing several categorical\n",
    "variables, including \"Gender\" (Male/Female), \"Education Level\" (High School/Bachelor's/Master's/PhD),\n",
    "and \"Employment Status\" (Unemployed/Part-Time/Full-Time). Which encoding method would you use for\n",
    "each variable, and why?\n",
    "\n",
    "Ans. \n",
    "\n",
    "For the given categorical variables, here is my recommendation on which encoding method to use:\n",
    "\n",
    "1. Gender: Binary Encoding or One-Hot Encoding can be used. Since there are only two categories (Male and Female), Binary Encoding would be sufficient to encode this variable. In Binary Encoding, Male can be encoded as 0 and Female can be encoded as 1. Alternatively, One-Hot Encoding can also be used, where a new binary column is created for each category, indicating whether or not that category is present in the observation. However, in this case, One-Hot Encoding would be less efficient than Binary Encoding, as only one column is needed to represent the Gender variable.\n",
    "\n",
    "2. Education Level: Ordinal Encoding can be used. Since there is a natural order to the categories (High School < Bachelor's < Master's < PhD), Ordinal Encoding would be a good choice. In Ordinal Encoding, each category is assigned a numerical value based on its rank or order. For example, High School can be encoded as 1, Bachelor's as 2, Master's as 3, and PhD as 4. This encoding preserves the ranking of the categories while also reducing the number of columns needed to represent the variable.\n",
    "\n",
    "3. Employment Status: One-Hot Encoding can be used. Since there are three categories (Unemployed, Part-Time, Full-Time), One-Hot Encoding would be a good choice. In One-Hot Encoding, a new binary column is created for each category, indicating whether or not that category is present in the observation. For example, if an observation is Full-Time, then the Full-Time column would be set to 1, and the Unemployed and Part-Time columns would be set to 0. This encoding allows for each category to be treated independently and avoids any issues with ranking or order."
   ]
  },
  {
   "cell_type": "code",
   "execution_count": null,
   "id": "a7a28853-6592-48f0-ba6d-f9363052217e",
   "metadata": {},
   "outputs": [],
   "source": []
  },
  {
   "cell_type": "markdown",
   "id": "ba58f57b-f0bb-43d0-93c4-afe3a62746d3",
   "metadata": {},
   "source": [
    "Q7. You are analyzing a dataset with two continuous variables, \"Temperature\" and \"Humidity\", and two\n",
    "categorical variables, \"Weather Condition\" (Sunny/Cloudy/Rainy) and \"Wind Direction\" (North/South/\n",
    "East/West). Calculate the covariance between each pair of variables and interpret the results.\n",
    "\n",
    "Ans."
   ]
  },
  {
   "cell_type": "code",
   "execution_count": 7,
   "id": "083ea546-033c-46e6-8b9d-df7f46b54b85",
   "metadata": {},
   "outputs": [
    {
     "name": "stdout",
     "output_type": "stream",
     "text": [
      "Covariance between Temperature and Humidity: 22.5\n",
      "Covariance between Temperature and Weather Condition: -0.1\n",
      "Covariance between Temperature and Wind Direction: -0.05\n",
      "Covariance between Humidity and Weather Condition: -0.1\n",
      "Covariance between Humidity and Wind Direction: -0.05\n"
     ]
    }
   ],
   "source": [
    "import pandas as pd\n",
    "import numpy as np\n",
    "\n",
    "# Create a sample dataset\n",
    "data = pd.DataFrame({\n",
    "    'Temperature': [25, 28, 30, 22, 24],\n",
    "    'Humidity': [60, 65, 70, 55, 50],\n",
    "    'Weather Condition': ['Sunny', 'Cloudy', 'Rainy', 'Sunny', 'Cloudy'],\n",
    "    'Wind Direction': ['North', 'South', 'East', 'West', 'South']\n",
    "})\n",
    "\n",
    "# Calculate covariance between Temperature and Humidity\n",
    "cov1 = np.cov(data['Temperature'], data['Humidity'])[0][1]\n",
    "print(f\"Covariance between Temperature and Humidity: {cov1}\")\n",
    "\n",
    "# Calculate covariance between Temperature and Weather Condition\n",
    "temp_by_wc = pd.pivot_table(data, index='Temperature', columns='Weather Condition', aggfunc=len, fill_value=0)\n",
    "cov2 = temp_by_wc.cov().iloc[0][1]\n",
    "print(f\"Covariance between Temperature and Weather Condition: {cov2}\")\n",
    "\n",
    "# Calculate covariance between Temperature and Wind Direction\n",
    "temp_by_wd = pd.pivot_table(data, index='Temperature', columns='Wind Direction', aggfunc=len, fill_value=0)\n",
    "cov3 = temp_by_wd.cov().iloc[0][1]\n",
    "print(f\"Covariance between Temperature and Wind Direction: {cov3}\")\n",
    "\n",
    "# Calculate covariance between Humidity and Weather Condition\n",
    "hum_by_wc = pd.pivot_table(data, index='Humidity', columns='Weather Condition', aggfunc=len, fill_value=0)\n",
    "cov4 = hum_by_wc.cov().iloc[0][1]\n",
    "print(f\"Covariance between Humidity and Weather Condition: {cov4}\")\n",
    "\n",
    "# Calculate covariance between Humidity and Wind Direction\n",
    "hum_by_wd = pd.pivot_table(data, index='Humidity', columns='Wind Direction', aggfunc=len, fill_value=0)\n",
    "cov5 = hum_by_wd.cov().iloc[0][1]\n",
    "print(f\"Covariance between Humidity and Wind Direction: {cov5}\")"
   ]
  },
  {
   "cell_type": "markdown",
   "id": "09bbbe9c-1ca8-4487-a176-11161892f133",
   "metadata": {},
   "source": [
    "## Interpretation:\n",
    "\n",
    "- The covariance between Temperature and Humidity is positive, indicating that they are positively correlated.\n",
    "- The covariances between Temperature and Weather Condition and Temperature and Wind Direction are both negative, indicating a negative correlation between temperature and these categorical variables. However, these covariances are relatively small, indicating a weak correlation.\n",
    "- The covariance between Humidity and Weather Condition is negative, indicating a weak negative correlation between humidity and this categorical variable.\n",
    "- The covariance between Humidity and Wind Direction is negative and large, indicating a strong negative correlation between humidity and this categorical variable."
   ]
  },
  {
   "cell_type": "code",
   "execution_count": null,
   "id": "20cdf89d-456e-437e-806d-761592ebc677",
   "metadata": {},
   "outputs": [],
   "source": []
  }
 ],
 "metadata": {
  "kernelspec": {
   "display_name": "Python 3 (ipykernel)",
   "language": "python",
   "name": "python3"
  },
  "language_info": {
   "codemirror_mode": {
    "name": "ipython",
    "version": 3
   },
   "file_extension": ".py",
   "mimetype": "text/x-python",
   "name": "python",
   "nbconvert_exporter": "python",
   "pygments_lexer": "ipython3",
   "version": "3.10.8"
  }
 },
 "nbformat": 4,
 "nbformat_minor": 5
}
