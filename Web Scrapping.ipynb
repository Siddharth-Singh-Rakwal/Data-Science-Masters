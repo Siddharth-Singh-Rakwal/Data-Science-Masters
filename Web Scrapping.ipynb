{
 "cells": [
  {
   "cell_type": "markdown",
   "id": "9ed43ad6-bc45-43e6-8116-4357dbada554",
   "metadata": {},
   "source": [
    "# Web Scrapping"
   ]
  },
  {
   "cell_type": "code",
   "execution_count": null,
   "id": "2cb6f444-f033-49b9-9e88-6be632c19989",
   "metadata": {},
   "outputs": [],
   "source": []
  },
  {
   "cell_type": "markdown",
   "id": "cb81426d-b436-434f-96e1-d0c7400b091e",
   "metadata": {},
   "source": [
    "URL: https://www.youtube.com/@PW-Foundation/videos"
   ]
  },
  {
   "cell_type": "code",
   "execution_count": null,
   "id": "9e6d2043-b8ae-4bd1-9701-4d12111358b5",
   "metadata": {},
   "outputs": [],
   "source": []
  },
  {
   "cell_type": "code",
   "execution_count": 1,
   "id": "bef54121-9f5d-4ab5-8509-d541a756b97c",
   "metadata": {},
   "outputs": [],
   "source": [
    "import requests\n",
    "from bs4 import BeautifulSoup\n",
    "from pandas import DataFrame\n",
    "from json import loads"
   ]
  },
  {
   "cell_type": "code",
   "execution_count": 2,
   "id": "01ee9fff-26b6-491e-bf87-f91e915808e7",
   "metadata": {},
   "outputs": [
    {
     "data": {
      "text/plain": [
       "<Response [200]>"
      ]
     },
     "execution_count": 2,
     "metadata": {},
     "output_type": "execute_result"
    }
   ],
   "source": [
    "url = 'https://www.youtube.com/@PW-Foundation/videos'\n",
    "\n",
    "# Get the html by get method\n",
    "r = requests.get(url)\n",
    "r\n"
   ]
  },
  {
   "cell_type": "code",
   "execution_count": 3,
   "id": "2e1cecd9-25d0-4116-9042-06e1275eb9d9",
   "metadata": {},
   "outputs": [],
   "source": [
    "# Create BeautifulSoup object\n",
    "soup = BeautifulSoup(r.text, 'html.parser')"
   ]
  },
  {
   "cell_type": "code",
   "execution_count": 5,
   "id": "0fa613b5-5fb7-4200-8199-7bf95dfb5fb8",
   "metadata": {},
   "outputs": [],
   "source": [
    "all_script_tags = soup.findAll('script')"
   ]
  },
  {
   "cell_type": "code",
   "execution_count": 6,
   "id": "999b725f-3ceb-4e42-8aaf-2036b59118b5",
   "metadata": {},
   "outputs": [],
   "source": [
    "def script_tag_to_json(tags: list) -> dict:\n",
    "    for tag in reversed(tags):\n",
    "        text: str = tag.text\n",
    "        if 'ytInitialData = {\"responseContext\"' in text:\n",
    "            return loads(text[20:-1])\n",
    "\n",
    "    raise ValueError('Required script tag not found in the given tags.')"
   ]
  },
  {
   "cell_type": "code",
   "execution_count": 7,
   "id": "bbbdf113-1dff-4c8a-b0c4-5e52bb06e91f",
   "metadata": {},
   "outputs": [],
   "source": [
    "data = script_tag_to_json(all_script_tags)"
   ]
  },
  {
   "cell_type": "code",
   "execution_count": 8,
   "id": "4c2ce082-3e2c-469f-afe8-b83e920e7291",
   "metadata": {},
   "outputs": [],
   "source": [
    "def get_contents_dict(data):\n",
    "    return data['contents']['twoColumnBrowseResultsRenderer']['tabs'][1]['tabRenderer']['content']['richGridRenderer']['contents']"
   ]
  },
  {
   "cell_type": "code",
   "execution_count": 11,
   "id": "4cc46e3c-5224-42a4-b5b7-4a669ebad632",
   "metadata": {},
   "outputs": [
    {
     "data": {
      "text/plain": [
       "['https://www.youtube.com/watch?v=46CNHP9wBAs',\n",
       " 'https://www.youtube.com/watch?v=1Wk5gJtZ2sQ',\n",
       " 'https://www.youtube.com/watch?v=iM_hVnElC-Q',\n",
       " 'https://www.youtube.com/watch?v=Prly9d7LoAQ',\n",
       " 'https://www.youtube.com/watch?v=AvwBDiCWSEM']"
      ]
     },
     "execution_count": 11,
     "metadata": {},
     "output_type": "execute_result"
    }
   ],
   "source": [
    "# Video ID\n",
    "def get_videoUrl(data:dict, n: int = 5):\n",
    "    contents = get_contents_dict(data)\n",
    "\n",
    "    if n > 30:\n",
    "        raise ValueError('Max Limit is 30.')\n",
    "\n",
    "    result = []\n",
    "    for i in range(n):\n",
    "        result.append('https://www.youtube.com/watch?v=' +\n",
    "                      contents[i]['richItemRenderer']['content']['videoRenderer']['videoId'])\n",
    "\n",
    "    return result\n",
    "\n",
    "get_videoUrl(data)"
   ]
  },
  {
   "cell_type": "code",
   "execution_count": 12,
   "id": "75a2870a-3583-44e9-886d-3f9be34df3cc",
   "metadata": {},
   "outputs": [
    {
     "data": {
      "text/plain": [
       "['https://i.ytimg.com/vi/46CNHP9wBAs/hqdefault.jpg?sqp=-oaymwEjCNACELwBSFryq4qpAxUIARUAAAAAGAElAADIQj0AgKJDeAE=&rs=AOn4CLBnDxav8ANiJSwQ02S72qCEqH-arw',\n",
       " 'https://i.ytimg.com/vi/1Wk5gJtZ2sQ/hqdefault.jpg?sqp=-oaymwEjCNACELwBSFryq4qpAxUIARUAAAAAGAElAADIQj0AgKJDeAE=&rs=AOn4CLANLaii89RBWim09CxflQRysxX4Iw',\n",
       " 'https://i.ytimg.com/vi/iM_hVnElC-Q/hqdefault.jpg?sqp=-oaymwEjCNACELwBSFryq4qpAxUIARUAAAAAGAElAADIQj0AgKJDeAE=&rs=AOn4CLAu89YhDS7Fsb5eXR3GKf6OsrEHxQ',\n",
       " 'https://i.ytimg.com/vi/Prly9d7LoAQ/hqdefault.jpg?sqp=-oaymwEjCNACELwBSFryq4qpAxUIARUAAAAAGAElAADIQj0AgKJDeAE=&rs=AOn4CLAxqCd_PIbtlIui7PB1_yHivrAjLQ',\n",
       " 'https://i.ytimg.com/vi/AvwBDiCWSEM/hqdefault.jpg?sqp=-oaymwEjCNACELwBSFryq4qpAxUIARUAAAAAGAElAADIQj0AgKJDeAE=&rs=AOn4CLCtUJpeO6evl8lSnyA1tu3aZYUAkA']"
      ]
     },
     "execution_count": 12,
     "metadata": {},
     "output_type": "execute_result"
    }
   ],
   "source": [
    "def get_thumbnails(data: dict, n: int = 5):\n",
    "    contents = get_contents_dict(data)\n",
    "\n",
    "    if n > 30:\n",
    "        raise ValueError('Max Limit is 30.')\n",
    "\n",
    "    result = []\n",
    "    for i in range(n):\n",
    "        result.append(contents[i]['richItemRenderer']['content']['videoRenderer']['thumbnail']['thumbnails'][-1]['url'])\n",
    "\n",
    "    return result\n",
    "\n",
    "get_thumbnails(data)"
   ]
  },
  {
   "cell_type": "code",
   "execution_count": 13,
   "id": "59e0b400-ce52-4bff-b84c-6037d634684b",
   "metadata": {},
   "outputs": [
    {
     "data": {
      "text/plain": [
       "['Complete 𝗔𝗖𝗜𝗗, 𝗕𝗔𝗦𝗘𝗦 𝗔𝗡𝗗 𝗦𝗔𝗟𝗧 in 110 Minutes | Class 10th Board Exam',\n",
       " 'Complete 𝗖𝗛𝗘𝗠𝗜𝗖𝗔𝗟 𝗥𝗘𝗔𝗖𝗧𝗜𝗢𝗡  in 90 Minutes | Class 10th Board Exam',\n",
       " 'Complete 𝐇𝐄𝐑𝐄𝐃𝐈𝐓𝐘 𝐀𝐍𝐃 𝐄𝐕𝐎𝐋𝐔𝐓𝐈𝐎𝐍 in 2 Hours|| Class 10th Board Exam',\n",
       " 'Complete 𝗛𝗢𝗪 𝗗𝗢 𝗢𝗥𝗚𝗔𝗡𝗜𝗦𝗠𝗦 𝗥𝗘𝗣𝗥𝗢𝗗𝗨𝗖𝗘 in 1 Hours 50 Minutes|| Class 10th Board Exam',\n",
       " 'Complete 𝗢𝗨𝗥 𝗘𝗡𝗩𝗜𝗥𝗢𝗡𝗠𝗘𝗡𝗧 in 1 Hour 30 Minutes | Class 10th Board Exam']"
      ]
     },
     "execution_count": 13,
     "metadata": {},
     "output_type": "execute_result"
    }
   ],
   "source": [
    "def get_title(data: dict, n:int = 5):\n",
    "    contents = get_contents_dict(data)\n",
    "\n",
    "    if n > 30:\n",
    "        raise ValueError('Max Limit is 30.')\n",
    "\n",
    "    result = []\n",
    "    for i in range(n):\n",
    "        result.append(contents[i]['richItemRenderer']['content']['videoRenderer']['title']['runs'][-1]['text'])\n",
    "\n",
    "    return result\n",
    "\n",
    "get_title(data)"
   ]
  },
  {
   "cell_type": "code",
   "execution_count": 14,
   "id": "96e6177b-a491-40f2-a69c-87e72bc21300",
   "metadata": {},
   "outputs": [
    {
     "data": {
      "text/plain": [
       "[7547, 17304, 42166, 19145, 34110]"
      ]
     },
     "execution_count": 14,
     "metadata": {},
     "output_type": "execute_result"
    }
   ],
   "source": [
    "def get_viwes(data: dict, n: int = 5):\n",
    "    contents = get_contents_dict(data)\n",
    "\n",
    "    if n > 30:\n",
    "        raise ValueError('Max Limit is 30.')\n",
    "\n",
    "    result = []\n",
    "    for i in range(n):\n",
    "        result.append(int(contents[i]['richItemRenderer']['content']['videoRenderer']['viewCountText']['simpleText']\n",
    "                      [:-6].replace(',', '')))\n",
    "\n",
    "    return result\n",
    "\n",
    "get_viwes(data)"
   ]
  },
  {
   "cell_type": "code",
   "execution_count": 15,
   "id": "2716e7d6-891e-4f26-9b80-10c8de7f9cf4",
   "metadata": {},
   "outputs": [
    {
     "data": {
      "text/plain": [
       "['5 hours ago', '7 hours ago', '19 hours ago', '22 hours ago', '23 hours ago']"
      ]
     },
     "execution_count": 15,
     "metadata": {},
     "output_type": "execute_result"
    }
   ],
   "source": [
    "def get_time_of_posting(data: dict, n: int = 5):\n",
    "    contents = get_contents_dict(data)\n",
    "\n",
    "    if n > 30:\n",
    "        raise ValueError('Max Limit is 30.')\n",
    "\n",
    "    result = []\n",
    "    for i in range(n):\n",
    "        result.append(contents[i]['richItemRenderer']['content']['videoRenderer']['publishedTimeText']['simpleText'])\n",
    "\n",
    "    return result\n",
    "\n",
    "get_time_of_posting(data)"
   ]
  },
  {
   "cell_type": "code",
   "execution_count": 19,
   "id": "bfdb3cf3-3173-4fc9-8b80-29c7801131a0",
   "metadata": {},
   "outputs": [],
   "source": [
    "# Save data in CSV format.\n",
    "\n",
    "def get_channel_video_details(data: dict, n: int):\n",
    "    thumbnails = get_thumbnails(data, n)\n",
    "    time_of_posting = get_time_of_posting(data, n)\n",
    "    titles = get_title(data, n)\n",
    "    video_urls = get_videoUrl(data, n)\n",
    "\n",
    "    main_data = list(zip(video_urls, titles, thumbnails, time_of_posting))\n",
    "    \n",
    "    df = DataFrame.from_dict(main_data)\n",
    "    df.rename(\n",
    "        columns={\n",
    "            0: 'video_urls',\n",
    "            1: 'title',\n",
    "            2: 'thumbnail_url',\n",
    "            3: 'time_of_posting'\n",
    "        }, inplace=True)\n",
    "\n",
    "    return df"
   ]
  },
  {
   "cell_type": "code",
   "execution_count": 17,
   "id": "bf51b9e6-1614-4de2-8427-5b3e838f5b50",
   "metadata": {},
   "outputs": [],
   "source": [
    "channel_data = get_channel_video_details(data, 30)"
   ]
  },
  {
   "cell_type": "code",
   "execution_count": 18,
   "id": "09dfd9b8-3087-4622-beab-2dd9cd18b610",
   "metadata": {},
   "outputs": [],
   "source": [
    "channel_data.to_csv('PW-Foundation.csv', index=False)"
   ]
  },
  {
   "cell_type": "code",
   "execution_count": null,
   "id": "57bf56ff-5d71-4b96-9588-c66ed7c47ac8",
   "metadata": {},
   "outputs": [],
   "source": []
  }
 ],
 "metadata": {
  "kernelspec": {
   "display_name": "Python 3 (ipykernel)",
   "language": "python",
   "name": "python3"
  },
  "language_info": {
   "codemirror_mode": {
    "name": "ipython",
    "version": 3
   },
   "file_extension": ".py",
   "mimetype": "text/x-python",
   "name": "python",
   "nbconvert_exporter": "python",
   "pygments_lexer": "ipython3",
   "version": "3.10.8"
  }
 },
 "nbformat": 4,
 "nbformat_minor": 5
}
