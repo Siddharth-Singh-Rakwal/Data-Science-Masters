{
 "cells": [
  {
   "cell_type": "markdown",
   "id": "8bf6f71d-c363-4084-881f-94d3cc1dd5f7",
   "metadata": {},
   "source": [
    "# Assignment | 18th Feb 2023"
   ]
  },
  {
   "cell_type": "code",
   "execution_count": null,
   "id": "3874e2cb-26c9-4992-9010-89fca8fac5ac",
   "metadata": {},
   "outputs": [],
   "source": []
  },
  {
   "cell_type": "markdown",
   "id": "6115c25f-93df-472d-86ad-763bcedaece0",
   "metadata": {},
   "source": [
    "Q1. What is an API? Give an example, where an API is used in real life.\n",
    "\n",
    "Ans. An API is the interface that allows two independent software components to exchange information. An API acts as an intermediary between internal software functions and external ones, creating an exchange of information so seamless that it often goes unnoticed by the end user.\n",
    "\n",
    "Example, where an API is used in real life:\n",
    "1. Sharing flight information between airlines and travel sites.\n",
    "2. Using Google Maps in a rideshare app\n",
    "3. Building chatbots in a messaging service\n",
    "4. Embedding YouTube videos into a webpage\n",
    "5. Automating workflows between B2B software tools"
   ]
  },
  {
   "cell_type": "code",
   "execution_count": null,
   "id": "01c0ad5a-2df0-440a-a65d-8c4fc5adf720",
   "metadata": {},
   "outputs": [],
   "source": []
  },
  {
   "cell_type": "code",
   "execution_count": null,
   "id": "d42be3c8-07e2-4d1d-b3f6-9e1e94965d25",
   "metadata": {},
   "outputs": [],
   "source": []
  },
  {
   "cell_type": "markdown",
   "id": "55bda287-f0cd-4039-8334-b947cab6fe3a",
   "metadata": {},
   "source": [
    "Q2. Give advantages and disadvantages of using API.\n",
    "\n",
    "Ans.\n",
    "\n",
    "### Advantages of using API:\n",
    "1. Efficiency: API produces efficient, quicker, and more reliable results than the outputs produced by human beings in an organization.\n",
    "2. Flexible delivery of services: API provides fast and flexible delivery of services according to developers’ requirements.\n",
    "3. Integration: The best feature of API is that it allows the movement of data between various sites and thus enhances the integrated user experience.\n",
    "4. Automation: As API makes use of robotic computers rather than humans, it produces better and more automated results.\n",
    "5. New functionality: While using API the developers find new tools and functionality for API exchanges.\n",
    "\n",
    "\n",
    "### Disadvantages of using API:\n",
    "1. Cost: Developing and implementing API is costly at times and requires high maintenance and support from developers.\n",
    "2. Security issues: Using API adds another layer of surface which is then prone to attacks, and hence the security risk problem is common in APIs."
   ]
  },
  {
   "cell_type": "code",
   "execution_count": null,
   "id": "83163886-78fd-4122-ad91-91d7ca9cdd57",
   "metadata": {},
   "outputs": [],
   "source": []
  },
  {
   "cell_type": "code",
   "execution_count": null,
   "id": "63585a4f-d115-42e2-9a96-f031eaeb1377",
   "metadata": {},
   "outputs": [],
   "source": []
  },
  {
   "cell_type": "markdown",
   "id": "e898b2c0-a41e-41ce-ada4-61b09c636d3c",
   "metadata": {},
   "source": [
    "Q3. What is a Web API? Differentiate between API and Web API.\n",
    "\n",
    "Ans. A Web API is an application programming interface for the Web. A Browser API can extend the functionality of a web browser. A Server API can extend the functionality of a web server.\n",
    "\n",
    "### API:\n",
    "API is an abbreviation for Application Programming Interface which is a collection of communication protocols and subroutines used by various programs to communicate between them. A programmer can make use of various API tools to make their program easier and simpler. Also, an API facilitates programmers with an efficient way to develop their software programs. Thus in simpler terms, an API helps two programs or applications to communicate with each other by providing them with the necessary tools and functions. It takes the request from the user and sends it to the service provider and then again sends the result generated from the service provider to the desired user. \n",
    "\n",
    "### Web API:\n",
    "Web API Is simply an API for the web. It is an API that can be accessed using the HTTP protocol. It can be built using Java, .nET, etc. It is implemented to extend the functionality of a browser, simplify complex functions, and provide easy syntax to complex code. "
   ]
  },
  {
   "cell_type": "code",
   "execution_count": null,
   "id": "b2b43009-8e9e-48a9-96bb-1864999c8ea3",
   "metadata": {},
   "outputs": [],
   "source": []
  },
  {
   "cell_type": "code",
   "execution_count": null,
   "id": "6a51ada0-d8e4-4a84-ac30-239d27c329bc",
   "metadata": {},
   "outputs": [],
   "source": []
  },
  {
   "cell_type": "markdown",
   "id": "39291891-91bb-4116-815f-3899cb9111f8",
   "metadata": {},
   "source": [
    "Q4. Explain REST and SOAP Architecture. Mention shortcomings of SOAP.\n",
    "\n",
    "Ans. REST stands for REpresentational State Transfer and API stands for Application Program Interface. REST is a software architectural style that defines the set of rules to be used for creating web services. Web services which follow the REST architectural style are known as RESTful web services. It allows requesting systems to access and manipulate web resources by using a uniform and predefined set of rules. Interaction in REST based systems happen through Internet’s Hypertext Transfer Protocol (HTTP). \n",
    "\n",
    "SOAP is a protocol for the exchange of information in a distributed environment. SOAP messages are encoded as XML documents and can be exchanged using various underlying protocols.A SOAP message is a one-way transmission between SOAP nodes, from a SOAP sender to a SOAP receiver, but messages can be combined to construct more complex interactions, such as request and response, and peer-to-peer conversations.\n",
    "\n",
    "### Shortcoming of SOAP:\n",
    "1. SOAP is used only XML format data in web service, whereas JSON and other lightweight formats are not supported by it.\n",
    "2. It is slow because it uses XML format, whereas the payload for a simple string message is large.\n",
    "3. There are no security features in the SOAP specification.\n",
    "4. There is no state reference for the remote object in the SOAP client."
   ]
  },
  {
   "cell_type": "code",
   "execution_count": null,
   "id": "05122ec5-f8ea-422f-990c-507fba77336e",
   "metadata": {},
   "outputs": [],
   "source": []
  },
  {
   "cell_type": "code",
   "execution_count": null,
   "id": "714ea3de-5d58-4f9b-8962-044497200b59",
   "metadata": {},
   "outputs": [],
   "source": []
  },
  {
   "cell_type": "markdown",
   "id": "ffa21b49-f0c7-4b0d-b46c-dce0f0a43abd",
   "metadata": {},
   "source": [
    "Q5. Differentiate between REST and SOAP.\n",
    "\n",
    "Ans.\n",
    "\n",
    "### REST:\n",
    "1. REST (Representational State Transfer) is a set of guidelines (architectural style) offering flexible implementation\n",
    "2. Lightweight and needs less bandwidth\n",
    "3. It inherits security from the underlying transport.\n",
    "4. It permits different data formats such as plain text, HTML, XML, JSON, etc.\n",
    "5. REST calls can be cached.\n",
    "\n",
    "### SOAP:\n",
    "1. SOAP (Simple Object Access Protocol) is a protocol with specific requirements like XML messaging.\n",
    "2. Heavier and needs more bandwidth.\n",
    "3. It defines its own security.\n",
    "4. It permits XML-based data format only.\n",
    "5. SOAP calls cannot be cached."
   ]
  },
  {
   "cell_type": "code",
   "execution_count": null,
   "id": "a25d5e12-623d-479c-b659-8333ef6407df",
   "metadata": {},
   "outputs": [],
   "source": []
  }
 ],
 "metadata": {
  "kernelspec": {
   "display_name": "Python 3 (ipykernel)",
   "language": "python",
   "name": "python3"
  },
  "language_info": {
   "codemirror_mode": {
    "name": "ipython",
    "version": 3
   },
   "file_extension": ".py",
   "mimetype": "text/x-python",
   "name": "python",
   "nbconvert_exporter": "python",
   "pygments_lexer": "ipython3",
   "version": "3.10.8"
  }
 },
 "nbformat": 4,
 "nbformat_minor": 5
}
