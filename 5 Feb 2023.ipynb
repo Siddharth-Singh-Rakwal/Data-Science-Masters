{
 "cells": [
  {
   "cell_type": "markdown",
   "id": "07948a54-5481-454a-a984-34d4ddfc69fc",
   "metadata": {},
   "source": [
    "## Assignment | 5th Feb 2023"
   ]
  },
  {
   "cell_type": "code",
   "execution_count": null,
   "id": "543b7b66-67f7-4321-aa7c-0faeeff56250",
   "metadata": {},
   "outputs": [],
   "source": []
  },
  {
   "cell_type": "markdown",
   "id": "59d797ae-5907-461e-a782-58f1e0d6b3d4",
   "metadata": {},
   "source": [
    "Q1. Explain Class and Object with respect to Object-Oriented Programming. Give a suitable example.\n",
    "\n",
    "Ans. A class is considered as a blueprint of objects. We can think of the class as a sketch (prototype) of a house. It contains all the details about the floors, doors, windows, etc. Based on these descriptions we build the house. House is the object.\n",
    "\n",
    "Since many houses can be made from the same description, we can create many objects from a class."
   ]
  },
  {
   "cell_type": "code",
   "execution_count": 2,
   "id": "7c8a56cf-29e3-44fb-bf4d-32674179138e",
   "metadata": {},
   "outputs": [],
   "source": [
    "# Let's see an example,\n",
    "class Bike:\n",
    "    name = \"\"\n",
    "    gear = 0\n",
    "    "
   ]
  },
  {
   "cell_type": "markdown",
   "id": "cdd4909e-f9db-4a80-8d02-079b0f9933ea",
   "metadata": {},
   "source": [
    "Here,\n",
    "\n",
    "Bike - the name of the class\n",
    "name/gear - variables inside the class with default values \"\" and 0 respectively.\n",
    "Note: The variables inside a class are called attributes."
   ]
  },
  {
   "cell_type": "markdown",
   "id": "60369f86-f291-4f3b-aa59-c0384a04501e",
   "metadata": {},
   "source": [
    "An object is called an instance of a class. For example, suppose Bike is a class then we can create objects like bike1, bike2, etc from the class.\n",
    "\n",
    "Here's the syntax to create an object.\n",
    "\n",
    "objectName = ClassName()"
   ]
  },
  {
   "cell_type": "code",
   "execution_count": 4,
   "id": "3d01df32-b3d8-4428-9d0f-4500c8df301b",
   "metadata": {},
   "outputs": [],
   "source": [
    "# Example,\n",
    "# create class\n",
    "class Bike:\n",
    "    name = \"\"\n",
    "    gear = 0\n",
    "\n",
    "# create objects of class\n",
    "bike1 = Bike()"
   ]
  },
  {
   "cell_type": "markdown",
   "id": "c6fc3f6c-5fb9-4929-80de-e11dcb8e7f28",
   "metadata": {},
   "source": [
    "Here, bike1 is the object of the class. Now, we can use this object to access the class attributes."
   ]
  },
  {
   "cell_type": "code",
   "execution_count": null,
   "id": "e649da56-3ce8-41ed-8eff-de2e510b771b",
   "metadata": {},
   "outputs": [],
   "source": []
  },
  {
   "cell_type": "code",
   "execution_count": null,
   "id": "08c0c0db-9d4d-4b38-9fc6-721bd767195a",
   "metadata": {},
   "outputs": [],
   "source": []
  },
  {
   "cell_type": "markdown",
   "id": "79bac1d9-7765-4150-aa08-690f256d845f",
   "metadata": {},
   "source": [
    "Q2. Name the four pillars of OOPs.\n",
    "\n",
    "Ans. Inheritance, Polymorphism, Encapsulation and Abstraction."
   ]
  },
  {
   "cell_type": "code",
   "execution_count": null,
   "id": "6e819469-4ca5-4734-84a0-33f56a4564e8",
   "metadata": {},
   "outputs": [],
   "source": []
  },
  {
   "cell_type": "code",
   "execution_count": null,
   "id": "3dd2f482-3217-4a5b-bafc-42737124f1ad",
   "metadata": {},
   "outputs": [],
   "source": []
  },
  {
   "cell_type": "markdown",
   "id": "72271be6-0136-480b-81a0-0a39f88d46eb",
   "metadata": {},
   "source": [
    "Q3. Explain why the __init__() function is used. Give a suitable example.\n",
    "\n",
    "Ans. Use the __init__() function to assign values to object properties, or other operations that are necessary to do when the object is being created."
   ]
  },
  {
   "cell_type": "code",
   "execution_count": 9,
   "id": "f83713ab-67fe-49eb-9b3d-d48a472b2b62",
   "metadata": {},
   "outputs": [
    {
     "name": "stdout",
     "output_type": "stream",
     "text": [
      "Siddharth\n",
      "19\n"
     ]
    }
   ],
   "source": [
    "# Example,\n",
    "\n",
    "class Person:\n",
    "  def __init__(self, name, age):\n",
    "    self.name = name\n",
    "    self.age = age\n",
    "\n",
    "p1 = Person(\"Siddharth\", 19)\n",
    "\n",
    "print(p1.name)\n",
    "print(p1.age)"
   ]
  },
  {
   "cell_type": "code",
   "execution_count": null,
   "id": "1bae1860-9f4e-4399-8d93-bb5ad96c99aa",
   "metadata": {},
   "outputs": [],
   "source": []
  },
  {
   "cell_type": "code",
   "execution_count": null,
   "id": "aa2b0b45-d28e-4811-bb55-ff324f3bdb05",
   "metadata": {},
   "outputs": [],
   "source": []
  },
  {
   "cell_type": "markdown",
   "id": "caa2d9e0-9655-4510-9845-3d7983bc3f9d",
   "metadata": {},
   "source": [
    "Q4. Why self is used in OOPs?\n",
    "\n",
    "Ans. The self is used to represent the instance of the class. With this keyword, you can access the attributes and methods of the class in python. It binds the attributes with the given arguments. The reason why we use self is that Python does not use the '@' syntax to refer to instance attributes."
   ]
  },
  {
   "cell_type": "code",
   "execution_count": 14,
   "id": "cdc3ecdd-59cf-40ab-bd46-8212b29b6fa2",
   "metadata": {},
   "outputs": [],
   "source": [
    "# Example,\n",
    "\n",
    "class details:\n",
    "    \n",
    "    def __init__(self ,phone_number , email_id, student_id ):\n",
    "        \n",
    "        self.phone_number = phone_number\n",
    "        self.email_id = email_id\n",
    "        self.student_id = student_id\n",
    "        \n",
    "    \n",
    "    def return_student_detials(self):\n",
    "        return self.phone_number, self.email_id , self.student_id"
   ]
  },
  {
   "cell_type": "code",
   "execution_count": 15,
   "id": "04bd8bce-dc39-4839-91ef-b3544c709e53",
   "metadata": {},
   "outputs": [],
   "source": [
    "siddharth = details(987654321, \"sidd@gmail.com\", 4431)"
   ]
  },
  {
   "cell_type": "code",
   "execution_count": 17,
   "id": "e91746bb-84e9-4402-b0b7-987f7cc0dabe",
   "metadata": {},
   "outputs": [
    {
     "data": {
      "text/plain": [
       "(987654321, 'sidd@gmail.com', 4431)"
      ]
     },
     "execution_count": 17,
     "metadata": {},
     "output_type": "execute_result"
    }
   ],
   "source": [
    "siddharth.return_student_detials()"
   ]
  },
  {
   "cell_type": "code",
   "execution_count": null,
   "id": "101dad42-f5d8-4771-8446-607161e16c27",
   "metadata": {},
   "outputs": [],
   "source": []
  },
  {
   "cell_type": "code",
   "execution_count": null,
   "id": "bfa845e4-d5d9-4470-b00f-4fe27c9fca25",
   "metadata": {},
   "outputs": [],
   "source": []
  },
  {
   "cell_type": "markdown",
   "id": "ef26404b-99fa-41c6-b26f-a9c50d053bbd",
   "metadata": {},
   "source": [
    "Q5. What is inheritance? Give an example for each type of inheritance.\n",
    "\n",
    "Ans. Inheritance is defined as the mechanism of inheriting the properties of the base class to the child class.\n",
    "Types of Inheritance:\n",
    "-> single inheritance\n",
    "-> Multiple Inheritance\n",
    "-> Multilevel Inheritance\n",
    "-> Hierarchical Inheritance\n",
    "-> Hybrid Inheritance"
   ]
  },
  {
   "cell_type": "code",
   "execution_count": 18,
   "id": "66de9516-3010-4574-b423-633564ef21f9",
   "metadata": {},
   "outputs": [
    {
     "name": "stdout",
     "output_type": "stream",
     "text": [
      "This function is in parent class.\n",
      "This function is in child class.\n"
     ]
    }
   ],
   "source": [
    "# Single Inheritance\n",
    " \n",
    "class Parent:\n",
    "    def func1(self):\n",
    "        print(\"This function is in parent class.\")\n",
    "\n",
    "class Child(Parent):\n",
    "    def func2(self):\n",
    "        print(\"This function is in child class.\")\n",
    "\n",
    "object = Child()\n",
    "object.func1()\n",
    "object.func2()"
   ]
  },
  {
   "cell_type": "code",
   "execution_count": 20,
   "id": "45de8506-55ed-447d-bc33-10946e6039db",
   "metadata": {},
   "outputs": [
    {
     "name": "stdout",
     "output_type": "stream",
     "text": [
      "Father : Kuljeet\n",
      "Mother : Simran\n"
     ]
    }
   ],
   "source": [
    "# multiple inheritance\n",
    "\n",
    "class Mother:\n",
    "    mothername = \"\"\n",
    " \n",
    "    def mother(self):\n",
    "        print(self.mothername)\n",
    "\n",
    "class Father:\n",
    "    fathername = \"\"\n",
    " \n",
    "    def father(self):\n",
    "        print(self.fathername)\n",
    "\n",
    "class Son(Mother, Father):\n",
    "    def parents(self):\n",
    "        print(\"Father :\", self.fathername)\n",
    "        print(\"Mother :\", self.mothername)\n",
    "\n",
    "s1 = Son()\n",
    "s1.fathername = \"Kuljeet\"\n",
    "s1.mothername = \"Simran\"\n",
    "s1.parents()"
   ]
  },
  {
   "cell_type": "code",
   "execution_count": 23,
   "id": "d4c25dec-325f-4a88-9511-4d3f98f8eed3",
   "metadata": {},
   "outputs": [
    {
     "name": "stdout",
     "output_type": "stream",
     "text": [
      "Rajpal\n",
      "Grandfather name : Rajpal\n",
      "Father name : Kuljeet\n",
      "Son name : Siddharth\n"
     ]
    }
   ],
   "source": [
    "# Multilevel inheritance\n",
    "\n",
    "class Grandfather:\n",
    " \n",
    "    def __init__(self, grandfathername):\n",
    "        self.grandfathername = grandfathername\n",
    "\n",
    "class Father(Grandfather):\n",
    "    def __init__(self, fathername, grandfathername):\n",
    "        self.fathername = fathername\n",
    "\n",
    "        Grandfather.__init__(self, grandfathername)\n",
    "\n",
    "class Son(Father):\n",
    "    def __init__(self, sonname, fathername, grandfathername):\n",
    "        self.sonname = sonname\n",
    "        \n",
    "        Father.__init__(self, fathername, grandfathername)\n",
    " \n",
    "    def print_name(self):\n",
    "        print('Grandfather name :', self.grandfathername)\n",
    "        print(\"Father name :\", self.fathername)\n",
    "        print(\"Son name :\", self.sonname)\n",
    "\n",
    "s1 = Son('Siddharth', 'Kuljeet', 'Rajpal')\n",
    "print(s1.grandfathername)\n",
    "s1.print_name()"
   ]
  },
  {
   "cell_type": "code",
   "execution_count": 24,
   "id": "bdcbee78-2621-4b1a-85a8-2998c63ad4c6",
   "metadata": {},
   "outputs": [
    {
     "name": "stdout",
     "output_type": "stream",
     "text": [
      "This function is in parent class.\n",
      "This function is in child 1.\n",
      "This function is in parent class.\n",
      "This function is in child 2.\n"
     ]
    }
   ],
   "source": [
    "# Hierarchical inheritance\n",
    "\n",
    "class Parent:\n",
    "    def func1(self):\n",
    "        print(\"This function is in parent class.\")\n",
    "\n",
    "class Child1(Parent):\n",
    "    def func2(self):\n",
    "        print(\"This function is in child 1.\")\n",
    "\n",
    "class Child2(Parent):\n",
    "    def func3(self):\n",
    "        print(\"This function is in child 2.\")\n",
    "\n",
    "object1 = Child1()\n",
    "object2 = Child2()\n",
    "object1.func1()\n",
    "object1.func2()\n",
    "object2.func1()\n",
    "object2.func3()"
   ]
  },
  {
   "cell_type": "code",
   "execution_count": 25,
   "id": "5ae74174-84e2-4d1a-9547-441f2dbb949a",
   "metadata": {},
   "outputs": [
    {
     "name": "stdout",
     "output_type": "stream",
     "text": [
      "This function is in school.\n",
      "This function is in student 1. \n"
     ]
    }
   ],
   "source": [
    "# hybrid inheritance\n",
    "\n",
    "class School:\n",
    "    def func1(self):\n",
    "        print(\"This function is in school.\")\n",
    " \n",
    " \n",
    "class Student1(School):\n",
    "    def func2(self):\n",
    "        print(\"This function is in student 1. \")\n",
    " \n",
    " \n",
    "class Student2(School):\n",
    "    def func3(self):\n",
    "        print(\"This function is in student 2.\")\n",
    " \n",
    " \n",
    "class Student3(Student1, School):\n",
    "    def func4(self):\n",
    "        print(\"This function is in student 3.\")\n",
    "\n",
    "object = Student3()\n",
    "object.func1()\n",
    "object.func2()"
   ]
  },
  {
   "cell_type": "code",
   "execution_count": null,
   "id": "a350d2cf-7b96-468a-b5ed-5cf765b147d7",
   "metadata": {},
   "outputs": [],
   "source": []
  }
 ],
 "metadata": {
  "kernelspec": {
   "display_name": "Python 3 (ipykernel)",
   "language": "python",
   "name": "python3"
  },
  "language_info": {
   "codemirror_mode": {
    "name": "ipython",
    "version": 3
   },
   "file_extension": ".py",
   "mimetype": "text/x-python",
   "name": "python",
   "nbconvert_exporter": "python",
   "pygments_lexer": "ipython3",
   "version": "3.10.8"
  }
 },
 "nbformat": 4,
 "nbformat_minor": 5
}
