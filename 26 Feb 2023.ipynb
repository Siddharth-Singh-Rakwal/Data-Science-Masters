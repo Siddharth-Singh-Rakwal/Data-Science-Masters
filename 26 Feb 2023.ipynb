{
 "cells": [
  {
   "cell_type": "markdown",
   "id": "36689e0e-7bb1-4a5a-bb4c-de6711a3506e",
   "metadata": {},
   "source": [
    "# Assignment | 26th Feb 2023"
   ]
  },
  {
   "cell_type": "code",
   "execution_count": null,
   "id": "1977fa46-6491-4e1a-9eb4-20210297f672",
   "metadata": {},
   "outputs": [],
   "source": []
  },
  {
   "attachments": {
    "64778f40-4459-4cd4-9650-1d0f720be795.png": {
     "image/png": "[encoded data removed]"
    }
   },
   "cell_type": "markdown",
   "id": "42fd0331-d2ae-4fcf-90fc-bb2e4776f70f",
   "metadata": {},
   "source": [
    "![Screenshot (89).png](attachment:64778f40-4459-4cd4-9650-1d0f720be795.png)"
   ]
  },
  {
   "cell_type": "code",
   "execution_count": 2,
   "id": "3673da7d-dccf-42ca-8864-ac2c3afefddc",
   "metadata": {},
   "outputs": [
    {
     "name": "stdout",
     "output_type": "stream",
     "text": [
      "['1' '2' '3' '4' '5']\n"
     ]
    }
   ],
   "source": [
    "import numpy as np\n",
    "list_ = [ '1' , '2' , '3' , '4' , '5' ]\n",
    "array_list = np.array(object = list_)\n",
    "\n",
    "print(array_list)"
   ]
  },
  {
   "cell_type": "code",
   "execution_count": null,
   "id": "41f3dab0-aa73-4ffb-a4bb-592c2d5b5016",
   "metadata": {},
   "outputs": [],
   "source": []
  },
  {
   "cell_type": "markdown",
   "id": "1e5761ae-e902-43cf-9073-7e5b9e51db4c",
   "metadata": {},
   "source": [
    "Q1. Is there any difference in the data type of variables list_ and array_list? If there is then write a code\n",
    "to print the data types of both the variables.\n",
    "\n",
    "Ans. Yes, there is a difference in the data type of variables list_ and array_list. The list_ variable is a Python list of strings, whereas the array_list variable is a numpy array of strings.\n",
    "\n",
    "To print the data types of both variables, you can use the type() function:"
   ]
  },
  {
   "cell_type": "code",
   "execution_count": 3,
   "id": "9e9cc93d-ec72-429d-8e18-edb794c435f8",
   "metadata": {},
   "outputs": [
    {
     "name": "stdout",
     "output_type": "stream",
     "text": [
      "<class 'list'>\n",
      "<class 'numpy.ndarray'>\n"
     ]
    }
   ],
   "source": [
    "print(type(list_))\n",
    "print(type(array_list))"
   ]
  },
  {
   "cell_type": "code",
   "execution_count": null,
   "id": "cdb301bd-5ca4-4914-be25-7e1f26708f0b",
   "metadata": {},
   "outputs": [],
   "source": []
  },
  {
   "cell_type": "code",
   "execution_count": null,
   "id": "49e0ccc7-ec6a-4f27-a016-230c9ac3f369",
   "metadata": {},
   "outputs": [],
   "source": []
  },
  {
   "cell_type": "markdown",
   "id": "b9c4f728-43ba-41ad-9c33-554d939e0219",
   "metadata": {},
   "source": [
    "Q2. Write a code to print the data type of each and every element of both the variables list_ and\n",
    "arra_list.\n",
    "\n",
    "Ans."
   ]
  },
  {
   "cell_type": "code",
   "execution_count": 4,
   "id": "11df9f24-f90d-414e-9e18-8cbd387bce3e",
   "metadata": {},
   "outputs": [
    {
     "name": "stdout",
     "output_type": "stream",
     "text": [
      "<class 'str'>\n",
      "<class 'str'>\n",
      "<class 'str'>\n",
      "<class 'str'>\n",
      "<class 'str'>\n"
     ]
    }
   ],
   "source": [
    "for element in list_:\n",
    "    print(type(element))"
   ]
  },
  {
   "cell_type": "code",
   "execution_count": 5,
   "id": "8aeec839-d148-44e1-8f16-49f89422975f",
   "metadata": {},
   "outputs": [
    {
     "name": "stdout",
     "output_type": "stream",
     "text": [
      "<class 'numpy.str_'>\n",
      "<class 'numpy.str_'>\n",
      "<class 'numpy.str_'>\n",
      "<class 'numpy.str_'>\n",
      "<class 'numpy.str_'>\n"
     ]
    }
   ],
   "source": [
    "for element in array_list:\n",
    "    print(type(element))"
   ]
  },
  {
   "cell_type": "code",
   "execution_count": null,
   "id": "47a2bec0-661a-4856-a785-d8014c19cf45",
   "metadata": {},
   "outputs": [],
   "source": []
  },
  {
   "cell_type": "code",
   "execution_count": null,
   "id": "0fecd5af-c8c7-4181-a19c-13c26c5de20f",
   "metadata": {},
   "outputs": [],
   "source": []
  },
  {
   "cell_type": "markdown",
   "id": "188feec7-ac56-4a4a-83fb-d40d85f363de",
   "metadata": {},
   "source": [
    "Q3. Considering the following changes in the variable, array_list:\n",
    "\n",
    "array_list = np.array(object = list_, dtype = int)\n",
    "\n",
    "Will there be any difference in the data type of the elements present in both the variables, list_ and\n",
    "arra_list? If so then print the data types of each and every element present in both the variables, list_\n",
    "and arra_list.\n",
    "\n",
    "\n",
    "\n",
    "Ans.\n",
    "\n",
    "Yes, there will be a difference in the data type of the elements present in both the variables list_ and array_list after the following change.\n",
    "\n",
    "The dtype=int argument specifies that the elements of array_list should be converted to integer data type.\n",
    "\n",
    "To print the data type of each and every element present in both variables list_ and array_list, you can use a loop to iterate through each element and then print its data type using the type() function."
   ]
  },
  {
   "cell_type": "code",
   "execution_count": 6,
   "id": "a85dab1f-4838-4bc2-a309-9d29f3c9bf4c",
   "metadata": {},
   "outputs": [
    {
     "name": "stdout",
     "output_type": "stream",
     "text": [
      "[1 2 3 4 5]\n"
     ]
    }
   ],
   "source": [
    "import numpy as np\n",
    "list_ = [ '1' , '2' , '3' , '4' , '5' ]\n",
    "array_list = np.array(object = list_, dtype = int)\n",
    "\n",
    "print(array_list)"
   ]
  },
  {
   "cell_type": "code",
   "execution_count": 7,
   "id": "6abe6dd9-0707-45f9-8918-0478bc15441e",
   "metadata": {},
   "outputs": [
    {
     "name": "stdout",
     "output_type": "stream",
     "text": [
      "<class 'str'>\n",
      "<class 'str'>\n",
      "<class 'str'>\n",
      "<class 'str'>\n",
      "<class 'str'>\n"
     ]
    }
   ],
   "source": [
    "for element in list_:\n",
    "    print(type(element))\n"
   ]
  },
  {
   "cell_type": "code",
   "execution_count": 8,
   "id": "7bf5a1c6-b664-4bd7-b405-2cfb4f36693e",
   "metadata": {},
   "outputs": [
    {
     "name": "stdout",
     "output_type": "stream",
     "text": [
      "<class 'numpy.int64'>\n",
      "<class 'numpy.int64'>\n",
      "<class 'numpy.int64'>\n",
      "<class 'numpy.int64'>\n",
      "<class 'numpy.int64'>\n"
     ]
    }
   ],
   "source": [
    "for element in array_list:\n",
    "    print(type(element))\n"
   ]
  },
  {
   "cell_type": "code",
   "execution_count": null,
   "id": "55fe095f-c79f-4388-a99a-a82fcbd34554",
   "metadata": {},
   "outputs": [],
   "source": []
  },
  {
   "cell_type": "code",
   "execution_count": null,
   "id": "8ceead55-20f9-4faa-9029-c51bc097fb15",
   "metadata": {},
   "outputs": [],
   "source": []
  },
  {
   "attachments": {
    "f106fb0e-cfee-4d7d-9851-aea23f770f59.png": {
     "image/png": "[encoded data removed]"
    }
   },
   "cell_type": "markdown",
   "id": "2c70f2f9-1106-4211-835c-17eea630f714",
   "metadata": {},
   "source": [
    "![Screenshot (90).png](attachment:f106fb0e-cfee-4d7d-9851-aea23f770f59.png)"
   ]
  },
  {
   "cell_type": "markdown",
   "id": "ae70cafb-7dd4-447a-8cc4-1c4daa399f1a",
   "metadata": {},
   "source": [
    "Q4. Write a code to find the following characteristics of variable, num_array:\n",
    "1. shape\n",
    "2. size"
   ]
  },
  {
   "cell_type": "code",
   "execution_count": 9,
   "id": "d855eb64-1899-4806-a6bd-69afbfc0e291",
   "metadata": {},
   "outputs": [
    {
     "name": "stdout",
     "output_type": "stream",
     "text": [
      "[[1 2 3]\n",
      " [4 5 6]]\n"
     ]
    }
   ],
   "source": [
    "import numpy as np\n",
    "num_list = [ [ 1 , 2 , 3 ] , [ 4 , 5 , 6 ] ]\n",
    "num_array = np.array(object = num_list)\n",
    "\n",
    "print(num_array)"
   ]
  },
  {
   "cell_type": "code",
   "execution_count": 10,
   "id": "ae10be0f-773a-408e-a50f-d032a9ad5a24",
   "metadata": {},
   "outputs": [
    {
     "data": {
      "text/plain": [
       "(2, 3)"
      ]
     },
     "execution_count": 10,
     "metadata": {},
     "output_type": "execute_result"
    }
   ],
   "source": [
    "# 1: Shape\n",
    "\n",
    "np.shape(num_array)"
   ]
  },
  {
   "cell_type": "code",
   "execution_count": 11,
   "id": "3cb844c7-039a-4a4d-bb8c-c6ec67d4acb6",
   "metadata": {},
   "outputs": [
    {
     "data": {
      "text/plain": [
       "6"
      ]
     },
     "execution_count": 11,
     "metadata": {},
     "output_type": "execute_result"
    }
   ],
   "source": [
    "# 2: Size\n",
    "\n",
    "np.size(num_array)"
   ]
  },
  {
   "cell_type": "code",
   "execution_count": null,
   "id": "d5fbfb60-26a7-4acc-9bc9-d383fede6121",
   "metadata": {},
   "outputs": [],
   "source": []
  },
  {
   "cell_type": "code",
   "execution_count": null,
   "id": "59d74c94-ef54-4f54-bb06-0a242592dd47",
   "metadata": {},
   "outputs": [],
   "source": []
  },
  {
   "cell_type": "markdown",
   "id": "8c77c8ea-008a-4044-b8e8-f9d8c33f1c5d",
   "metadata": {},
   "source": [
    "Q5. Write a code to create numpy array of 3*3 matrix containing zeros only, using a numpy array\n",
    "creation function.\n",
    "\n",
    "[Hint: The size of the array will be 9 and the shape will be (3,3).]\n",
    "\n",
    "Ans."
   ]
  },
  {
   "cell_type": "code",
   "execution_count": 12,
   "id": "32200216-13db-4404-8bb1-9fec104a9b9b",
   "metadata": {},
   "outputs": [
    {
     "name": "stdout",
     "output_type": "stream",
     "text": [
      "[[0. 0. 0.]\n",
      " [0. 0. 0.]\n",
      " [0. 0. 0.]]\n"
     ]
    }
   ],
   "source": [
    "import numpy as np\n",
    "\n",
    "zeros_array = np.zeros((3,3))\n",
    "\n",
    "print(zeros_array)"
   ]
  },
  {
   "cell_type": "code",
   "execution_count": null,
   "id": "b5cc7786-b466-4465-92c6-217ecc489de5",
   "metadata": {},
   "outputs": [],
   "source": []
  },
  {
   "cell_type": "code",
   "execution_count": null,
   "id": "19b656e9-d5de-4528-ae33-e80c82045c54",
   "metadata": {},
   "outputs": [],
   "source": []
  },
  {
   "cell_type": "markdown",
   "id": "02298f3a-c40d-43aa-b2f2-5ac59878b9e3",
   "metadata": {},
   "source": [
    "Q6. Create an identity matrix of shape (5,5) using numpy functions?\n",
    "\n",
    "[Hint: An identity matrix is a matrix containing 1 diagonally and other elements will be 0.]\n",
    "\n",
    "Ans."
   ]
  },
  {
   "cell_type": "code",
   "execution_count": 13,
   "id": "417593bd-115a-4d18-b711-ada175983221",
   "metadata": {},
   "outputs": [
    {
     "name": "stdout",
     "output_type": "stream",
     "text": [
      "[[1. 0. 0. 0. 0.]\n",
      " [0. 1. 0. 0. 0.]\n",
      " [0. 0. 1. 0. 0.]\n",
      " [0. 0. 0. 1. 0.]\n",
      " [0. 0. 0. 0. 1.]]\n"
     ]
    }
   ],
   "source": [
    "import numpy as np\n",
    "\n",
    "identity_matrix = np.identity(5)\n",
    "\n",
    "print(identity_matrix)"
   ]
  },
  {
   "cell_type": "code",
   "execution_count": null,
   "id": "9f8e98d9-d019-4ce3-a069-14d51148b7a7",
   "metadata": {},
   "outputs": [],
   "source": []
  }
 ],
 "metadata": {
  "kernelspec": {
   "display_name": "Python 3 (ipykernel)",
   "language": "python",
   "name": "python3"
  },
  "language_info": {
   "codemirror_mode": {
    "name": "ipython",
    "version": 3
   },
   "file_extension": ".py",
   "mimetype": "text/x-python",
   "name": "python",
   "nbconvert_exporter": "python",
   "pygments_lexer": "ipython3",
   "version": "3.10.8"
  }
 },
 "nbformat": 4,
 "nbformat_minor": 5
}
