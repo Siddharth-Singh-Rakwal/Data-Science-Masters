{
 "cells": [
  {
   "cell_type": "markdown",
   "id": "78abec01-87a1-4980-957e-bb3aae83f45b",
   "metadata": {
    "tags": []
   },
   "source": [
    "# Assignment | 22nd Feb 2023"
   ]
  },
  {
   "cell_type": "code",
   "execution_count": null,
   "id": "48c4511f-bcd2-4157-ba2e-dac21de5516a",
   "metadata": {},
   "outputs": [],
   "source": []
  },
  {
   "cell_type": "code",
   "execution_count": null,
   "id": "4481e79b-c5d5-4c48-8d38-60991933f36d",
   "metadata": {},
   "outputs": [],
   "source": []
  },
  {
   "cell_type": "code",
   "execution_count": 100,
   "id": "58f2278d-3e29-4f1b-8921-74b905daeccd",
   "metadata": {},
   "outputs": [],
   "source": [
    "import requests\n",
    "from bs4 import BeautifulSoup as bs\n",
    "from urllib.request import urlopen\n",
    "import logging"
   ]
  },
  {
   "cell_type": "code",
   "execution_count": null,
   "id": "69ec40fe-10eb-45a0-a0e7-356af2420a97",
   "metadata": {},
   "outputs": [],
   "source": []
  },
  {
   "cell_type": "markdown",
   "id": "6ee5238e-3245-4d5a-8760-ab62f057f319",
   "metadata": {},
   "source": [
    "Go to this given URL and solve the following questions\n",
    "\n",
    "URL: https://www.youtube.com/@PW-Foundation/videos"
   ]
  },
  {
   "cell_type": "markdown",
   "id": "02655f6c-978c-4e8b-8c8a-cba35291da5a",
   "metadata": {},
   "source": [
    "Q1. Write a python program to extract the video URL of the first five videos.\n",
    "\n",
    "Ans."
   ]
  },
  {
   "cell_type": "code",
   "execution_count": 13,
   "id": "334d9064-b70a-4a83-8bbe-bd0b633bffa1",
   "metadata": {},
   "outputs": [],
   "source": [
    "import requests\n",
    "from bs4 import BeautifulSoup\n",
    "\n",
    "# Define the URL of the YouTube channel\n",
    "url = 'https://www.youtube.com/@PW-Foundation/videos'\n",
    "\n",
    "# Send a GET request to the URL and get the HTML content\n",
    "response = requests.get(url)\n",
    "content = response.content\n",
    "\n",
    "# Parse the HTML content using BeautifulSoup\n",
    "soup = BeautifulSoup(content, 'html.parser')\n",
    "\n",
    "# Find the first five video links\n",
    "video_links = []\n",
    "for link in soup.find_all('a', href=True):\n",
    "    if '/watch' in link['href'] and len(video_links) < 5:\n",
    "        video_links.append('https://www.youtube.com' + link['href'])\n",
    "\n",
    "# Print the video links\n",
    "for video_link in video_links:\n",
    "    print(video_link)"
   ]
  },
  {
   "cell_type": "code",
   "execution_count": null,
   "id": "9541ea0e-8641-4ac1-aa12-677ed024d0fc",
   "metadata": {},
   "outputs": [],
   "source": []
  },
  {
   "cell_type": "code",
   "execution_count": null,
   "id": "021e7c28-82af-4f5c-989d-6561fe9dddfc",
   "metadata": {},
   "outputs": [],
   "source": []
  },
  {
   "cell_type": "markdown",
   "id": "98a9efe0-8ad9-444d-8fe4-e099ed210f6b",
   "metadata": {},
   "source": [
    "Q2. Write a python program to extract the URL of the video thumbnails of the first five videos.\n",
    "\n",
    "Ans."
   ]
  },
  {
   "cell_type": "code",
   "execution_count": null,
   "id": "2a91770a-de9d-48f2-b816-53ac9b79192f",
   "metadata": {},
   "outputs": [],
   "source": [
    "import requests\n",
    "from bs4 import BeautifulSoup\n",
    "\n",
    "# specify the URL of the YouTube channel\n",
    "url = \"https://www.youtube.com/@PW-Foundation/videos\"\n",
    "\n",
    "# send a GET request to the URL and get the HTML content\n",
    "response = requests.get(url)\n",
    "html_content = response.content\n",
    "\n",
    "# parse the HTML content using BeautifulSoup\n",
    "soup = BeautifulSoup(html_content, \"html.parser\")\n",
    "\n",
    "# extract the thumbnail URLs of the first five videos\n",
    "thumbnail_urls = []\n",
    "for video in soup.find_all(\"a\", class_=\"yt-simple-endpoint style-scope ytd-grid-video-renderer\"):\n",
    "    thumbnail_url = video.find(\"img\")[\"src\"]\n",
    "    thumbnail_urls.append(thumbnail_url)\n",
    "    if len(thumbnail_urls) >= 5:\n",
    "        break\n",
    "\n",
    "# print the extracted thumbnail URLs\n",
    "print(thumbnail_urls)\n"
   ]
  },
  {
   "cell_type": "code",
   "execution_count": null,
   "id": "c55ec38d-fac0-46fb-abcf-d882afa5528b",
   "metadata": {},
   "outputs": [],
   "source": []
  },
  {
   "cell_type": "code",
   "execution_count": null,
   "id": "08bb2cd3-c0b9-4bfc-b3be-94b03effecd8",
   "metadata": {},
   "outputs": [],
   "source": []
  },
  {
   "cell_type": "markdown",
   "id": "3c8d5a02-d4fa-4157-9e1a-bce487950e0a",
   "metadata": {},
   "source": [
    "Q3. Write a python program to extract the title of the first five videos.\n",
    "\n",
    "Ans."
   ]
  },
  {
   "cell_type": "code",
   "execution_count": null,
   "id": "d7085fbe-2983-4087-8a95-4f9f3b4c763d",
   "metadata": {},
   "outputs": [],
   "source": [
    "import requests\n",
    "from bs4 import BeautifulSoup\n",
    "\n",
    "# specify the URL of the YouTube channel\n",
    "url = \"https://www.youtube.com/@PW-Foundation/videos\"\n",
    "\n",
    "# send a GET request to the URL and get the HTML content\n",
    "response = requests.get(url)\n",
    "html_content = response.content\n",
    "\n",
    "# parse the HTML content using BeautifulSoup\n",
    "soup = BeautifulSoup(html_content, \"html.parser\")\n",
    "\n",
    "# extract the titles of the first five videos\n",
    "video_titles = []\n",
    "for video in soup.find_all(\"a\", class_=\"yt-simple-endpoint style-scope ytd-grid-video-renderer\"):\n",
    "    title = video.find(\"yt-formatted-string\", class_=\"style-scope ytd-grid-video-renderer\")\n",
    "    video_title = title.text.strip()\n",
    "    video_titles.append(video_title)\n",
    "    if len(video_titles) >= 5:\n",
    "        break\n",
    "\n",
    "# print the extracted video titles\n",
    "print(video_titles)\n"
   ]
  },
  {
   "cell_type": "code",
   "execution_count": null,
   "id": "d647fed5-579d-44b7-90af-a23adb62cb45",
   "metadata": {},
   "outputs": [],
   "source": []
  },
  {
   "cell_type": "code",
   "execution_count": null,
   "id": "4de1d665-0314-4322-a18b-7108cb3f2eb9",
   "metadata": {},
   "outputs": [],
   "source": []
  },
  {
   "cell_type": "markdown",
   "id": "784e2ab5-9848-4647-8a6d-88d39d9e567d",
   "metadata": {},
   "source": [
    "Q4. Write a python program to extract the number of views of the first five videos.\n",
    "\n",
    "Ans."
   ]
  },
  {
   "cell_type": "code",
   "execution_count": null,
   "id": "e0675d1c-c054-4e02-a7d0-a7d815559bba",
   "metadata": {},
   "outputs": [],
   "source": [
    "import requests\n",
    "from bs4 import BeautifulSoup\n",
    "\n",
    "# specify the URL of the YouTube channel\n",
    "url = \"https://www.youtube.com/@PW-Foundation/videos\"\n",
    "\n",
    "# send a GET request to the URL and get the HTML content\n",
    "response = requests.get(url)\n",
    "html_content = response.content\n",
    "\n",
    "# parse the HTML content using BeautifulSoup\n",
    "soup = BeautifulSoup(html_content, \"html.parser\")\n",
    "\n",
    "# extract the number of views of the first five videos\n",
    "video_views = []\n",
    "for video in soup.find_all(\"a\", class_=\"yt-simple-endpoint style-scope ytd-grid-video-renderer\"):\n",
    "    views = video.find(\"span\", class_=\"style-scope ytd-grid-video-renderer\")\n",
    "    if views:\n",
    "        video_view = views.text.strip()\n",
    "    else:\n",
    "        video_view = \"N/A\"\n",
    "    video_views.append(video_view)\n",
    "    if len(video_views) >= 5:\n",
    "        break\n",
    "\n",
    "# print the extracted video views\n",
    "print(video_views)\n"
   ]
  },
  {
   "cell_type": "code",
   "execution_count": null,
   "id": "7b2abd15-d26b-4a9e-89f4-91294ab67f13",
   "metadata": {},
   "outputs": [],
   "source": []
  },
  {
   "cell_type": "code",
   "execution_count": null,
   "id": "6427af56-8329-443e-8cb3-7306e3b9ea48",
   "metadata": {},
   "outputs": [],
   "source": []
  },
  {
   "cell_type": "markdown",
   "id": "1a85d3fa-2ef2-43fa-a4ac-a0b7fc171b40",
   "metadata": {},
   "source": [
    "Q5. Write a python program to extract the time of posting of video for the first five videos.\n",
    "\n",
    "Ans."
   ]
  },
  {
   "cell_type": "code",
   "execution_count": null,
   "id": "b28ef300-5b51-4cf4-984d-529a287c75b1",
   "metadata": {},
   "outputs": [],
   "source": [
    "import requests\n",
    "from bs4 import BeautifulSoup\n",
    "\n",
    "# specify the URL of the YouTube channel\n",
    "url = \"https://www.youtube.com/@PW-Foundation/videos\"\n",
    "\n",
    "# send a GET request to the URL and get the HTML content\n",
    "response = requests.get(url)\n",
    "html_content = response.content\n",
    "\n",
    "# parse the HTML content using BeautifulSoup\n",
    "soup = BeautifulSoup(html_content, \"html.parser\")\n",
    "\n",
    "# extract the time of posting of the first five videos\n",
    "video_posting_time = []\n",
    "for video in soup.find_all(\"a\", class_=\"yt-simple-endpoint style-scope ytd-grid-video-renderer\"):\n",
    "    posting_time = video.find(\"span\", class_=\"style-scope ytd-grid-video-renderer\")\n",
    "    if posting_time:\n",
    "        video_posting = posting_time.text.strip()\n",
    "    else:\n",
    "        video_posting = \"N/A\"\n",
    "    video_posting_time.append(video_posting)\n",
    "    if len(video_posting_time) >= 5:\n",
    "        break\n",
    "\n",
    "# print the extracted video posting time\n",
    "print(video_posting_time)\n"
   ]
  },
  {
   "cell_type": "code",
   "execution_count": null,
   "id": "f05f4102-7851-409a-9f90-3f71c6ce7bf9",
   "metadata": {},
   "outputs": [],
   "source": []
  }
 ],
 "metadata": {
  "kernelspec": {
   "display_name": "Python 3 (ipykernel)",
   "language": "python",
   "name": "python3"
  },
  "language_info": {
   "codemirror_mode": {
    "name": "ipython",
    "version": 3
   },
   "file_extension": ".py",
   "mimetype": "text/x-python",
   "name": "python",
   "nbconvert_exporter": "python",
   "pygments_lexer": "ipython3",
   "version": "3.10.8"
  }
 },
 "nbformat": 4,
 "nbformat_minor": 5
}
