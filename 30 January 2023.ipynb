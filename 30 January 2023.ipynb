{
 "cells": [
  {
   "cell_type": "code",
   "execution_count": 9,
   "id": "1e85e7f6-733b-4e7d-b004-badbf93becf2",
   "metadata": {},
   "outputs": [
    {
     "name": "stdin",
     "output_type": "stream",
     "text": [
      "Enter Percentage: 96\n"
     ]
    },
    {
     "name": "stdout",
     "output_type": "stream",
     "text": [
      "The Grade is A\n"
     ]
    }
   ],
   "source": [
    "# Question 1\n",
    "# Write a program to accept percentage from the user and display the grade:\n",
    "\n",
    "Marks=int(input(\"Enter Percentage:\"))\n",
    "if Marks>90:\n",
    "    print(\"The Grade is A\")\n",
    "elif Marks>80 and Marks<=90:\n",
    "    print(\"The Grade is B\")\n",
    "elif Marks>=60 and Marks<=80:\n",
    "    print(\"The Grade is C\")\n",
    "else: \n",
    "    Marks>60\n",
    "    print(\"The Grade is D\")"
   ]
  },
  {
   "cell_type": "code",
   "execution_count": 10,
   "id": "8c5fb061-8e78-44e7-b606-643b29c707f9",
   "metadata": {},
   "outputs": [
    {
     "name": "stdin",
     "output_type": "stream",
     "text": [
      "Enter Cost Price(in Rs) 25000\n"
     ]
    },
    {
     "name": "stdout",
     "output_type": "stream",
     "text": [
      "Road Tax to be Pay: 23750.0\n"
     ]
    }
   ],
   "source": [
    "# Question 2\n",
    "# Write a program to accept the cost price of a bike and display the road tax to be paid:\n",
    "\n",
    "Cost=int(input(\"Enter Cost Price(in Rs)\"))\n",
    "if Cost>100000:\n",
    "    print(\"Road Tax to be Pay: {}\".format(Cost*0.85))\n",
    "elif Cost>50000 and Cost<=100000:\n",
    "    print(\"Road Tax to be Pay: {}\".format(Cost*0.9))\n",
    "else:\n",
    "    Cost<=50000\n",
    "    print(\"Road Tax to be Pay: {}\".format(Cost*0.95))"
   ]
  },
  {
   "cell_type": "code",
   "execution_count": 11,
   "id": "3fcf4aaf-6572-4c86-a2d8-6df34a1549ca",
   "metadata": {},
   "outputs": [
    {
     "name": "stdin",
     "output_type": "stream",
     "text": [
      "Enter the City Name: Jaipur\n"
     ]
    },
    {
     "name": "stdout",
     "output_type": "stream",
     "text": [
      "Jal Mahal\n"
     ]
    }
   ],
   "source": [
    "# Question 3\n",
    "# Accept any city from the user and display monuments of that city.\n",
    "\n",
    "City=input(\"Enter the City Name:\")\n",
    "if City==\"Delhi\":\n",
    "    print(\"Red Fort\")\n",
    "elif City==\"Agra\":\n",
    "    print(\"Taj Mahal\")\n",
    "else:\n",
    "    City==\"Jaipur\"\n",
    "    print(\"Jal Mahal\")"
   ]
  },
  {
   "cell_type": "code",
   "execution_count": 14,
   "id": "19bb23b3-bf4a-4c2d-8335-e562f68f9111",
   "metadata": {},
   "outputs": [
    {
     "name": "stdin",
     "output_type": "stream",
     "text": [
      "Enter Number: 6\n"
     ]
    },
    {
     "name": "stdout",
     "output_type": "stream",
     "text": [
      "0\n",
      "3\n"
     ]
    }
   ],
   "source": [
    "# Question 4\n",
    "# Check how many times a given number can be divided by 3 before it is less than or equal to 10.\n",
    "\n",
    "n=int(input(\"Enter Number:\"))\n",
    "for i in range(0,n,3):\n",
    "    if i<=10:\n",
    "        print(i)"
   ]
  },
  {
   "cell_type": "markdown",
   "id": "a0b3a3f4-26e3-45f5-8ebf-4a48f5d36b4a",
   "metadata": {},
   "source": [
    "Question 5\n",
    "Why and When to Use while Loop in Python give a detailed description with example\n",
    "\n",
    "Ans.  In programming, loops are used to repeat a block of code. For example, if we want to show a message 100 times, then we can use a loop.\n",
    "Python while loop is used to run a block code until a certain condition is met."
   ]
  },
  {
   "cell_type": "markdown",
   "id": "37d23f6e-00d4-43bb-8be5-07dfceefe3b4",
   "metadata": {},
   "source": [
    "# The syntax of while loop is:\n",
    "\n",
    "while condition:\n",
    "    # body of while loop"
   ]
  },
  {
   "cell_type": "markdown",
   "id": "8edf2de8-3a5c-496f-bda5-bbc8395dbb52",
   "metadata": {},
   "source": [
    "Here,\n",
    "A while loop evaluates the condition\n",
    "If the condition evaluates to True, the code inside the while loop is executed.\n",
    "condition is evaluated again.\n",
    "This process continues until the condition is False.\n",
    "When condition evaluates to False, the loop stops."
   ]
  },
  {
   "cell_type": "code",
   "execution_count": 4,
   "id": "02f1f226-08f9-4c22-9905-34bc31d83141",
   "metadata": {},
   "outputs": [
    {
     "name": "stdout",
     "output_type": "stream",
     "text": [
      "1\n",
      "2\n",
      "3\n",
      "4\n",
      "5\n"
     ]
    }
   ],
   "source": [
    "#Example:\n",
    "#Program to display numbers from 1 to 5\n",
    "\n",
    "i = 1\n",
    "n = 5\n",
    "while i <= n:\n",
    "    print(i)\n",
    "    i = i + 1"
   ]
  },
  {
   "cell_type": "code",
   "execution_count": 5,
   "id": "09ce77d3-6802-4298-9a81-354938e3b1d7",
   "metadata": {},
   "outputs": [
    {
     "name": "stdout",
     "output_type": "stream",
     "text": [
      "* \n",
      "* * \n",
      "* * * \n",
      "* * * * \n",
      "* * * * * \n",
      "* * * * * * \n",
      "* * * * * * * \n"
     ]
    }
   ],
   "source": [
    "# Question 6\n",
    "# Use nested while loop to print 3 different pattern.\n",
    "\n",
    "# (i)\n",
    "\n",
    "n=7\n",
    "for i in range(0,n):\n",
    "    for j in range(0,i+1):\n",
    "        print(\"* \",end=\"\")\n",
    "    print(\"\\r\")"
   ]
  },
  {
   "cell_type": "code",
   "execution_count": 6,
   "id": "109fb8e8-166c-4238-9719-a127182def20",
   "metadata": {},
   "outputs": [
    {
     "name": "stdin",
     "output_type": "stream",
     "text": [
      "Enter the number of rows:  8\n"
     ]
    },
    {
     "name": "stdout",
     "output_type": "stream",
     "text": [
      "       *\n",
      "      ***\n",
      "     *****\n",
      "    *******\n",
      "   *********\n",
      "  ***********\n",
      " *************\n",
      "***************\n"
     ]
    }
   ],
   "source": [
    "# (ii)\n",
    "\n",
    "num_rows = int(input(\"Enter the number of rows: \"))\n",
    "row = 0\n",
    "while(row < num_rows):\n",
    "    row += 1 \n",
    "    s = num_rows - row\n",
    "\n",
    "    sc = 0\n",
    "    while(sc < s):\n",
    "        print(\" \", end='')\n",
    "        sc += 1\n",
    "\n",
    "    stars = 2*row-1\n",
    "    while(stars > 0):\n",
    "        print(\"*\", end='')\n",
    "        stars -= 1\n",
    "\n",
    "    print()"
   ]
  },
  {
   "cell_type": "code",
   "execution_count": 7,
   "id": "fe6ef518-f72f-4bdd-a3b8-a32289a430c3",
   "metadata": {},
   "outputs": [
    {
     "name": "stdin",
     "output_type": "stream",
     "text": [
      "Enter the number of rows:  10\n"
     ]
    },
    {
     "name": "stdout",
     "output_type": "stream",
     "text": [
      "         %\n",
      "        %%%\n",
      "       %%%%%\n",
      "      %%%%%%%\n",
      "     %%%%%%%%%\n",
      "    %%%%%%%%%%%\n",
      "   %%%%%%%%%%%%%\n",
      "  %%%%%%%%%%%%%%%\n",
      " %%%%%%%%%%%%%%%%%\n",
      "%%%%%%%%%%%%%%%%%%%\n"
     ]
    }
   ],
   "source": [
    "# (iii)\n",
    "\n",
    "num_rows = int(input(\"Enter the number of rows: \"))\n",
    "row = 0\n",
    "while(row < num_rows):\n",
    "    row += 1 \n",
    "    s = num_rows - row\n",
    "\n",
    "    sc = 0\n",
    "    while(sc < s):\n",
    "        print(\" \", end='')\n",
    "        sc += 1\n",
    "\n",
    "    percentage = 2*row-1\n",
    "    while(percentage > 0):\n",
    "        print(\"%\", end='')\n",
    "        percentage -= 1\n",
    "\n",
    "    print()"
   ]
  },
  {
   "cell_type": "code",
   "execution_count": 8,
   "id": "9e309898-eafc-49a0-acc4-233d3e410cbd",
   "metadata": {},
   "outputs": [
    {
     "name": "stdout",
     "output_type": "stream",
     "text": [
      "10\n",
      "9\n",
      "8\n",
      "7\n",
      "6\n",
      "5\n",
      "4\n",
      "3\n",
      "2\n",
      "1\n"
     ]
    }
   ],
   "source": [
    "# Question 7\n",
    "# Reverse a while loop to display numbers from 10 to 1.\n",
    "\n",
    "i = 10\n",
    "while i > 0:\n",
    "    print(i)\n",
    "    i = i - 1"
   ]
  }
 ],
 "metadata": {
  "kernelspec": {
   "display_name": "Python 3 (ipykernel)",
   "language": "python",
   "name": "python3"
  },
  "language_info": {
   "codemirror_mode": {
    "name": "ipython",
    "version": 3
   },
   "file_extension": ".py",
   "mimetype": "text/x-python",
   "name": "python",
   "nbconvert_exporter": "python",
   "pygments_lexer": "ipython3",
   "version": "3.10.8"
  }
 },
 "nbformat": 4,
 "nbformat_minor": 5
}
