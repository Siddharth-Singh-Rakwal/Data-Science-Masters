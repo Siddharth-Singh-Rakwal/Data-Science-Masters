{
 "cells": [
  {
   "cell_type": "markdown",
   "id": "fbfa49a7-9c4e-41a7-90fd-46bc0527649d",
   "metadata": {},
   "source": [
    "## Assignment | 2nd Feb 2023"
   ]
  },
  {
   "cell_type": "markdown",
   "id": "77fd2100-2dc3-4776-87ac-1d34f41dfb2e",
   "metadata": {},
   "source": [
    "Q1. Which keyword is used to create a function? Create a function to return a list of odd numbers in the range of 1 to 25.\n",
    "\n",
    "Ans. The def keyword is used to create, (or define) a function."
   ]
  },
  {
   "cell_type": "code",
   "execution_count": 30,
   "id": "6c044eca-e672-464d-b05d-8f115a6bbd64",
   "metadata": {},
   "outputs": [
    {
     "name": "stdout",
     "output_type": "stream",
     "text": [
      "[1, 3, 5, 7, 9, 11, 13, 15, 17, 19, 21, 23, 25]\n"
     ]
    }
   ],
   "source": [
    "def odd_numbers(n):\n",
    "  return [x for x in range(n + 1) if x % 2 == 1]\n",
    "\n",
    "print(odd_numbers(25))"
   ]
  },
  {
   "cell_type": "code",
   "execution_count": null,
   "id": "1e8504aa-74cd-4936-bac4-7e61e7615ac4",
   "metadata": {},
   "outputs": [],
   "source": []
  },
  {
   "cell_type": "markdown",
   "id": "afae271e-335b-4682-b278-57bde2b15632",
   "metadata": {},
   "source": [
    "Q2. Why *args and **kwargs is used in some functions? Create a function each for *args and **kwargs to demonstrate their use.\n",
    "\n",
    "Ans. We use *args and **kwargs as an argument when we are unsure about the number of arguments to pass in the functions."
   ]
  },
  {
   "cell_type": "code",
   "execution_count": 31,
   "id": "fe22376e-57dc-4c61-a0f7-ac482a8a2ec7",
   "metadata": {},
   "outputs": [
    {
     "name": "stdout",
     "output_type": "stream",
     "text": [
      "(2, 3) <class 'tuple'>\n"
     ]
    }
   ],
   "source": [
    "# *args\n",
    "\n",
    "def add(*args):\n",
    "    print(args, type(args))\n",
    "add(2, 3)"
   ]
  },
  {
   "cell_type": "code",
   "execution_count": 33,
   "id": "9c25d0ac-153e-458e-971e-65bbd2fda078",
   "metadata": {},
   "outputs": [
    {
     "name": "stdout",
     "output_type": "stream",
     "text": [
      "5\n",
      "10\n",
      "17\n",
      "26\n"
     ]
    }
   ],
   "source": [
    "def add(*numbers):\n",
    "    total = 0\n",
    "    for num in numbers:\n",
    "        total += num\n",
    "    return total\n",
    "\n",
    "print(add(2, 3))\n",
    "print(add(2, 3, 5))\n",
    "print(add(2, 3, 5, 7))\n",
    "print(add(2, 3, 5, 7, 9))\n",
    "\n",
    "# Note that the name of the argument need not necessarily be args – it can be anything. In this case it's numbers. But it's generally a standard way to use *args as the name."
   ]
  },
  {
   "cell_type": "code",
   "execution_count": 32,
   "id": "eadee602-8842-4378-9f7a-8aaf7d8917ed",
   "metadata": {},
   "outputs": [
    {
     "name": "stdout",
     "output_type": "stream",
     "text": [
      "{'banana': 5, 'mango': 7, 'apple': 8} <class 'dict'>\n"
     ]
    }
   ],
   "source": [
    "# **kwargs\n",
    "\n",
    "def total_fruits(**kwargs):\n",
    "    print(kwargs, type(kwargs))\n",
    "total_fruits(banana=5, mango=7, apple=8)"
   ]
  },
  {
   "cell_type": "code",
   "execution_count": 35,
   "id": "f15a60e8-8d56-4e7b-955c-cb995fbc3c77",
   "metadata": {},
   "outputs": [
    {
     "name": "stdout",
     "output_type": "stream",
     "text": [
      "20\n",
      "30\n",
      "12\n"
     ]
    }
   ],
   "source": [
    "def total_fruits(**fruits):\n",
    "    total = 0\n",
    "    for amount in fruits.values():\n",
    "        total += amount\n",
    "    return total\n",
    "\n",
    "\n",
    "print(total_fruits(banana=5, mango=7, apple=8))\n",
    "print(total_fruits(banana=5, mango=7, apple=8, oranges=10))\n",
    "print(total_fruits(banana=5, mango=7))\n",
    "\n",
    "# Note that the name of the argument need not necessarily be kwargs – again, it can be anything. In this case, it's fruits. But it's generally a standard way to use **kwargs as the name."
   ]
  },
  {
   "cell_type": "code",
   "execution_count": null,
   "id": "f9e3e64d-9f44-478b-9f2c-ee222de82156",
   "metadata": {},
   "outputs": [],
   "source": []
  },
  {
   "cell_type": "markdown",
   "id": "ae984245-286e-41d4-a2e1-809716fac419",
   "metadata": {},
   "source": [
    "Q3. What is an iterator in python? Name the method used to initialise the iterator object and the method used for iteration. Use these methods to print the first five elements of the given list [2, 4, 6, 8, 10, 12, 14, 16, 18, 20].\n",
    "\n",
    "Ans. An iterator is an object that contains a countable number of values. Technically, in Python, an iterator is an object which implements the iterator protocol, which consist of the methods __iter__() and __next__() ."
   ]
  },
  {
   "cell_type": "code",
   "execution_count": 45,
   "id": "ef458aae-0577-43bb-a05a-9639bc93a44b",
   "metadata": {},
   "outputs": [
    {
     "name": "stdout",
     "output_type": "stream",
     "text": [
      "2\n",
      "4\n",
      "6\n",
      "8\n",
      "10\n"
     ]
    }
   ],
   "source": [
    "# iter() and next()\n",
    "\n",
    "list = [2, 4, 6, 8, 10, 12, 14, 16, 18, 20]\n",
    "iterator = iter(list)\n",
    "\n",
    "print(next(iterator))\n",
    "print(next(iterator))\n",
    "print(next(iterator))\n",
    "print(next(iterator))\n",
    "print(next(iterator))"
   ]
  },
  {
   "cell_type": "code",
   "execution_count": null,
   "id": "8132a3ff-2470-48b5-a417-4524580bb389",
   "metadata": {},
   "outputs": [],
   "source": []
  },
  {
   "cell_type": "markdown",
   "id": "6018ce00-08ef-48b5-9776-807e1e7d21db",
   "metadata": {},
   "source": [
    "Q4. What is a generator function in python? Why yield keyword is used? Give an example of a generator function.\n",
    "\n",
    "Ans. In Python, a generator is a function that returns an iterator that produces a sequence of values when iterated over. Generators are useful when we want to produce a large sequence of values, but we don't want to store all of them in memory at once.\n",
    "\n",
    "yield keyword is used to create a generator function.\n",
    "\n"
   ]
  },
  {
   "cell_type": "code",
   "execution_count": 48,
   "id": "76bebd64-904a-4a1d-a362-882ab3d8fc93",
   "metadata": {},
   "outputs": [
    {
     "name": "stdout",
     "output_type": "stream",
     "text": [
      "1\n",
      "2\n",
      "3\n"
     ]
    }
   ],
   "source": [
    "def simpleGeneratorFun():\n",
    "    yield 1           \n",
    "    yield 2           \n",
    "    yield 3           \n",
    "\n",
    "for value in simpleGeneratorFun():\n",
    "    print(value)"
   ]
  },
  {
   "cell_type": "code",
   "execution_count": null,
   "id": "26a20b67-8fdd-407b-86f4-c02093b230ee",
   "metadata": {},
   "outputs": [],
   "source": []
  },
  {
   "cell_type": "markdown",
   "id": "28114cb5-a636-4222-b5b1-280e06ea54c4",
   "metadata": {},
   "source": [
    "Q5. Create a generator function for prime numbers less than 1000. Use the next() method to print the first 20 prime numbers.\n",
    "\n",
    "Ans. "
   ]
  },
  {
   "cell_type": "code",
   "execution_count": 5,
   "id": "2e6b9d21-09d7-4b2c-a3bd-73a75c07a4e0",
   "metadata": {},
   "outputs": [
    {
     "name": "stdout",
     "output_type": "stream",
     "text": [
      "2\n",
      "3\n",
      "5\n",
      "7\n",
      "11\n",
      "13\n",
      "17\n",
      "19\n",
      "23\n",
      "29\n",
      "31\n",
      "37\n",
      "41\n",
      "43\n",
      "47\n",
      "53\n",
      "59\n",
      "61\n",
      "67\n",
      "71\n"
     ]
    }
   ],
   "source": [
    "def prime_numbers():\n",
    "    yield 2\n",
    "    primes = [2]\n",
    "    number = 3\n",
    "    while number < 1000:\n",
    "        is_prime = True\n",
    "        for prime in primes:\n",
    "            if prime > number ** 0.5:\n",
    "                break\n",
    "            if number % prime == 0:\n",
    "                is_prime = False\n",
    "                break\n",
    "        if is_prime:\n",
    "            primes.append(number)\n",
    "            yield number\n",
    "        number += 2\n",
    "\n",
    "primes = prime_numbers()\n",
    "for i in range(20):\n",
    "    print(next(primes))"
   ]
  },
  {
   "cell_type": "code",
   "execution_count": null,
   "id": "df4eff7c-f22d-4f6f-a036-e3c75a09b322",
   "metadata": {},
   "outputs": [],
   "source": []
  }
 ],
 "metadata": {
  "kernelspec": {
   "display_name": "Python 3 (ipykernel)",
   "language": "python",
   "name": "python3"
  },
  "language_info": {
   "codemirror_mode": {
    "name": "ipython",
    "version": 3
   },
   "file_extension": ".py",
   "mimetype": "text/x-python",
   "name": "python",
   "nbconvert_exporter": "python",
   "pygments_lexer": "ipython3",
   "version": "3.10.8"
  }
 },
 "nbformat": 4,
 "nbformat_minor": 5
}
