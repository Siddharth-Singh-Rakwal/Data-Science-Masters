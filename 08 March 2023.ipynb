{
 "cells": [
  {
   "cell_type": "markdown",
   "id": "2978be3a-099e-4152-b1b5-fcdfba340cb8",
   "metadata": {},
   "source": [
    "# Assignment | 8th March 2023"
   ]
  },
  {
   "cell_type": "code",
   "execution_count": null,
   "id": "6ffc6bfc-361e-448a-a243-67f3a5d22b79",
   "metadata": {},
   "outputs": [],
   "source": []
  },
  {
   "cell_type": "markdown",
   "id": "dd5e26d0-8edd-479f-842a-385b7edeb27c",
   "metadata": {},
   "source": [
    "Q1. What is the Probability density function?\n",
    "\n",
    "Ans. In probability theory, a probability density function (PDF) is a function that describes the probability distribution of a continuous random variable. Specifically, the PDF is a function that maps the possible outcomes of a random variable to the probability that each outcome will occur.\n",
    "\n",
    "The PDF is used to compute the probability of a continuous random variable falling within a certain range of values. The probability of a single point is zero since the random variable can take an infinite number of possible values. Instead, the probability is measured over intervals of values. The area under the curve of the PDF over a given interval represents the probability that the random variable will fall within that interval.\n",
    "\n",
    "Mathematically, the PDF of a continuous random variable X is denoted by f(x) and satisfies the following properties:\n",
    "- The PDF is non-negative: f(x) >= 0 for all x\n",
    "- The total area under the curve of the PDF is equal to 1: ∫f(x)dx = 1\n",
    "- The probability of X falling within a certain interval [a, b] is given by the integral of the PDF over that interval: P(a ≤ X ≤ b) = ∫a^bf(x)dx.\n",
    "\n",
    "The PDF is an important concept in probability theory and is used in many applications, including statistical analysis, machine learning, and financial modeling."
   ]
  },
  {
   "cell_type": "code",
   "execution_count": null,
   "id": "927aeb97-f54f-4619-970f-b4bc34e69a75",
   "metadata": {},
   "outputs": [],
   "source": []
  },
  {
   "cell_type": "markdown",
   "id": "84880400-74d7-4431-8e75-e4720b07130a",
   "metadata": {},
   "source": [
    "Q2. What are the types of Probability distribution?\n",
    "\n",
    "Ans. There are several types of probability distributions in probability theory. The main ones are:\n",
    "\n",
    "1. Continuous probability distributions:\n",
    "These distributions are defined over a continuous range of values and are described by a probability density function (PDF). Examples include the Normal distribution, the Exponential distribution, and the Uniform distribution.\n",
    "2. Discrete probability distributions:\n",
    "These distributions are defined over a countable set of values and are described by a probability mass function (PMF). Examples include the Bernoulli distribution, the Binomial distribution, and the Poisson distribution.\n",
    "3. Multinomial distribution:\n",
    "This distribution is a generalization of the binomial distribution and describes the probability of observing a certain combination of outcomes in a series of independent trials with more than two possible outcomes.\n",
    "4. Poisson distribution:\n",
    "This distribution models the probability of a certain number of events occurring in a fixed interval of time or space, given the average rate at which events occur.\n",
    "5. Normal distribution:\n",
    "Also known as the Gaussian distribution, it is a continuous probability distribution that is often used to model real-world phenomena such as measurement errors, stock prices, and human heights. The normal distribution is characterized by its mean and standard deviation.\n",
    "6. Exponential distribution:\n",
    "This distribution is often used to model the time between events that occur randomly and independently of each other. For example, the time between earthquakes or the time between arrivals of customers at a store.\n",
    "\n",
    "These are just some of the most commonly used probability distributions. There are many others, each with its own unique characteristics and applications."
   ]
  },
  {
   "cell_type": "code",
   "execution_count": null,
   "id": "927e371a-a2e2-4c2a-9f3f-8a857ccd2654",
   "metadata": {},
   "outputs": [],
   "source": []
  },
  {
   "cell_type": "markdown",
   "id": "e1ad6996-9b30-4b3b-8186-02f6f1a84599",
   "metadata": {},
   "source": [
    "Q3. Write a Python function to calculate the probability density function of a normal distribution with\n",
    "given mean and standard deviation at a given point.\n",
    "\n",
    "Ans. "
   ]
  },
  {
   "cell_type": "code",
   "execution_count": 3,
   "id": "ba9c7baa-5520-42d8-b4ed-34ef686cb3cb",
   "metadata": {},
   "outputs": [],
   "source": [
    "from scipy.stats import norm\n",
    "\n",
    "def normal_pdf(mean, std_dev, x):\n",
    "    return norm.pdf(x, loc=mean, scale=std_dev)\n"
   ]
  },
  {
   "cell_type": "code",
   "execution_count": 4,
   "id": "d2e25e41-5b1e-4d03-b1d2-68ed5d5c70ee",
   "metadata": {},
   "outputs": [
    {
     "data": {
      "text/plain": [
       "0.12951759566589174"
      ]
     },
     "execution_count": 4,
     "metadata": {},
     "output_type": "execute_result"
    }
   ],
   "source": [
    "normal_pdf(0, 1, 1.5)"
   ]
  },
  {
   "cell_type": "code",
   "execution_count": null,
   "id": "426abc43-e04f-4adf-977c-a21170353d40",
   "metadata": {},
   "outputs": [],
   "source": []
  },
  {
   "cell_type": "markdown",
   "id": "9911b3fc-2272-4c4b-8a63-95d70a7f4c57",
   "metadata": {},
   "source": [
    "Q4. What are the properties of Binomial distribution? Give two examples of events where binomial\n",
    "distribution can be applied.\n",
    "\n",
    "Ans. The binomial distribution is a discrete probability distribution that describes the number of successes in a fixed number of independent Bernoulli trials (i.e., trials with two possible outcomes, often labeled as success and failure) with a given probability of success. The properties of the binomial distribution include:\n",
    "\n",
    "1. The distribution is discrete, meaning that it is defined only for integer values of the number of successes.\n",
    "2. The probability of success, p, is constant across all trials.\n",
    "3. The trials are independent of each other.\n",
    "4. The mean of the distribution is np, where n is the number of trials and p is the probability of success.\n",
    "5. The variance of the distribution is np(1-p).\n",
    "\n",
    "Two examples of events where the binomial distribution can be applied are:\n",
    "- Tossing a coin: Suppose we toss a fair coin 10 times and we want to know the probability of getting exactly 5 heads. This can be modeled using the binomial distribution with n=10 and p=0.5 (assuming the coin is fair).\n",
    "- Manufacturing defects: A manufacturer wants to know the probability of producing exactly 3 defective items in a batch of 20. If the probability of producing a defective item is known (say, 0.1), then this can be modeled using the binomial distribution with n=20 and p=0.1.\n",
    "\n",
    "In general, the binomial distribution is applicable to any situation in which there are a fixed number of independent trials with two possible outcomes and a known probability of success for each trial."
   ]
  },
  {
   "cell_type": "code",
   "execution_count": null,
   "id": "e7891626-7526-453e-8457-f672e18730d3",
   "metadata": {},
   "outputs": [],
   "source": []
  },
  {
   "cell_type": "markdown",
   "id": "78fcb992-e155-4d54-9335-dd0f044bd827",
   "metadata": {},
   "source": [
    "Q5. Generate a random sample of size 1000 from a binomial distribution with probability of success 0.4\n",
    "and plot a histogram of the results using matplotlib.\n",
    "\n",
    "Ans."
   ]
  },
  {
   "cell_type": "code",
   "execution_count": 5,
   "id": "5f935e34-325e-47be-884e-53908331dd1c",
   "metadata": {},
   "outputs": [
    {
     "data": {
      "image/png": "[encoded data removed]",
      "text/plain": [
       "<Figure size 640x480 with 1 Axes>"
      ]
     },
     "metadata": {},
     "output_type": "display_data"
    }
   ],
   "source": [
    "import numpy as np\n",
    "import matplotlib.pyplot as plt\n",
    "\n",
    "# Generate a random sample of size 1000 from a binomial distribution\n",
    "n = 1000  # sample size\n",
    "p = 0.4  # probability of success\n",
    "sample = np.random.binomial(n, p, size=n)\n",
    "\n",
    "# Plot a histogram of the sample using matplotlib\n",
    "plt.hist(sample, bins=20, alpha=0.5)\n",
    "plt.xlabel('Number of successes')\n",
    "plt.ylabel('Frequency')\n",
    "plt.title('Binomial distribution with n=1000, p=0.4')\n",
    "plt.show()\n"
   ]
  },
  {
   "cell_type": "code",
   "execution_count": null,
   "id": "6d86dfa2-9f8d-4fc8-8109-e99e8b520993",
   "metadata": {},
   "outputs": [],
   "source": []
  },
  {
   "cell_type": "markdown",
   "id": "18e62443-e9f5-4fc9-9e9a-d52f7dc5091b",
   "metadata": {},
   "source": [
    "Q6. Write a Python function to calculate the cumulative distribution function of a Poisson distribution\n",
    "with given mean at a given point.\n",
    "\n",
    "Ans."
   ]
  },
  {
   "cell_type": "code",
   "execution_count": 6,
   "id": "bf351b59-426a-4d13-b4df-5a9e7fdc21c6",
   "metadata": {},
   "outputs": [
    {
     "data": {
      "text/plain": [
       "0.857123460498547"
      ]
     },
     "execution_count": 6,
     "metadata": {},
     "output_type": "execute_result"
    }
   ],
   "source": [
    "from scipy.stats import poisson\n",
    "\n",
    "def poisson_cdf(mean, x):\n",
    "    return poisson.cdf(x, mu=mean)\n",
    "\n",
    "poisson_cdf(2, 3)"
   ]
  },
  {
   "cell_type": "code",
   "execution_count": null,
   "id": "7e728a7d-f5fb-4f6f-8643-205610bc69c2",
   "metadata": {},
   "outputs": [],
   "source": []
  },
  {
   "cell_type": "markdown",
   "id": "6665e03c-0f8b-46e0-877d-5dc73df871f6",
   "metadata": {},
   "source": [
    "Q7. How Binomial distribution different from Poisson distribution?\n",
    "\n",
    "Ans. Binomial and Poisson distributions are both discrete probability distributions that are used to model events with a fixed number of independent trials. However, there are some key differences between the two distributions:\n",
    "\n",
    "1. Number of trials: The binomial distribution models events with a fixed number of trials, while the Poisson distribution models events with an unknown or variable number of trials.\n",
    "2. Probability of success: In the binomial distribution, the probability of success is constant across all trials, while in the Poisson distribution, the probability of success may vary depending on the number of trials.\n",
    "3. Mean and variance: The mean and variance of the binomial distribution are both functions of the number of trials and the probability of success, while in the Poisson distribution, both the mean and the variance are equal to the rate parameter lambda.\n",
    "4. Assumptions: The binomial distribution assumes that the trials are independent and identically distributed, while the Poisson distribution assumes that the events occur randomly and independently of each other.\n",
    "\n",
    "In general, the binomial distribution is used when the number of trials is fixed and the probability of success is constant, while the Poisson distribution is used when the number of trials is unknown or variable and the events occur randomly and independently of each other."
   ]
  },
  {
   "cell_type": "code",
   "execution_count": null,
   "id": "17bc377d-818f-4e3a-827a-759dac1d87bb",
   "metadata": {},
   "outputs": [],
   "source": []
  },
  {
   "cell_type": "markdown",
   "id": "d151b9e9-7bf3-4db4-8832-358e2ad955f5",
   "metadata": {},
   "source": [
    "Q8. Generate a random sample of size 1000 from a Poisson distribution with mean 5 and calculate the\n",
    "sample mean and variance.\n",
    "\n",
    "Ans."
   ]
  },
  {
   "cell_type": "code",
   "execution_count": 7,
   "id": "384624a3-fac0-4147-be48-9ff162f2ea04",
   "metadata": {},
   "outputs": [
    {
     "name": "stdout",
     "output_type": "stream",
     "text": [
      "Sample mean: 4.92\n",
      "Sample variance: 5.1095999999999995\n"
     ]
    }
   ],
   "source": [
    "import numpy as np\n",
    "\n",
    "# Generate a random sample of size 1000 from a Poisson distribution\n",
    "mean = 5  # mean of the Poisson distribution\n",
    "sample = np.random.poisson(mean, size=1000)\n",
    "\n",
    "# Calculate the sample mean and variance\n",
    "sample_mean = np.mean(sample)\n",
    "sample_var = np.var(sample)\n",
    "\n",
    "print(\"Sample mean:\", sample_mean)\n",
    "print(\"Sample variance:\", sample_var)\n"
   ]
  },
  {
   "cell_type": "code",
   "execution_count": null,
   "id": "e69cc259-3e9b-47f8-9743-7a4b26ac0faa",
   "metadata": {},
   "outputs": [],
   "source": []
  },
  {
   "cell_type": "markdown",
   "id": "d3a09fb7-1ad6-49cb-9512-ed18a70d5660",
   "metadata": {},
   "source": [
    "Q9. How mean and variance are related in Binomial distribution and Poisson distribution?\n",
    "\n",
    "Ans. In the binomial distribution, the mean and variance are related as follows:\n",
    "- Mean = n * p\n",
    "- Variance = n * p * (1 - p)\n",
    "\n",
    "where n is the number of trials and p is the probability of success in each trial.\n",
    "\n",
    "In the Poisson distribution, the mean and variance are related as follows:\n",
    "- Mean = Variance = lambda\n",
    "\n",
    "where lambda is the rate parameter of the Poisson distribution."
   ]
  },
  {
   "cell_type": "code",
   "execution_count": null,
   "id": "dde0f9bb-fe5b-4adc-9cd4-e865a8425fe6",
   "metadata": {},
   "outputs": [],
   "source": []
  },
  {
   "cell_type": "markdown",
   "id": "62b48cf8-ece5-42c9-867d-0857eddac427",
   "metadata": {},
   "source": [
    "Q10. In normal distribution with respect to mean position, where does the least frequent data appear?\n",
    "\n",
    "Ans. In a normal distribution, the data is symmetric around the mean, so the least frequent data appears at the two tails of the distribution, which are farthest away from the mean. Specifically, the least frequent data would appear at the points that are located more than two standard deviations away from the mean, in either direction.\n",
    "\n",
    "According to the empirical rule, which applies to normal distributions, about 95% of the data falls within two standard deviations of the mean, while only about 5% of the data falls outside this range. Therefore, the data points that are located beyond two standard deviations from the mean are considered to be relatively rare, and are often referred to as outliers."
   ]
  },
  {
   "cell_type": "code",
   "execution_count": null,
   "id": "1c9b1a9b-b4b7-4de8-a146-f9047ecb0b96",
   "metadata": {},
   "outputs": [],
   "source": []
  }
 ],
 "metadata": {
  "kernelspec": {
   "display_name": "Python 3 (ipykernel)",
   "language": "python",
   "name": "python3"
  },
  "language_info": {
   "codemirror_mode": {
    "name": "ipython",
    "version": 3
   },
   "file_extension": ".py",
   "mimetype": "text/x-python",
   "name": "python",
   "nbconvert_exporter": "python",
   "pygments_lexer": "ipython3",
   "version": "3.10.8"
  }
 },
 "nbformat": 4,
 "nbformat_minor": 5
}
