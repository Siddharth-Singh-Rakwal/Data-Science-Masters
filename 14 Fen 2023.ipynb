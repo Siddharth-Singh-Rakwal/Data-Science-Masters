{
 "cells": [
  {
   "cell_type": "markdown",
   "id": "6b900956-b937-44ac-ad51-058c1546833b",
   "metadata": {},
   "source": [
    "## Assignment | 14th Feb 2023"
   ]
  },
  {
   "cell_type": "code",
   "execution_count": null,
   "id": "6d307c8e-5fe1-4c0c-8aab-6df91d0b6297",
   "metadata": {},
   "outputs": [],
   "source": []
  },
  {
   "cell_type": "markdown",
   "id": "ec512f3d-48c3-48e4-b65d-ab1f47ec393b",
   "metadata": {},
   "source": [
    "Q1. What is multithreading in python? Why is it used? Name the module used to handle threads in python.\n",
    "\n",
    "Ans. Multithreading is the ability of a program or an operating system to enable more than one user at a time without requiring multiple copies of the program running on the computer. Multithreading can also handle multiple requests from the same user.\n",
    "\n",
    "Threading module is used for creating, controlling and managing threads in python."
   ]
  },
  {
   "cell_type": "code",
   "execution_count": null,
   "id": "b258237a-0afe-4f0e-981a-19ed63dfcb46",
   "metadata": {},
   "outputs": [],
   "source": []
  },
  {
   "cell_type": "code",
   "execution_count": null,
   "id": "d9dfc728-729c-426c-8629-e3d4eb89d0d6",
   "metadata": {},
   "outputs": [],
   "source": []
  },
  {
   "cell_type": "markdown",
   "id": "1ce96a02-cb84-46eb-91df-9efc4be0a522",
   "metadata": {},
   "source": [
    "Q2. Why threading module used? Write the use of the following functions:\n",
    "1. activeCount()\n",
    "2. currentThread()\n",
    "3. enumerate()\n",
    "\n",
    "Ans. Python threading allows you to have different parts of your program run concurrently and can simplify your design."
   ]
  },
  {
   "cell_type": "markdown",
   "id": "d0347045-b99d-4966-82eb-7ba5109f99fe",
   "metadata": {},
   "source": [
    "1. ActiveCount():\n",
    "\n",
    "active_count() is an inbuilt method of the threading module in Python. It is used to return the number of Thread objects that are active at any instant.\n",
    "\n",
    "2. currentThread():\n",
    "\n",
    "current_thread() is an inbuilt method of the threading module in Python. It is used to return the current Thread object, which corresponds to the caller's thread of control.\n",
    "\n",
    "3. enumerate():\n",
    "\n",
    "The enumerate() function takes a collection (e.g. a tuple) and returns it as an enumerate object. The enumerate() function adds a counter as the key of the enumerate object."
   ]
  },
  {
   "cell_type": "code",
   "execution_count": null,
   "id": "76a4e394-3431-4bb6-8985-71558653df77",
   "metadata": {},
   "outputs": [],
   "source": []
  },
  {
   "cell_type": "code",
   "execution_count": null,
   "id": "ea34ec13-1cda-40b7-a294-f217095e7c0a",
   "metadata": {},
   "outputs": [],
   "source": []
  },
  {
   "cell_type": "markdown",
   "id": "9ca5a9c1-6e72-4a1c-a8f1-1adce89005eb",
   "metadata": {},
   "source": [
    "Q3. Explain the following function:\n",
    "1. run()\n",
    "2. start()\n",
    "3. join()\n",
    "4. isAlive()\n",
    "\n",
    "Ans."
   ]
  },
  {
   "cell_type": "markdown",
   "id": "517c8c54-a316-4556-941c-b3772ba53b73",
   "metadata": {},
   "source": [
    "1. run():\n",
    "\n",
    "To run Python scripts with the python command, you need to open a command-line and type in the word python , or python3 if you have both versions, followed by the path to your script, just like this: $ python3 hello.py Hello World! If everything works okay, after you press Enter , you'll see the phrase Hello World!\n",
    "\n",
    "2. start():\n",
    "\n",
    "start() method is an inbuilt method of the Thread class of the threading module in Python. It is used to start a thread's activity. This method calls the run() method internally which then executes the target method. This method must be called at most one time for one thread.\n",
    "\n",
    "3. join():\n",
    "\n",
    "The join() method takes all items in an iterable and joins them into one string. A string must be specified as the separator.\n",
    "\n",
    "4. isAlive():\n",
    "\n",
    "isAlive() method is an inbuilt method of the Thread class of the threading module in Python. It uses a Thread object, and checks whether that thread is alive or not, ie, it is still running or not. This method returns True before the run() starts until just after the run() method is executed."
   ]
  },
  {
   "cell_type": "code",
   "execution_count": null,
   "id": "a5425a8c-0a6b-45e7-83a9-602f984e846a",
   "metadata": {},
   "outputs": [],
   "source": []
  },
  {
   "cell_type": "code",
   "execution_count": null,
   "id": "52215ed0-8931-46bd-aea4-5d61f4c6d647",
   "metadata": {},
   "outputs": [],
   "source": []
  },
  {
   "cell_type": "markdown",
   "id": "16c9cd84-8d64-4cf2-8870-29f3cc4ff0ca",
   "metadata": {},
   "source": [
    "Q4. Write a python program to create two threads. Thread one must print the list of squares and thread\n",
    "two must print the list of cubes.\n",
    "\n",
    "Ans. "
   ]
  },
  {
   "cell_type": "code",
   "execution_count": 2,
   "id": "dafde43c-49bf-4f33-a798-fad91fcbd555",
   "metadata": {},
   "outputs": [],
   "source": [
    "import threading"
   ]
  },
  {
   "cell_type": "code",
   "execution_count": 3,
   "id": "469dd09b-b98a-41a4-8563-59143c728ee4",
   "metadata": {},
   "outputs": [],
   "source": [
    "def square(num):\n",
    "    print(\"The Square is: {}\" .format(num*num))"
   ]
  },
  {
   "cell_type": "code",
   "execution_count": 7,
   "id": "ff37acb8-8159-4d76-aa71-55e023a02066",
   "metadata": {},
   "outputs": [
    {
     "name": "stdout",
     "output_type": "stream",
     "text": [
      "The Square is: 625\n"
     ]
    }
   ],
   "source": [
    "t1 = t1 = threading.Thread(target=square, args=(25,))\n",
    "t1.start()"
   ]
  },
  {
   "cell_type": "code",
   "execution_count": 10,
   "id": "c42add29-8aa5-442f-982f-ed1e7f88e86a",
   "metadata": {},
   "outputs": [],
   "source": [
    "def cube(num):\n",
    "    print(\"The Cube is: {}\" .format(num*num*num))"
   ]
  },
  {
   "cell_type": "code",
   "execution_count": 12,
   "id": "4d54297b-2af3-4350-8ec1-088914b11a3b",
   "metadata": {},
   "outputs": [
    {
     "name": "stdout",
     "output_type": "stream",
     "text": [
      "The Cube is: 15625\n"
     ]
    }
   ],
   "source": [
    "t2 = threading.Thread(target=cube, args=(25,))\n",
    "t2.start()"
   ]
  },
  {
   "cell_type": "code",
   "execution_count": null,
   "id": "eef69c23-7df1-45c2-9e7d-2299fbbece67",
   "metadata": {},
   "outputs": [],
   "source": []
  },
  {
   "cell_type": "code",
   "execution_count": null,
   "id": "f606f5ba-6749-4379-9789-8e0e9baa21bf",
   "metadata": {},
   "outputs": [],
   "source": []
  },
  {
   "cell_type": "markdown",
   "id": "dc90873f-c546-4ac7-8c2b-52b1b5c913c6",
   "metadata": {},
   "source": [
    "Q5. State advantages and disadvantages of Multithreading.\n",
    "\n",
    "Ans. "
   ]
  },
  {
   "cell_type": "markdown",
   "id": "ff240831-d466-48a4-92a6-a6dc85f9d31d",
   "metadata": {},
   "source": [
    "### Advantages:\n",
    "\n",
    "1. Enhanced performance by decreased development time.\n",
    "2. Simplified and streamlined program coding.\n",
    "3. Improvised GUI responsiveness.\n",
    "4. Simultaneous and parallelized occurrence of tasks.\n",
    "5. Better use of cache storage by utilization of resources.\n",
    "6. Decreased cost of maintenance.\n",
    "7. Better use of CPU resource.\n",
    "\n",
    "### Disadvantages:\n",
    "\n",
    "1. Complex debugging and testing processes.\n",
    "2. Overhead switching of context.\n",
    "3. Increased potential for deadlock occurrence.\n",
    "4. Increased difficulty level in writing a program.\n",
    "5. Unpredictable results."
   ]
  },
  {
   "cell_type": "code",
   "execution_count": null,
   "id": "206bd7e8-22a1-405f-ba14-9fdb89eb3d07",
   "metadata": {},
   "outputs": [],
   "source": []
  },
  {
   "cell_type": "code",
   "execution_count": null,
   "id": "c6259d37-3fb0-4899-baa3-17c14be996af",
   "metadata": {},
   "outputs": [],
   "source": []
  },
  {
   "cell_type": "markdown",
   "id": "d76bb660-6110-412d-90d8-eeba98251bb3",
   "metadata": {},
   "source": [
    "Q6. Explain deadlocks and race conditions.\n",
    "\n",
    "Ans. \n",
    "\n",
    "1. DeadLocks:\n",
    "\n",
    "When two processes are waiting for each other directly or indirectly, it is called deadlock.\n",
    "\n",
    "2. Race Conditions:\n",
    "\n",
    "When two processes are competing with each other causing data corruption."
   ]
  },
  {
   "cell_type": "code",
   "execution_count": null,
   "id": "cef4d129-a2e4-4d4e-9428-330ba8dfe886",
   "metadata": {},
   "outputs": [],
   "source": []
  }
 ],
 "metadata": {
  "kernelspec": {
   "display_name": "Python 3 (ipykernel)",
   "language": "python",
   "name": "python3"
  },
  "language_info": {
   "codemirror_mode": {
    "name": "ipython",
    "version": 3
   },
   "file_extension": ".py",
   "mimetype": "text/x-python",
   "name": "python",
   "nbconvert_exporter": "python",
   "pygments_lexer": "ipython3",
   "version": "3.10.8"
  }
 },
 "nbformat": 4,
 "nbformat_minor": 5
}
