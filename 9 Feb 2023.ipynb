{
 "cells": [
  {
   "cell_type": "markdown",
   "id": "10c72b8f-6de3-49e8-94a1-99eb6506d287",
   "metadata": {},
   "source": [
    "## Assignment | 9th Feb 2023"
   ]
  },
  {
   "cell_type": "code",
   "execution_count": null,
   "id": "cc100436-d7ee-4001-8e66-b794ff49eb36",
   "metadata": {},
   "outputs": [],
   "source": []
  },
  {
   "cell_type": "markdown",
   "id": "2987b2ba-e278-43f5-9cc0-f3f2fbf6fc3f",
   "metadata": {},
   "source": [
    "Q1, Create a vehicle class with an init method having instance variables as name_of_vehicle, max_speed\n",
    "and average_of_vehicle.\n",
    "\n",
    "Ans."
   ]
  },
  {
   "cell_type": "code",
   "execution_count": 1,
   "id": "e9daea1c-8903-47bc-af30-82e218c4ebee",
   "metadata": {},
   "outputs": [],
   "source": [
    "class vehicle:\n",
    "    def __init__(self, name_of_vehicle, max_speed, average_of_vehicle):\n",
    "        self.name_of_vehicle = name_of_vehicle\n",
    "        self.max_speed = max_speed\n",
    "        self.average_of_vehicle = average_of_vehicle"
   ]
  },
  {
   "cell_type": "code",
   "execution_count": 2,
   "id": "2ae93d19-fb4e-490f-98db-e4dc6cf2389b",
   "metadata": {},
   "outputs": [],
   "source": [
    "obj_vehicle = vehicle(\"Thar\", 155, 15.2)"
   ]
  },
  {
   "cell_type": "code",
   "execution_count": 7,
   "id": "adc0209b-6519-4c5f-be4e-e0d962439a1f",
   "metadata": {},
   "outputs": [
    {
     "data": {
      "text/plain": [
       "'Thar'"
      ]
     },
     "execution_count": 7,
     "metadata": {},
     "output_type": "execute_result"
    }
   ],
   "source": [
    "obj_vehicle.name_of_vehicle"
   ]
  },
  {
   "cell_type": "code",
   "execution_count": 8,
   "id": "4105a681-e67f-4bd7-849b-9c0ec6984a17",
   "metadata": {},
   "outputs": [
    {
     "data": {
      "text/plain": [
       "155"
      ]
     },
     "execution_count": 8,
     "metadata": {},
     "output_type": "execute_result"
    }
   ],
   "source": [
    "obj_vehicle.max_speed"
   ]
  },
  {
   "cell_type": "code",
   "execution_count": 9,
   "id": "9bb729a3-bdea-4453-aca6-3a1a2023e2bb",
   "metadata": {},
   "outputs": [
    {
     "data": {
      "text/plain": [
       "15.2"
      ]
     },
     "execution_count": 9,
     "metadata": {},
     "output_type": "execute_result"
    }
   ],
   "source": [
    "obj_vehicle.average_of_vehicle"
   ]
  },
  {
   "cell_type": "code",
   "execution_count": 12,
   "id": "e9c0ce9a-abb7-4a52-af0a-71d2666a6219",
   "metadata": {},
   "outputs": [],
   "source": [
    "obj_vehicle.name_of_vehicle = \"Fortuner\"  # command to change variable...."
   ]
  },
  {
   "cell_type": "code",
   "execution_count": 13,
   "id": "553718bf-3c39-4d37-b19c-81d26407b5a6",
   "metadata": {},
   "outputs": [
    {
     "data": {
      "text/plain": [
       "'Fortuner'"
      ]
     },
     "execution_count": 13,
     "metadata": {},
     "output_type": "execute_result"
    }
   ],
   "source": [
    "obj_vehicle.name_of_vehicle"
   ]
  },
  {
   "cell_type": "code",
   "execution_count": null,
   "id": "90c3f9d1-4d8e-41ea-9290-6a1ba7953dc8",
   "metadata": {},
   "outputs": [],
   "source": []
  },
  {
   "cell_type": "code",
   "execution_count": null,
   "id": "d0481bf9-6486-4a5b-bc23-e2d11e884e56",
   "metadata": {},
   "outputs": [],
   "source": []
  },
  {
   "cell_type": "markdown",
   "id": "5483f2c7-d671-4157-aa31-0f26e720bb29",
   "metadata": {},
   "source": [
    "Q2. Create a child class car from the vehicle class created in Que 1, which will inherit the vehicle class.\n",
    "Create a method named seating_capacity which takes capacity as an argument and returns the name of\n",
    "the vehicle and its seating capacity.\n",
    "\n",
    "Ans."
   ]
  },
  {
   "cell_type": "code",
   "execution_count": 59,
   "id": "7d3863ad-22e8-4c68-889f-beb3f5f4c17a",
   "metadata": {},
   "outputs": [],
   "source": [
    "class car:\n",
    "    def __init__(self, seating_capacity, name_of_vehicle):\n",
    "        self.seating_capacity = seating_capacity\n",
    "        self.name_of_vehicle = name_of_vehicle"
   ]
  },
  {
   "cell_type": "code",
   "execution_count": 60,
   "id": "8f695c1c-85fb-43eb-bfc4-6c41b2925843",
   "metadata": {},
   "outputs": [],
   "source": [
    "obj_car = car(4, \"Thar\")"
   ]
  },
  {
   "cell_type": "code",
   "execution_count": 55,
   "id": "ed6c7b2c-9d10-4a1b-9f1a-bbe49c0dbee9",
   "metadata": {},
   "outputs": [],
   "source": [
    "class vehicle:\n",
    "    def __init__(self, name_of_vehicle, max_speed, average_of_vehicle):\n",
    "        self.name_of_vehicle = name_of_vehicle\n",
    "        self.max_speed = max_speed\n",
    "        self.average_of_vehicle = average_of_vehicle"
   ]
  },
  {
   "cell_type": "code",
   "execution_count": 56,
   "id": "92272d99-f55b-430f-a33f-1482a4079f03",
   "metadata": {},
   "outputs": [],
   "source": [
    "obj_vehicle = vehicle(\"Thar\", 155, 15.2)"
   ]
  },
  {
   "cell_type": "code",
   "execution_count": 62,
   "id": "41d0849e-f164-497e-a2a4-cca20b5d33a2",
   "metadata": {},
   "outputs": [],
   "source": [
    "obj_vehicle = obj_car"
   ]
  },
  {
   "cell_type": "code",
   "execution_count": 68,
   "id": "63099434-ead8-41c5-8e37-e88c710612f8",
   "metadata": {},
   "outputs": [
    {
     "data": {
      "text/plain": [
       "'Thar'"
      ]
     },
     "execution_count": 68,
     "metadata": {},
     "output_type": "execute_result"
    }
   ],
   "source": [
    "obj_vehicle.name_of_vehicle"
   ]
  },
  {
   "cell_type": "code",
   "execution_count": 69,
   "id": "f19f29e4-f2e1-4b5d-9e72-5b2c2139668f",
   "metadata": {},
   "outputs": [
    {
     "data": {
      "text/plain": [
       "4"
      ]
     },
     "execution_count": 69,
     "metadata": {},
     "output_type": "execute_result"
    }
   ],
   "source": [
    "obj_vehicle.seating_capacity"
   ]
  },
  {
   "cell_type": "code",
   "execution_count": null,
   "id": "9739fa75-85c1-45c1-9fbd-7093d03e945c",
   "metadata": {},
   "outputs": [],
   "source": []
  },
  {
   "cell_type": "code",
   "execution_count": null,
   "id": "d7e1ad98-d350-43b9-b368-4e977af3105b",
   "metadata": {},
   "outputs": [],
   "source": []
  },
  {
   "cell_type": "markdown",
   "id": "219a4423-d4fb-4659-a238-71f4551d9a03",
   "metadata": {},
   "source": [
    "Q3. What is multiple inheritance? Write a python code to demonstrate multiple inheritance.\n",
    "\n",
    "Ans. When a class is derived from more than one base class it is called multiple Inheritance. The derived class inherits all the features of the base case."
   ]
  },
  {
   "cell_type": "code",
   "execution_count": 45,
   "id": "3318c256-990a-45de-b307-11a4e9e1189d",
   "metadata": {},
   "outputs": [],
   "source": [
    "# Example:\n",
    "\n",
    "class class_1:\n",
    "    def test_class_1(self) : \n",
    "        print(\"9 Feb Assignment\" )"
   ]
  },
  {
   "cell_type": "code",
   "execution_count": 46,
   "id": "3e844a63-5dfa-4699-b97c-5a6eba51a5a4",
   "metadata": {},
   "outputs": [],
   "source": [
    "class class_2:\n",
    "    def test_class_2(self) : \n",
    "        print(\"PWSkills\")"
   ]
  },
  {
   "cell_type": "code",
   "execution_count": 47,
   "id": "c49d4423-3191-4b60-bcb6-d616f98a634a",
   "metadata": {},
   "outputs": [],
   "source": [
    "class class_3(class_1, class_2):\n",
    "    pass"
   ]
  },
  {
   "cell_type": "code",
   "execution_count": 50,
   "id": "42a974ab-b8e5-4840-a3bb-378a5df77194",
   "metadata": {},
   "outputs": [],
   "source": [
    "obj_class_3 = class_3()"
   ]
  },
  {
   "cell_type": "code",
   "execution_count": 51,
   "id": "2a25413e-ca30-4a0d-9934-5f0c774801ee",
   "metadata": {},
   "outputs": [
    {
     "name": "stdout",
     "output_type": "stream",
     "text": [
      "9 Feb Assignment\n"
     ]
    }
   ],
   "source": [
    "obj_class_3.test_class_1()"
   ]
  },
  {
   "cell_type": "code",
   "execution_count": 52,
   "id": "c63cedb0-8b7e-4ee6-ad93-0682baea0fee",
   "metadata": {},
   "outputs": [
    {
     "name": "stdout",
     "output_type": "stream",
     "text": [
      "PWSkills\n"
     ]
    }
   ],
   "source": [
    "obj_class_3.test_class_2()"
   ]
  },
  {
   "cell_type": "code",
   "execution_count": null,
   "id": "e66776af-bc95-4970-85c8-b9299d3f63d8",
   "metadata": {},
   "outputs": [],
   "source": []
  },
  {
   "cell_type": "code",
   "execution_count": null,
   "id": "f4c8dc2b-e874-4f37-b396-c1789c52b4d6",
   "metadata": {},
   "outputs": [],
   "source": []
  },
  {
   "cell_type": "markdown",
   "id": "4d22cdfd-2a7b-4c29-93f6-b11d68ad7507",
   "metadata": {},
   "source": [
    "Q4. What are getter and setter in python? Create a class and create a getter and a setter method in this\n",
    "class.\n",
    "\n",
    "Ans. \n",
    "\n",
    "Getter : A method that allows you to access an attribute in a given class.\n",
    "\n",
    "Setter : A method that allows you to set or mutate the value of an attribute in a class."
   ]
  },
  {
   "cell_type": "code",
   "execution_count": 66,
   "id": "92921fe0-fd09-4606-bd14-04e52bbd0e0a",
   "metadata": {},
   "outputs": [
    {
     "name": "stdout",
     "output_type": "stream",
     "text": [
      "19\n",
      "19\n"
     ]
    }
   ],
   "source": [
    "# Example,\n",
    "\n",
    "class g_and_s:   # g_and_s i.e., getter and setter\n",
    "    def __init__(self, age = 0):\n",
    "         self._age = age\n",
    "      \n",
    "    # getter method\n",
    "    def get_age(self):\n",
    "        return self._age\n",
    "      \n",
    "    # setter method\n",
    "    def set_age(self, x):\n",
    "        self._age = x\n",
    "Siddharth = g_and_s()\n",
    "  \n",
    "# setting the age using setter\n",
    "Siddharth.set_age(19)\n",
    "  \n",
    "# retrieving age using getter\n",
    "print(Siddharth.get_age())\n",
    "  \n",
    "print(Siddharth._age)"
   ]
  },
  {
   "cell_type": "code",
   "execution_count": null,
   "id": "2b3302e4-6d9d-4086-8f99-b43f1da8291c",
   "metadata": {},
   "outputs": [],
   "source": []
  },
  {
   "cell_type": "code",
   "execution_count": null,
   "id": "0281de22-c723-455c-9202-0b1b27f22989",
   "metadata": {},
   "outputs": [],
   "source": []
  },
  {
   "cell_type": "markdown",
   "id": "0ba993c5-ef32-4eed-ad79-c39bcbd2408f",
   "metadata": {},
   "source": [
    "Q5.What is method overriding in python? Write a python code to demonstrate method overriding.\n",
    "\n",
    "Ans. Method overriding is an ability of any object-oriented programming language that allows a subclass or child class to provide a specific implementation of a method that is already provided by one of its super-classes or parent classes. When a method in a subclass has the same name, same parameters or signature and same return type(or sub-type) as a method in its super-class, then the method in the subclass is said to override the method in the super-class."
   ]
  },
  {
   "cell_type": "code",
   "execution_count": 67,
   "id": "f6b2976f-33cf-474f-8f52-42ece5069225",
   "metadata": {},
   "outputs": [
    {
     "name": "stdout",
     "output_type": "stream",
     "text": [
      "Inside Parent\n",
      "Inside Child\n"
     ]
    }
   ],
   "source": [
    "class Parent():\n",
    "      \n",
    "    # Constructor\n",
    "    def __init__(self):\n",
    "        self.value = \"Inside Parent\"\n",
    "          \n",
    "    # Parent's show method\n",
    "    def show(self):\n",
    "        print(self.value)\n",
    "          \n",
    "# Defining child class\n",
    "class Child(Parent):\n",
    "      \n",
    "    # Constructor\n",
    "    def __init__(self):\n",
    "        self.value = \"Inside Child\"\n",
    "          \n",
    "    # Child's show method\n",
    "    def show(self):\n",
    "        print(self.value)\n",
    "        \n",
    "# Driver's code\n",
    "obj1 = Parent()\n",
    "obj2 = Child()\n",
    "  \n",
    "obj1.show()\n",
    "obj2.show()"
   ]
  },
  {
   "cell_type": "code",
   "execution_count": null,
   "id": "751c16d0-a8e0-4a1b-a84e-fe18d0f11bf0",
   "metadata": {},
   "outputs": [],
   "source": []
  }
 ],
 "metadata": {
  "kernelspec": {
   "display_name": "Python 3 (ipykernel)",
   "language": "python",
   "name": "python3"
  },
  "language_info": {
   "codemirror_mode": {
    "name": "ipython",
    "version": 3
   },
   "file_extension": ".py",
   "mimetype": "text/x-python",
   "name": "python",
   "nbconvert_exporter": "python",
   "pygments_lexer": "ipython3",
   "version": "3.10.8"
  }
 },
 "nbformat": 4,
 "nbformat_minor": 5
}
