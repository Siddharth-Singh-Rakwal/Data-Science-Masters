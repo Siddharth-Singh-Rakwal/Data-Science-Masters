{
 "cells": [
  {
   "cell_type": "markdown",
   "id": "40fb1196-7254-4915-860f-e595c36081b9",
   "metadata": {},
   "source": [
    "# Assignment | 24 Feb 2023"
   ]
  },
  {
   "cell_type": "code",
   "execution_count": null,
   "id": "17a65c30-1d94-49ca-a1d9-46c1ebc8ce02",
   "metadata": {},
   "outputs": [],
   "source": []
  },
  {
   "cell_type": "markdown",
   "id": "4ce7fc7a-5d76-484c-9250-14539e9d116c",
   "metadata": {},
   "source": [
    "Q1. List any five functions of the pandas library with execution.\n",
    "\n",
    "Ans."
   ]
  },
  {
   "cell_type": "code",
   "execution_count": 1,
   "id": "80d1bb95-8674-4b93-ac36-b71fe51c867f",
   "metadata": {},
   "outputs": [
    {
     "name": "stdout",
     "output_type": "stream",
     "text": [
      "    Name  Age  Gender Occupation    Phone No\n",
      "0  Rahul   25    Male  Scientist  9947683640\n",
      "1  Geeta   30  Female     Doctor  8707383017\n",
      "2    Ram   27    Male   Engineer  9876368975\n"
     ]
    }
   ],
   "source": [
    "# 1\n",
    "# read_csv(): This function reads data from a CSV file and creates a DataFrame object.\n",
    "\n",
    "import pandas as pd\n",
    "data = pd.read_csv('data.csv')\n",
    "print(data)"
   ]
  },
  {
   "cell_type": "code",
   "execution_count": 2,
   "id": "32038226-873a-4422-ad5a-86fb06a699c6",
   "metadata": {},
   "outputs": [
    {
     "name": "stdout",
     "output_type": "stream",
     "text": [
      "   Name  Age Gender\n",
      "0  John   25      M\n",
      "1  Mike   28      M\n"
     ]
    }
   ],
   "source": [
    "# 2\n",
    "# head(): This function returns the first n rows of a DataFrame.\n",
    "\n",
    "import pandas as pd\n",
    "data = pd.DataFrame({'Name': ['John', 'Mike', 'Sara', 'Bob'], 'Age': [25, 28, 21, 32], 'Gender': ['M', 'M', 'F', 'M']})\n",
    "print(data.head(2))"
   ]
  },
  {
   "cell_type": "code",
   "execution_count": 3,
   "id": "9bf65815-3c56-41d5-b3bf-040704bc0e8a",
   "metadata": {},
   "outputs": [
    {
     "name": "stdout",
     "output_type": "stream",
     "text": [
      "             Age\n",
      "count   4.000000\n",
      "mean   26.500000\n",
      "std     4.654747\n",
      "min    21.000000\n",
      "25%    24.000000\n",
      "50%    26.500000\n",
      "75%    29.000000\n",
      "max    32.000000\n"
     ]
    }
   ],
   "source": [
    "# 3\n",
    "# describe(): This function generates descriptive statistics of a DataFrame.\n",
    "\n",
    "import pandas as pd\n",
    "data = pd.DataFrame({'Name': ['John', 'Mike', 'Sara', 'Bob'], 'Age': [25, 28, 21, 32], 'Gender': ['M', 'M', 'F', 'M']})\n",
    "print(data.describe())"
   ]
  },
  {
   "cell_type": "code",
   "execution_count": 4,
   "id": "1fcae0aa-e0bb-49ff-96c8-f548cfad60ed",
   "metadata": {},
   "outputs": [
    {
     "name": "stdout",
     "output_type": "stream",
     "text": [
      "Gender\n",
      "F    21.000000\n",
      "M    28.333333\n",
      "Name: Age, dtype: float64\n"
     ]
    }
   ],
   "source": [
    "# 4\n",
    "# groupby(): This function groups data in a DataFrame based on one or more columns.\n",
    "\n",
    "import pandas as pd\n",
    "data = pd.DataFrame({'Name': ['John', 'Mike', 'Sara', 'Bob'], 'Age': [25, 28, 21, 32], 'Gender': ['M', 'M', 'F', 'M']})\n",
    "print(data.groupby('Gender')['Age'].mean())"
   ]
  },
  {
   "cell_type": "code",
   "execution_count": 5,
   "id": "ef895011-203d-4e04-b118-3de1922d4e8c",
   "metadata": {},
   "outputs": [
    {
     "data": {
      "image/png": "[encoded data removed]",
      "text/plain": [
       "<Figure size 640x480 with 1 Axes>"
      ]
     },
     "metadata": {},
     "output_type": "display_data"
    }
   ],
   "source": [
    "# 5\n",
    "# plot(): This function creates a plot of a DataFrame.\n",
    "\n",
    "import pandas as pd\n",
    "import matplotlib.pyplot as plt\n",
    "\n",
    "data = pd.DataFrame({'Year': [2016, 2017, 2018, 2019, 2020], 'Sales': [100, 200, 300, 400, 500]})\n",
    "data.plot(x='Year', y='Sales', kind='line')\n",
    "plt.show()"
   ]
  },
  {
   "cell_type": "code",
   "execution_count": null,
   "id": "7a94325e-b93e-4113-b342-941bb31dd84e",
   "metadata": {},
   "outputs": [],
   "source": []
  },
  {
   "cell_type": "code",
   "execution_count": null,
   "id": "1908f570-c7a4-41bf-af46-73ce925fb530",
   "metadata": {},
   "outputs": [],
   "source": []
  },
  {
   "cell_type": "markdown",
   "id": "ba7e8d06-4bdb-45cc-9afd-fdfb2474b37f",
   "metadata": {},
   "source": [
    "Q2. Given a Pandas DataFrame df with columns 'A', 'B', and 'C', write a Python function to re-index the\n",
    "DataFrame with a new index that starts from 1 and increments by 2 for each row.\n",
    "\n",
    "Ans. "
   ]
  },
  {
   "cell_type": "code",
   "execution_count": 6,
   "id": "7cdb0495-f533-4fec-8d7c-3c1a3191324a",
   "metadata": {},
   "outputs": [
    {
     "name": "stdout",
     "output_type": "stream",
     "text": [
      "   A  B  C\n",
      "1  1  4  7\n",
      "3  2  5  8\n",
      "5  3  6  9\n"
     ]
    }
   ],
   "source": [
    "import pandas as pd\n",
    "\n",
    "def reindex_df(df):\n",
    "    new_index = range(1, len(df)*2, 2)  # Generate new index\n",
    "    df.index = new_index               # Assign new index to DataFrame\n",
    "    return df\n",
    "\n",
    "# Create a sample DataFrame\n",
    "df = pd.DataFrame({'A': [1, 2, 3], 'B': [4, 5, 6], 'C': [7, 8, 9]})\n",
    "\n",
    "# Call the reindex_df function\n",
    "new_df = reindex_df(df)\n",
    "\n",
    "# Print the modified DataFrame\n",
    "print(new_df)\n"
   ]
  },
  {
   "cell_type": "code",
   "execution_count": null,
   "id": "8e5c251e-2cb2-4975-a332-f6737218e9b2",
   "metadata": {},
   "outputs": [],
   "source": []
  },
  {
   "cell_type": "code",
   "execution_count": null,
   "id": "f3616f1a-22a2-450f-9a3e-83222cb031bb",
   "metadata": {},
   "outputs": [],
   "source": []
  },
  {
   "cell_type": "markdown",
   "id": "d58bf387-d64d-4a50-acf3-2c5b8c50554f",
   "metadata": {},
   "source": [
    "Q3. You have a Pandas DataFrame df with a column named 'Values'. Write a Python function that\n",
    "iterates over the DataFrame and calculates the sum of the first three values in the 'Values' column. The\n",
    "function should print the sum to the console.\n",
    "\n",
    "For example, if the 'Values' column of df contains the values [10, 20, 30, 40, 50], your function should\n",
    "calculate and print the sum of the first three values, which is 60.\n",
    "\n",
    "Ans."
   ]
  },
  {
   "cell_type": "code",
   "execution_count": 7,
   "id": "5280e111-80a8-4f50-a254-aa93395052fb",
   "metadata": {},
   "outputs": [
    {
     "name": "stdout",
     "output_type": "stream",
     "text": [
      "60\n"
     ]
    }
   ],
   "source": [
    "import pandas as pd\n",
    "\n",
    "def sum_first_three(df):\n",
    "    values = df['Values'][:3]  # Select the first three values from the 'Values' column\n",
    "    total = sum(values)        # Calculate the sum of the first three values\n",
    "    print(total)               # Print the sum to the console\n",
    "\n",
    "# Create a sample DataFrame\n",
    "df = pd.DataFrame({'Values': [10, 20, 30, 40, 50]})\n",
    "\n",
    "# Call the sum_first_three function\n",
    "sum_first_three(df)\n"
   ]
  },
  {
   "cell_type": "code",
   "execution_count": null,
   "id": "fab51e2a-cf38-4c92-8c79-1d9af89d5156",
   "metadata": {},
   "outputs": [],
   "source": []
  },
  {
   "cell_type": "code",
   "execution_count": null,
   "id": "cd100dac-c667-4355-aba7-cd92dcb86f86",
   "metadata": {},
   "outputs": [],
   "source": []
  },
  {
   "cell_type": "markdown",
   "id": "0c61138b-219e-4c14-84c3-6d40e0136cc6",
   "metadata": {},
   "source": [
    "Q4. Given a Pandas DataFrame df with a column 'Text', write a Python function to create a new column\n",
    "'Word_Count' that contains the number of words in each row of the 'Text' column.\n",
    "\n",
    "Ans."
   ]
  },
  {
   "cell_type": "code",
   "execution_count": 8,
   "id": "0cf5b971-34a1-4b72-8100-644d228295cf",
   "metadata": {},
   "outputs": [
    {
     "name": "stdout",
     "output_type": "stream",
     "text": [
      "                   Text  Word_Count\n",
      "0        Physics Wallah           2\n",
      "1              PWSkills           1\n",
      "2  Data Science Masters           3\n"
     ]
    }
   ],
   "source": [
    "import pandas as pd\n",
    "\n",
    "def count_words(df):\n",
    "    df['Word_Count'] = df['Text'].apply(lambda x: len(x.split()))  # Create new column with word counts\n",
    "    return df\n",
    "\n",
    "# Create a sample DataFrame\n",
    "df = pd.DataFrame({'Text': ['Physics Wallah', 'PWSkills', 'Data Science Masters']})\n",
    "\n",
    "# Call the count_words function\n",
    "new_df = count_words(df)\n",
    "\n",
    "# Print the modified DataFrame\n",
    "print(new_df)"
   ]
  },
  {
   "cell_type": "code",
   "execution_count": null,
   "id": "e9b13a38-8b8b-4d09-80fc-e9198201acf6",
   "metadata": {},
   "outputs": [],
   "source": []
  },
  {
   "cell_type": "code",
   "execution_count": null,
   "id": "18ccef92-2d71-463a-bc86-e965f5dafa14",
   "metadata": {},
   "outputs": [],
   "source": []
  },
  {
   "cell_type": "markdown",
   "id": "f373a9ea-63cf-40e5-b7a3-b5b3faa2fdfc",
   "metadata": {},
   "source": [
    "Q5. How are DataFrame.size() and DataFrame.shape() different?\n",
    "\n",
    "Ans. \n",
    "\n",
    "- DataFrame.size: This attribute returns the total number of elements in the DataFrame, which is equivalent to the number of rows times the number of columns. This attribute returns a scalar value.\n",
    "\n",
    "- DataFrame.shape: This attribute returns a tuple representing the dimensions of the DataFrame, with the number of rows as the first element and the number of columns as the second element. This attribute returns a tuple."
   ]
  },
  {
   "cell_type": "code",
   "execution_count": null,
   "id": "f49d7588-3590-46f2-a6b0-a773a1c648de",
   "metadata": {},
   "outputs": [],
   "source": []
  },
  {
   "cell_type": "code",
   "execution_count": null,
   "id": "79449886-9910-4bac-b00b-434c699b9e8a",
   "metadata": {},
   "outputs": [],
   "source": []
  },
  {
   "cell_type": "markdown",
   "id": "faff524e-2efd-4ebf-8149-44a8f046ec7e",
   "metadata": {},
   "source": [
    "Q6. Which function of pandas do we use to read an excel file?\n",
    "\n",
    "Ans. read_excel() function"
   ]
  },
  {
   "cell_type": "code",
   "execution_count": null,
   "id": "5686499b-149e-405c-a8a0-bb2fae6a2067",
   "metadata": {},
   "outputs": [],
   "source": []
  },
  {
   "cell_type": "code",
   "execution_count": null,
   "id": "f10d9784-7d7c-4536-826c-9321c4dcba3c",
   "metadata": {},
   "outputs": [],
   "source": []
  },
  {
   "cell_type": "markdown",
   "id": "4a60b767-160f-4cad-a2bd-a6b0c82b2478",
   "metadata": {},
   "source": [
    "Q7. You have a Pandas DataFrame df that contains a column named 'Email' that contains email\n",
    "addresses in the format 'username@domain.com'. Write a Python function that creates a new column\n",
    "'Username' in df that contains only the username part of each email address.\n",
    "\n",
    "The username is the part of the email address that appears before the '@' symbol. For example, if the\n",
    "email address is 'john.doe@example.com', the 'Username' column should contain 'john.doe'. Your\n",
    "function should extract the username from each email address and store it in the new 'Username'\n",
    "column.\n",
    "\n",
    "Ans."
   ]
  },
  {
   "cell_type": "code",
   "execution_count": 9,
   "id": "d5ecf78c-57ed-4231-980e-36e1806287f3",
   "metadata": {},
   "outputs": [
    {
     "name": "stdout",
     "output_type": "stream",
     "text": [
      "                     Email       Username\n",
      "0     john.doe@example.com       john.doe\n",
      "1       pwskills@gmail.com       pwskills\n",
      "2  physicswallah@gmail.com  physicswallah\n"
     ]
    }
   ],
   "source": [
    "import pandas as pd\n",
    "\n",
    "def extract_username(df):\n",
    "    df['Username'] = df['Email'].apply(lambda x: x.split('@')[0])  # Create new column with usernames\n",
    "    return df\n",
    "\n",
    "\n",
    "df = pd.DataFrame({'Email': ['john.doe@example.com', 'pwskills@gmail.com', 'physicswallah@gmail.com']})\n",
    "new_df = extract_username(df)\n",
    "print(new_df)"
   ]
  },
  {
   "cell_type": "code",
   "execution_count": null,
   "id": "ad7428a5-8b65-445a-b5b0-ff49d922a4ef",
   "metadata": {},
   "outputs": [],
   "source": []
  },
  {
   "cell_type": "code",
   "execution_count": null,
   "id": "4c9ff038-640c-46e4-8de2-1cf08b8a39f4",
   "metadata": {},
   "outputs": [],
   "source": []
  },
  {
   "attachments": {
    "ba332a90-ec1c-4e6e-812b-6e406593aa0c.png": {
     "image/png": "[encoded data removed]"
    }
   },
   "cell_type": "markdown",
   "id": "9a93f76e-be00-4724-869e-54c3470734d7",
   "metadata": {},
   "source": [
    "Q8. You have a Pandas DataFrame df with columns 'A', 'B', and 'C'. Write a Python function that selects\n",
    "all rows where the value in column 'A' is greater than 5 and the value in column 'B' is less than 10. The\n",
    "function should return a new DataFrame that contains only the selected rows.\n",
    "\n",
    "For example, if df contains the following values:\n",
    "\n",
    "![Screenshot (78).png](attachment:ba332a90-ec1c-4e6e-812b-6e406593aa0c.png)\n",
    "\n",
    "Your function should select the following rows: A B C\n",
    "\n",
    "1 8 2 7\n",
    "\n",
    "4 9 1 2\n",
    "\n",
    "The function should return a new DataFrame that contains only the selected rows."
   ]
  },
  {
   "cell_type": "markdown",
   "id": "c17be23b-6779-4055-b129-cc4ff707fa2e",
   "metadata": {},
   "source": [
    "Ans."
   ]
  },
  {
   "cell_type": "code",
   "execution_count": 26,
   "id": "bfa55dd1-2786-47e9-9ec1-9993e6abab6f",
   "metadata": {},
   "outputs": [
    {
     "name": "stdout",
     "output_type": "stream",
     "text": [
      "   A  B  C\n",
      "0  3  5  1\n",
      "1  8  2  7\n",
      "2  6  9  4\n",
      "3  2  3  5\n",
      "4  9  1  2\n"
     ]
    }
   ],
   "source": [
    "import pandas as pd\n",
    "\n",
    "data = {'A' : [3,8,6,2,9],\n",
    "        'B' : [5,2,9,3,1],\n",
    "        'C' : [1,7,4,5,2]\n",
    "       }\n",
    "\n",
    "df = pd.DataFrame(data)\n",
    "print(df)\n"
   ]
  },
  {
   "cell_type": "code",
   "execution_count": 27,
   "id": "676db5eb-d765-4804-90bb-5b3e5bfd49e2",
   "metadata": {},
   "outputs": [
    {
     "name": "stdout",
     "output_type": "stream",
     "text": [
      "   A  B  C\n",
      "1  8  2  7\n",
      "2  6  9  4\n",
      "4  9  1  2\n"
     ]
    }
   ],
   "source": [
    "def select_rows(df):\n",
    "    selected_rows = df[(df['A'] > 5) & (df['B'] < 10)]\n",
    "    return selected_rows\n",
    "\n",
    "selected_df = select_rows(df)\n",
    "\n",
    "print(selected_df)"
   ]
  },
  {
   "cell_type": "code",
   "execution_count": null,
   "id": "c7af9ce2-c52d-452f-8bea-328d572ddc51",
   "metadata": {},
   "outputs": [],
   "source": []
  },
  {
   "cell_type": "code",
   "execution_count": null,
   "id": "ed768298-30ab-41e0-80b7-7398b81173a2",
   "metadata": {},
   "outputs": [],
   "source": []
  },
  {
   "cell_type": "markdown",
   "id": "c378e7ef-81ae-4a3e-aba2-284c2307b4fd",
   "metadata": {},
   "source": [
    "Q9. Given a Pandas DataFrame df with a column 'Values', write a Python function to calculate the mean,\n",
    "median, and standard deviation of the values in the 'Values' column.\n",
    "\n",
    "Ans."
   ]
  },
  {
   "cell_type": "code",
   "execution_count": 12,
   "id": "153fbf63-33bb-462a-9b4c-356b4f75fb05",
   "metadata": {},
   "outputs": [
    {
     "name": "stdout",
     "output_type": "stream",
     "text": [
      "   A  B  C\n",
      "0  3  5  1\n",
      "1  8  2  7\n",
      "2  6  9  4\n",
      "3  2  3  5\n",
      "4  9  1  2\n"
     ]
    }
   ],
   "source": [
    "import pandas as pd\n",
    "\n",
    "data = {'A' : [3,8,6,2,9],\n",
    "        'B' : [5,2,9,3,1],\n",
    "        'C' : [1,7,4,5,2]\n",
    "}\n",
    "\n",
    "df = pd.DataFrame(data)\n",
    "print(df)"
   ]
  },
  {
   "cell_type": "code",
   "execution_count": 13,
   "id": "0c86c155-12c5-4549-9190-cc35b454834c",
   "metadata": {},
   "outputs": [
    {
     "data": {
      "text/html": [
       "<div>\n",
       "<style scoped>\n",
       "    .dataframe tbody tr th:only-of-type {\n",
       "        vertical-align: middle;\n",
       "    }\n",
       "\n",
       "    .dataframe tbody tr th {\n",
       "        vertical-align: top;\n",
       "    }\n",
       "\n",
       "    .dataframe thead th {\n",
       "        text-align: right;\n",
       "    }\n",
       "</style>\n",
       "<table border=\"1\" class=\"dataframe\">\n",
       "  <thead>\n",
       "    <tr style=\"text-align: right;\">\n",
       "      <th></th>\n",
       "      <th>A</th>\n",
       "      <th>B</th>\n",
       "      <th>C</th>\n",
       "    </tr>\n",
       "  </thead>\n",
       "  <tbody>\n",
       "    <tr>\n",
       "      <th>count</th>\n",
       "      <td>5.00000</td>\n",
       "      <td>5.000000</td>\n",
       "      <td>5.000000</td>\n",
       "    </tr>\n",
       "    <tr>\n",
       "      <th>mean</th>\n",
       "      <td>5.60000</td>\n",
       "      <td>4.000000</td>\n",
       "      <td>3.800000</td>\n",
       "    </tr>\n",
       "    <tr>\n",
       "      <th>std</th>\n",
       "      <td>3.04959</td>\n",
       "      <td>3.162278</td>\n",
       "      <td>2.387467</td>\n",
       "    </tr>\n",
       "    <tr>\n",
       "      <th>min</th>\n",
       "      <td>2.00000</td>\n",
       "      <td>1.000000</td>\n",
       "      <td>1.000000</td>\n",
       "    </tr>\n",
       "    <tr>\n",
       "      <th>25%</th>\n",
       "      <td>3.00000</td>\n",
       "      <td>2.000000</td>\n",
       "      <td>2.000000</td>\n",
       "    </tr>\n",
       "    <tr>\n",
       "      <th>50%</th>\n",
       "      <td>6.00000</td>\n",
       "      <td>3.000000</td>\n",
       "      <td>4.000000</td>\n",
       "    </tr>\n",
       "    <tr>\n",
       "      <th>75%</th>\n",
       "      <td>8.00000</td>\n",
       "      <td>5.000000</td>\n",
       "      <td>5.000000</td>\n",
       "    </tr>\n",
       "    <tr>\n",
       "      <th>max</th>\n",
       "      <td>9.00000</td>\n",
       "      <td>9.000000</td>\n",
       "      <td>7.000000</td>\n",
       "    </tr>\n",
       "  </tbody>\n",
       "</table>\n",
       "</div>"
      ],
      "text/plain": [
       "             A         B         C\n",
       "count  5.00000  5.000000  5.000000\n",
       "mean   5.60000  4.000000  3.800000\n",
       "std    3.04959  3.162278  2.387467\n",
       "min    2.00000  1.000000  1.000000\n",
       "25%    3.00000  2.000000  2.000000\n",
       "50%    6.00000  3.000000  4.000000\n",
       "75%    8.00000  5.000000  5.000000\n",
       "max    9.00000  9.000000  7.000000"
      ]
     },
     "execution_count": 13,
     "metadata": {},
     "output_type": "execute_result"
    }
   ],
   "source": [
    "df.describe()"
   ]
  },
  {
   "cell_type": "code",
   "execution_count": null,
   "id": "ddd0b038-7a08-45b8-ba9e-c7d01bde253c",
   "metadata": {},
   "outputs": [],
   "source": []
  },
  {
   "cell_type": "code",
   "execution_count": null,
   "id": "d0a80e91-6df9-4888-bab1-c94583a1a3f7",
   "metadata": {},
   "outputs": [],
   "source": []
  },
  {
   "cell_type": "markdown",
   "id": "6d94e58e-06d5-4bfe-8b06-380a752fdc1f",
   "metadata": {},
   "source": [
    "Q10. Given a Pandas DataFrame df with a column 'Sales' and a column 'Date', write a Python function to\n",
    "create a new column 'MovingAverage' that contains the moving average of the sales for the past 7 days\n",
    "for each row in the DataFrame. The moving average should be calculated using a window of size 7 and\n",
    "should include the current day.\n",
    "\n",
    "Ans. "
   ]
  },
  {
   "cell_type": "code",
   "execution_count": 25,
   "id": "08a838f4-9ebc-48ae-9393-26f79e6fc543",
   "metadata": {},
   "outputs": [],
   "source": [
    "import pandas as pd\n",
    "\n",
    "def add_moving_average(df):\n",
    "    # Calculate moving average using a rolling window of size 7\n",
    "    ma = df['Sales'].rolling(window=7, min_periods=1).mean()\n",
    "    \n",
    "    # Add the calculated moving average to a new column in the DataFrame\n",
    "    df['MovingAverage'] = ma\n",
    "    \n",
    "    return df"
   ]
  },
  {
   "cell_type": "code",
   "execution_count": null,
   "id": "fc10e74f-752a-421f-af6c-020e74e24bf0",
   "metadata": {},
   "outputs": [],
   "source": []
  },
  {
   "cell_type": "code",
   "execution_count": null,
   "id": "3fbd7fe1-e12d-4819-a696-2683810f950a",
   "metadata": {},
   "outputs": [],
   "source": []
  },
  {
   "attachments": {
    "2249e8df-ede8-4122-b5c5-41d66ecd756c.png": {
     "image/png": "[encoded data removed]"
    }
   },
   "cell_type": "markdown",
   "id": "eb2703c7-0c36-48b3-a15e-cd2bc2727b4b",
   "metadata": {},
   "source": [
    "Q11. You have a Pandas DataFrame df with a column 'Date'. Write a Python function that creates a new\n",
    "column 'Weekday' in the DataFrame. The 'Weekday' column should contain the weekday name (e.g.\n",
    "Monday, Tuesday) corresponding to each date in the 'Date' column.\n",
    "\n",
    "![Screenshot (79).png](attachment:2249e8df-ede8-4122-b5c5-41d66ecd756c.png)\n",
    "\n",
    "Ans.\n"
   ]
  },
  {
   "cell_type": "code",
   "execution_count": 14,
   "id": "fd29364e-70b3-4d89-a301-0d70307b54da",
   "metadata": {},
   "outputs": [
    {
     "name": "stdout",
     "output_type": "stream",
     "text": [
      "        Date   WeekDays\n",
      "0 2023-01-01     Sunday\n",
      "1 2023-01-02     Monday\n",
      "2 2023-01-03    Tuesday\n",
      "3 2023-01-04  Wednesday\n",
      "4 2023-01-05   Thursday\n"
     ]
    }
   ],
   "source": [
    "import pandas as pd\n",
    "\n",
    "df = pd.DataFrame({'Date':['2023-01-01','2023-01-02','2023-01-03','2023-01-04','2023-01-05']})\n",
    "df['Date'] = pd.to_datetime(df['Date'])\n",
    "\n",
    "df['WeekDays'] = df['Date'].dt.day_name()\n",
    "\n",
    "print(df)"
   ]
  },
  {
   "cell_type": "code",
   "execution_count": null,
   "id": "bb77c256-0580-4d39-8907-7cfe1d50b487",
   "metadata": {},
   "outputs": [],
   "source": []
  },
  {
   "cell_type": "code",
   "execution_count": null,
   "id": "7ee08b64-f1fe-4e92-83b0-3bd6ea1340f4",
   "metadata": {},
   "outputs": [],
   "source": []
  },
  {
   "cell_type": "markdown",
   "id": "8b3ece7b-7e84-4bfa-8050-2e79697ea100",
   "metadata": {},
   "source": [
    "Q12. Given a Pandas DataFrame df with a column 'Date' that contains timestamps, write a Python\n",
    "function to select all rows where the date is between '2023-01-01' and '2023-01-31'.\n",
    "\n",
    "Ans."
   ]
  },
  {
   "cell_type": "code",
   "execution_count": 34,
   "id": "353033f3-6ab7-4d9d-99c9-db5c253520a0",
   "metadata": {},
   "outputs": [],
   "source": [
    "import pandas as pd\n",
    "\n",
    "def select_rows(df):\n",
    "    start_date = '2023-01-01'\n",
    "    end_date = '2023-01-31'\n",
    "    mask = (df['Date'] >= start_date) & (df['Date'] <= end_date)\n",
    "    selected_rows = df.loc[mask]\n",
    "    return selected_rows"
   ]
  },
  {
   "cell_type": "code",
   "execution_count": null,
   "id": "a307b514-04c6-4ddb-b3c8-f913901ec1f9",
   "metadata": {},
   "outputs": [],
   "source": []
  },
  {
   "cell_type": "code",
   "execution_count": null,
   "id": "26186730-a316-40c9-aa2d-4fa1f36e23e0",
   "metadata": {},
   "outputs": [],
   "source": []
  },
  {
   "cell_type": "markdown",
   "id": "826ba169-82ff-4431-aa62-68d98bd49c20",
   "metadata": {},
   "source": [
    "Q13. To use the basic functions of pandas, what is the first and foremost necessary library that needs to\n",
    "be imported?\n",
    "\n",
    "Ans."
   ]
  },
  {
   "cell_type": "markdown",
   "id": "df96d8f0-e881-47c5-b44d-140794bf38aa",
   "metadata": {},
   "source": [
    "To use the basic functions of pandas, the first and foremost necessary library that needs to be imported is pandas itself.\n",
    "\n",
    "You can import pandas by using the following code:\n",
    "\n"
   ]
  },
  {
   "cell_type": "code",
   "execution_count": null,
   "id": "692e51b0-0161-4aa7-be2c-9e56d8efb69b",
   "metadata": {},
   "outputs": [],
   "source": [
    "import pandas as pd"
   ]
  },
  {
   "cell_type": "markdown",
   "id": "ba1d30bb-5811-4c72-8a45-cca1ee7950b4",
   "metadata": {},
   "source": [
    "This imports pandas and aliases it as \"pd\" for easier reference in your code. With this import statement, you can now use all the basic functions of pandas, such as reading data from different file formats, manipulating and transforming data, and analyzing and visualizing data."
   ]
  },
  {
   "cell_type": "code",
   "execution_count": null,
   "id": "65256b11-55f2-4602-a16e-dcf2f4e7238c",
   "metadata": {},
   "outputs": [],
   "source": []
  }
 ],
 "metadata": {
  "kernelspec": {
   "display_name": "Python 3 (ipykernel)",
   "language": "python",
   "name": "python3"
  },
  "language_info": {
   "codemirror_mode": {
    "name": "ipython",
    "version": 3
   },
   "file_extension": ".py",
   "mimetype": "text/x-python",
   "name": "python",
   "nbconvert_exporter": "python",
   "pygments_lexer": "ipython3",
   "version": "3.10.8"
  }
 },
 "nbformat": 4,
 "nbformat_minor": 5
}
