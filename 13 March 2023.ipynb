{
 "cells": [
  {
   "cell_type": "markdown",
   "id": "a664c8b6-5bf9-419e-9d84-a25618b5cce2",
   "metadata": {},
   "source": [
    "# Assignment | 13th March 2023"
   ]
  },
  {
   "cell_type": "code",
   "execution_count": null,
   "id": "08aad6d8-a6a9-4d5c-ae40-ede99cfde110",
   "metadata": {},
   "outputs": [],
   "source": []
  },
  {
   "cell_type": "markdown",
   "id": "889ff4a9-fb79-4fad-ae07-c0e854a31f11",
   "metadata": {},
   "source": [
    "Q1. Explain the assumptions required to use ANOVA and provide examples of violations that could impact\n",
    "the validity of the results.\n",
    "\n",
    "Ans. ANOVA (Analysis of Variance) is a statistical technique used to test for significant differences between three or more groups. To use ANOVA, certain assumptions must be met, and any violation of these assumptions can impact the validity of the results. The four assumptions of ANOVA are:\n",
    "1. Normality: The data within each group should follow a normal distribution.\n",
    "2. Homogeneity of Variance: The variances of each group should be equal.\n",
    "3. Independence: The observations within each group should be independent of each other.\n",
    "4. Random Sampling: The data should be obtained through random sampling.\n",
    "\n",
    "Examples of violations of these assumptions that could impact the validity of ANOVA results include:\n",
    "- Violation of Normality: If the data within each group does not follow a normal distribution, the ANOVA results may not be accurate. For example, if the data is skewed or has outliers, it may violate this assumption. In such cases, it may be necessary to transform the data or use a non-parametric alternative to ANOVA.\n",
    "- Violation of Homogeneity of Variance: If the variances of each group are not equal, the ANOVA results may be affected. For example, if one group has a much larger variance than the others, it may affect the overall variance of the data, leading to inaccurate results. In such cases, it may be necessary to use a modified version of ANOVA or a non-parametric alternative.\n",
    "- Violation of Independence: If the observations within each group are not independent, it may impact the validity of the ANOVA results. For example, if the same subject is measured in multiple groups, the data within each group may not be independent. In such cases, it may be necessary to use a different statistical test that accounts for the lack of independence.\n",
    "- Violation of Random Sampling: If the data is not obtained through random sampling, the ANOVA results may not be generalizable to the population of interest. For example, if the data is obtained through convenience sampling, it may not be representative of the population. In such cases, it may be necessary to use a different statistical test or draw a random sample from the population."
   ]
  },
  {
   "cell_type": "code",
   "execution_count": null,
   "id": "6f9cebbe-e91c-4665-8868-19f4d9d61f7d",
   "metadata": {},
   "outputs": [],
   "source": []
  },
  {
   "cell_type": "markdown",
   "id": "769b8025-8b9a-47eb-be87-0955b9e78bf8",
   "metadata": {},
   "source": [
    "Q2. What are the three types of ANOVA, and in what situations would each be used?\n",
    "\n",
    "Ans. The three types of ANOVA are:\n",
    "\n",
    "1. One-Way ANOVA: One-way ANOVA is used when there is only one independent variable or factor with three or more levels. It is used to test whether there are any statistically significant differences between the means of two or more independent groups. For example, if we want to compare the mean weight loss of three different diets, we can use one-way ANOVA.\n",
    "2. Two-Way ANOVA: Two-way ANOVA is used when there are two independent variables or factors. It is used to test for the effects of each variable on the dependent variable, as well as their interaction effects. For example, if we want to test the effects of both gender and age on the income of employees, we can use two-way ANOVA.\n",
    "3. Three-Way ANOVA: Three-way ANOVA is used when there are three independent variables or factors. It is used to test for the main effects of each variable, as well as their interaction effects. For example, if we want to test the effects of different teaching methods, class sizes, and teacher qualifications on student test scores, we can use three-way ANOVA.\n",
    "\n",
    "In summary, the type of ANOVA used depends on the number of independent variables or factors being studied. One-way ANOVA is used when there is only one factor, two-way ANOVA is used when there are two factors, and three-way ANOVA is used when there are three factors."
   ]
  },
  {
   "cell_type": "code",
   "execution_count": null,
   "id": "2b65a349-6cb7-4eaa-bfa0-d31881ae7b5f",
   "metadata": {},
   "outputs": [],
   "source": []
  },
  {
   "cell_type": "markdown",
   "id": "8189aca8-09d0-4028-9205-ae3ac1de4fbe",
   "metadata": {},
   "source": [
    "Q3. What is the partitioning of variance in ANOVA, and why is it important to understand this concept?\n",
    "\n",
    "Ans. The partitioning of variance in ANOVA refers to the process of decomposing the total variance in a data set into different sources of variation, including the variation within groups and the variation between groups. The variance between groups can be further decomposed into the variance explained by the independent variable and the residual variance.\n",
    "\n",
    "It is important to understand the partitioning of variance in ANOVA because it provides insights into the sources of variation in a data set and helps to determine whether the independent variable has a significant effect on the dependent variable. By examining the proportion of variance explained by the independent variable and the residual variance, we can assess the strength of the relationship between the independent variable and the dependent variable.\n",
    "\n",
    "Additionally, understanding the partitioning of variance can help in interpreting ANOVA results and communicating the findings to others. It enables researchers to explain how much of the variation in the data is due to the independent variable and how much is due to other factors or random error.\n",
    "\n",
    "Overall, the partitioning of variance in ANOVA is an important concept as it helps researchers to better understand the relationship between variables and to draw meaningful conclusions from their data."
   ]
  },
  {
   "cell_type": "code",
   "execution_count": null,
   "id": "0e4a749a-ef34-4071-b723-e778cdbd91d0",
   "metadata": {},
   "outputs": [],
   "source": []
  },
  {
   "cell_type": "markdown",
   "id": "cad66451-9542-4b51-9a64-0a3ddbbc94bc",
   "metadata": {},
   "source": [
    "Q4. How would you calculate the total sum of squares (SST), explained sum of squares (SSE), and residual\n",
    "sum of squares (SSR) in a one-way ANOVA using Python?\n",
    "\n",
    "Ans. \n",
    "\n",
    "In Python, you can calculate the total sum of squares (SST), explained sum of squares (SSE), and residual sum of squares (SSR) in a one-way ANOVA using the statsmodels package. Here's how you can do it:"
   ]
  },
  {
   "cell_type": "code",
   "execution_count": null,
   "id": "5b94d6e1-0035-41f9-899f-1d8de740cdae",
   "metadata": {},
   "outputs": [],
   "source": [
    "# First, import the necessary packages:\n",
    "\n",
    "import pandas as pd\n",
    "import statsmodels.api as sm\n",
    "from statsmodels.formula.api import ols\n",
    "\n",
    "# Next, load your data into a pandas dataframe:\n",
    "\n",
    "data = pd.read_csv('my_data.csv')\n",
    "\n",
    "# Assuming you have one independent variable and one dependent variable, you can run a one-way ANOVA using the ols function:\n",
    "\n",
    "model = ols('dependent_variable ~ independent_variable', data=data).fit()\n",
    "\n",
    "# Then, you can extract the total sum of squares (SST), explained sum of squares (SSE), and residual sum of squares (SSR) using the anova_lm function:\n",
    "\n",
    "anova_table = sm.stats.anova_lm(model, typ=2)\n",
    "SST = anova_table['sum_sq'][0]\n",
    "SSE = anova_table['sum_sq'][1]\n",
    "SSR = anova_table['sum_sq'][2]"
   ]
  },
  {
   "cell_type": "markdown",
   "id": "ae016ce6-1530-492a-bc7f-a7eed2a08524",
   "metadata": {},
   "source": [
    "Here, typ=2 specifies that we want to calculate the sum of squares using the Type 2 method, which partitions the sum of squares based on the order of the terms in the model formula.\n",
    "\n",
    "Note that the anova_lm function returns a table with various statistics, including the sum of squares for each source of variation. The first row of this table gives the total sum of squares (SST), which is the sum of squares of the deviation of each observation from the grand mean. The second row gives the explained sum of squares (SSE), which is the sum of squares of the deviation of each group mean from the grand mean. The third row gives the residual sum of squares (SSR), which is the sum of squares of the deviation of each observation from its group mean."
   ]
  },
  {
   "cell_type": "code",
   "execution_count": null,
   "id": "8ca6b319-d66e-4a33-91ed-c3ce015e40a5",
   "metadata": {},
   "outputs": [],
   "source": []
  },
  {
   "cell_type": "markdown",
   "id": "445c94df-737d-4e97-bb4f-6526bfedb8d5",
   "metadata": {},
   "source": [
    "Q5. In a two-way ANOVA, how would you calculate the main effects and interaction effects using Python?\n",
    "\n",
    "Ans. To calculate the main effects and interaction effects in a two-way ANOVA using Python, you can use the statsmodels package. Here's how you can do it:"
   ]
  },
  {
   "cell_type": "code",
   "execution_count": null,
   "id": "977ac455-1b78-48c8-a754-3982c99be873",
   "metadata": {},
   "outputs": [],
   "source": [
    "# First, import the necessary packages:\n",
    "import pandas as pd\n",
    "import statsmodels.api as sm\n",
    "from statsmodels.formula.api import ols\n",
    "\n",
    "# Next, load your data into a pandas dataframe:\n",
    "data = pd.read_csv('my_data.csv')\n",
    "\n",
    "# Assuming you have two independent variables and one dependent variable, you can run a two-way ANOVA using the ols function:\n",
    "model = ols('dependent_variable ~ independent_variable_1 + independent_variable_2 + independent_variable_1 * independent_variable_2', data=data).fit()\n",
    "\n",
    "# Here, the * symbol specifies an interaction effect between independent_variable_1 and independent_variable_2.\n",
    "# Then, you can extract the main effects and interaction effects using the anova_lm function:\n",
    "anova_table = sm.stats.anova_lm(model, typ=2)\n",
    "main_effect_1 = anova_table['sum_sq'][0]\n",
    "main_effect_2 = anova_table['sum_sq'][1]\n",
    "interaction_effect = anova_table['sum_sq'][2]\n"
   ]
  },
  {
   "cell_type": "markdown",
   "id": "f0c331d6-db48-4cb6-b9b1-4d3f14db443a",
   "metadata": {},
   "source": [
    "Here, typ=2 specifies that we want to calculate the sum of squares using the Type 2 method, which partitions the sum of squares based on the order of the terms in the model formula.\n",
    "\n",
    "Note that the anova_lm function returns a table with various statistics, including the sum of squares for each source of variation. The first row of this table gives the sum of squares for the main effect of independent_variable_1, the second row gives the sum of squares for the main effect of independent_variable_2, and the third row gives the sum of squares for the interaction effect between independent_variable_1 and independent_variable_2."
   ]
  },
  {
   "cell_type": "code",
   "execution_count": null,
   "id": "8c8f560d-13da-49fd-8ab2-75dc0d8dee6d",
   "metadata": {},
   "outputs": [],
   "source": []
  },
  {
   "cell_type": "markdown",
   "id": "1a31e31c-7a61-4509-9cf4-ad480c3828c2",
   "metadata": {},
   "source": [
    "Q6. Suppose you conducted a one-way ANOVA and obtained an F-statistic of 5.23 and a p-value of 0.02.\n",
    "What can you conclude about the differences between the groups, and how would you interpret these\n",
    "results?\n",
    "\n",
    "Ans. If you conducted a one-way ANOVA and obtained an F-statistic of 5.23 and a p-value of 0.02, you can conclude that there is evidence of a significant difference between the groups.\n",
    "\n",
    "The F-statistic is a measure of the ratio of the variance between the groups to the variance within the groups. A higher F-statistic indicates that the variance between the groups is relatively larger compared to the variance within the groups, suggesting that there may be significant differences between the groups.\n",
    "\n",
    "The p-value indicates the probability of observing the obtained F-statistic or a more extreme F-statistic under the null hypothesis that there are no differences between the groups. A p-value of 0.02 suggests that the probability of observing the obtained F-statistic or a more extreme F-statistic under the null hypothesis is only 2%, which is lower than the commonly used threshold of 5% for rejecting the null hypothesis.\n",
    "\n",
    "Therefore, based on these results, you can conclude that there are significant differences between the groups, and you can reject the null hypothesis that there are no differences between the groups. However, you would need to conduct further post-hoc tests to determine which specific groups differ significantly from each other.\n",
    "\n",
    "It's important to note that ANOVA is only able to tell us if there is a significant difference between at least two groups, but it does not tell us which groups are significantly different. This is why further post-hoc tests are necessary."
   ]
  },
  {
   "cell_type": "code",
   "execution_count": null,
   "id": "12863bd0-76e1-4adc-9b46-c72bff77f265",
   "metadata": {},
   "outputs": [],
   "source": []
  },
  {
   "cell_type": "markdown",
   "id": "581f202e-c027-4ba0-b34e-897d7ddbadb1",
   "metadata": {},
   "source": [
    "Q7. In a repeated measures ANOVA, how would you handle missing data, and what are the potential\n",
    "consequences of using different methods to handle missing data?\n",
    "\n",
    "Ans. Handling missing data in repeated measures ANOVA is an important consideration because missing data can affect the validity and reliability of the results. There are different ways to handle missing data in repeated measures ANOVA, each with its own advantages and potential consequences.\n",
    "\n",
    "One common approach to handle missing data is to use listwise deletion, which involves removing any participants with missing data from the analysis. This method can be simple to implement, but it can result in reduced statistical power if a large number of participants are excluded, and it can introduce bias if the missing data are not missing completely at random (MCAR). This means that the probability of missing data does not depend on any unobserved or observed variables.\n",
    "\n",
    "Another approach is to use pairwise deletion, which involves analyzing only the available data for each pair of variables. This method can result in less loss of data and less reduction in statistical power compared to listwise deletion, but it can also lead to biased results if the missing data are not MCAR. Additionally, this method can result in different results depending on which pairs of variables are included in the analysis.\n",
    "\n",
    "Another method is to use imputation, which involves estimating the missing data based on the observed data. Imputation methods can be based on simple techniques such as mean or median imputation, or more complex methods such as multiple imputation or maximum likelihood estimation. Imputation can help preserve statistical power and reduce bias, but it can also introduce additional uncertainty into the analysis, particularly if the imputation method is not appropriate for the missing data pattern or if the imputation model is misspecified.\n",
    "\n",
    "Ultimately, the best method for handling missing data in repeated measures ANOVA depends on the nature of the missing data and the goals of the analysis. It is important to carefully consider the assumptions and potential consequences of each method and to document the method used and any assumptions made in the analysis."
   ]
  },
  {
   "cell_type": "code",
   "execution_count": null,
   "id": "4e6c7a52-4d6c-4e0f-8266-c4d6f2ff8e30",
   "metadata": {},
   "outputs": [],
   "source": []
  },
  {
   "cell_type": "markdown",
   "id": "9af3fbed-212d-4d7f-bfad-811c4b305083",
   "metadata": {},
   "source": [
    "Q8. What are some common post-hoc tests used after ANOVA, and when would you use each one? Provide\n",
    "an example of a situation where a post-hoc test might be necessary.\n",
    "\n",
    "Ans. Post-hoc tests are used in ANOVA to determine which specific groups differ significantly from each other after a significant F-test has been obtained. There are several common post-hoc tests, each with its own assumptions and strengths.\n",
    "\n",
    "1. Tukey's HSD (honestly significant difference): Tukey's HSD is a commonly used post-hoc test that can be used to compare all possible pairwise differences between group means. It has the advantage of controlling for Type I error rate, and it is appropriate when the sample sizes are equal and the variances are homogenous.\n",
    "2. Bonferroni correction: The Bonferroni correction is a conservative method that adjusts the alpha level of each comparison by dividing the overall alpha level by the number of comparisons. This approach controls for the overall type I error rate, but it can be overly conservative and reduce statistical power.\n",
    "3. Dunnett's test: Dunnett's test is used when there is one control group and several experimental groups, and the goal is to compare each experimental group to the control group. This method controls for the family-wise error rate, but it assumes that the variances in the experimental groups are equal.\n",
    "4. Scheffe's test: Scheffe's test is a conservative method that can be used to compare all possible pairwise differences between group means. It has the advantage of controlling for the family-wise error rate, but it can have low statistical power.\n",
    "\n",
    "A situation where a post-hoc test might be necessary is when you have conducted an ANOVA and obtained a significant F-test, indicating that there are significant differences between at least two groups. However, the ANOVA itself does not tell you which specific groups differ significantly from each other. In this case, a post-hoc test can be used to determine which specific groups differ significantly from each other. For example, if you conducted an ANOVA on the effect of different types of fertilizer on plant growth and obtained a significant F-test, you would need to conduct a post-hoc test to determine which specific types of fertilizer led to significantly different plant growth."
   ]
  },
  {
   "cell_type": "code",
   "execution_count": null,
   "id": "ba71adf0-889e-4998-8a6a-1229de88aecd",
   "metadata": {},
   "outputs": [],
   "source": []
  },
  {
   "cell_type": "markdown",
   "id": "75495b9c-141e-4000-9ca5-2d7391628e37",
   "metadata": {},
   "source": [
    "Q9. A researcher wants to compare the mean weight loss of three diets: A, B, and C. They collect data from\n",
    "50 participants who were randomly assigned to one of the diets. Conduct a one-way ANOVA using Python\n",
    "to determine if there are any significant differences between the mean weight loss of the three diets.\n",
    "Report the F-statistic and p-value, and interpret the results.\n",
    "\n",
    "Ans. "
   ]
  },
  {
   "cell_type": "code",
   "execution_count": 2,
   "id": "dc106989-2800-4791-aa1e-3907a66437d0",
   "metadata": {},
   "outputs": [
    {
     "name": "stdout",
     "output_type": "stream",
     "text": [
      "F-statistic: 220.11794057678543\n",
      "p-value: 1.6134190017836547e-44\n"
     ]
    }
   ],
   "source": [
    "import numpy as np\n",
    "from scipy.stats import f_oneway\n",
    "\n",
    "# create sample data\n",
    "diet_A = np.array([10, 12, 11, 9, 8, 10, 11, 12, 11, 13, 9, 8, 12, 10, 11, 12, 9, 11, 10, 11,\n",
    "                   12, 9, 10, 11, 12, 10, 11, 9, 12, 10, 11, 9, 10, 12, 11, 8, 10, 9, 11, 12,\n",
    "                   9, 10, 12, 11, 10, 11, 9, 12, 11, 10])\n",
    "diet_B = np.array([8, 9, 7, 10, 12, 8, 9, 10, 11, 7, 10, 9, 11, 8, 10, 9, 12, 7, 11, 9,\n",
    "                   10, 11, 7, 8, 9, 10, 11, 12, 8, 9, 7, 11, 10, 9, 8, 10, 11, 7, 9, 8,\n",
    "                   10, 11, 9, 7, 8, 10, 11, 9, 7])\n",
    "diet_C = np.array([6, 5, 7, 4, 3, 6, 5, 4, 3, 7, 4, 6, 5, 7, 6, 4, 5, 3, 6, 4,\n",
    "                   5, 3, 7, 6, 5, 4, 3, 6, 7, 5, 4, 6, 5, 3, 4, 6, 7, 5, 4, 6,\n",
    "                   5, 7, 4, 3, 6, 5, 4, 3])\n",
    "\n",
    "# conduct ANOVA\n",
    "f_stat, p_value = f_oneway(diet_A, diet_B, diet_C)\n",
    "\n",
    "# print results\n",
    "print(\"F-statistic:\", f_stat)\n",
    "print(\"p-value:\", p_value)\n"
   ]
  },
  {
   "cell_type": "code",
   "execution_count": null,
   "id": "52b7d4c4-8dde-4efa-9a54-0facc87a2fd2",
   "metadata": {},
   "outputs": [],
   "source": []
  },
  {
   "cell_type": "markdown",
   "id": "a6541ccd-7486-41df-86aa-7fcc8c73f791",
   "metadata": {},
   "source": [
    "Q10. A company wants to know if there are any significant differences in the average time it takes to\n",
    "complete a task using three different software programs: Program A, Program B, and Program C. They\n",
    "randomly assign 30 employees to one of the programs and record the time it takes each employee to\n",
    "complete the task. Conduct a two-way ANOVA using Python to determine if there are any main effects or\n",
    "interaction effects between the software programs and employee experience level (novice vs.\n",
    "experienced). Report the F-statistics and p-values, and interpret the results.\n",
    "\n",
    "Ans."
   ]
  },
  {
   "cell_type": "code",
   "execution_count": 11,
   "id": "ba394f31-6aba-4dfa-8908-de0b6d3c6017",
   "metadata": {},
   "outputs": [],
   "source": [
    "# Creating CSV File\n",
    "\n",
    "import csv\n",
    "import random\n",
    "\n",
    "# Generate random task completion times for each program and experience level\n",
    "program_list = [\"Program A\", \"Program B\", \"Program C\"]\n",
    "exp_level_list = [\"Novice\", \"Experienced\"]\n",
    "times_list = []\n",
    "\n",
    "for i in range(30):\n",
    "    for program in program_list:\n",
    "        for exp_level in exp_level_list:\n",
    "            time = random.randint(10, 60) # Generate random time between 10 and 60 seconds\n",
    "            times_list.append([program, exp_level, time])\n",
    "\n",
    "# Write data to CSV file\n",
    "with open(\"task_completion_times.csv\", \"w\", newline=\"\") as csvfile:\n",
    "    writer = csv.writer(csvfile)\n",
    "    writer.writerow([\"Program\", \"Experience Level\", \"Completion Time (seconds)\"])\n",
    "    for row in times_list:\n",
    "        writer.writerow(row)"
   ]
  },
  {
   "cell_type": "code",
   "execution_count": 12,
   "id": "5e66cd00-7dc3-4a08-b14c-f67e36b400ac",
   "metadata": {},
   "outputs": [
    {
     "name": "stdout",
     "output_type": "stream",
     "text": [
      "                                           sum_sq     df         F    PR(>F)\n",
      "C(Program)                             412.900000    2.0  0.870182  0.420690\n",
      "C(Q(\"Experience Level\"))               144.005556    1.0  0.606980  0.436985\n",
      "C(Program):C(Q(\"Experience Level\"))   1208.677778    2.0  2.547274  0.081212\n",
      "Residual                             41281.366667  174.0       NaN       NaN\n"
     ]
    }
   ],
   "source": [
    "import pandas as pd\n",
    "from statsmodels.formula.api import ols\n",
    "from statsmodels.stats.anova import anova_lm\n",
    "\n",
    "# Read in CSV file\n",
    "df = pd.read_csv(\"task_completion_times.csv\")\n",
    "\n",
    "# Conduct two-way ANOVA\n",
    "model = ols('Q(\"Completion Time (seconds)\") ~ C(Program) + C(Q(\"Experience Level\")) + C(Program):C(Q(\"Experience Level\"))', data=df).fit()\n",
    "anova_table = anova_lm(model, typ=2)\n",
    "\n",
    "# Print ANOVA table\n",
    "print(anova_table)"
   ]
  },
  {
   "cell_type": "code",
   "execution_count": null,
   "id": "3c85fe6e-924c-428b-9f08-1f73b835702e",
   "metadata": {},
   "outputs": [],
   "source": []
  },
  {
   "cell_type": "markdown",
   "id": "2e69de6a-f4c1-47ca-a26a-6ad90e3cdf3f",
   "metadata": {},
   "source": [
    "Q11. An educational researcher is interested in whether a new teaching method improves student test\n",
    "scores. They randomly assign 100 students to either the control group (traditional teaching method) or the\n",
    "experimental group (new teaching method) and administer a test at the end of the semester. Conduct a\n",
    "two-sample t-test using Python to determine if there are any significant differences in test scores\n",
    "between the two groups. If the results are significant, follow up with a post-hoc test to determine which\n",
    "group(s) differ significantly from each other.\n",
    "\n",
    "Ans. "
   ]
  },
  {
   "cell_type": "code",
   "execution_count": 14,
   "id": "fe7d0e3b-0240-4e68-931a-ee7f639fa9ce",
   "metadata": {},
   "outputs": [],
   "source": [
    "# Generating CSV File\n",
    "\n",
    "import csv\n",
    "import random\n",
    "\n",
    "# Set random seed for reproducibility\n",
    "random.seed(123)\n",
    "\n",
    "# Generate test scores for control group (traditional teaching method)\n",
    "control_scores = [random.randint(60, 100) for _ in range(50)]\n",
    "\n",
    "# Generate test scores for experimental group (new teaching method)\n",
    "experimental_scores = [random.randint(65, 105) for _ in range(50)]\n",
    "\n",
    "# Combine the scores and group information into a list of tuples\n",
    "data = [(\"control\", score) for score in control_scores] + [(\"experimental\", score) for score in experimental_scores]\n",
    "\n",
    "# Shuffle the data and save it to a CSV file\n",
    "random.shuffle(data)\n",
    "with open(\"test_scores.csv\", \"w\", newline=\"\") as f:\n",
    "    writer = csv.writer(f)\n",
    "    writer.writerow([\"group\", \"score\"])\n",
    "    writer.writerows(data)\n"
   ]
  },
  {
   "cell_type": "code",
   "execution_count": 16,
   "id": "407dc9a3-f8df-4b0b-92a6-6eaef13736e6",
   "metadata": {},
   "outputs": [
    {
     "name": "stdout",
     "output_type": "stream",
     "text": [
      "t-statistic: -4.143232845439682\n",
      "p-value: 7.271705857841821e-05\n",
      "F-statistic: 17.166378411530207\n",
      "p-value: 7.271705857841854e-05\n",
      "   Multiple Comparison of Means - Tukey HSD, FWER=0.05    \n",
      "==========================================================\n",
      " group1    group2    meandiff p-adj  lower   upper  reject\n",
      "----------------------------------------------------------\n",
      "control experimental    10.14 0.0001 5.2833 14.9967   True\n",
      "----------------------------------------------------------\n"
     ]
    }
   ],
   "source": [
    "import pandas as pd\n",
    "from scipy.stats import ttest_ind, f_oneway\n",
    "from statsmodels.stats.multicomp import pairwise_tukeyhsd\n",
    "\n",
    "# Load data from CSV file\n",
    "data = pd.read_csv(\"test_scores.csv\")\n",
    "\n",
    "# Split the data into two groups based on the \"group\" column\n",
    "control_group = data[data[\"group\"] == \"control\"][\"score\"]\n",
    "experimental_group = data[data[\"group\"] == \"experimental\"][\"score\"]\n",
    "\n",
    "# Conduct a two-sample t-test\n",
    "t_stat, p_val = ttest_ind(control_group, experimental_group)\n",
    "print(\"t-statistic:\", t_stat)\n",
    "print(\"p-value:\", p_val)\n",
    "\n",
    "# Conduct a post-hoc test\n",
    "f_stat, p_val = f_oneway(control_group, experimental_group)\n",
    "print(\"F-statistic:\", f_stat)\n",
    "print(\"p-value:\", p_val)\n",
    "tukey_result = pairwise_tukeyhsd(data[\"score\"], data[\"group\"])\n",
    "print(tukey_result)"
   ]
  },
  {
   "cell_type": "code",
   "execution_count": null,
   "id": "a0d695db-5cda-4df6-b242-a363a802ec5e",
   "metadata": {},
   "outputs": [],
   "source": []
  },
  {
   "cell_type": "markdown",
   "id": "d29981b6-fa7a-48b3-8800-760a2ead74b8",
   "metadata": {},
   "source": [
    "Q12. A researcher wants to know if there are any significant differences in the average daily sales of three\n",
    "retail stores: Store A, Store B, and Store C. They randomly select 30 days and record the sales for each store\n",
    "on those days. Conduct a repeated measures ANOVA using Python to determine if there are any\n",
    "significant differences in sales between the three stores. If the results are significant, follow up with a post-\n",
    "hoc test to determine which store(s) differ significantly from each other.\n",
    "\n",
    "Ans. "
   ]
  },
  {
   "cell_type": "code",
   "execution_count": 17,
   "id": "89365823-2e31-4ee1-bc01-1deef5ad7de4",
   "metadata": {},
   "outputs": [
    {
     "name": "stdout",
     "output_type": "stream",
     "text": [
      "                sum_sq    df         F    PR(>F)\n",
      "C(store)  3.657887e+04   2.0  0.255838  0.774848\n",
      "Residual  6.219488e+06  87.0       NaN       NaN\n"
     ]
    }
   ],
   "source": [
    "import pandas as pd\n",
    "import numpy as np\n",
    "import statsmodels.api as sm\n",
    "from statsmodels.formula.api import ols\n",
    "\n",
    "# create a dataframe with the sales data\n",
    "data = pd.DataFrame({\n",
    "    'store': ['A'] * 30 + ['B'] * 30 + ['C'] * 30,\n",
    "    'sales': np.random.randint(100, 1000, size=90)\n",
    "})\n",
    "\n",
    "# fit the ANOVA model\n",
    "model = ols('sales ~ C(store)', data=data).fit()\n",
    "anova_table = sm.stats.anova_lm(model, typ=2)\n",
    "\n",
    "# print the ANOVA table\n",
    "print(anova_table)"
   ]
  },
  {
   "cell_type": "code",
   "execution_count": null,
   "id": "8e2af249-bb57-46e5-9bb4-2b6a5545472f",
   "metadata": {},
   "outputs": [],
   "source": []
  }
 ],
 "metadata": {
  "kernelspec": {
   "display_name": "Python 3 (ipykernel)",
   "language": "python",
   "name": "python3"
  },
  "language_info": {
   "codemirror_mode": {
    "name": "ipython",
    "version": 3
   },
   "file_extension": ".py",
   "mimetype": "text/x-python",
   "name": "python",
   "nbconvert_exporter": "python",
   "pygments_lexer": "ipython3",
   "version": "3.10.8"
  }
 },
 "nbformat": 4,
 "nbformat_minor": 5
}
