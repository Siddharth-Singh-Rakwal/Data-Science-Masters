{
 "cells": [
  {
   "cell_type": "markdown",
   "id": "a6d277b5-6dc0-4e68-a5a1-1807cfdad876",
   "metadata": {},
   "source": [
    "# Assignment | 23rd Feb 2023"
   ]
  },
  {
   "cell_type": "code",
   "execution_count": null,
   "id": "1ca79986-313b-4ca8-a2e9-cf8420f2d9c6",
   "metadata": {},
   "outputs": [],
   "source": []
  },
  {
   "cell_type": "markdown",
   "id": "5eeee441-e015-4141-a5ae-53c97d7debc0",
   "metadata": {},
   "source": [
    "Q1. Create a Pandas Series that contains the following data: 4, 8, 15, 16, 23, and 42. Then, print the series.\n",
    "\n",
    "Ans. "
   ]
  },
  {
   "cell_type": "code",
   "execution_count": 1,
   "id": "5ff8fa66-1179-47b6-877f-4c7c96fa9041",
   "metadata": {},
   "outputs": [
    {
     "name": "stdout",
     "output_type": "stream",
     "text": [
      "0     4\n",
      "1     8\n",
      "2    15\n",
      "3    16\n",
      "4    23\n",
      "5    42\n",
      "dtype: int64\n"
     ]
    }
   ],
   "source": [
    "import pandas as pd\n",
    "\n",
    "data = [4, 8, 15, 16, 23, 42]\n",
    "series = pd.Series(data)\n",
    "\n",
    "print(series)"
   ]
  },
  {
   "cell_type": "code",
   "execution_count": null,
   "id": "15b26592-6ad8-4594-a360-eb9fc6f8baf7",
   "metadata": {},
   "outputs": [],
   "source": []
  },
  {
   "cell_type": "code",
   "execution_count": null,
   "id": "e4ab8e67-d7cb-4b64-8021-fa1710595513",
   "metadata": {},
   "outputs": [],
   "source": []
  },
  {
   "cell_type": "markdown",
   "id": "e3da5977-4fa2-42b6-bd1b-7afa2e010350",
   "metadata": {},
   "source": [
    "Q2. Create a variable of list type containing 10 elements in it, and apply pandas.Series function on the\n",
    "variable print it.\n",
    "\n",
    "Ans."
   ]
  },
  {
   "cell_type": "code",
   "execution_count": 3,
   "id": "35aaa53b-c535-4070-9894-57649ff329af",
   "metadata": {},
   "outputs": [
    {
     "name": "stdout",
     "output_type": "stream",
     "text": [
      "0         Siddharth\n",
      "1          PWSKills\n",
      "2         987654321\n",
      "3      Data Science\n",
      "4    College Wallah\n",
      "5                PW\n",
      "6    Physics Wallah\n",
      "7                 8\n",
      "8                 9\n",
      "9                10\n",
      "dtype: object\n"
     ]
    }
   ],
   "source": [
    "import pandas as pd\n",
    "\n",
    "variable = ['Siddharth', 'PWSKills', 987654321, 'Data Science', 'College Wallah', 'PW', 'Physics Wallah', 8, 9, 10]\n",
    "function = pd.Series(variable)\n",
    "\n",
    "print(function)"
   ]
  },
  {
   "cell_type": "code",
   "execution_count": null,
   "id": "37cc165c-5a43-49c1-be0d-d854500637fc",
   "metadata": {},
   "outputs": [],
   "source": []
  },
  {
   "cell_type": "code",
   "execution_count": null,
   "id": "0b6464fb-a650-4ca4-a7cf-ee08ff5a3146",
   "metadata": {},
   "outputs": [],
   "source": []
  },
  {
   "attachments": {
    "bb3cf7e2-3ee3-43af-aac3-0d15d4ee16a7.png": {
     "image/png": "[encoded data removed]"
    }
   },
   "cell_type": "markdown",
   "id": "62fa4dd2-fda6-46dd-b8c1-a77805662d98",
   "metadata": {},
   "source": [
    "Q3. Create a Pandas DataFrame that contains the following data:\n",
    "\n",
    "![Screenshot (77).png](attachment:bb3cf7e2-3ee3-43af-aac3-0d15d4ee16a7.png)\n",
    "\n",
    "Then, print the DataFrame.\n",
    "\n",
    "Ans."
   ]
  },
  {
   "cell_type": "code",
   "execution_count": 5,
   "id": "002c96e7-64b3-4ab2-aa7b-7ff6f0c96649",
   "metadata": {},
   "outputs": [
    {
     "name": "stdout",
     "output_type": "stream",
     "text": [
      "     Name  Age  Gender\n",
      "0   Alice   25  Female\n",
      "1     Bob   30    Male\n",
      "2  Claire   27  Female\n"
     ]
    }
   ],
   "source": [
    "import pandas as pd\n",
    "\n",
    "data = {\"Name\" : [\"Alice\", \"Bob\", \"Claire\"],\n",
    "        \"Age\" : [25, 30, 27],\n",
    "        \"Gender\" : [\"Female\", \"Male\", \"Female\"]\n",
    "}\n",
    "\n",
    "df = pd.DataFrame(data)\n",
    "print(df)"
   ]
  },
  {
   "cell_type": "code",
   "execution_count": null,
   "id": "bb47a878-33f3-4c95-9d05-8b5492ed557f",
   "metadata": {},
   "outputs": [],
   "source": []
  },
  {
   "cell_type": "code",
   "execution_count": null,
   "id": "166908ec-bc33-438e-94c6-3b8af0a8ddd4",
   "metadata": {},
   "outputs": [],
   "source": []
  },
  {
   "cell_type": "markdown",
   "id": "d7b0bd5a-50cc-46d6-8bdc-2532d07eab76",
   "metadata": {},
   "source": [
    "Q4. What is ‘DataFrame’ in pandas and how is it different from pandas.series? Explain with an example.\n",
    "\n",
    "Ans. DataFrame is a 2-dimensional labeled data structure in pandas, which consists of rows and columns. It is similar to a table in a relational database or a spreadsheet in Excel. Series, on the other hand, is a one-dimensional labeled array-like data structure in pandas, which consists of a single column of data and its associated labels."
   ]
  },
  {
   "cell_type": "code",
   "execution_count": 16,
   "id": "93b61008-23fb-47f3-8681-a187a375a172",
   "metadata": {},
   "outputs": [
    {
     "name": "stdout",
     "output_type": "stream",
     "text": [
      "    Name  Age  Gender Occupation\n",
      "0  Rahul   25    Male  Scientist\n",
      "1  Geeta   30  Female     Doctor\n",
      "2    Ram   27    Male   Engineer\n"
     ]
    }
   ],
   "source": [
    "# Example : DataFrame\n",
    "\n",
    "import pandas as pd\n",
    "\n",
    "data = {'Name' : ['Rahul', 'Geeta', 'Ram'],\n",
    "        'Age' : [25, 30, 27],\n",
    "        'Gender' : ['Male', 'Female', 'Male'],\n",
    "        'Occupation' : ['Scientist', 'Doctor', 'Engineer']\n",
    "}\n",
    "\n",
    "df = pd.DataFrame(data)\n",
    "print(df)"
   ]
  },
  {
   "cell_type": "code",
   "execution_count": 17,
   "id": "829edfeb-bfcb-47ca-927f-d2f0b3aef975",
   "metadata": {},
   "outputs": [
    {
     "name": "stdout",
     "output_type": "stream",
     "text": [
      "Name                    [Rahul, Geeta, Ram]\n",
      "Age                            [25, 30, 27]\n",
      "Gender                 [Male, Female, Male]\n",
      "Occupation    [Scientist, Doctor, Engineer]\n",
      "dtype: object\n"
     ]
    }
   ],
   "source": [
    "# Example : pandas.series\n",
    "\n",
    "import pandas as pd\n",
    "\n",
    "data = {'Name' : ['Rahul', 'Geeta', 'Ram'],\n",
    "        'Age' : [25, 30, 27],\n",
    "        'Gender' : ['Male', 'Female', 'Male'],\n",
    "        'Occupation' : ['Scientist', 'Doctor', 'Engineer']\n",
    "}\n",
    "\n",
    "df = pd.Series(data)\n",
    "print(df)"
   ]
  },
  {
   "cell_type": "code",
   "execution_count": null,
   "id": "0601552d-b036-4a4f-9b51-5bc8f8bf4f5c",
   "metadata": {},
   "outputs": [],
   "source": []
  },
  {
   "cell_type": "code",
   "execution_count": null,
   "id": "82e4ebe6-54b0-40de-8c4d-e8fd12ce074a",
   "metadata": {},
   "outputs": [],
   "source": []
  },
  {
   "cell_type": "markdown",
   "id": "5656847e-b321-4eb3-acce-22b61a8ab0ed",
   "metadata": {},
   "source": [
    "Q5. What are some common functions you can use to manipulate data in a Pandas DataFrame? Can\n",
    "you give an example of when you might use one of these functions?\n",
    "\n",
    "Ans. There are many functions and methods available in Pandas that can be used to manipulate data in a DataFrame. Here are some commonly used ones:\n",
    "\n",
    "1. head() and tail(): These functions can be used to preview the first or last few rows of a DataFrame, respectively. They are useful for quickly getting a sense of the structure of the DataFrame.\n",
    "\n",
    "2. describe(): This function can be used to generate summary statistics for each column in the DataFrame, such as count, mean, standard deviation, minimum, maximum, and quartiles.\n",
    "\n",
    "3. sort_values(): This method can be used to sort the rows of a DataFrame by one or more columns. It is useful for organizing the data in a more meaningful way.\n",
    "\n",
    "These are just a few examples of functions and methods available in Pandas for manipulating data in a DataFrame. "
   ]
  },
  {
   "cell_type": "code",
   "execution_count": 12,
   "id": "03c3e38a-5a1e-43ee-84c5-062114d08e6d",
   "metadata": {},
   "outputs": [],
   "source": [
    "# Example:\n",
    "\n",
    "import pandas as pd\n",
    "\n",
    "data = {'Name' : ['Rahul', 'Geeta', 'Ram'],\n",
    "        'Age' : [25, 30, 27],\n",
    "        'Gender' : ['Male', 'Female', 'Male'],\n",
    "        'Occupation' : ['Scientist', 'Doctor', 'Engineer'],\n",
    "        'Phone No' : [9947683640, 8707383017, 9876368975]\n",
    "}\n",
    "\n",
    "df = pd.DataFrame(data)\n",
    "\n",
    "df.to_csv('data.csv', index=False)"
   ]
  },
  {
   "cell_type": "code",
   "execution_count": 19,
   "id": "50eb393a-5de9-42a5-8a08-5f24508dbb12",
   "metadata": {},
   "outputs": [
    {
     "data": {
      "text/html": [
       "<div>\n",
       "<style scoped>\n",
       "    .dataframe tbody tr th:only-of-type {\n",
       "        vertical-align: middle;\n",
       "    }\n",
       "\n",
       "    .dataframe tbody tr th {\n",
       "        vertical-align: top;\n",
       "    }\n",
       "\n",
       "    .dataframe thead th {\n",
       "        text-align: right;\n",
       "    }\n",
       "</style>\n",
       "<table border=\"1\" class=\"dataframe\">\n",
       "  <thead>\n",
       "    <tr style=\"text-align: right;\">\n",
       "      <th></th>\n",
       "      <th>Name</th>\n",
       "      <th>Age</th>\n",
       "      <th>Gender</th>\n",
       "      <th>Occupation</th>\n",
       "      <th>Phone No</th>\n",
       "    </tr>\n",
       "  </thead>\n",
       "  <tbody>\n",
       "    <tr>\n",
       "      <th>0</th>\n",
       "      <td>Rahul</td>\n",
       "      <td>25</td>\n",
       "      <td>Male</td>\n",
       "      <td>Scientist</td>\n",
       "      <td>9947683640</td>\n",
       "    </tr>\n",
       "    <tr>\n",
       "      <th>1</th>\n",
       "      <td>Geeta</td>\n",
       "      <td>30</td>\n",
       "      <td>Female</td>\n",
       "      <td>Doctor</td>\n",
       "      <td>8707383017</td>\n",
       "    </tr>\n",
       "    <tr>\n",
       "      <th>2</th>\n",
       "      <td>Ram</td>\n",
       "      <td>27</td>\n",
       "      <td>Male</td>\n",
       "      <td>Engineer</td>\n",
       "      <td>9876368975</td>\n",
       "    </tr>\n",
       "  </tbody>\n",
       "</table>\n",
       "</div>"
      ],
      "text/plain": [
       "    Name  Age  Gender Occupation    Phone No\n",
       "0  Rahul   25    Male  Scientist  9947683640\n",
       "1  Geeta   30  Female     Doctor  8707383017\n",
       "2    Ram   27    Male   Engineer  9876368975"
      ]
     },
     "execution_count": 19,
     "metadata": {},
     "output_type": "execute_result"
    }
   ],
   "source": [
    "pd.read_csv('data.csv')"
   ]
  },
  {
   "cell_type": "code",
   "execution_count": 26,
   "id": "0332a8c5-ace7-4745-ad9c-f5749a9abedc",
   "metadata": {},
   "outputs": [
    {
     "data": {
      "text/plain": [
       "Name    [Rahul, Geeta, Ram]\n",
       "Age            [25, 30, 27]\n",
       "dtype: object"
      ]
     },
     "execution_count": 26,
     "metadata": {},
     "output_type": "execute_result"
    }
   ],
   "source": [
    "# head & tail:\n",
    "\n",
    "df.head(2)\n"
   ]
  },
  {
   "cell_type": "code",
   "execution_count": 30,
   "id": "0d9b08d4-9c96-4f90-bf16-c247ff6f97f8",
   "metadata": {},
   "outputs": [
    {
     "data": {
      "text/plain": [
       "Gender                 [Male, Female, Male]\n",
       "Occupation    [Scientist, Doctor, Engineer]\n",
       "dtype: object"
      ]
     },
     "execution_count": 30,
     "metadata": {},
     "output_type": "execute_result"
    }
   ],
   "source": [
    "df.tail(2)"
   ]
  },
  {
   "cell_type": "code",
   "execution_count": 31,
   "id": "b5269eff-f76d-4e08-9721-9cb66d53f920",
   "metadata": {},
   "outputs": [
    {
     "data": {
      "text/plain": [
       "count                       4\n",
       "unique                      4\n",
       "top       [Rahul, Geeta, Ram]\n",
       "freq                        1\n",
       "dtype: object"
      ]
     },
     "execution_count": 31,
     "metadata": {},
     "output_type": "execute_result"
    }
   ],
   "source": [
    "# describe:\n",
    "\n",
    "df.describe()"
   ]
  },
  {
   "cell_type": "code",
   "execution_count": null,
   "id": "0fd461ae-8e14-4fca-a817-e4e45c489a13",
   "metadata": {},
   "outputs": [],
   "source": []
  },
  {
   "cell_type": "code",
   "execution_count": null,
   "id": "db41ba25-0dc4-419b-bd3c-3173da50c580",
   "metadata": {},
   "outputs": [],
   "source": []
  },
  {
   "cell_type": "markdown",
   "id": "e414d286-6fd1-45f7-8e95-fb7baa9024ed",
   "metadata": {},
   "source": [
    "Q6. Which of the following is mutable in nature Series, DataFrame, Panel?\n",
    "\n",
    "Ans. In Pandas, both Series and DataFrame are mutable in nature, meaning that you can modify their contents after they are created. However, Panel is not mutable and its values cannot be modified directly."
   ]
  },
  {
   "cell_type": "code",
   "execution_count": 37,
   "id": "acf58ee4-6f68-4985-b01e-e1019cdfb2cb",
   "metadata": {},
   "outputs": [
    {
     "name": "stdout",
     "output_type": "stream",
     "text": [
      "0     1\n",
      "1     2\n",
      "2    10\n",
      "3     4\n",
      "dtype: int64\n",
      "    A  B\n",
      "0   1  4\n",
      "1  20  5\n",
      "2   3  6\n"
     ]
    }
   ],
   "source": [
    "# Example: \n",
    "\n",
    "import pandas as pd\n",
    "\n",
    "# Create a Series and a DataFrame\n",
    "s = pd.Series([1, 2, 3, 4])\n",
    "df = pd.DataFrame({'A': [1, 2, 3], 'B': [4, 5, 6]})\n",
    "\n",
    "# Modify the values of the Series and DataFrame\n",
    "s[2] = 10\n",
    "df['A'][1] = 20\n",
    "\n",
    "# Print the modified Series and DataFrame\n",
    "print(s)  # Output: 0     1, 1     2, 2    10, 3     4, dtype: int64\n",
    "print(df)  # Output:    A  B, 0  1  4, 1  20  5, 2  3  6\n"
   ]
  },
  {
   "cell_type": "code",
   "execution_count": null,
   "id": "900713c7-e11b-4483-aae4-05697563d50b",
   "metadata": {},
   "outputs": [],
   "source": []
  },
  {
   "cell_type": "code",
   "execution_count": null,
   "id": "d493f1e5-748c-4918-9b25-2e73e09867fb",
   "metadata": {},
   "outputs": [],
   "source": []
  },
  {
   "cell_type": "markdown",
   "id": "735f6b07-0d29-4300-85d4-7db84c8cfed5",
   "metadata": {},
   "source": [
    "Q7. Create a DataFrame using multiple Series. Explain with an example.\n",
    "\n",
    "Ans. "
   ]
  },
  {
   "cell_type": "code",
   "execution_count": 40,
   "id": "e43450f0-7695-41ca-983a-83d5c43c6399",
   "metadata": {},
   "outputs": [
    {
     "name": "stdout",
     "output_type": "stream",
     "text": [
      "     Name  Age  Gender\n",
      "0   Alice   25  Female\n",
      "1     Bob   30    Male\n",
      "2  Claire   27  Female\n"
     ]
    }
   ],
   "source": [
    "import pandas as pd\n",
    "\n",
    "name = pd.Series(['Alice', 'Bob', 'Claire'])\n",
    "age = pd.Series([25, 30, 27])\n",
    "gender = pd.Series(['Female', 'Male', 'Female'])\n",
    "\n",
    "data = {'Name': name, 'Age': age, 'Gender': gender}\n",
    "\n",
    "df = pd.DataFrame(data)\n",
    "print(df)"
   ]
  },
  {
   "cell_type": "code",
   "execution_count": null,
   "id": "a5a0c380-d13c-4af2-8e86-d280983218e6",
   "metadata": {},
   "outputs": [],
   "source": []
  }
 ],
 "metadata": {
  "kernelspec": {
   "display_name": "Python 3 (ipykernel)",
   "language": "python",
   "name": "python3"
  },
  "language_info": {
   "codemirror_mode": {
    "name": "ipython",
    "version": 3
   },
   "file_extension": ".py",
   "mimetype": "text/x-python",
   "name": "python",
   "nbconvert_exporter": "python",
   "pygments_lexer": "ipython3",
   "version": "3.10.8"
  }
 },
 "nbformat": 4,
 "nbformat_minor": 5
}
