{
 "cells": [
  {
   "cell_type": "markdown",
   "id": "168596d4-994b-4118-a318-9c3b251abafa",
   "metadata": {},
   "source": [
    "## Assignment | 2nd Feb 2023"
   ]
  },
  {
   "cell_type": "code",
   "execution_count": null,
   "id": "429ff1a9-fcde-4366-a879-c9d85ae2f999",
   "metadata": {},
   "outputs": [],
   "source": []
  },
  {
   "cell_type": "markdown",
   "id": "4ca754cb-6d15-4e43-ac7d-ba7f1fdd268f",
   "metadata": {},
   "source": [
    "Q1. What are the characteristics of the tuples? Is tuple immutable?\n",
    "\n",
    "Ans. Tuple items are ordered, unchangeable, and allow duplicate values. Tuple items are indexed, the first item has index [0] , the second item has index [1] etc. Yes, tuple is immutable Once we've declared the contents of a tuple, we can't modify the contents of that tuple."
   ]
  },
  {
   "cell_type": "code",
   "execution_count": null,
   "id": "6fe15d19-f864-4030-8d3a-9470d6247c6e",
   "metadata": {},
   "outputs": [],
   "source": []
  },
  {
   "cell_type": "markdown",
   "id": "a95a7c3e-48d1-4f24-a961-443ef4740cc4",
   "metadata": {},
   "source": [
    "Q2. What are the two tuple methods in python? Give an example of each method. Give a reason why tuples have only two in-built methods as compared to Lists.\n",
    "\n",
    "Ans. The two tuple methods in Python are count() and index()."
   ]
  },
  {
   "cell_type": "code",
   "execution_count": 9,
   "id": "1898bfbd-53bf-4429-b4ee-0e56efadc823",
   "metadata": {},
   "outputs": [],
   "source": [
    "t=(1,1,2,3,4,5)"
   ]
  },
  {
   "cell_type": "code",
   "execution_count": 15,
   "id": "4cd48d15-806a-46be-97a4-c115bc5ed8d8",
   "metadata": {},
   "outputs": [
    {
     "data": {
      "text/plain": [
       "2"
      ]
     },
     "execution_count": 15,
     "metadata": {},
     "output_type": "execute_result"
    }
   ],
   "source": [
    "t.count(1) #Return number of occurrences of value."
   ]
  },
  {
   "cell_type": "code",
   "execution_count": 14,
   "id": "f07e7058-91a6-4cd7-9c0a-2a158f46a77a",
   "metadata": {},
   "outputs": [
    {
     "data": {
      "text/plain": [
       "2"
      ]
     },
     "execution_count": 14,
     "metadata": {},
     "output_type": "execute_result"
    }
   ],
   "source": [
    "t.index(2) #Return first index of value."
   ]
  },
  {
   "cell_type": "code",
   "execution_count": null,
   "id": "1b92fbcb-187e-4d5d-9ae8-e5c40c13dbfe",
   "metadata": {},
   "outputs": [],
   "source": []
  },
  {
   "cell_type": "markdown",
   "id": "be09b721-2a9f-400d-9048-c4a81d99f1ce",
   "metadata": {},
   "source": [
    "Q3. Which collection datatypes in python do not allow duplicate items? Write a code using a set to remove duplicates from the given list.\n",
    "List = [1, 1, 1, 2, 1, 3, 1, 4, 2, 1, 2, 2, 2, 3, 2, 4, 3, 1, 3, 2, 3, 3, 3, 4, 4, 1, 4, 2, 4, 3, 4, 4]\n",
    "\n",
    "Ans. set{} do not allow duplicate of items."
   ]
  },
  {
   "cell_type": "code",
   "execution_count": 47,
   "id": "deadeead-34f9-4a2a-b356-109ebd5c049c",
   "metadata": {},
   "outputs": [],
   "source": [
    "list_1 = [1,1,1,2,1,3,1,4,2,1,2,2,2,3,2,4,3,1,3,2,3,3,3,4,4,1,4,2,4,3,4,4]"
   ]
  },
  {
   "cell_type": "code",
   "execution_count": 98,
   "id": "28ee6127-9586-4aa8-8404-1c329e85cbdc",
   "metadata": {},
   "outputs": [
    {
     "name": "stdout",
     "output_type": "stream",
     "text": [
      "1\n",
      "2\n",
      "3\n",
      "4\n",
      "5\n"
     ]
    }
   ],
   "source": [
    "for list_1 in set:\n",
    "    print(list_1)"
   ]
  },
  {
   "cell_type": "code",
   "execution_count": null,
   "id": "a41d6e26-25e3-4af6-91bb-b91507c99d67",
   "metadata": {},
   "outputs": [],
   "source": []
  },
  {
   "cell_type": "markdown",
   "id": "4d2d9803-76b4-47f9-9924-5ee158ed2f90",
   "metadata": {},
   "source": [
    "Q4. Explain the difference between the union() and update() methods for a set. Give an example of each method.\n",
    "\n",
    "Ans. set.union()  ->  Return the union of sets as a new set.\n",
    "set.update()  ->  Update a set with the union of itself and others."
   ]
  },
  {
   "cell_type": "code",
   "execution_count": 66,
   "id": "a5892679-4ad2-4b74-b222-9d83c6edb39f",
   "metadata": {},
   "outputs": [],
   "source": [
    "set_1 = {1,2,3,4}\n",
    "set_2 = {5,6,7,8}"
   ]
  },
  {
   "cell_type": "code",
   "execution_count": 67,
   "id": "a698bb55-806b-4d16-ba4a-ecf405b260aa",
   "metadata": {},
   "outputs": [
    {
     "name": "stdout",
     "output_type": "stream",
     "text": [
      "{1, 2, 3, 4, 5, 6, 7, 8}\n"
     ]
    }
   ],
   "source": [
    "set_1.update(set_2)\n",
    "print(set_1)"
   ]
  },
  {
   "cell_type": "code",
   "execution_count": 69,
   "id": "86d42e22-c480-413d-8b71-cb4d04236e24",
   "metadata": {},
   "outputs": [],
   "source": [
    "set_3 = {1,2,3}\n",
    "set_4 = {3,4,5}"
   ]
  },
  {
   "cell_type": "code",
   "execution_count": 73,
   "id": "e807a778-21b1-4fc7-b28f-6c9fcc4ab0b4",
   "metadata": {},
   "outputs": [
    {
     "name": "stdout",
     "output_type": "stream",
     "text": [
      "{1, 2, 3}\n"
     ]
    }
   ],
   "source": [
    "set_3.union(set_4)\n",
    "print(set_3)"
   ]
  },
  {
   "cell_type": "code",
   "execution_count": null,
   "id": "dc99cd73-16fa-42d5-9ce5-105952bc0b42",
   "metadata": {},
   "outputs": [],
   "source": []
  },
  {
   "cell_type": "markdown",
   "id": "69df6271-d76c-4405-8d85-4b3428c41e48",
   "metadata": {},
   "source": [
    "Q5. What is a dictionary? Give an example. Also, state whether a dictionary is ordered or unordered.\n",
    "\n",
    "Ans. A Dictionary in Python works similar to the Dictionary in the real world. Keys of a Dictionary must be unique and of immutable data type such as Strings, Integers and tuples, but the key-values can be repeated and be of any type.\n",
    "\n",
    "The dictionary is an unordered collection that contains key:value pairs separated by commas inside curly brackets."
   ]
  },
  {
   "cell_type": "code",
   "execution_count": 76,
   "id": "15e4c0db-d644-4b5a-afac-7a525f6fa462",
   "metadata": {},
   "outputs": [],
   "source": [
    "# Example\n",
    "\n",
    "capitals = {\"USA\":\"Washington D.C.\", \"France\":\"Paris\", \"India\":\"New Delhi\"}"
   ]
  },
  {
   "cell_type": "code",
   "execution_count": 77,
   "id": "6563ada2-ff6d-4b96-937f-df19902fe534",
   "metadata": {},
   "outputs": [
    {
     "data": {
      "text/plain": [
       "dict"
      ]
     },
     "execution_count": 77,
     "metadata": {},
     "output_type": "execute_result"
    }
   ],
   "source": [
    "type(capitals)"
   ]
  },
  {
   "cell_type": "code",
   "execution_count": null,
   "id": "660bc2cd-5c6c-4a14-a73f-69b61b86918c",
   "metadata": {},
   "outputs": [],
   "source": []
  },
  {
   "cell_type": "markdown",
   "id": "fedcdf9d-2324-420c-85d8-8a64741351a5",
   "metadata": {},
   "source": [
    "Q6. Can we create a nested dictionary? If so, please give an example by creating a simple one-level nested dictionary.\n",
    "\n",
    "Ans. A dictionary can contain dictionaries, this is called nested dictionaries. \n",
    "\n",
    "Nested Dictionary: Nesting Dictionary means putting a dictionary inside another dictionary. Nesting is of great use as the kind of information we can model in programs is expanded greatly. "
   ]
  },
  {
   "cell_type": "code",
   "execution_count": 80,
   "id": "6dc0731c-a984-49a8-b1d6-ad1e0254607a",
   "metadata": {},
   "outputs": [
    {
     "name": "stdout",
     "output_type": "stream",
     "text": [
      "Nested dictionary 1-\n",
      "{'Dict1': {}, 'Dict2': {}}\n",
      "\n",
      "Nested dictionary 2-\n",
      "{'Dict1': {'name': 'Sid', 'age': '19'}, 'Dict2': {'name': 'Harsh', 'age': '18'}}\n"
     ]
    }
   ],
   "source": [
    "# Example:-\n",
    "\n",
    "\n",
    "# Empty nested dictionary\n",
    "Dict = { 'Dict1': { },\n",
    "         'Dict2': { }}\n",
    "print(\"Nested dictionary 1-\")\n",
    "print(Dict)\n",
    " \n",
    "# Nested dictionary having same keys\n",
    "Dict = { 'Dict1': {'name': 'Sid', 'age': '19'},\n",
    "         'Dict2': {'name': 'Harsh', 'age': '18'}}\n",
    "print(\"\\nNested dictionary 2-\")\n",
    "print(Dict)"
   ]
  },
  {
   "cell_type": "code",
   "execution_count": null,
   "id": "d8c25fe6-a465-488a-9819-194d6c669cb6",
   "metadata": {},
   "outputs": [],
   "source": []
  },
  {
   "cell_type": "markdown",
   "id": "971098e3-78c7-4394-94bf-6feb0b6822df",
   "metadata": {},
   "source": [
    "Q7. Using setdefault() method, create key named topics in the given dictionary and also add the value of the key as this list ['Python', 'Machine Learning’, 'Deep Learning']\n",
    "\n",
    "dict1 = {'language' : 'Python', 'course': 'Data Science Masters'}\n",
    "\n",
    "\n",
    "Ans. "
   ]
  },
  {
   "cell_type": "code",
   "execution_count": 90,
   "id": "0ae23980-3c3c-4f5a-9f50-63101a3fd131",
   "metadata": {},
   "outputs": [
    {
     "name": "stdout",
     "output_type": "stream",
     "text": [
      "{'language': 'Python', 'course': 'Data Science Masters', 'Key': {'language': 'Python', 'course': 'Data Science Masters'}}\n"
     ]
    }
   ],
   "source": [
    "dict1 = {'language' : 'Python', 'course': 'Data Science Masters'}\n",
    "dict1.setdefault('Key',{'language' : 'Python', 'course': 'Data Science Masters'})\n",
    "print(dict1)"
   ]
  },
  {
   "cell_type": "code",
   "execution_count": null,
   "id": "8fdfd152-9d81-48f8-b3f3-f2ddd71d347e",
   "metadata": {},
   "outputs": [],
   "source": []
  },
  {
   "cell_type": "markdown",
   "id": "bc320d60-fde7-4c23-9638-eaff9fceb4a4",
   "metadata": {},
   "source": [
    "Q8. What are the three view objects in dictionaries? Use the three in-built methods in python to display these three view objects for the given dictionary.\n",
    "\n",
    "dict2 = {'Sport': 'Cricket' , 'Teams': ['India', 'Australia', 'England', 'South Africa', 'Sri Lanka', 'New Zealand']}\n",
    "\n",
    "Ans. The three view objects in dictionaries are keys, values and items.\n"
   ]
  },
  {
   "cell_type": "code",
   "execution_count": 91,
   "id": "4f08d3dc-0964-4a4d-a7d6-2699ebe85d15",
   "metadata": {},
   "outputs": [
    {
     "name": "stdout",
     "output_type": "stream",
     "text": [
      "dict_keys(['Sport', 'Teams'])\n",
      "<class 'dict_keys'>\n"
     ]
    }
   ],
   "source": [
    "dict2 = {'Sport': 'Cricket' , 'Teams': ['India', 'Australia', 'England', 'South Africa', 'Sri Lanka', 'New Zealand']}\n",
    "keys = dict2.keys()\n",
    "print(keys)\n",
    "print(type(keys))"
   ]
  },
  {
   "cell_type": "code",
   "execution_count": 93,
   "id": "21955773-a9e5-4413-adaa-adb18ab54fba",
   "metadata": {},
   "outputs": [
    {
     "name": "stdout",
     "output_type": "stream",
     "text": [
      "dict_values(['Cricket', ['India', 'Australia', 'England', 'South Africa', 'Sri Lanka', 'New Zealand']])\n",
      "<class 'dict_values'>\n"
     ]
    }
   ],
   "source": [
    "dict2 = {'Sport': 'Cricket' , 'Teams': ['India', 'Australia', 'England', 'South Africa', 'Sri Lanka', 'New Zealand']}\n",
    "values = dict2.values()\n",
    "print(values)\n",
    "print(type(values))"
   ]
  },
  {
   "cell_type": "code",
   "execution_count": 94,
   "id": "08ceb9c1-6819-4470-9c2f-dd8d2056e57f",
   "metadata": {},
   "outputs": [
    {
     "name": "stdout",
     "output_type": "stream",
     "text": [
      "dict_items([('Sport', 'Cricket'), ('Teams', ['India', 'Australia', 'England', 'South Africa', 'Sri Lanka', 'New Zealand'])])\n",
      "<class 'dict_items'>\n"
     ]
    }
   ],
   "source": [
    "dict2 = {'Sport': 'Cricket' , 'Teams': ['India', 'Australia', 'England', 'South Africa', 'Sri Lanka', 'New Zealand']}\n",
    "items = dict2.items()\n",
    "print(items)\n",
    "print(type(items))"
   ]
  },
  {
   "cell_type": "code",
   "execution_count": null,
   "id": "ff1e693c-1062-4786-b681-3daa06553245",
   "metadata": {},
   "outputs": [],
   "source": []
  }
 ],
 "metadata": {
  "kernelspec": {
   "display_name": "Python 3 (ipykernel)",
   "language": "python",
   "name": "python3"
  },
  "language_info": {
   "codemirror_mode": {
    "name": "ipython",
    "version": 3
   },
   "file_extension": ".py",
   "mimetype": "text/x-python",
   "name": "python",
   "nbconvert_exporter": "python",
   "pygments_lexer": "ipython3",
   "version": "3.10.8"
  }
 },
 "nbformat": 4,
 "nbformat_minor": 5
}
