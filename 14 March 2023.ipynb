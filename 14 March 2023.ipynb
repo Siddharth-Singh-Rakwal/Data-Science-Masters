{
 "cells": [
  {
   "cell_type": "markdown",
   "id": "bcff273f-940d-467d-b099-85c05fece238",
   "metadata": {},
   "source": [
    "# Assignment | 14th March 2023"
   ]
  },
  {
   "cell_type": "code",
   "execution_count": null,
   "id": "60612bcc-00ee-438b-a796-3cc2e4a390a4",
   "metadata": {},
   "outputs": [],
   "source": []
  },
  {
   "cell_type": "markdown",
   "id": "4584c247-3788-466c-a279-b474f3272b9f",
   "metadata": {},
   "source": [
    "Q1. Write a Python function that takes in two arrays of data and calculates the F-value for a variance ratio\n",
    "test. The function should return the F-value and the corresponding p-value for the test.\n",
    "\n",
    "Ans."
   ]
  },
  {
   "cell_type": "code",
   "execution_count": 3,
   "id": "6d203ed1-0d3d-46d5-ae90-bcb98ebaad82",
   "metadata": {},
   "outputs": [
    {
     "name": "stdout",
     "output_type": "stream",
     "text": [
      "1.0 0.5000000000000001\n"
     ]
    }
   ],
   "source": [
    "import numpy as np\n",
    "from scipy.stats import f\n",
    "\n",
    "def varance_ratio_test(data1, data2):\n",
    "    n1 = len(data1)\n",
    "    n2 = len(data2)\n",
    "    var1 = np.var(data1, ddof=1)\n",
    "    var2 = np.var(data2, ddof=1)\n",
    "    \n",
    "    F = var1/var2\n",
    "    df1 = n1-1\n",
    "    df2 = n2-1\n",
    "    p_value = 1-f.cdf(F, df1, df2)\n",
    "    \n",
    "    return F, p_value\n",
    "\n",
    "data1 = [2,4,6,8,10,12,14,16,18,20]\n",
    "data2 = [1,3,5,7,9,11,13,15,17,19]\n",
    "F, p_value = variance_ratio_test(data1, data2)\n",
    "print(F, p_value)"
   ]
  },
  {
   "cell_type": "code",
   "execution_count": null,
   "id": "2caddfd6-d72c-4ff3-b9b3-6b76266e3de7",
   "metadata": {},
   "outputs": [],
   "source": []
  },
  {
   "cell_type": "markdown",
   "id": "d9f22117-cad9-411e-b22a-b3f4101f6c14",
   "metadata": {},
   "source": [
    "Q2. Given a significance level of 0.05 and the degrees of freedom for the numerator and denominator of an\n",
    "F-distribution, write a Python function that returns the critical F-value for a two-tailed test.\n",
    "\n",
    "Ans. "
   ]
  },
  {
   "cell_type": "code",
   "execution_count": 4,
   "id": "10338cb7-7ff8-453f-859e-ff6dec513b02",
   "metadata": {},
   "outputs": [
    {
     "name": "stdout",
     "output_type": "stream",
     "text": [
      "0.15107670102998205\n"
     ]
    }
   ],
   "source": [
    "from scipy.stats import f\n",
    "\n",
    "def critical_f_value(dfn, dfd, alpha=0.05):\n",
    "    f_crit = f.ppf(alpha/2, dfn, dfd)\n",
    "    \n",
    "    return f_crit\n",
    "\n",
    "dfn = 5\n",
    "dfd = 10\n",
    "alpha = 0.05\n",
    "f_crit = critical_f_value(dfn, dfd, alpha)\n",
    "print(f_crit)"
   ]
  },
  {
   "cell_type": "code",
   "execution_count": null,
   "id": "98154a9f-8cbb-4115-b4ff-9ef26e3061c8",
   "metadata": {},
   "outputs": [],
   "source": []
  },
  {
   "cell_type": "markdown",
   "id": "af5ca8ca-cfc3-417f-a45f-36f6a79a7523",
   "metadata": {},
   "source": [
    "Q3. Write a Python program that generates random samples from two normal distributions with known\n",
    "variances and uses an F-test to determine if the variances are equal. The program should output the F-\n",
    "value, degrees of freedom, and p-value for the test.\n",
    "\n",
    "Ans."
   ]
  },
  {
   "cell_type": "code",
   "execution_count": 5,
   "id": "7a07ac9b-3865-479f-b4ce-2299913a402d",
   "metadata": {},
   "outputs": [
    {
     "name": "stdout",
     "output_type": "stream",
     "text": [
      "F-value:  0.6274376043018689\n",
      "Degrees of freedom:  49 ,  59\n",
      "p-value:  1.9049797718924713\n"
     ]
    }
   ],
   "source": [
    "import numpy as np\n",
    "from scipy.stats import f\n",
    "\n",
    "# Set the random seed for reproducibility\n",
    "np.random.seed(1234)\n",
    "\n",
    "# Generate random samples from two normal distributions with known variances\n",
    "n1 = 50\n",
    "n2 = 60\n",
    "var1 = 4\n",
    "var2 = 6\n",
    "mean1 = 10\n",
    "mean2 = 10.5\n",
    "sample1 = np.random.normal(mean1, np.sqrt(var1), n1)\n",
    "sample2 = np.random.normal(mean2, np.sqrt(var2), n2)\n",
    "\n",
    "# Perform the F-test to determine if the variances are equal\n",
    "F = np.var(sample1, ddof=1) / np.var(sample2, ddof=1)\n",
    "dfn = n1 - 1\n",
    "dfd = n2 - 1\n",
    "p_value = 2 * (1 - f.cdf(F, dfn, dfd))\n",
    "\n",
    "# Output the results\n",
    "print(\"F-value: \", F)\n",
    "print(\"Degrees of freedom: \", dfn, \", \", dfd)\n",
    "print(\"p-value: \", p_value)"
   ]
  },
  {
   "cell_type": "code",
   "execution_count": null,
   "id": "2cc0d86e-7f20-4e8e-b623-88e217500505",
   "metadata": {},
   "outputs": [],
   "source": []
  },
  {
   "cell_type": "markdown",
   "id": "79030c9c-6840-4cb7-b5ef-280c7ef6e780",
   "metadata": {},
   "source": [
    "Q4.The variances of two populations are known to be 10 and 15. A sample of 12 observations is taken from\n",
    "each population. Conduct an F-test at the 5% significance level to determine if the variances are\n",
    "significantly different.\n",
    "\n",
    "Ans."
   ]
  },
  {
   "cell_type": "code",
   "execution_count": 6,
   "id": "a8594989-6e17-43c6-b47b-0041c55b0a1f",
   "metadata": {},
   "outputs": [
    {
     "name": "stdout",
     "output_type": "stream",
     "text": [
      "Fail to reject the null hypothesis, variances are not significantly different.\n",
      "F-value:  0.8832878293733425\n",
      "Degrees of freedom:  11 ,  11\n",
      "p-value:  1.1593969287689205\n"
     ]
    }
   ],
   "source": [
    "import numpy as np\n",
    "from scipy.stats import f\n",
    "\n",
    "# Set the random seed for reproducibility\n",
    "np.random.seed(1234)\n",
    "\n",
    "# Generate random samples from two normal distributions with known variances\n",
    "var1 = 10\n",
    "var2 = 15\n",
    "n1 = 12\n",
    "n2 = 12\n",
    "mean1 = 0\n",
    "mean2 = 0\n",
    "sample1 = np.random.normal(mean1, np.sqrt(var1), n1)\n",
    "sample2 = np.random.normal(mean2, np.sqrt(var2), n2)\n",
    "\n",
    "# Perform the F-test to determine if the variances are equal\n",
    "F = np.var(sample1, ddof=1) / np.var(sample2, ddof=1)\n",
    "dfn = n1 - 1\n",
    "dfd = n2 - 1\n",
    "alpha = 0.05\n",
    "p_value = 2 * (1 - f.cdf(F, dfn, dfd))\n",
    "\n",
    "# Check the p-value against the significance level and output the results\n",
    "if p_value < alpha:\n",
    "    print(\"Reject the null hypothesis, variances are significantly different.\")\n",
    "else:\n",
    "    print(\"Fail to reject the null hypothesis, variances are not significantly different.\")\n",
    "print(\"F-value: \", F)\n",
    "print(\"Degrees of freedom: \", dfn, \", \", dfd)\n",
    "print(\"p-value: \", p_value)\n"
   ]
  },
  {
   "cell_type": "code",
   "execution_count": null,
   "id": "1139ab62-01a5-46e3-b67d-5f1ec6e10532",
   "metadata": {},
   "outputs": [],
   "source": []
  },
  {
   "cell_type": "markdown",
   "id": "8d355563-e101-48c7-b0f4-55958d810bb3",
   "metadata": {},
   "source": [
    "Q5. A manufacturer claims that the variance of the diameter of a certain product is 0.005. A sample of 25\n",
    "products is taken, and the sample variance is found to be 0.006. Conduct an F-test at the 1% significance\n",
    "level to determine if the claim is justified.\n",
    "\n",
    "Ans. "
   ]
  },
  {
   "cell_type": "code",
   "execution_count": 7,
   "id": "fe210a89-9ab8-4ec1-ad3f-c861e3be059d",
   "metadata": {},
   "outputs": [
    {
     "name": "stdout",
     "output_type": "stream",
     "text": [
      "Fail to reject the null hypothesis, the claim is justified.\n",
      "F-value:  1.0660103731672703\n",
      "Degrees of freedom:  24 ,  inf\n",
      "p-value:  1.0\n"
     ]
    }
   ],
   "source": [
    "import numpy as np\n",
    "from scipy.stats import f\n",
    "\n",
    "# Set the random seed for reproducibility\n",
    "np.random.seed(1234)\n",
    "\n",
    "# Generate random samples from a normal distribution with known variance\n",
    "var = 0.005\n",
    "n = 25\n",
    "mean = 0\n",
    "sample = np.random.normal(mean, np.sqrt(var), n)\n",
    "\n",
    "# Calculate the sample variance\n",
    "sample_var = np.var(sample, ddof=1)\n",
    "\n",
    "# Perform the F-test to determine if the claim is justified\n",
    "F = sample_var / var\n",
    "dfn = n - 1\n",
    "dfd = np.inf\n",
    "alpha = 0.01\n",
    "p_value = 1 - f.cdf(F, dfn, dfd)\n",
    "\n",
    "# Check the p-value against the significance level and output the results\n",
    "if p_value < alpha:\n",
    "    print(\"Reject the null hypothesis, the claim is not justified.\")\n",
    "else:\n",
    "    print(\"Fail to reject the null hypothesis, the claim is justified.\")\n",
    "print(\"F-value: \", F)\n",
    "print(\"Degrees of freedom: \", dfn, \", \", dfd)\n",
    "print(\"p-value: \", p_value)"
   ]
  },
  {
   "cell_type": "code",
   "execution_count": null,
   "id": "c9293aed-9e4c-4dff-b2b2-a97244bbefb9",
   "metadata": {},
   "outputs": [],
   "source": []
  },
  {
   "cell_type": "markdown",
   "id": "cd4c1603-e76c-48ca-8e72-00c55a6e10b4",
   "metadata": {},
   "source": [
    "Q6. Write a Python function that takes in the degrees of freedom for the numerator and denominator of an\n",
    "F-distribution and calculates the mean and variance of the distribution. The function should return the\n",
    "mean and variance as a tuple.\n",
    "\n",
    "Ans. "
   ]
  },
  {
   "cell_type": "code",
   "execution_count": 9,
   "id": "588f181f-2a1c-41f2-8213-998e4cc9afb3",
   "metadata": {},
   "outputs": [],
   "source": [
    "def f_dist_mean_var(dfn, dfd):\n",
    "    if dfd > 2:\n",
    "        mean = dfd / (dfd - 2)\n",
    "        var = (2 * dfd ** 2 * (dfn + dfd - 2)) / (dfn * (dfd - 2) ** 2 * (dfd - 4))\n",
    "    else:\n",
    "        mean = float('inf')\n",
    "        var = float('inf')\n",
    "\n",
    "    return (mean, var)"
   ]
  },
  {
   "cell_type": "markdown",
   "id": "8527c5cf-c300-44f2-9b61-c2d1acbc4376",
   "metadata": {},
   "source": [
    "The mean of an F-distribution is calculated as dfd / (dfd - 2), and the variance is calculated as (2 * dfd^2 * (dfn + dfd - 2)) / (dfn * (dfd - 2)^2 * (dfd - 4)). The function returns the mean and variance as a tuple. You can call this function with the desired values for dfn and dfd and it will return the mean and variance of the F-distribution."
   ]
  },
  {
   "cell_type": "code",
   "execution_count": null,
   "id": "2ddc52e4-312b-441a-880e-4d63bb516b23",
   "metadata": {},
   "outputs": [],
   "source": []
  },
  {
   "cell_type": "markdown",
   "id": "dd57b081-8b06-4050-8dea-52fcd2790f76",
   "metadata": {},
   "source": [
    "Q7. A random sample of 10 measurements is taken from a normal population with unknown variance. The\n",
    "sample variance is found to be 25. Another random sample of 15 measurements is taken from another\n",
    "normal population with unknown variance, and the sample variance is found to be 20. Conduct an F-test\n",
    "at the 10% significance level to determine if the variances are significantly different.\n",
    "\n",
    "Ans. "
   ]
  },
  {
   "cell_type": "code",
   "execution_count": 10,
   "id": "719f7e08-00b0-4f96-9173-abac277c17f9",
   "metadata": {},
   "outputs": [
    {
     "name": "stdout",
     "output_type": "stream",
     "text": [
      "Fail to reject null hypothesis: Variances are not significantly different\n"
     ]
    }
   ],
   "source": [
    "import numpy as np\n",
    "from scipy.stats import f\n",
    "\n",
    "# Sample sizes\n",
    "n1 = 10\n",
    "n2 = 15\n",
    "\n",
    "# Sample variances\n",
    "s1_sq = 25\n",
    "s2_sq = 20\n",
    "\n",
    "# Degrees of freedom\n",
    "df1 = n1 - 1\n",
    "df2 = n2 - 1\n",
    "\n",
    "# F-test\n",
    "F = s1_sq / s2_sq\n",
    "p_value = 1 - f.cdf(F, df1, df2)\n",
    "alpha = 0.1\n",
    "\n",
    "# Conclusion\n",
    "if p_value < alpha/2 or p_value > 1 - alpha/2:\n",
    "    print(\"Reject null hypothesis: Variances are significantly different\")\n",
    "else:\n",
    "    print(\"Fail to reject null hypothesis: Variances are not significantly different\")"
   ]
  },
  {
   "cell_type": "code",
   "execution_count": null,
   "id": "31c8922d-2d86-40d9-aad7-0588aa52b6fe",
   "metadata": {},
   "outputs": [],
   "source": []
  },
  {
   "cell_type": "markdown",
   "id": "ad5ebdab-b1cc-4b74-aae5-1446cb8b5d38",
   "metadata": {},
   "source": [
    "Q8. The following data represent the waiting times in minutes at two different restaurants on a Saturday\n",
    "night: Restaurant A: 24, 25, 28, 23, 22, 20, 27; Restaurant B: 31, 33, 35, 30, 32, 36. Conduct an F-test at the 5%\n",
    "significance level to determine if the variances are significantly different.\n",
    "\n",
    "Ans."
   ]
  },
  {
   "cell_type": "code",
   "execution_count": 11,
   "id": "833e22ac-85c2-4286-9426-a7d1daaabccc",
   "metadata": {},
   "outputs": [
    {
     "name": "stdout",
     "output_type": "stream",
     "text": [
      "Fail to reject null hypothesis: Variances are not significantly different\n"
     ]
    }
   ],
   "source": [
    "import numpy as np\n",
    "from scipy.stats import f\n",
    "\n",
    "# Waiting times for restaurant A and B\n",
    "a = np.array([24, 25, 28, 23, 22, 20, 27])\n",
    "b = np.array([31, 33, 35, 30, 32, 36])\n",
    "\n",
    "# Sample variances\n",
    "var_a = np.var(a, ddof=1)\n",
    "var_b = np.var(b, ddof=1)\n",
    "\n",
    "# Degrees of freedom\n",
    "df_a = len(a) - 1\n",
    "df_b = len(b) - 1\n",
    "\n",
    "# F-test\n",
    "F = var_a / var_b\n",
    "p_value = 1 - f.cdf(F, df_a, df_b)\n",
    "alpha = 0.05\n",
    "\n",
    "# Conclusion\n",
    "if p_value < alpha/2 or p_value > 1 - alpha/2:\n",
    "    print(\"Reject null hypothesis: Variances are significantly different\")\n",
    "else:\n",
    "    print(\"Fail to reject null hypothesis: Variances are not significantly different\")"
   ]
  },
  {
   "cell_type": "code",
   "execution_count": null,
   "id": "010d8fbf-0340-4dc8-a134-f25ba66f7053",
   "metadata": {},
   "outputs": [],
   "source": []
  },
  {
   "cell_type": "markdown",
   "id": "33aeeb89-b987-448c-9216-5d56bf8c2021",
   "metadata": {},
   "source": [
    "Q9. The following data represent the test scores of two groups of students: Group A: 80, 85, 90, 92, 87, 83;\n",
    "Group B: 75, 78, 82, 79, 81, 84. Conduct an F-test at the 1% significance level to determine if the variances\n",
    "are significantly different.\n",
    "\n",
    "Ans."
   ]
  },
  {
   "cell_type": "code",
   "execution_count": 12,
   "id": "6d8a9a0d-8a1e-43e6-84aa-498079b99870",
   "metadata": {},
   "outputs": [
    {
     "name": "stdout",
     "output_type": "stream",
     "text": [
      "F-value: 8.040089086859687\n",
      "p-value: 0.017684171924487787\n"
     ]
    }
   ],
   "source": [
    "from scipy.stats import f_oneway\n",
    "\n",
    "groupA = [80, 85, 90, 92, 87, 83]\n",
    "groupB = [75, 78, 82, 79, 81, 84]\n",
    "\n",
    "F, p = f_oneway(groupA, groupB)\n",
    "\n",
    "print(\"F-value:\", F)\n",
    "print(\"p-value:\", p)"
   ]
  },
  {
   "cell_type": "markdown",
   "id": "0b32af48-b574-4510-b515-d1a46dc2829f",
   "metadata": {},
   "source": [
    "The p-value is greater than the significance level of 0.01, so we fail to reject the null hypothesis that the variances of the two groups are equal. Therefore, we can conclude that there is not enough evidence to suggest that the variances are significantly different at the 1% significance level."
   ]
  },
  {
   "cell_type": "code",
   "execution_count": null,
   "id": "ba8259f6-1117-435b-8945-735476eff865",
   "metadata": {},
   "outputs": [],
   "source": []
  }
 ],
 "metadata": {
  "kernelspec": {
   "display_name": "Python 3 (ipykernel)",
   "language": "python",
   "name": "python3"
  },
  "language_info": {
   "codemirror_mode": {
    "name": "ipython",
    "version": 3
   },
   "file_extension": ".py",
   "mimetype": "text/x-python",
   "name": "python",
   "nbconvert_exporter": "python",
   "pygments_lexer": "ipython3",
   "version": "3.10.8"
  }
 },
 "nbformat": 4,
 "nbformat_minor": 5
}
