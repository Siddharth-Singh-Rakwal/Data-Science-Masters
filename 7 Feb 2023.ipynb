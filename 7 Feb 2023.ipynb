{
 "cells": [
  {
   "cell_type": "markdown",
   "id": "357f5218-6faa-46f1-8164-2e2016233701",
   "metadata": {},
   "source": [
    "## Assignment | 7th Feb 2023"
   ]
  },
  {
   "cell_type": "code",
   "execution_count": null,
   "id": "a2d910a8-5113-437b-8ea0-ac4893f8343c",
   "metadata": {},
   "outputs": [],
   "source": []
  },
  {
   "cell_type": "markdown",
   "id": "5b60a3ea-fda8-49ad-bb35-d1dc1fad10a6",
   "metadata": {},
   "source": [
    "Q1. You are writing code for a company. The requirement of the company is that you create a python function that will check whether the password entered by the user is correct or not. The function should take the password as input and return the string “Valid Password” if the entered password follows the below-given password guidelines else it should return “Invalid Password”.\n",
    "\n",
    "Note: 1. The Password should contain at least two uppercase letters and at least two lowercase letters. 2. The Password should contain at least a number and three special characters. 3. The length of the password should be 10 characters long.\n",
    "\n",
    "Ans."
   ]
  },
  {
   "cell_type": "code",
   "execution_count": 42,
   "id": "7e14a50a-63a1-4cb5-b4a4-c2fb9d3a7f9e",
   "metadata": {},
   "outputs": [
    {
     "name": "stdin",
     "output_type": "stream",
     "text": [
      "Enter Password #PWSkills1\n"
     ]
    },
    {
     "name": "stdout",
     "output_type": "stream",
     "text": [
      "Password is valid\n"
     ]
    }
   ],
   "source": [
    "def main():\n",
    "    passwd = input(\"Enter Password\")\n",
    "     \n",
    "    if (password_check(passwd)):\n",
    "        print(\"Password is valid\")\n",
    "    else:\n",
    "        print(\"Invalid Password !!\")\n",
    "         \n",
    "# Driver Code       \n",
    "if __name__ == '__main__':\n",
    "    main()"
   ]
  },
  {
   "cell_type": "code",
   "execution_count": null,
   "id": "4906ea25-7ab7-40db-a526-d26aff90da5a",
   "metadata": {},
   "outputs": [],
   "source": []
  },
  {
   "cell_type": "markdown",
   "id": "db2dcf08-5244-4e4d-a8eb-0b98c4564777",
   "metadata": {},
   "source": [
    "Q2. Solve the below-given questions using at least one of the following:\n",
    "\n",
    "1. Lambda function\n",
    "2. Filter function\n",
    "3. Map function\n",
    "4. List Comprehension\n",
    "\n",
    "-> Check if the string starts with a particular letter.\n",
    "\n",
    "-> Check if the string is numeric.\n",
    "\n",
    "-> Sort a list of tuples having fruit names and their quantity. [(\"mango\",99),(\"orange\",80), (\"grapes\", 1000)\n",
    "\n",
    "-> Find the squares of numbers from 1 to 10.\n",
    "\n",
    "-> Find the cube root of numbers from 1 to 10.\n",
    "\n",
    "-> Check if a given number is even.\n",
    "\n",
    "-> Filter odd numbers from the given list. [1,2,3,4,5,6,7,8,9,10]\n",
    "\n",
    "-> Sort a list of integers into positive and negative integers lists. [1,2,3,4,5,6,-1,-2,-3,-4,-5,0]"
   ]
  },
  {
   "cell_type": "code",
   "execution_count": 6,
   "id": "8d4f0e84-d7bc-4262-beff-68421ef18652",
   "metadata": {},
   "outputs": [
    {
     "name": "stdout",
     "output_type": "stream",
     "text": [
      "[False, False, False, False, False, True, False, False, False, False, False, False, False, False, False, False, False, False, False, False]\n"
     ]
    }
   ],
   "source": [
    "# Check if the string starts with a particular letter.\n",
    "\n",
    "msg = \"Data Science Masters\"\n",
    "result = list(map(lambda msg : msg.startswith(\"S\"), msg)) #Shows 'True' msg starts with letter S\n",
    "print(result)"
   ]
  },
  {
   "cell_type": "code",
   "execution_count": 7,
   "id": "cb6896b6-5056-4b6c-ba8d-d23158aedc71",
   "metadata": {},
   "outputs": [
    {
     "name": "stdout",
     "output_type": "stream",
     "text": [
      "[True, True, True, True, True, True, True, True, True]\n"
     ]
    }
   ],
   "source": [
    "# Check if the string is numeric.\n",
    "\n",
    "txt = \"123456789\"\n",
    "result = list(map(lambda txt : txt.isnumeric(), txt))\n",
    "print(result)"
   ]
  },
  {
   "cell_type": "code",
   "execution_count": 8,
   "id": "aeefd181-5217-438d-81d0-2880e778bc37",
   "metadata": {},
   "outputs": [
    {
     "name": "stdout",
     "output_type": "stream",
     "text": [
      "[('grapes', 1000), ('mango', 99), ('orange', 80)]\n"
     ]
    }
   ],
   "source": [
    "# Sort a list of tuples having fruit names and their quantity. [(\"mango\",99),(\"orange\",80), (\"grapes\", 1000)\n",
    "\n",
    "list1 = [(\"mango\",99),(\"orange\",80), (\"grapes\", 1000)]\n",
    "list1.sort(key=lambda a: a[0])\n",
    "print(list1)"
   ]
  },
  {
   "cell_type": "code",
   "execution_count": 11,
   "id": "54275ba7-0a0e-48bb-b5d6-8c30987b38e7",
   "metadata": {},
   "outputs": [
    {
     "name": "stdout",
     "output_type": "stream",
     "text": [
      "The Squares of numbers from 1 to 10 are [1, 4, 9, 16, 25, 36, 49, 64, 81, 100]\n"
     ]
    }
   ],
   "source": [
    "# Find the squares of numbers from 1 to 10.\n",
    "\n",
    "x = [1,2,3,4,5,6,7,8,9,10]\n",
    "result = list(map(lambda x : x**2, x))\n",
    "print(\"The Squares of numbers from 1 to 10 are\",result)"
   ]
  },
  {
   "cell_type": "code",
   "execution_count": 10,
   "id": "ae84545c-bad5-4fc5-baa8-0e46c963a2c6",
   "metadata": {},
   "outputs": [
    {
     "name": "stdout",
     "output_type": "stream",
     "text": [
      "The Cube Root of numbers from 1 to 10 are [1, 8, 27, 64, 125, 216, 343, 512, 729, 1000]\n"
     ]
    }
   ],
   "source": [
    "# Find the cube root of numbers from 1 to 10.\n",
    "\n",
    "x = [1,2,3,4,5,6,7,8,9,10]\n",
    "result = list(map(lambda x : x**3, x))\n",
    "print(\"The Cube Root of numbers from 1 to 10 are\",result)"
   ]
  },
  {
   "cell_type": "code",
   "execution_count": 16,
   "id": "23a0be21-85e7-4eab-98b5-625f20d92a00",
   "metadata": {},
   "outputs": [
    {
     "name": "stdout",
     "output_type": "stream",
     "text": [
      "The number is EVEN/ODD. [False]\n"
     ]
    }
   ],
   "source": [
    "# Check if a given number is even.\n",
    "\n",
    "y = [25]\n",
    "result = list(map(lambda y : y%2==0, y))\n",
    "print(\"The number is EVEN/ODD.\",result)"
   ]
  },
  {
   "cell_type": "code",
   "execution_count": 20,
   "id": "8d2b74b6-372b-458c-8c9d-c700bd63e909",
   "metadata": {},
   "outputs": [
    {
     "name": "stdout",
     "output_type": "stream",
     "text": [
      "[1, 2, 3, 4, 5, 6, 7, 8, 9, 10] The ODD Number from given list are: [True, False, True, False, True, False, True, False, True, False]\n"
     ]
    }
   ],
   "source": [
    "# Filter odd numbers from the given list. [1,2,3,4,5,6,7,8,9,10]\n",
    "\n",
    "a = [1,2,3,4,5,6,7,8,9,10]\n",
    "result = list(map(lambda a : a%2!=0, a))\n",
    "print(a, \"The ODD Number from given list are:\", result)"
   ]
  },
  {
   "cell_type": "code",
   "execution_count": 25,
   "id": "68a96ef8-f9ca-471a-913e-ae33b123cce3",
   "metadata": {},
   "outputs": [
    {
     "name": "stdout",
     "output_type": "stream",
     "text": [
      "The Positive Numbers are: [True, True, True, True, True, True, False, False, False, False, False, False]\n",
      "The Negative Numbers are: [False, False, False, False, False, False, True, True, True, True, True, False]\n"
     ]
    }
   ],
   "source": [
    "# Sort a list of integers into positive and negative integers lists. [1,2,3,4,5,6,-1,-2,-3,-4,-5,0]\n",
    "\n",
    "b = [1,2,3,4,5,6,-1,-2,-3,-4,-5,0]\n",
    "result = list(map(lambda b : b>0 , b ))\n",
    "print(\"The Positive Numbers are:\", result)\n",
    "result = list(map(lambda b : b<0 , b ))\n",
    "print(\"The Negative Numbers are:\", result)"
   ]
  },
  {
   "cell_type": "code",
   "execution_count": null,
   "id": "cba9d520-ab10-49f2-a338-c7ad4e857325",
   "metadata": {},
   "outputs": [],
   "source": []
  }
 ],
 "metadata": {
  "kernelspec": {
   "display_name": "Python 3 (ipykernel)",
   "language": "python",
   "name": "python3"
  },
  "language_info": {
   "codemirror_mode": {
    "name": "ipython",
    "version": 3
   },
   "file_extension": ".py",
   "mimetype": "text/x-python",
   "name": "python",
   "nbconvert_exporter": "python",
   "pygments_lexer": "ipython3",
   "version": "3.10.8"
  }
 },
 "nbformat": 4,
 "nbformat_minor": 5
}
