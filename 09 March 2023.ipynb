{
 "cells": [
  {
   "cell_type": "markdown",
   "id": "bd7aca72-f574-4a3e-b879-cdebed1d63e7",
   "metadata": {},
   "source": [
    "# Assignment | 9th March 2023"
   ]
  },
  {
   "cell_type": "code",
   "execution_count": null,
   "id": "a38d4406-0cce-4c81-8e38-30e111b971a9",
   "metadata": {},
   "outputs": [],
   "source": []
  },
  {
   "attachments": {
    "61b8c327-0da9-4003-997c-8962017bbeea.png": {
     "image/png": "[encoded data removed]"
    }
   },
   "cell_type": "markdown",
   "id": "c6807a66-65db-480e-902f-b5d71d6dd3fc",
   "metadata": {},
   "source": [
    "Q1: What are the Probability Mass Function (PMF) and Probability Density Function (PDF)? Explain with\n",
    "an example.\n",
    "\n",
    "Ans. The Probability Mass Function (PMF) and Probability Density Function (PDF) are two important concepts in probability theory and statistics.\n",
    "\n",
    "The PMF is a function that gives the probability of a discrete random variable taking a specific value. In other words, it maps each possible value of the random variable to its probability. The PMF must satisfy the following properties:\n",
    "- The PMF value of any specific value must be non-negative\n",
    "- The sum of all PMF values must be equal to 1.\n",
    "\n",
    "For example, consider the roll of a fair six-sided die. The PMF for this random variable is given by:\n",
    "\n",
    "| X | 1 | 2 | 3 | 4 | 5 | 6 |\n",
    "| - | - | - | - | - | - | - |\n",
    "| P(X) | 1/6 | 1/6 | 1/6 | 1/6 | 1/6 | 1/6 |\n",
    "\n",
    "In this case, the PMF value of any specific value of the die roll is 1/6, and the sum of all PMF values is equal to 1.\n",
    "\n",
    "The PDF, on the other hand, is a function that gives the probability density of a continuous random variable at a particular point in its domain. It represents the relative likelihood of a continuous random variable taking a value in a certain interval. Unlike the PMF, the PDF does not give the actual probability of a specific value, but rather the probability density around that value.\n",
    "\n",
    "The PDF must satisfy the following properties:\n",
    "- The PDF value at any specific point must be non-negative\n",
    "- The total area under the PDF curve must be equal to 1.\n",
    "\n",
    "For example, consider the height of adult females in a certain population, which is a continuous random variable. The PDF for this random variable might look like:\n",
    "\n",
    "![image.png](attachment:61b8c327-0da9-4003-997c-8962017bbeea.png)\n",
    "\n",
    "In this case, the PDF value at any specific height is the height of the curve at that point. The total area under the curve is equal to 1, which represents the total probability of the random variable taking any value in its domain."
   ]
  },
  {
   "cell_type": "code",
   "execution_count": null,
   "id": "becf28d8-e25a-47d9-b201-e1aabaaee075",
   "metadata": {},
   "outputs": [],
   "source": []
  },
  {
   "cell_type": "markdown",
   "id": "819e15bd-812e-4b2f-9e7e-c06adb067340",
   "metadata": {},
   "source": [
    "Q2: What is Cumulative Density Function (CDF)? Explain with an example. Why CDF is used?\n",
    "\n",
    "Ans. The Cumulative Density Function (CDF) is a function that describes the probability that a random variable takes a value less than or equal to a given value. In other words, it is the sum of the probabilities of all possible values of the random variable up to a specific value.\n",
    "\n",
    "Formally, the CDF for a random variable X is defined as:\n",
    "\n",
    "F(x) = P(X ≤ x)\n",
    "\n",
    "where x is any real number.\n",
    "\n",
    "For a discrete random variable, the CDF is a step function that increases by the probability mass of each possible value of X. For a continuous random variable, the CDF is a continuous function that increases smoothly.\n",
    "\n",
    "For example, consider the roll of a fair six-sided die. The CDF for this random variable is given by:\n",
    "\n",
    "| X    | 1     | 2     | 3     | 4     | 5     | 6     |\n",
    "| ---- | ----- | ----- | ----- | ----- | ----- | ----- |\n",
    "| P(X) | 1/6   | 1/6   | 1/6   | 1/6   | 1/6   | 1/6   |\n",
    "| F(x) | 1/6   | 1/3   | 1/2   | 2/3   | 5/6   | 1     |\n",
    "\n",
    "In this case, the CDF value at any specific value x of the die roll is the sum of the PMF values up to and including x. For example, the probability of rolling a number less than or equal to 4 is F(4) = 2/3.\n",
    "\n",
    "The CDF is useful in many ways, including:\n",
    "- Finding probabilities: The CDF provides a convenient way to calculate the probability of a random variable taking a value in a particular interval.\n",
    "- Finding percentiles: The CDF can be used to find the value of a random variable below which a certain percentage of the observations fall. For example, the 50th percentile is the value below which 50% of the observations fall.\n",
    "- Statistical inference: The CDF plays a crucial role in many statistical inference techniques, such as hypothesis testing and confidence interval estimation."
   ]
  },
  {
   "cell_type": "code",
   "execution_count": null,
   "id": "1495a866-d6b3-45cf-9fc2-5548a6524b7d",
   "metadata": {},
   "outputs": [],
   "source": []
  },
  {
   "cell_type": "markdown",
   "id": "08eeb20d-d37c-4656-9ad5-25b4c90514d4",
   "metadata": {},
   "source": [
    "Q3: What are some examples of situations where the normal distribution might be used as a model?\n",
    "Explain how the parameters of the normal distribution relate to the shape of the distribution.\n",
    "\n",
    "Ans. The normal distribution is a commonly used statistical distribution that is used to model a wide range of real-world phenomena. Some examples of situations where the normal distribution might be used as a model include:\n",
    "1. Heights and weights of a population: The normal distribution is often used to model the heights and weights of a population, where the mean and standard deviation of the distribution can provide insights into the typical height and weight of the population, as well as the variation in these characteristics.\n",
    "2. Test scores: The normal distribution is often used to model test scores, where the mean and standard deviation of the distribution can provide insights into the difficulty of the test, the performance of the students, and the variation in the scores.\n",
    "3. Error terms in regression analysis: The normal distribution is often used to model the error terms in regression analysis, where the mean and standard deviation of the distribution can provide insights into the goodness of fit of the model and the accuracy of the predictions.\n",
    "\n",
    "The normal distribution is characterized by two parameters: the mean (μ) and the standard deviation (σ). The mean determines the center of the distribution, while the standard deviation determines the spread of the distribution. The shape of the normal distribution is symmetric and bell-shaped, with the highest point (mode) at the mean.\n",
    "\n",
    "The standard deviation plays a crucial role in determining the shape of the normal distribution. A larger standard deviation results in a wider and flatter distribution, while a smaller standard deviation results in a narrower and more peaked distribution. In fact, the standard deviation determines the shape of the normal distribution to such an extent that the normal distribution is sometimes referred to as the \"bell curve\" or \"Gaussian curve.\"\n",
    "\n",
    "The mean of the normal distribution is also important, as it determines the location of the peak of the curve. For a given standard deviation, increasing the mean shifts the distribution to the right, while decreasing the mean shifts the distribution to the left."
   ]
  },
  {
   "cell_type": "code",
   "execution_count": null,
   "id": "6e37408f-1b5b-478c-b496-91f0f6628e1a",
   "metadata": {},
   "outputs": [],
   "source": []
  },
  {
   "cell_type": "markdown",
   "id": "857c9ba8-4081-4955-aede-dfb16950aaad",
   "metadata": {},
   "source": [
    "Q4: Explain the importance of Normal Distribution. Give a few real-life examples of Normal\n",
    "Distribution.\n",
    "\n",
    "Ans. The normal distribution is an important concept in statistics and probability theory because it is a versatile distribution that can be used to model a wide variety of phenomena in the real world. Some of the reasons why the normal distribution is so important are:\n",
    "\n",
    "1. Central limit theorem: The normal distribution is a key component of the central limit theorem, which states that the sum of a large number of independent, identically distributed random variables will be approximately normally distributed, regardless of the underlying distribution of the individual variables. This property makes the normal distribution an important tool for modeling many natural and social phenomena.\n",
    "2. Statistical inference: Many statistical tests and inference procedures, such as hypothesis testing and confidence interval estimation, rely on assumptions about the distribution of the underlying population. The normal distribution is often used as a default assumption when the true distribution is unknown, due to its mathematical tractability and flexibility.\n",
    "3. Real-world applications: The normal distribution is used to model a wide range of real-world phenomena in many fields, including finance, engineering, biology, and psychology. Understanding the properties and characteristics of the normal distribution is therefore essential for many practical applications.\n",
    "\n",
    "Some real-life examples of normal distributions include:\n",
    "\n",
    "1. Heights and weights of a population: The heights and weights of a population are often approximately normally distributed, with a bell-shaped curve around the mean. This can be useful for understanding typical heights and weights, as well as the degree of variation within the population.\n",
    "2. IQ scores: IQ scores are often assumed to be normally distributed, with a mean of 100 and a standard deviation of 15. This can be useful for understanding the distribution of intelligence in a population and for comparing individuals or groups.\n",
    "3. Stock prices: Changes in stock prices are often modeled as normally distributed random variables, with a mean and standard deviation that reflect the underlying trends and volatility of the market. This can be useful for predicting future prices and managing risk in investment portfolios.\n",
    "4. Reaction times: Reaction times in experiments or tests are often modeled as normally distributed, with a mean and standard deviation that reflect the cognitive or physiological processes involved. This can be useful for understanding human performance and decision-making in various contexts."
   ]
  },
  {
   "cell_type": "code",
   "execution_count": null,
   "id": "9ecaa9ce-8c7b-4bc6-8fca-cf338d11f7ef",
   "metadata": {},
   "outputs": [],
   "source": []
  },
  {
   "cell_type": "markdown",
   "id": "0adb2d89-b133-43d4-b490-fc0190c83ac1",
   "metadata": {},
   "source": [
    "Q5: What is Bernaulli Distribution? Give an Example. What is the difference between Bernoulli\n",
    "Distribution and Binomial Distribution?\n",
    "\n",
    "Ans. The Bernoulli distribution is a discrete probability distribution that models a single experiment or trial with two possible outcomes, usually labeled as success (with probability p) and failure (with probability 1-p). The Bernoulli distribution is named after the Swiss mathematician Jacob Bernoulli.\n",
    "\n",
    "An example of the Bernoulli distribution is the outcome of a single coin toss, where the two possible outcomes are heads and tails. If the probability of getting heads is p, then the probability of getting tails is 1-p, and the Bernoulli distribution can be used to model the probability of getting heads or tails on a single toss.\n",
    "\n",
    "The Bernoulli distribution is a special case of the binomial distribution, which models the number of successes in a fixed number of independent Bernoulli trials. The main difference between the Bernoulli distribution and the binomial distribution is that the Bernoulli distribution models a single trial, while the binomial distribution models multiple trials.\n",
    "\n",
    "Another difference is that the Bernoulli distribution has only one parameter (the probability of success p), while the binomial distribution has two parameters: the number of trials n and the probability of success p. The binomial distribution is therefore more general than the Bernoulli distribution, as it can model a wide range of scenarios where multiple Bernoulli trials are performed, such as the number of defective items in a sample or the number of heads in multiple coin tosses."
   ]
  },
  {
   "cell_type": "code",
   "execution_count": null,
   "id": "9b567b02-0524-4399-ad85-cc6a00daf55d",
   "metadata": {},
   "outputs": [],
   "source": []
  },
  {
   "cell_type": "markdown",
   "id": "3529f9ef-3587-4159-b83a-954b86142a49",
   "metadata": {},
   "source": [
    "Q6. Consider a dataset with a mean of 50 and a standard deviation of 10. If we assume that the dataset\n",
    "is normally distributed, what is the probability that a randomly selected observation will be greater\n",
    "than 60? Use the appropriate formula and show your calculations.\n",
    "\n",
    "Ans. \n",
    "\n",
    "To solve this problem, we need to use the standard normal distribution, which has a mean of 0 and a standard deviation of 1. We can transform the original dataset into a standard normal distribution using the formula:\n",
    "\n",
    "z = (x - μ) / σ\n",
    "\n",
    "where z is the standard score or z-score, x is the original observation, μ is the mean of the dataset, and σ is the standard deviation of the dataset.\n",
    "\n",
    "Using this formula, we can calculate the z-score for the value x = 60:\n",
    "\n",
    "z = (60 - 50) / 10 = 1\n",
    "\n",
    "This means that the value of 60 is 1 standard deviation above the mean of the dataset.\n",
    "\n",
    "Next, we need to find the probability that a randomly selected observation from a standard normal distribution will be greater than 1. This can be calculated using a standard normal distribution table or a calculator, which gives a probability of 0.1587.\n",
    "\n",
    "Therefore, the probability that a randomly selected observation from the original dataset will be greater than 60 is 0.1587, or approximately 15.87%.\n",
    "\n",
    "We can also visualize this probability using a normal distribution plot, which shows that the area to the right of the value x = 60 corresponds to the probability of 0.1587."
   ]
  },
  {
   "cell_type": "code",
   "execution_count": null,
   "id": "6c81d604-55aa-481b-987d-21186d1902c6",
   "metadata": {},
   "outputs": [],
   "source": []
  },
  {
   "cell_type": "markdown",
   "id": "f9e817db-9650-428f-baed-153de9ef4779",
   "metadata": {},
   "source": [
    "Q7: Explain uniform Distribution with an example.\n",
    "\n",
    "Ans. Uniform distribution is a continuous probability distribution where every possible value of a random variable between a certain range is equally likely to occur. In other words, the probability density function is constant over the range of possible values.\n",
    "\n",
    "An example of a uniform distribution is rolling a fair six-sided die. Each possible outcome (1, 2, 3, 4, 5, or 6) is equally likely, and the probability of any particular outcome is 1/6. The probability density function of a uniform distribution with a range of [a,b] is given by:\n",
    "\n",
    "f(x) = 1 / (b - a) for a ≤ x ≤ b\n",
    "f(x) = 0 otherwise\n",
    "\n",
    "where f(x) is the probability density function and a and b are the lower and upper bounds of the distribution, respectively."
   ]
  },
  {
   "cell_type": "code",
   "execution_count": null,
   "id": "b8b26076-ba6a-411b-860f-8baecce18844",
   "metadata": {},
   "outputs": [],
   "source": []
  },
  {
   "cell_type": "markdown",
   "id": "776903b3-ff20-43c8-a69c-14017ff68156",
   "metadata": {},
   "source": [
    "Q8: What is the z score? State the importance of the z score.\n",
    "\n",
    "Ans. A z-score, also known as a standard score, is a measure of how many standard deviations a particular data point is from the mean of a distribution. It is calculated by subtracting the mean of the distribution from the data point and then dividing the result by the standard deviation.\n",
    "\n",
    "The formula for calculating the z-score is:\n",
    "\n",
    "z = (x - μ) / σ\n",
    "\n",
    "where x is the data point, μ is the mean of the distribution, and σ is the standard deviation of the distribution.\n",
    "\n",
    "The importance of the z-score lies in its ability to provide a standard unit of measurement that can be used to compare data points from different distributions. By standardizing the data, we can easily compare data points from different distributions and determine how unusual or extreme a particular value is relative to the rest of the data."
   ]
  },
  {
   "cell_type": "code",
   "execution_count": null,
   "id": "81b3a2ea-f0d5-45d9-a1e2-f582946bb183",
   "metadata": {},
   "outputs": [],
   "source": []
  },
  {
   "cell_type": "markdown",
   "id": "7be349f5-4903-4ef6-8ae3-032ef289c419",
   "metadata": {},
   "source": [
    "Q9: What is Central Limit Theorem? State the significance of the Central Limit Theorem.\n",
    "\n",
    "Ans. The Central Limit Theorem (CLT) is a fundamental concept in statistics that states that the sampling distribution of the mean of a large number of independent, identically distributed random variables approaches a normal distribution, regardless of the underlying distribution of the population. In other words, as the sample size increases, the distribution of the sample means becomes more normal.\n",
    "\n",
    "The CLT is significant because it allows us to make statistical inferences about a population based on a sample. Specifically, it enables us to use the normal distribution as an approximation for the distribution of sample means, which is often much easier to work with mathematically.\n",
    "\n",
    "The CLT is used extensively in statistical inference, such as in hypothesis testing and confidence interval estimation. It provides a powerful tool for making generalizations about a population based on a sample, and it is used in a wide range of fields, including finance, engineering, social sciences, and many others.\n",
    "\n",
    "Additionally, the CLT has practical implications in quality control and process improvement. It helps us understand how random variation affects a process and provides a framework for designing experiments to improve the process. For example, the CLT can be used to analyze the performance of a manufacturing process and determine whether it is operating within acceptable limits.\n",
    "\n",
    "Overall, the CLT is a critical concept in statistics that allows us to make inferences about populations based on samples, and it has broad applications in a variety of fields."
   ]
  },
  {
   "cell_type": "code",
   "execution_count": null,
   "id": "b7074e41-6e16-4220-9c44-1829e6c46abc",
   "metadata": {},
   "outputs": [],
   "source": []
  },
  {
   "cell_type": "markdown",
   "id": "d0d2b67b-8738-4923-8eec-64fd04b1e1da",
   "metadata": {},
   "source": [
    "Q10: State the assumptions of the Central Limit Theorem.\n",
    "\n",
    "Ans. The Central Limit Theorem (CLT) is based on several assumptions, which must be met in order for the theorem to hold:\n",
    "\n",
    "1. Sample Size: The sample size must be sufficiently large. There is no strict rule for what constitutes a \"sufficiently large\" sample size, but a commonly used rule of thumb is that the sample size should be at least 30.\n",
    "2. Random Sampling: The sample must be selected at random from the population. This means that each observation in the population has an equal chance of being selected for the sample.\n",
    "3. Finite Variance: The population from which the sample is drawn must have a finite variance. This means that the spread of the population values must not be too large.\n",
    "4. Independence: The observations in the sample must be independent of each other. This means that the value of one observation does not depend on the value of another observation.\n",
    "\n",
    "If these assumptions are met, then the CLT guarantees that the sampling distribution of the mean will be approximately normal, regardless of the distribution of the population. However, if any of these assumptions are violated, then the CLT may not hold, and the distribution of the sample mean may not be normal. In such cases, alternative statistical methods may need to be used."
   ]
  },
  {
   "cell_type": "code",
   "execution_count": null,
   "id": "2bc3c25b-fa1f-4d93-b3da-8427e9f5fcee",
   "metadata": {},
   "outputs": [],
   "source": []
  }
 ],
 "metadata": {
  "kernelspec": {
   "display_name": "Python 3 (ipykernel)",
   "language": "python",
   "name": "python3"
  },
  "language_info": {
   "codemirror_mode": {
    "name": "ipython",
    "version": 3
   },
   "file_extension": ".py",
   "mimetype": "text/x-python",
   "name": "python",
   "nbconvert_exporter": "python",
   "pygments_lexer": "ipython3",
   "version": "3.10.8"
  }
 },
 "nbformat": 4,
 "nbformat_minor": 5
}
