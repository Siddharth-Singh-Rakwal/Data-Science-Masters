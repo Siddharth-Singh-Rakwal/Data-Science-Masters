{
 "cells": [
  {
   "cell_type": "markdown",
   "id": "9e647160-91d8-4273-9cd9-446217ddca34",
   "metadata": {},
   "source": [
    "# Assignment | 7th March 2023"
   ]
  },
  {
   "cell_type": "code",
   "execution_count": null,
   "id": "b942cfc8-0791-4f70-a8d5-4e4894124707",
   "metadata": {},
   "outputs": [],
   "source": []
  },
  {
   "cell_type": "markdown",
   "id": "1652a243-0fc4-4ff6-948b-4bb023335380",
   "metadata": {},
   "source": [
    "Q1. What are the three measures of central tendency?\n",
    "\n",
    "Ans. The three measures of central tendency are:\n",
    "\n",
    "- Mean: The mean is the sum of all values in a dataset divided by the total number of values. It is also known as the average.\n",
    "- Median: The median is the middle value in a dataset when the values are arranged in order of magnitude. If there are an even number of values, the median is the average of the two middle values.\n",
    "- Mode: The mode is the value that appears most frequently in a dataset. A dataset can have multiple modes if more than one value appears with the same frequency."
   ]
  },
  {
   "cell_type": "code",
   "execution_count": null,
   "id": "475b17c7-126d-43b8-b6f2-9e0b21279e95",
   "metadata": {},
   "outputs": [],
   "source": []
  },
  {
   "cell_type": "markdown",
   "id": "47bdf0bc-1524-407a-a674-5f7748180898",
   "metadata": {},
   "source": [
    "Q2. What is the difference between the mean, median, and mode? How are they used to measure the\n",
    "central tendency of a dataset?\n",
    "\n",
    "Ans. The mean, median, and mode are all measures of central tendency used to describe the center of a dataset.\n",
    "\n",
    "The mean is the most commonly used measure of central tendency. It is calculated by adding up all the values in a dataset and dividing by the number of values. The mean is sensitive to extreme values or outliers because it takes into account all the values in the dataset.\n",
    "\n",
    "The median is the middle value in a dataset when the values are arranged in order of magnitude. It is not influenced by extreme values or outliers because it only takes into account the middle values. If there are an even number of values in the dataset, the median is the average of the two middle values.\n",
    "\n",
    "The mode is the value that appears most frequently in a dataset. It is useful in datasets where there are a few values that occur much more frequently than the others. The mode is not sensitive to extreme values or outliers.\n",
    "\n",
    "In summary, the mean, median, and mode are used to measure the central tendency of a dataset. The mean is the average value of all the data points, the median is the middle value when the data is ordered from lowest to highest, and the mode is the value that appears most frequently. The choice of which measure to use depends on the nature of the dataset and the research question being addressed."
   ]
  },
  {
   "cell_type": "code",
   "execution_count": null,
   "id": "90ab18d6-93cb-437c-8011-5c43330c6638",
   "metadata": {},
   "outputs": [],
   "source": []
  },
  {
   "cell_type": "markdown",
   "id": "62a6949e-b25d-4336-847e-6e76f0f00c0b",
   "metadata": {},
   "source": [
    "Q3. Measure the three measures of central tendency for the given height data:\n",
    "\n",
    "[178,177,176,177,178.2,178,175,179,180,175,178.9,176.2,177,172.5,178,176.5]\n",
    "\n",
    "Ans."
   ]
  },
  {
   "cell_type": "code",
   "execution_count": 3,
   "id": "110fa723-d2ee-4b22-a5a9-55dfbbceee7e",
   "metadata": {},
   "outputs": [
    {
     "name": "stdout",
     "output_type": "stream",
     "text": [
      "Mean of given data is: 177.01875\n",
      "Median of given data is: 177.0\n",
      "Mode of given data is: ModeResult(mode=array([177.]), count=array([3]))\n"
     ]
    },
    {
     "name": "stderr",
     "output_type": "stream",
     "text": [
      "/tmp/ipykernel_105/630935524.py:8: FutureWarning: Unlike other reduction functions (e.g. `skew`, `kurtosis`), the default behavior of `mode` typically preserves the axis it acts along. In SciPy 1.11.0, this behavior will change: the default value of `keepdims` will become False, the `axis` over which the statistic is taken will be eliminated, and the value None will no longer be accepted. Set `keepdims` to True or False to avoid this warning.\n",
      "  mode = stats.mode(data)\n"
     ]
    }
   ],
   "source": [
    "import numpy as np\n",
    "from scipy import stats\n",
    "\n",
    "data = [178,177,176,177,178.2,178,175,179,180,175,178.9,176.2,177,172.5,178,176.5]\n",
    "\n",
    "mean = np.mean(data)\n",
    "median = np.median(data)\n",
    "mode = stats.mode(data)\n",
    "\n",
    "print(\"Mean of given data is:\", mean)\n",
    "print(\"Median of given data is:\", median)\n",
    "print(\"Mode of given data is:\", mode)"
   ]
  },
  {
   "cell_type": "code",
   "execution_count": null,
   "id": "9eaf9713-b53b-4970-94ae-42d59982a2b6",
   "metadata": {},
   "outputs": [],
   "source": []
  },
  {
   "cell_type": "markdown",
   "id": "a30a4d77-0af6-4d74-8532-a103a9aadce1",
   "metadata": {},
   "source": [
    "Q4. Find the standard deviation for the given data:\n",
    "\n",
    "[178,177,176,177,178.2,178,175,179,180,175,178.9,176.2,177,172.5,178,176.5]\n",
    "\n",
    "Ans."
   ]
  },
  {
   "cell_type": "code",
   "execution_count": 4,
   "id": "a4998795-9d1e-492b-8b7c-9f0062b2f8cd",
   "metadata": {},
   "outputs": [
    {
     "name": "stdout",
     "output_type": "stream",
     "text": [
      "Standard Deviation for the given data is: 1.7885814036548633\n"
     ]
    }
   ],
   "source": [
    "import numpy as np\n",
    "\n",
    "data = [178,177,176,177,178.2,178,175,179,180,175,178.9,176.2,177,172.5,178,176.5]\n",
    "\n",
    "std = np.std(data)\n",
    "\n",
    "print(\"Standard Deviation for the given data is:\", std)"
   ]
  },
  {
   "cell_type": "code",
   "execution_count": null,
   "id": "fadb5f94-6876-4657-b6f4-ebe0aa9099d5",
   "metadata": {},
   "outputs": [],
   "source": []
  },
  {
   "cell_type": "markdown",
   "id": "8eaf206c-f839-4a2f-b3f8-bb5512d16372",
   "metadata": {},
   "source": [
    "Q5. How are measures of dispersion such as range, variance, and standard deviation used to describe\n",
    "the spread of a dataset? Provide an example.\n",
    "\n",
    "Ans. Measures of dispersion, such as range, variance, and standard deviation, are used to describe the spread of a dataset. They provide information about how spread out or clustered the data is around the central tendency.\n",
    "\n",
    "Range: The range is the difference between the maximum and minimum values in a dataset. It provides a rough estimate of the spread of the data. For example, if a dataset consists of test scores ranging from 60 to 90, the range would be 30.\n",
    "\n",
    "Variance: Variance measures how far each value in the dataset is from the mean. It is calculated by taking the average of the squared differences between each value and the mean. A high variance indicates that the data is spread out over a wide range of values. A low variance indicates that the data is clustered around the mean.\n",
    "\n",
    "Standard deviation: Standard deviation is the square root of the variance. It measures the amount of variation or dispersion from the average value. A high standard deviation indicates that the data points are spread out over a wider range of values. A low standard deviation indicates that the data points are clustered closer to the mean.\n",
    "\n",
    "For example, let's say we have two datasets of test scores for a class of 20 students.\n",
    "\n",
    "Dataset A: 60, 65, 70, 75, 80, 85, 90, 95, 100, 100, 100, 90, 85, 80, 75, 70, 65, 60, 55, 50.\n",
    "\n",
    "Dataset B: 80, 80, 80, 80, 80, 80, 80, 80, 80, 80, 80, 80, 80, 80, 80, 80, 80, 80, 80, 80.\n",
    "\n",
    "The mean test score for both datasets is 75. However, the spread of the scores in Dataset A is much wider than that of Dataset B. The range of Dataset A is 50 (from 50 to 100), while the range of Dataset B is 0 (all scores are 80). The variance and standard deviation for Dataset A will also be higher than that of Dataset B, indicating that the scores in Dataset A are more dispersed or spread out."
   ]
  },
  {
   "cell_type": "code",
   "execution_count": 5,
   "id": "b7002357-cbb2-43c6-a03e-8fefe85feb56",
   "metadata": {},
   "outputs": [
    {
     "name": "stdout",
     "output_type": "stream",
     "text": [
      "Mean of Dataset_A 77.5\n",
      "Mean of Dataset_B 80.0\n",
      "Variance of Dataset_A 228.75\n",
      "Variance of Dataset_B 0.0\n",
      "Standard Deviation of Dataset_A 15.124483462254174\n",
      "Standard Deviation of Dataset_B 0.0\n"
     ]
    }
   ],
   "source": [
    "# Example using Python:\n",
    "\n",
    "import numpy as np\n",
    "\n",
    "Dataset_A = [60, 65, 70, 75, 80, 85, 90, 95, 100, 100, 100, 90, 85, 80, 75, 70, 65, 60, 55, 50]\n",
    "Dataset_B = [80, 80, 80, 80, 80, 80, 80, 80, 80, 80, 80, 80, 80, 80, 80, 80, 80, 80, 80, 80]\n",
    "\n",
    "# Determining Mean of Dataset_A & Dataset_B:\n",
    "mean_A = np.mean(Dataset_A)\n",
    "mean_B = np.mean(Dataset_B)\n",
    "print(\"Mean of Dataset_A\",mean_A)\n",
    "print(\"Mean of Dataset_B\",mean_B)\n",
    "\n",
    "# Determining Variance of Dataset_A & Dataset_B:\n",
    "var_A = np.var(Dataset_A)\n",
    "var_B = np.var(Dataset_B)\n",
    "print(\"Variance of Dataset_A\",var_A)\n",
    "print(\"Variance of Dataset_B\",var_B)\n",
    "\n",
    "# Determining Standard Deviation of Dataset_A & Dataset_B:\n",
    "std_A = np.std(Dataset_A)\n",
    "std_B = np.std(Dataset_B)\n",
    "print(\"Standard Deviation of Dataset_A\",std_A)\n",
    "print(\"Standard Deviation of Dataset_B\",std_B)"
   ]
  },
  {
   "cell_type": "code",
   "execution_count": null,
   "id": "95544901-5216-4060-aea4-f64a34b8c896",
   "metadata": {},
   "outputs": [],
   "source": []
  },
  {
   "cell_type": "markdown",
   "id": "fee51643-d686-49c0-8006-3553b31716ef",
   "metadata": {},
   "source": [
    "Q6. What is a Venn diagram?\n",
    "\n",
    "Ans. A Venn diagram is a visual representation of the relationships between different sets of data. It is named after John Venn, a British mathematician and philosopher who first introduced the concept in the late 19th century. A Venn diagram is typically drawn as overlapping circles, with each circle representing a set of data. The overlapping portions of the circles represent the elements that are common to the sets.\n",
    "\n",
    "Venn diagrams are used to illustrate the relationships between different sets of data, including their intersections, unions, and differences. They are commonly used in mathematics, statistics, and other fields to visually represent complex concepts and relationships.\n",
    "\n",
    "Venn diagrams are also used in logic and set theory to represent the relationships between different groups or categories. They can be used to determine the logical relationships between different propositions or statements, or to determine the relationships between different sets of data in a given context."
   ]
  },
  {
   "cell_type": "code",
   "execution_count": null,
   "id": "901a7cf6-db78-4f86-a32e-aebcc5c3443a",
   "metadata": {},
   "outputs": [],
   "source": []
  },
  {
   "cell_type": "markdown",
   "id": "ff8fc15e-3804-4f0e-9185-d7c6135cb2ff",
   "metadata": {},
   "source": [
    "Q7. For the two given sets A = (2,3,4,5,6,7) & B = (0,2,6,8,10). Find:\n",
    "-  A ⋂ B\n",
    "-  A ⋃ B\n",
    "\n",
    "Ans. \n",
    "\n",
    "1.  A ⋂ B (intersection of A and B):\n",
    "The intersection of two sets A and B is the set of elements that are common to both A and B. In other words, it is the set of elements that belong to both sets A and B.\n",
    "- A ⋂ B = {2, 6}\n",
    "\n",
    "2.  A ⋃ B (union of A and B):\n",
    "The union of two sets A and B is the set of all elements that belong to either set A or set B, or both.\n",
    "- A ⋃ B = {0, 2, 3, 4, 5, 6, 7, 8, 10}"
   ]
  },
  {
   "cell_type": "code",
   "execution_count": null,
   "id": "ce909b3a-5b9e-4403-85f2-342148cc11fa",
   "metadata": {},
   "outputs": [],
   "source": []
  },
  {
   "cell_type": "markdown",
   "id": "e5ac7be8-e699-4506-ab58-c5c41eb1cef1",
   "metadata": {},
   "source": [
    "Q8. What do you understand about skewness in data?\n",
    "\n",
    "Ans. Skewness in data refers to the degree of asymmetry of a probability distribution. Specifically, it refers to the degree to which the tail of a distribution is skewed to one side or the other relative to the mode of the distribution.\n",
    "\n",
    "A distribution is said to be positively skewed if it has a longer right tail and a peak that is closer to the left side of the distribution. In contrast, a distribution is said to be negatively skewed if it has a longer left tail and a peak that is closer to the right side of the distribution.\n",
    "\n",
    "Skewness can have important implications for statistical analysis, as it can affect the interpretation of summary statistics such as the mean, median, and standard deviation. For example, in a positively skewed distribution, the mean may be greater than the median, while in a negatively skewed distribution, the median may be greater than the mean. It is important to take into account the skewness of the data when selecting appropriate statistical methods and interpreting results."
   ]
  },
  {
   "cell_type": "code",
   "execution_count": null,
   "id": "cb1f1d25-5444-4570-b298-06219b326027",
   "metadata": {},
   "outputs": [],
   "source": []
  },
  {
   "cell_type": "markdown",
   "id": "0562aeb6-7241-49dd-9604-91db53deb06e",
   "metadata": {},
   "source": [
    "Q9. If a data is right skewed then what will be the position of median with respect to mean?\n",
    "\n",
    "Ans. If a data is right skewed, meaning it has a longer tail on the right side of the distribution, then the position of the median with respect to the mean will be to the left of the mean. This is because the median represents the midpoint of the distribution, and in a right-skewed distribution, there are more extreme values on the right side of the distribution that pull the mean in that direction. Therefore, the median will be closer to the center of the distribution than the mean in a right-skewed distribution.\n",
    "\n",
    "In general, the direction and degree of skewness can have important implications for the relationship between the mean and median. When a distribution is symmetrical, the mean and median will be equal. When a distribution is skewed, the mean will be pulled in the direction of the longer tail, while the median will be less affected by extreme values and will tend to be closer to the center of the distribution."
   ]
  },
  {
   "cell_type": "code",
   "execution_count": null,
   "id": "f6d9011d-dfed-4f79-992a-c693990d3cb6",
   "metadata": {},
   "outputs": [],
   "source": []
  },
  {
   "cell_type": "markdown",
   "id": "27969529-7ab9-4780-99c6-73ac227b0e29",
   "metadata": {},
   "source": [
    "Q10. Explain the difference between covariance and correlation. How are these measures used in\n",
    "statistical analysis?\n",
    "\n",
    "Ans. \n",
    "\n",
    "Covariance and correlation are two measures that are used to describe the relationship between two variables in statistical analysis. While both measures are used to quantify the degree to which two variables are related, there are some important differences between them.\n",
    "\n",
    "- Covariance measures the extent to which two variables vary together. Specifically, it measures how much the deviations from the mean of one variable are associated with the deviations from the mean of the other variable. If the covariance between two variables is positive, it means that the two variables tend to move together in the same direction. If the covariance is negative, it means that the two variables tend to move in opposite directions. A covariance of zero indicates that there is no linear relationship between the two variables.\n",
    "- Correlation, on the other hand, measures the strength and direction of the linear relationship between two variables. It is a standardized measure that ranges from -1 to 1, with values of -1 indicating a perfect negative correlation (i.e., the two variables move in opposite directions with a constant proportional change), 1 indicating a perfect positive correlation (i.e., the two variables move in the same direction with a constant proportional change), and 0 indicating no linear correlation between the two variables.\n",
    "\n",
    "One key difference between covariance and correlation is that covariance is affected by the scale of the variables, while correlation is not. This means that the covariance between two variables can be difficult to interpret if the two variables are measured in different units, while the correlation can be more easily compared across different datasets.\n",
    "\n",
    "Both covariance and correlation are useful tools in statistical analysis. Covariance is used to assess the relationship between two variables and to identify patterns in the data, while correlation is often used to summarize the strength and direction of the relationship between two variables in a single number. These measures are commonly used in regression analysis, where they can be used to estimate the relationship between one or more predictor variables and an outcome variable."
   ]
  },
  {
   "cell_type": "code",
   "execution_count": null,
   "id": "aae05b99-66e8-461c-901f-fabbcc4f4545",
   "metadata": {},
   "outputs": [],
   "source": []
  },
  {
   "cell_type": "markdown",
   "id": "7003d6e9-6d4a-4fff-9936-b9eecd373749",
   "metadata": {},
   "source": [
    "Q11. What is the formula for calculating the sample mean? Provide an example calculation for a\n",
    "dataset.\n",
    "\n",
    "Ans. The sample mean is a commonly used measure of central tendency that represents the average value of a dataset. The formula for calculating the sample mean is:\n",
    "\n",
    "- sample mean = (sum of all values in the dataset) / (number of values in the dataset)\n",
    "\n",
    "In other words, to find the sample mean, you add up all the values in the dataset and divide by the total number of values. Here is an example calculation for a dataset:\n",
    "\n",
    "Dataset: 4, 5, 6, 7, 8\n",
    "\n",
    "Step 1: Add up all the values in the dataset:\n",
    "\n",
    "4 + 5 + 6 + 7 + 8 = 30\n",
    "\n",
    "Step 2: Divide the sum by the number of values in the dataset:\n",
    "\n",
    "30 / 5 = 6\n",
    "\n",
    "Therefore, the sample mean for this dataset is 6."
   ]
  },
  {
   "cell_type": "code",
   "execution_count": 7,
   "id": "412c63cb-1b8e-4dc0-aa36-5d05b571c020",
   "metadata": {},
   "outputs": [
    {
     "name": "stdout",
     "output_type": "stream",
     "text": [
      "Mean of given dataset is: 6.0\n"
     ]
    }
   ],
   "source": [
    "# By Python:\n",
    "\n",
    "import numpy as np\n",
    "\n",
    "Dataset = [4, 5, 6, 7, 8]\n",
    "mean = np.mean(Dataset)\n",
    "\n",
    "print(\"Mean of given dataset is:\",mean)"
   ]
  },
  {
   "cell_type": "code",
   "execution_count": null,
   "id": "93aae168-fa16-4306-8bc4-f30cf17256db",
   "metadata": {},
   "outputs": [],
   "source": []
  },
  {
   "cell_type": "markdown",
   "id": "69ee8311-aab1-434f-914d-c8943be4e47c",
   "metadata": {},
   "source": [
    "Q12. For a normal distribution data what is the relationship between its measure of central tendency?\n",
    "\n",
    "Ans. For a normal distribution, the mean, median, and mode are all equal. This is because a normal distribution is symmetric around its mean, with the same amount of area under the curve on either side of the mean.\n",
    "\n",
    "The mean is the arithmetic average of the values in the dataset and is commonly used as a measure of central tendency. The median is the middle value in the dataset when the values are arranged in order, and the mode is the value that occurs most frequently in the dataset.\n",
    "\n",
    "In a normal distribution, the mean, median, and mode are all located at the center of the distribution. This is because the normal distribution is characterized by a bell-shaped curve with a single peak at the center of the distribution.\n",
    "\n",
    "It's important to note that the mean, median, and mode may not be equal for non-normal distributions or when the data is skewed. In such cases, the choice of measure of central tendency should be based on the distribution of the data and the research question of interest."
   ]
  },
  {
   "cell_type": "code",
   "execution_count": null,
   "id": "be4b11e3-d0ec-407c-a2e7-65e56b0ba3a0",
   "metadata": {},
   "outputs": [],
   "source": []
  },
  {
   "cell_type": "markdown",
   "id": "15cf2b5e-81fd-40cf-bf9f-581b7672a1c8",
   "metadata": {},
   "source": [
    "Q13. How is covariance different from correlation?\n",
    "\n",
    "Ans. Covariance and correlation are both measures of the relationship between two variables, but they differ in several key ways:\n",
    "\n",
    "1. Scale: Covariance is a measure of how much two variables change together, while correlation is a standardized measure of the strength and direction of the linear relationship between two variables. Correlation ranges from -1 to 1, with 1 indicating a perfect positive correlation, 0 indicating no correlation, and -1 indicating a perfect negative correlation. In contrast, covariance can take on any value, both positive and negative, depending on the magnitude of the relationship between the two variables.\n",
    "2. Units: Covariance is affected by the scale of the variables, while correlation is not. This means that the covariance between two variables can be difficult to interpret if the two variables are measured in different units, while the correlation can be more easily compared across different datasets.\n",
    "3. Interpretation: Covariance has no standard interpretation or guideline to assess the strength of the relationship, whereas correlation has a standard interpretation and guidelines to assess the strength of the linear relationship between two variables.\n",
    "4. Normalization: Correlation is normalized covariance, i.e., the covariance between two variables divided by the product of their standard deviations. This normalization step makes correlation a standardized measure that can be compared across datasets with different units and scales.\n",
    "\n",
    "In summary, covariance and correlation are both useful measures of the relationship between two variables, but correlation is generally preferred because it is a standardized measure that is easier to interpret and can be compared across different datasets."
   ]
  },
  {
   "cell_type": "code",
   "execution_count": null,
   "id": "80434bfc-5ea8-4bcd-a5d0-8b53812b4195",
   "metadata": {},
   "outputs": [],
   "source": []
  },
  {
   "cell_type": "markdown",
   "id": "3026bda9-545d-4f38-8ff2-b88d43cd7f42",
   "metadata": {},
   "source": [
    "Q14. How do outliers affect measures of central tendency and dispersion? Provide an example.\n",
    "\n",
    "Ans. Outliers can have a significant impact on measures of central tendency and dispersion. An outlier is an observation that is significantly different from the other observations in the dataset and can occur due to measurement error, data entry errors, or simply due to the natural variation in the data.\n",
    "\n",
    "The effect of outliers on measures of central tendency depends on the direction of the outlier. If the outlier is larger than the other observations in the dataset, it can increase the mean and median, while a smaller outlier can decrease these measures. The mode may not be affected by outliers since it is based on the frequency of the observations in the dataset.\n",
    "\n",
    "The effect of outliers on measures of dispersion can also be significant. Outliers can increase the range and standard deviation of the dataset. The interquartile range (IQR), which is the range of the middle 50% of the data, is less affected by outliers than the range and standard deviation.\n",
    "\n",
    "For example, consider the following dataset of 10 observations:\n",
    "\n",
    "4, 5, 6, 7, 8, 10, 12, 13, 14, 20\n",
    "\n",
    "The mean of this dataset is:\n",
    "\n",
    "(4+5+6+7+8+10+12+13+14+20) / 10 = 9.9\n",
    "\n",
    "If we add an outlier of 50 to the dataset, the mean becomes:\n",
    "\n",
    "(4+5+6+7+8+10+12+13+14+20+50) / 11 = 14.45\n",
    "\n",
    "We can see that the outlier significantly increases the mean of the dataset. Similarly, the standard deviation of the original dataset is:\n",
    "\n",
    "SD = 4.18\n",
    "\n",
    "If we add the outlier of 50, the standard deviation becomes:\n",
    "\n",
    "SD = 14.88\n",
    "\n",
    "Again, we can see that the outlier has a significant impact on the standard deviation of the dataset.\n",
    "\n",
    "In conclusion, outliers can have a significant impact on measures of central tendency and dispersion, and it is important to identify and evaluate them when analyzing data."
   ]
  },
  {
   "cell_type": "code",
   "execution_count": null,
   "id": "a2ae35af-c2fa-4fd0-a6a8-49aa786ec0c2",
   "metadata": {},
   "outputs": [],
   "source": []
  }
 ],
 "metadata": {
  "kernelspec": {
   "display_name": "Python 3 (ipykernel)",
   "language": "python",
   "name": "python3"
  },
  "language_info": {
   "codemirror_mode": {
    "name": "ipython",
    "version": 3
   },
   "file_extension": ".py",
   "mimetype": "text/x-python",
   "name": "python",
   "nbconvert_exporter": "python",
   "pygments_lexer": "ipython3",
   "version": "3.10.8"
  }
 },
 "nbformat": 4,
 "nbformat_minor": 5
}
