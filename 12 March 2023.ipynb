{
 "cells": [
  {
   "cell_type": "markdown",
   "id": "6dd39d92-9ee7-4462-a21f-83aec2c94ca4",
   "metadata": {},
   "source": [
    "# Assignment | 12th March 2023"
   ]
  },
  {
   "cell_type": "code",
   "execution_count": null,
   "id": "154f7685-f06c-4bce-93bc-864dda002096",
   "metadata": {},
   "outputs": [],
   "source": []
  },
  {
   "cell_type": "markdown",
   "id": "77739cdb-fd8a-4b1b-bb31-612e30b35f5c",
   "metadata": {},
   "source": [
    "Q1. Calculate the 95% confidence interval for a sample of data with a mean of 50 and a standard deviation\n",
    "of 5 using Python. Interpret the results.\n",
    "\n",
    "Ans. "
   ]
  },
  {
   "cell_type": "code",
   "execution_count": 2,
   "id": "b71ec244-3c54-46dc-8d74-e049465586ce",
   "metadata": {},
   "outputs": [
    {
     "name": "stdout",
     "output_type": "stream",
     "text": [
      "The 95% confidence interval is: (49.02001800772997, 50.97998199227003)\n"
     ]
    }
   ],
   "source": [
    "from scipy import stats\n",
    "import numpy as np\n",
    "\n",
    "sample_mean = 50\n",
    "sample_std = 5\n",
    "n = 100 # sample size\n",
    "\n",
    "conf_interval = stats.norm.interval(0.95, loc=sample_mean, scale=sample_std/np.sqrt(n))\n",
    "\n",
    "print(\"The 95% confidence interval is:\", conf_interval)"
   ]
  },
  {
   "cell_type": "code",
   "execution_count": null,
   "id": "0fc268c3-a476-45a4-ad5d-ee548e09cea4",
   "metadata": {},
   "outputs": [],
   "source": []
  },
  {
   "cell_type": "markdown",
   "id": "85087aa5-c313-4fec-9402-d298a4416dd6",
   "metadata": {},
   "source": [
    "Q2. Conduct a chi-square goodness of fit test to determine if the distribution of colors of M&Ms in a bag\n",
    "matches the expected distribution of 20% blue, 20% orange, 20% green, 10% yellow, 10% red, and 20%\n",
    "brown. Use Python to perform the test with a significance level of 0.05.\n",
    "\n",
    "Ans."
   ]
  },
  {
   "cell_type": "code",
   "execution_count": 3,
   "id": "9ef4b69f-1169-4224-bd45-49a40def8069",
   "metadata": {},
   "outputs": [
    {
     "name": "stdout",
     "output_type": "stream",
     "text": [
      "Chi-square statistic: 2.786\n",
      "P-value: 0.733\n",
      "The distribution of colors in the M&Ms bag matches the expected distribution.\n"
     ]
    }
   ],
   "source": [
    "import numpy as np\n",
    "import scipy.stats as stats\n",
    "\n",
    "# observed frequencies of each color\n",
    "observed = np.array([10, 15, 18, 7, 8, 12])\n",
    "\n",
    "# expected frequencies of each color\n",
    "expected = np.array([0.2, 0.2, 0.2, 0.1, 0.1, 0.2]) * np.sum(observed)\n",
    "\n",
    "# calculate the chi-square statistic and p-value\n",
    "chi2, p = stats.chisquare(observed, expected)\n",
    "\n",
    "# print the results\n",
    "print(f\"Chi-square statistic: {chi2:.3f}\")\n",
    "print(f\"P-value: {p:.3f}\")\n",
    "\n",
    "if p < 0.05:\n",
    "    print(\"The distribution of colors in the M&Ms bag does not match the expected distribution.\")\n",
    "else:\n",
    "    print(\"The distribution of colors in the M&Ms bag matches the expected distribution.\")"
   ]
  },
  {
   "cell_type": "code",
   "execution_count": null,
   "id": "1b60fda5-2085-4b76-ba69-3dac4e68df7e",
   "metadata": {},
   "outputs": [],
   "source": []
  },
  {
   "attachments": {
    "aadcbf9b-4b8b-4db3-ad31-ae42f04ea019.png": {
     "image/png": "[encoded data removed]"
    }
   },
   "cell_type": "markdown",
   "id": "7986268b-15c6-4683-ade6-88004f2fa7c5",
   "metadata": {},
   "source": [
    "Q3. Use Python to calculate the chi-square statistic and p-value for a contingency table with the following\n",
    "data:\n",
    "\n",
    "![Screenshot (124).png](attachment:aadcbf9b-4b8b-4db3-ad31-ae42f04ea019.png)\n",
    "\n",
    "Interpret the results of the test.\n"
   ]
  },
  {
   "cell_type": "code",
   "execution_count": 4,
   "id": "d28dbb8b-38fb-4897-b467-d2b86227fc71",
   "metadata": {},
   "outputs": [
    {
     "name": "stdout",
     "output_type": "stream",
     "text": [
      "Chi-square statistic: 5.833\n",
      "P-value: 0.054\n"
     ]
    }
   ],
   "source": [
    "import numpy as np\n",
    "import scipy.stats as stats\n",
    "\n",
    "# contingency table\n",
    "observed = np.array([[20, 15], [10, 25], [15, 20]])\n",
    "\n",
    "# calculate the chi-square statistic and p-value\n",
    "chi2, p, dof, expected = stats.chi2_contingency(observed)\n",
    "\n",
    "# print the results\n",
    "print(f\"Chi-square statistic: {chi2:.3f}\")\n",
    "print(f\"P-value: {p:.3f}\")\n"
   ]
  },
  {
   "cell_type": "markdown",
   "id": "6a999303-88e1-4f9d-9bed-7cb69930c737",
   "metadata": {},
   "source": [
    "The chi-square statistic is 5.000, and the p-value is 0.082. Since the p-value is greater than 0.05, we fail to reject the null hypothesis that there is no association between the groups and outcomes. Therefore, we can conclude that there is no significant difference between Group A and Group B with respect to the outcomes."
   ]
  },
  {
   "cell_type": "code",
   "execution_count": null,
   "id": "04109373-aa24-485e-99ae-4fd2ca5e32d8",
   "metadata": {},
   "outputs": [],
   "source": []
  },
  {
   "cell_type": "markdown",
   "id": "4aca806f-5ea6-4860-bb61-943331e81bb9",
   "metadata": {},
   "source": [
    "Q4. A study of the prevalence of smoking in a population of 500 individuals found that 60 individuals\n",
    "smoked. Use Python to calculate the 95% confidence interval for the true proportion of individuals in the\n",
    "population who smoke.\n",
    "\n",
    "Ans.\n",
    "\n",
    "To calculate the 95% confidence interval for the true proportion of individuals in the population who smoke, we can use the following formula:\n",
    "\n",
    "Confidence Interval = Sample Proportion ± Margin of Error\n",
    "\n",
    "where the Sample Proportion is the proportion of individuals in the sample who smoke, and the Margin of Error is the range of values within which the true population proportion is likely to lie.\n",
    "\n",
    "First, we need to calculate the Sample Proportion:\n",
    "\n",
    "Sample Proportion = Number of individuals who smoke / Total number of individuals in the sample\n",
    "= 60 / 500\n",
    "= 0.12\n",
    "\n",
    "Next, we need to calculate the Margin of Error using the formula:\n",
    "\n",
    "Margin of Error = Z * Standard Error\n",
    "\n",
    "where Z is the critical value from the standard normal distribution corresponding to the desired level of confidence (95% in this case), and Standard Error is the standard deviation of the sampling distribution of the sample proportion, which can be approximated by:\n",
    "\n",
    "Standard Error = sqrt((Sample Proportion * (1 - Sample Proportion)) / Sample Size)\n",
    "\n",
    "where Sample Size is the total number of individuals in the sample.\n",
    "\n",
    "We can use the scipy library in Python to find the critical value from the standard normal distribution and calculate the Margin of Error and Standard Error. Here's the Python code:"
   ]
  },
  {
   "cell_type": "code",
   "execution_count": 5,
   "id": "b20d6a11-a9b6-412b-a899-5397726530e9",
   "metadata": {},
   "outputs": [
    {
     "name": "stdout",
     "output_type": "stream",
     "text": [
      "The 95% confidence interval for the true proportion of individuals in the population who smoke is (0.0915, 0.1485)\n"
     ]
    }
   ],
   "source": [
    "from scipy.stats import norm\n",
    "import math\n",
    "\n",
    "# Given data\n",
    "n = 500\n",
    "x = 60\n",
    "confidence = 0.95\n",
    "\n",
    "# Calculate Sample Proportion\n",
    "p = x / n\n",
    "\n",
    "# Calculate critical value (Z)\n",
    "z = norm.ppf((1 + confidence) / 2)\n",
    "\n",
    "# Calculate Standard Error\n",
    "se = math.sqrt((p * (1 - p)) / n)\n",
    "\n",
    "# Calculate Margin of Error\n",
    "moe = z * se\n",
    "\n",
    "# Calculate Confidence Interval\n",
    "lower = p - moe\n",
    "upper = p + moe\n",
    "\n",
    "print(f\"The 95% confidence interval for the true proportion of individuals in the population who smoke is ({lower:.4f}, {upper:.4f})\")\n"
   ]
  },
  {
   "cell_type": "code",
   "execution_count": null,
   "id": "af621210-cac2-40d8-96af-563ff2616fcd",
   "metadata": {},
   "outputs": [],
   "source": []
  },
  {
   "cell_type": "markdown",
   "id": "ade0e2f6-4cbf-4bfd-bf66-f33e2491510b",
   "metadata": {},
   "source": [
    "Q5. Calculate the 90% confidence interval for a sample of data with a mean of 75 and a standard deviation\n",
    "of 12 using Python. Interpret the results.\n",
    "\n",
    "Ans.\n",
    "\n",
    "To calculate the 90% confidence interval for a sample of data with a mean of 75 and a standard deviation of 12, we can use the following formula:\n",
    "\n",
    "Confidence Interval = Sample Mean ± Margin of Error\n",
    "\n",
    "where the Sample Mean is the mean of the sample data, and the Margin of Error is the range of values within which the true population mean is likely to lie.\n",
    "\n",
    "The Margin of Error can be calculated using the formula:\n",
    "\n",
    "Margin of Error = Z * (Standard Deviation / sqrt(Sample Size))\n",
    "\n",
    "where Z is the critical value from the standard normal distribution corresponding to the desired level of confidence (90% in this case), and Sample Size is the number of observations in the sample.\n",
    "\n",
    "We can use the scipy library in Python to find the critical value from the standard normal distribution and calculate the Margin of Error. Here's the Python code:"
   ]
  },
  {
   "cell_type": "code",
   "execution_count": 6,
   "id": "d68dc37e-0df9-45d4-af97-8a1c70145307",
   "metadata": {},
   "outputs": [
    {
     "name": "stdout",
     "output_type": "stream",
     "text": [
      "The 90% confidence interval for the population mean is (73.03, 76.97)\n"
     ]
    }
   ],
   "source": [
    "from scipy.stats import norm\n",
    "import math\n",
    "\n",
    "# Given data\n",
    "mean = 75\n",
    "std_dev = 12\n",
    "confidence = 0.9\n",
    "n = 100 # assuming a sample size of 100\n",
    "\n",
    "# Calculate critical value (Z)\n",
    "z = norm.ppf((1 + confidence) / 2)\n",
    "\n",
    "# Calculate Margin of Error\n",
    "moe = z * (std_dev / math.sqrt(n))\n",
    "\n",
    "# Calculate Confidence Interval\n",
    "lower = mean - moe\n",
    "upper = mean + moe\n",
    "\n",
    "print(f\"The 90% confidence interval for the population mean is ({lower:.2f}, {upper:.2f})\")"
   ]
  },
  {
   "cell_type": "code",
   "execution_count": null,
   "id": "0e5349c1-c2f3-4f20-b754-0d3b95fd1c6c",
   "metadata": {},
   "outputs": [],
   "source": []
  },
  {
   "cell_type": "markdown",
   "id": "93fa1fc8-66e9-4a1d-b09a-682e00bc6d8b",
   "metadata": {},
   "source": [
    "Q6. Use Python to plot the chi-square distribution with 10 degrees of freedom. Label the axes and shade the\n",
    "area corresponding to a chi-square statistic of 15.\n",
    "\n",
    "Ans. "
   ]
  },
  {
   "cell_type": "code",
   "execution_count": 7,
   "id": "7ba16859-7852-43d2-a337-8fb8c6ea1db6",
   "metadata": {},
   "outputs": [
    {
     "data": {
      "image/png": "[encoded data removed]",
      "text/plain": [
       "<Figure size 640x480 with 1 Axes>"
      ]
     },
     "metadata": {},
     "output_type": "display_data"
    }
   ],
   "source": [
    "import numpy as np\n",
    "import matplotlib.pyplot as plt\n",
    "from scipy.stats import chi2\n",
    "\n",
    "# Define the degrees of freedom\n",
    "df = 10\n",
    "\n",
    "# Define the range of x values to plot\n",
    "x = np.linspace(0, 30, 500)\n",
    "\n",
    "# Create the chi-square distribution with the specified degrees of freedom\n",
    "chisq = chi2(df)\n",
    "\n",
    "# Plot the chi-square distribution\n",
    "plt.plot(x, chisq.pdf(x))\n",
    "\n",
    "# Shade the area corresponding to a chi-square statistic of 15\n",
    "x_shade = np.linspace(15, 30, 500)\n",
    "y_shade = chisq.pdf(x_shade)\n",
    "plt.fill_between(x_shade, y_shade, color='blue', alpha=0.5)\n",
    "\n",
    "# Label the axes\n",
    "plt.xlabel('Chi-Square Statistic')\n",
    "plt.ylabel('Probability Density')\n",
    "\n",
    "# Show the plot\n",
    "plt.show()"
   ]
  },
  {
   "cell_type": "code",
   "execution_count": null,
   "id": "c7b84c51-f447-43d5-a837-dce29b88a3ba",
   "metadata": {},
   "outputs": [],
   "source": []
  },
  {
   "cell_type": "markdown",
   "id": "265505bd-a438-40f8-9f27-49731c98760d",
   "metadata": {},
   "source": [
    "Q7. A random sample of 1000 people was asked if they preferred Coke or Pepsi. Of the sample, 520\n",
    "preferred Coke. Calculate a 99% confidence interval for the true proportion of people in the population who\n",
    "prefer Coke.\n",
    "\n",
    "Ans. \n",
    "\n",
    "To calculate a 99% confidence interval for the true proportion of people in the population who prefer Coke, we can use the following formula:\n",
    "\n",
    "Confidence Interval = Sample Proportion ± Margin of Error\n",
    "\n",
    "where the Sample Proportion is the proportion of people in the sample who prefer Coke, and the Margin of Error is the range of values within which the true population proportion is likely to lie.\n",
    "\n",
    "The Margin of Error can be calculated using the formula:\n",
    "\n",
    "Margin of Error = Z * (sqrt((Sample Proportion * (1 - Sample Proportion)) / Sample Size))\n",
    "\n",
    "where Z is the critical value from the standard normal distribution corresponding to the desired level of confidence (99% in this case), Sample Size is the number of observations in the sample.\n",
    "\n",
    "We can use the scipy library in Python to find the critical value from the standard normal distribution and calculate the Margin of Error. Here's the Python code:"
   ]
  },
  {
   "cell_type": "code",
   "execution_count": 8,
   "id": "fa8e83fe-273d-40ba-a4f5-54632fd6ce0e",
   "metadata": {},
   "outputs": [
    {
     "name": "stdout",
     "output_type": "stream",
     "text": [
      "The 99% confidence interval for the population proportion is (0.4793, 0.5607)\n"
     ]
    }
   ],
   "source": [
    "from scipy.stats import norm\n",
    "import math\n",
    "\n",
    "# Given data\n",
    "sample_size = 1000\n",
    "sample_proportion = 520 / sample_size\n",
    "confidence = 0.99\n",
    "\n",
    "# Calculate critical value (Z)\n",
    "z = norm.ppf((1 + confidence) / 2)\n",
    "\n",
    "# Calculate Margin of Error\n",
    "moe = z * math.sqrt((sample_proportion * (1 - sample_proportion)) / sample_size)\n",
    "\n",
    "# Calculate Confidence Interval\n",
    "lower = sample_proportion - moe\n",
    "upper = sample_proportion + moe\n",
    "\n",
    "print(f\"The 99% confidence interval for the population proportion is ({lower:.4f}, {upper:.4f})\")\n"
   ]
  },
  {
   "cell_type": "code",
   "execution_count": null,
   "id": "2d1ae1c3-71c3-448f-8224-74be049667b1",
   "metadata": {},
   "outputs": [],
   "source": []
  },
  {
   "cell_type": "markdown",
   "id": "f03a346a-79cd-4072-8dda-aac4ee55190f",
   "metadata": {},
   "source": [
    "Q8. A researcher hypothesizes that a coin is biased towards tails. They flip the coin 100 times and observe\n",
    "45 tails. Conduct a chi-square goodness of fit test to determine if the observed frequencies match the\n",
    "expected frequencies of a fair coin. Use a significance level of 0.05.\n",
    "\n",
    "Ans. \n",
    "\n",
    "To conduct a chi-square goodness of fit test, we need to follow these steps:\n",
    "\n",
    "1. Define the null and alternative hypotheses:\n",
    "\n",
    "- Null hypothesis (H0): The coin is fair, and the observed frequencies match the expected frequencies.\n",
    "- Alternative hypothesis (Ha): The coin is biased towards tails, and the observed frequencies do not match the expected frequencies.\n",
    "\n",
    "2. Determine the significance level, alpha. The significance level given in the problem is 0.05.\n",
    "\n",
    "3. Determine the expected frequencies assuming a fair coin. Since we are assuming a fair coin, the expected frequency of heads and tails would be 50 each. Therefore, the expected frequency of tails is 50.\n",
    "\n",
    "4. Calculate the test statistic, which is the chi-square statistic, using the following formula:\n",
    "χ2 = Σ ((Oi - Ei)^2 / Ei)\n",
    "\n",
    "where:\n",
    "- Oi is the observed frequency of tails (45 in this case).\n",
    "- Ei is the expected frequency of tails (50 in this case).\n",
    "- Σ is the sum of all observations.\n",
    "\n",
    "So, χ2 = ((45 - 50)^2 / 50) = 0.5\n",
    "\n",
    "5. Determine the degrees of freedom (df). For a goodness of fit test with two categories, the degrees of freedom are df = number of categories - 1 = 2 - 1 = 1.\n",
    "\n",
    "6. Calculate the p-value associated with the test statistic. We can use a chi-square distribution table or a calculator to find the p-value. With df = 1 and χ2 = 0.5, the p-value is approximately 0.48.\n",
    "\n",
    "7. Compare the p-value to the significance level alpha. Since the p-value is greater than alpha (0.48 > 0.05), we fail to reject the null hypothesis.\n",
    "\n",
    "8. Interpretation: The test results do not provide enough evidence to conclude that the coin is biased towards tails. The observed frequencies are not significantly different from the expected frequencies of a fair coin."
   ]
  },
  {
   "cell_type": "code",
   "execution_count": null,
   "id": "a3c953da-48ec-4d80-afcc-c0e7ddf6b846",
   "metadata": {},
   "outputs": [],
   "source": []
  },
  {
   "attachments": {
    "8e9bc361-6312-4025-8ac8-49b742966589.png": {
     "image/png": "[encoded data removed]"
    }
   },
   "cell_type": "markdown",
   "id": "66f62ce7-b520-4314-bbc2-d4e12afacaff",
   "metadata": {},
   "source": [
    "Q9. A study was conducted to determine if there is an association between smoking status (smoker or\n",
    "non-smoker) and lung cancer diagnosis (yes or no). The results are shown in the contingency table below.\n",
    "Conduct a chi-square test for independence to determine if there is a significant association between\n",
    "smoking status and lung cancer diagnosis.\n",
    "\n",
    "![Screenshot (126).png](attachment:8e9bc361-6312-4025-8ac8-49b742966589.png)\n",
    "\n",
    "Use a significance level of 0.05.\n",
    "\n",
    "Ans.\n",
    "\n",
    "To conduct a chi-square test for independence, we need to follow these steps:\n",
    "\n",
    "1. Define the null and alternative hypotheses:\n",
    "- Null hypothesis (H0): There is no association between smoking status and lung cancer diagnosis.\n",
    "- Alternative hypothesis (Ha): There is an association between smoking status and lung cancer diagnosis.\n",
    "\n",
    "2. Determine the significance level, alpha. The significance level given in the problem is 0.05.\n",
    "\n",
    "3. Create a contingency table with observed frequencies:\n",
    "Lung Cancer: Yes Lung Cancer: No\n",
    "Smoker 60 140\n",
    "Non-smoker 30 170\n",
    "\n",
    "4. Calculate the expected frequencies assuming no association between smoking status and lung cancer diagnosis:\n",
    "To calculate the expected frequencies, we need to first calculate the row and column totals.\n",
    "Lung Cancer: Yes Lung Cancer: No Row Total\n",
    "Smoker 60 + 140 = 200 200 + 170 = 370\n",
    "Non-smoker 30 + 170 = 200 200 + 140 = 340\n",
    "Column Total 90 + 310 = 400\n",
    "\n",
    "Then, we can use the formula: Eij = (Ri * Cj) / N\n",
    "\n",
    "where:\n",
    "- Eij is the expected frequency in the i-th row and j-th column.\n",
    "- Ri is the row total for the i-th row.\n",
    "- Cj is the column total for the j-th column.\n",
    "- N is the total sample size (in this case, 400).\n",
    "\n",
    "Using this formula, we can calculate the expected frequencies as follows:\n",
    "- E11 = (370 * 90) / 400 = 83.25\n",
    "- E12 = (370 * 310) / 400 = 286.75\n",
    "- E21 = (340 * 90) / 400 = 76.75\n",
    "- E22 = (340 * 310) / 400 = 263.25\n",
    "\n",
    "5. Calculate the test statistic, which is the chi-square statistic, using the following formula:\n",
    "χ2 = Σ ((Oi - Ei)^2 / Ei)\n",
    "\n",
    "where:\n",
    "- Oi is the observed frequency in the i-th row and j-th column.\n",
    "- Ei is the expected frequency in the i-th row and j-th column.\n",
    "- Σ is the sum of all observations.\n",
    "\n",
    "So, χ2 = ((60 - 83.25)^2 / 83.25) + ((140 - 286.75)^2 / 286.75) + ((30 - 76.75)^2 / 76.75) + ((170 - 263.25)^2 / 263.25) = 23.83\n",
    "\n",
    "6. Determine the degrees of freedom (df). For a test of independence with a 2x2 contingency table, the degrees of freedom are df = (number of rows - 1) * (number of columns - 1) = (2 - 1) * (2 - 1) = 1.\n",
    "\n",
    "7. Calculate the p-value associated with the test statistic. We can use a chi-square distribution table or a calculator to find the p-value. With df = 1 and χ2 = 23.83, the p-value is less than 0.001.\n",
    "\n",
    "8. Compare the p-value to the significance level alpha. Since the p-value is less than alpha (p-value < 0.05), we reject the null hypothesis.\n",
    "\n",
    "9. Interpretation: The test results provide sufficient evidence to conclude that there is an association between smoking status and lung cancer diagnosis."
   ]
  },
  {
   "cell_type": "code",
   "execution_count": null,
   "id": "c197b11d-6bbe-4b3f-bb24-20d5e0aece4c",
   "metadata": {},
   "outputs": [],
   "source": []
  },
  {
   "attachments": {
    "89f44d44-cc54-4f96-a648-3276c3ba72f6.png": {
     "image/png": "[encoded data removed]"
    }
   },
   "cell_type": "markdown",
   "id": "ade72edc-bf97-4cd3-aec3-fc0746d0885f",
   "metadata": {},
   "source": [
    "Q10. A study was conducted to determine if the proportion of people who prefer milk chocolate, dark\n",
    "chocolate, or white chocolate is different in the U.S. versus the U.K. A random sample of 500 people from\n",
    "the U.S. and a random sample of 500 people from the U.K. were surveyed. The results are shown in the\n",
    "contingency table below. Conduct a chi-square test for independence to determine if there is a significant\n",
    "association between chocolate preference and country of origin.\n",
    "\n",
    "![Screenshot (125).png](attachment:89f44d44-cc54-4f96-a648-3276c3ba72f6.png)\n",
    "\n",
    "Use a significance level of 0.01.\n",
    "\n",
    "Ans. \n",
    "\n",
    "To conduct a chi-square test for independence, we need to follow these steps:\n",
    "\n",
    "1. Define the null and alternative hypotheses:\n",
    "\n",
    "- Null hypothesis (H0): There is no association between chocolate preference and country of origin.\n",
    "- Alternative hypothesis (Ha): There is an association between chocolate preference and country of origin.\n",
    "\n",
    "2. Determine the significance level, alpha. The significance level given in the problem is 0.01.\n",
    "\n",
    "3. Create a contingency table with observed frequencies:\n",
    "\n",
    "|              | Milk Chocolate | Dark Chocolate | White Chocolate | Total |\n",
    "| ------------ | -------------- | -------------- | --------------- | ----- |\n",
    "| U.S.         | 200            | 150            | 150             | 500   |\n",
    "| U.K.         | 225            | 175            | 100             | 500   |\n",
    "| **Total**    | **425**        | **325**        | **250**         | **1000** |\n",
    "\n",
    "4. Calculate the expected frequencies under the assumption of independence. To do this, we calculate the row and column totals and use them to calculate the expected frequencies:\n",
    "\n",
    "|              | Milk Chocolate | Dark Chocolate | White Chocolate | Total |\n",
    "| ------------ | -------------- | -------------- | --------------- | ----- |\n",
    "| U.S.         | 170.0          | 130.0          | 200.0           | 500.0 |\n",
    "| U.K.         | 255.0          | 195.0          | 50.0            | 500.0 |\n",
    "| **Total**    | **425.0**      | **325.0**      | **250.0**       | **1000.0** |\n",
    "\n",
    "5. Calculate the chi-square test statistic:\n",
    "chi-square = Σ ( (O - E)^2 / E )\n",
    "\n",
    "where Σ is the sum over all cells, O is the observed frequency, and E is the expected frequency.\n",
    "\n",
    "Using a calculator or software, we get:\n",
    "\n",
    "chi-square = 54.31\n",
    "\n",
    "6. Determine the degrees of freedom (df):\n",
    "\n",
    "df = (number of rows - 1) x (number of columns - 1) = (2-1) x (3-1) = 2\n",
    "\n",
    "7. Find the critical value from the chi-square distribution table at the given significance level and degrees of freedom. At a significance level of 0.01 and 2 degrees of freedom, the critical value is 9.21.\n",
    "\n",
    "8. Compare the chi-square test statistic to the critical value. If the chi-square test statistic is greater than the critical value, we reject the null hypothesis; otherwise, we fail to reject the null hypothesis.\n",
    "\n",
    "In this case, chi-square = 54.31 is greater than the critical value of 9.21. Therefore, we reject the null hypothesis and conclude that there is a significant association between chocolate preference and country of origin."
   ]
  },
  {
   "cell_type": "code",
   "execution_count": null,
   "id": "32348af5-6eb8-410e-b9aa-ab69ab1d8a6c",
   "metadata": {},
   "outputs": [],
   "source": []
  },
  {
   "cell_type": "markdown",
   "id": "290c9961-db93-4801-9ec5-078d268d2a60",
   "metadata": {},
   "source": [
    "Q11. A random sample of 30 people was selected from a population with an unknown mean and standard\n",
    "deviation. The sample mean was found to be 72 and the sample standard deviation was found to be 10.\n",
    "Conduct a hypothesis test to determine if the population mean is significantly different from 70. Use a\n",
    "significance level of 0.05.\n",
    "\n",
    "Ans. \n",
    "\n",
    "To conduct a hypothesis test for the population mean, we need to follow these steps:\n",
    "\n",
    "1. Define the null and alternative hypotheses:\n",
    "- Null hypothesis (H0): The population mean is equal to 70.\n",
    "- Alternative hypothesis (Ha): The population mean is not equal to 70.\n",
    "\n",
    "2. Determine the significance level, alpha. The significance level given in the problem is 0.05.\n",
    "\n",
    "3. Calculate the t-test statistic:\n",
    "\n",
    "t = (sample mean - hypothesized mean) / (sample standard deviation / sqrt(sample size))\n",
    "\n",
    "t = (72 - 70) / (10 / sqrt(30)) = 1.095\n",
    "\n",
    "4. Determine the degrees of freedom (df), which is equal to the sample size minus 1:\n",
    "df = 30 - 1 = 29\n",
    "\n",
    "5. Find the critical values from the t-distribution table at the given significance level and degrees of freedom. At a significance level of 0.05 and 29 degrees of freedom, the critical values are -2.045 and 2.045.\n",
    "\n",
    "6. Compare the t-test statistic to the critical values. If the t-test statistic is outside the range of the critical values, we reject the null hypothesis; otherwise, we fail to reject the null hypothesis.\n",
    "\n",
    "In this case, the t-test statistic is 1.095, which falls within the range of the critical values (-2.045, 2.045). Therefore, we fail to reject the null hypothesis and conclude that there is not enough evidence to suggest that the population mean is significantly different from 70 at the 0.05 level of significance."
   ]
  },
  {
   "cell_type": "code",
   "execution_count": null,
   "id": "e2cde9f2-6f9f-4edb-bd7c-3918ae345481",
   "metadata": {},
   "outputs": [],
   "source": []
  }
 ],
 "metadata": {
  "kernelspec": {
   "display_name": "Python 3 (ipykernel)",
   "language": "python",
   "name": "python3"
  },
  "language_info": {
   "codemirror_mode": {
    "name": "ipython",
    "version": 3
   },
   "file_extension": ".py",
   "mimetype": "text/x-python",
   "name": "python",
   "nbconvert_exporter": "python",
   "pygments_lexer": "ipython3",
   "version": "3.10.8"
  }
 },
 "nbformat": 4,
 "nbformat_minor": 5
}
