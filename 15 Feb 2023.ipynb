{
 "cells": [
  {
   "cell_type": "markdown",
   "id": "028e29ee-bc8f-4b03-a6d3-4de7f0a90967",
   "metadata": {},
   "source": [
    "## Assignment | 15th Feb 2023"
   ]
  },
  {
   "cell_type": "code",
   "execution_count": null,
   "id": "1f2d3917-d64e-4711-ba1d-5b30b0ba71b2",
   "metadata": {},
   "outputs": [],
   "source": []
  },
  {
   "cell_type": "markdown",
   "id": "84e18ee9-f5c1-42cd-915f-9028a9d58c1c",
   "metadata": {},
   "source": [
    "Q1. What is multiprocessing in python? Why is it useful?\n",
    "\n",
    "Ans. Multiprocessing in Python is a built-in package that allows the system to run multiple processes simultaneously. It will enable the breaking of applications into smaller threads that can run independently. \n",
    "\n",
    "The multiprocessing package offers both local and remote concurrency, effectively side-stepping the Global Interpreter Lock by using subprocesses instead of threads. Due to this, the multiprocessing module allows the programmer to fully leverage multiple processors on a given machine. It runs on both Unix and Windows."
   ]
  },
  {
   "cell_type": "code",
   "execution_count": null,
   "id": "37077e85-bc63-466e-be8a-d5ade0fc7eab",
   "metadata": {},
   "outputs": [],
   "source": []
  },
  {
   "cell_type": "code",
   "execution_count": null,
   "id": "2d1b6eed-ad51-4bd4-8bd3-30d1ef92371b",
   "metadata": {},
   "outputs": [],
   "source": []
  },
  {
   "cell_type": "markdown",
   "id": "676b919a-da84-4a61-ac12-b6bc40acc46a",
   "metadata": {},
   "source": [
    "Q2. What are the differences between multiprocessing and multithreading?\n",
    "\n",
    "Ans. \n",
    "\n",
    "### Multiprocessing:\n",
    "1. In Multiprocessing, CPUs are added for increasing computing power.\n",
    "2. In Multiprocessing, Many processes are executed simultaneously.\n",
    "3. Multiprocessing are classified into Symmetric and Asymmetric.\n",
    "4. In Multiprocessing, Process creation is a time-consuming process.\n",
    "5. In Multiprocessing, every process owned a separate address space.\n",
    "\n",
    "### Multithreading:\n",
    "1. While In Multithreading, many threads are created of a single process for increasing computing power.\n",
    "2. While in multithreading, many threads of a process are executed simultaneously.\n",
    "3. While Multithreading is not classified in any categories.\n",
    "4. While in Multithreading, process creation is according to economical.\n",
    "5. While in Multithreading, a common address space is shared by all the threads."
   ]
  },
  {
   "cell_type": "code",
   "execution_count": null,
   "id": "a57a4aab-c255-4c14-9e4a-59807deb0060",
   "metadata": {},
   "outputs": [],
   "source": []
  },
  {
   "cell_type": "code",
   "execution_count": null,
   "id": "e5060b43-cd0d-4f69-8588-4723b72d3f30",
   "metadata": {},
   "outputs": [],
   "source": []
  },
  {
   "cell_type": "markdown",
   "id": "a1240c1f-0355-4a2c-b3ec-b64f43f73fe1",
   "metadata": {},
   "source": [
    "Q3. Write a python code to create a process using the multiprocessing module.\n",
    "\n",
    "Ans. "
   ]
  },
  {
   "cell_type": "code",
   "execution_count": 1,
   "id": "ec37d656-28d2-4de4-bb56-905eed68ba34",
   "metadata": {},
   "outputs": [],
   "source": [
    "import multiprocessing"
   ]
  },
  {
   "cell_type": "code",
   "execution_count": 5,
   "id": "a7b9012d-eb56-4f2c-b13d-0d24c2fa9a86",
   "metadata": {},
   "outputs": [
    {
     "name": "stdout",
     "output_type": "stream",
     "text": [
      "Cube are: 27\n",
      "square are: 81\n",
      "Success!!\n"
     ]
    }
   ],
   "source": [
    "def cube(n):\n",
    "    print(\"Cube are: {}\" .format(n*n*n))\n",
    "def square(n):\n",
    "    print(\"square are: {}\" .format(n*n))\n",
    "    \n",
    "if __name__ == '__main__':\n",
    "    p1 = multiprocessing.Process(target = cube, args = (3, ))\n",
    "    p2 = multiprocessing.Process(target = square, args = (9, ))\n",
    "    \n",
    "    p1.start()\n",
    "    p2.start()\n",
    "    p1.join()\n",
    "    p2.join()\n",
    "    \n",
    "    print(\"Success!!\") "
   ]
  },
  {
   "cell_type": "code",
   "execution_count": null,
   "id": "071ba64e-12bc-43f4-b8f7-0ebb1bccab93",
   "metadata": {},
   "outputs": [],
   "source": []
  },
  {
   "cell_type": "code",
   "execution_count": null,
   "id": "5f31e0ba-1972-4fd5-bc8f-43df6e2237f1",
   "metadata": {},
   "outputs": [],
   "source": []
  },
  {
   "cell_type": "markdown",
   "id": "1afb92a2-32dc-4c3b-91b7-2a6f5284326d",
   "metadata": {},
   "source": [
    "Q4. What is a multiprocessing pool in python? Why is it used?\n",
    "\n",
    "Ans. The Python Multiprocessing Pool class allows you to create and manage process pools in Python. \n",
    "\n",
    "OR\n",
    "\n",
    "Python multiprocessing Pool can be used for parallel execution of a function across multiple input values, distributing the input data across processes (data parallelism).\n",
    "\n",
    "Use: allows the programmer to fully leverage multiple processors on a given machine."
   ]
  },
  {
   "cell_type": "code",
   "execution_count": null,
   "id": "c014bcd3-f2a6-40bd-b3fe-b2b72e1cde16",
   "metadata": {},
   "outputs": [
    {
     "name": "stdout",
     "output_type": "stream",
     "text": [
      "Siddharth... this side\n",
      "Learning Data Science \n",
      "Studying at University of Delhi\n"
     ]
    }
   ],
   "source": [
    "# Example:\n",
    "\n",
    "import multiprocessing\n",
    "\n",
    "def sender(conn , msg):\n",
    "    for i in msg:\n",
    "        conn.send(i)\n",
    "    conn.close()\n",
    "    \n",
    "def receive(conn) :\n",
    "    while True:\n",
    "        try:\n",
    "            msg = conn.recv()\n",
    "        except Exception as e :\n",
    "            print(e)\n",
    "            break\n",
    "        print(msg)\n",
    "\n",
    "if __name__ == '__main__':\n",
    "    msg = [\"Siddharth... this side\" , \"Learning Data Science \" , \"Studying at University of Delhi\"]\n",
    "    parent_conn , child_conn = multiprocessing.Pipe()\n",
    "    m1 = multiprocessing.Process(target=sender , args = (child_conn , msg))\n",
    "    m2 = multiprocessing.Process(target=receive , args = (parent_conn,))\n",
    "    m1.start()\n",
    "    m2.start()\n",
    "    m1.join()\n",
    "    child_conn.close()\n",
    "    m2.join()\n",
    "    parent_conn.close()"
   ]
  },
  {
   "cell_type": "code",
   "execution_count": null,
   "id": "fc1be62f-3dde-4d4b-807f-065435e6be69",
   "metadata": {},
   "outputs": [],
   "source": []
  },
  {
   "cell_type": "code",
   "execution_count": null,
   "id": "19652798-a29e-4a1b-9535-337433da1b40",
   "metadata": {},
   "outputs": [],
   "source": []
  },
  {
   "cell_type": "markdown",
   "id": "1e114161-0d26-40ef-a1e3-6d4ab1a131cb",
   "metadata": {},
   "source": [
    "Q5. How can we create a pool of worker processes in python using the multiprocessing module?\n",
    "\n",
    "Ans. The Pool class represents a pool of worker processes. It has methods which allows tasks to be offloaded to the worker processes in a few different ways.\n",
    "\n",
    "Note that the methods of a pool should only ever be used by the process which created it."
   ]
  },
  {
   "cell_type": "code",
   "execution_count": null,
   "id": "9fdd4f59-30b4-418d-b64e-b4c04d2224cd",
   "metadata": {},
   "outputs": [],
   "source": []
  },
  {
   "cell_type": "code",
   "execution_count": null,
   "id": "9ad7af08-b8b9-4504-949b-f6cbe9de2295",
   "metadata": {},
   "outputs": [],
   "source": []
  },
  {
   "cell_type": "markdown",
   "id": "5d79a5bc-d211-424e-afa2-e3777c5f39aa",
   "metadata": {},
   "source": [
    "Q6. Write a python program to create 4 processes, each process should print a different number using the\n",
    "multiprocessing module in python.\n",
    "\n",
    "Ans."
   ]
  },
  {
   "cell_type": "code",
   "execution_count": 19,
   "id": "86e73a0f-b560-4979-9c1b-672b18515fb0",
   "metadata": {},
   "outputs": [
    {
     "name": "stdout",
     "output_type": "stream",
     "text": [
      "Addition : 150\n",
      "Subtraction : 0\n",
      "Divide : 1.0\n",
      "multiplication : 81\n",
      "Success!!\n"
     ]
    }
   ],
   "source": [
    "import multiprocessing\n",
    "\n",
    "def addition(n):\n",
    "    print(\"Addition : {}\" .format(n+n))\n",
    "def subtraction(n):\n",
    "    print(\"Subtraction : {}\" .format(n-n))\n",
    "def divide(n):\n",
    "    print(\"Divide : {}\" .format(n/n))\n",
    "def multiplication(n):\n",
    "    print(\"multiplication : {}\" .format(n*n))\n",
    "    \n",
    "if __name__ == '__main__':\n",
    "    p1 = multiprocessing.Process(target = addition, args = (75, ))\n",
    "    p2 = multiprocessing.Process(target = subtraction, args = (10, ))\n",
    "    p3 = multiprocessing.Process(target = divide, args = (5, ))\n",
    "    p4 = multiprocessing.Process(target = multiplication, args = (9, ))\n",
    "    \n",
    "    p1.start()\n",
    "    p2.start()\n",
    "    p3.start()\n",
    "    p4.start()\n",
    "    \n",
    "    p1.join()\n",
    "    p2.join()\n",
    "    p3.join()\n",
    "    p4.join()\n",
    "    \n",
    "    print(\"Success!!\") "
   ]
  },
  {
   "cell_type": "code",
   "execution_count": null,
   "id": "131ae42c-9386-4384-923d-173dbc32f961",
   "metadata": {},
   "outputs": [],
   "source": []
  }
 ],
 "metadata": {
  "kernelspec": {
   "display_name": "Python 3 (ipykernel)",
   "language": "python",
   "name": "python3"
  },
  "language_info": {
   "codemirror_mode": {
    "name": "ipython",
    "version": 3
   },
   "file_extension": ".py",
   "mimetype": "text/x-python",
   "name": "python",
   "nbconvert_exporter": "python",
   "pygments_lexer": "ipython3",
   "version": "3.10.8"
  }
 },
 "nbformat": 4,
 "nbformat_minor": 5
}
